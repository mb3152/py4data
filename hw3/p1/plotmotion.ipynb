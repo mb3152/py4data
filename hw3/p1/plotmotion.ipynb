{
 "metadata": {
  "name": ""
 },
 "nbformat": 3,
 "nbformat_minor": 0,
 "worksheets": [
  {
   "cells": [
    {
     "cell_type": "code",
     "collapsed": false,
     "input": [
      "import Image\n",
      "import pandas as pd\n",
      "import numpy as np\n",
      "import matplotlib.pyplot as plt \n",
      "import scipy"
     ],
     "language": "python",
     "metadata": {},
     "outputs": [],
     "prompt_number": 1
    },
    {
     "cell_type": "code",
     "collapsed": false,
     "input": [
      "im = Image.open('Originalplot.png')\n",
      "im.show()"
     ],
     "language": "python",
     "metadata": {},
     "outputs": [],
     "prompt_number": 2
    },
    {
     "cell_type": "code",
     "collapsed": false,
     "input": [
      "###this plots the motion parameters of my subjects so I can see how much they moved in the scanner."
     ],
     "language": "python",
     "metadata": {},
     "outputs": [],
     "prompt_number": 3
    },
    {
     "cell_type": "code",
     "collapsed": false,
     "input": [
      "#plots 6 motion parameters and the mean motion in MM from afni output of preproc_lesion.py\n",
      "#hardcode in subject number and epi scan.\n",
      "data = np.loadtxt('166-EPI-001-1D.txt')\n",
      "data2 = np.loadtxt('166-EPI-001-MD1D.txt')\n",
      "#plot that shit.\n",
      "f, (ax1,ax2,ax3,ax4,ax5,ax6,ax7) = plt.subplots(7, sharex=True, sharey=True, squeeze = True)\n",
      "ax1.plot(data[0:299,0],color='r')\n",
      "ax2.plot(data[0:299,1],color='b')\n",
      "ax3.plot(data[0:299,2],color='g')\n",
      "ax4.plot(data[0:299,3],color='r')\n",
      "ax5.plot(data[0:299,4],color='b')\n",
      "ax6.plot(data[0:299,5],color='g')\n",
      "ax1.set_title('Plotting Motion Parameters')\n",
      "ax7.plot(data2, color ='r')\n",
      "ax7.set_ylabel('Mean')\n",
      "ax3.set_ylabel('6 Motion Parameters')\n",
      "f.subplots_adjust(hspace=0)\n",
      "plt.show()"
     ],
     "language": "python",
     "metadata": {},
     "outputs": [],
     "prompt_number": 4
    },
    {
     "cell_type": "code",
     "collapsed": false,
     "input": [],
     "language": "python",
     "metadata": {},
     "outputs": [],
     "prompt_number": 4
    },
    {
     "cell_type": "code",
     "collapsed": false,
     "input": [],
     "language": "python",
     "metadata": {},
     "outputs": []
    }
   ],
   "metadata": {}
  }
 ]
}