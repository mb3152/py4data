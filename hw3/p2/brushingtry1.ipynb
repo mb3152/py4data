{
 "metadata": {
  "name": ""
 },
 "nbformat": 3,
 "nbformat_minor": 0,
 "worksheets": [
  {
   "cells": [
    {
     "cell_type": "code",
     "collapsed": false,
     "input": [],
     "language": "python",
     "metadata": {},
     "outputs": [],
     "prompt_number": 14
    },
    {
     "cell_type": "code",
     "collapsed": false,
     "input": [],
     "language": "python",
     "metadata": {},
     "outputs": [],
     "prompt_number": 14
    },
    {
     "cell_type": "code",
     "collapsed": false,
     "input": [
      "%matplotlib osx\n",
      "import matplotlib.pyplot as plt\n",
      "from matplotlib.patches import Rectangle\n",
      "import pandas as pd\n",
      "import sys\n",
      "import os\n",
      "import numpy as np\n",
      "from mpl_toolkits.axes_grid1 import ImageGrid\n",
      "import numpy as np"
     ],
     "language": "python",
     "metadata": {},
     "outputs": [],
     "prompt_number": 1
    },
    {
     "cell_type": "code",
     "collapsed": false,
     "input": [
      "#input must be a csv file, with column that determines color last. \n",
      "flowers = pd.read_csv('flowers.csv', sep= ',')"
     ],
     "language": "python",
     "metadata": {},
     "outputs": [],
     "prompt_number": 2
    },
    {
     "cell_type": "code",
     "collapsed": false,
     "input": [
      "    # USER IMPUTS #\n",
      "dimensions = 1 #(for flowers, this is 1)\n",
      "# this lets us know how many plots to make...\n",
      "plotsize = ((len(flowers.columns))-dimensions)\n",
      "        "
     ],
     "language": "python",
     "metadata": {},
     "outputs": [],
     "prompt_number": 3
    },
    {
     "cell_type": "code",
     "collapsed": false,
     "input": [
      "#user enters colors of species they want\n",
      "ctable={'setosa':'r','versicolor':'g','virginica':'b'}"
     ],
     "language": "python",
     "metadata": {},
     "outputs": [],
     "prompt_number": 4
    },
    {
     "cell_type": "code",
     "collapsed": false,
     "input": [
      "fig, axarr = plt.subplots(plotsize,plotsize) #plotting part\n",
      "for i in xrange(0,plotsize):\n",
      "    for j in xrange(0,plotsize):\n",
      "        axarr[i,j].scatter(flowers.iloc[:,(plotsize-1)-j],flowers.iloc[:,i], c=[ctable[s] for s in flowers.species])"
     ],
     "language": "python",
     "metadata": {},
     "outputs": [],
     "prompt_number": 5
    },
    {
     "cell_type": "code",
     "collapsed": false,
     "input": [
      "# this .py file will accomplish the brushing for\n",
      "# multidimensional datasets where viewing a \n",
      "# particular subset of data in many dimensions\n",
      "# may be valueable for detecting clusters\n",
      "\n",
      "## import relevant modules\n",
      "import numpy as np \n",
      "import matplotlib.pyplot as plt\n",
      "import numpy as np\n",
      "import glob\n",
      "\n",
      "# load up flower data\n",
      "fileIN = 'flowers.csv'\n",
      "# define data type\n",
      "dt = np.dtype(dict(names=['sepal length','sepal width','petal length','petal width','species'],formats=[float,float,float,float,'S6']))\n",
      "# load in, skipping the headers since we basically manually added them\n",
      "data = np.loadtxt(fileIN,dtype=dt,delimiter=',',skiprows=1)\n",
      "\n",
      "# ok, for right now we'll just make this particular to the flowers\n",
      "# in the future, we need a way to load in data where the header\n",
      "# names are the variable names\n",
      "# get the size of this data set\n",
      "ndims = len(data)\n",
      "\n",
      "# get the number of examples in each dimensions\n",
      "ndatapoints = size(data)\n",
      "\n",
      "# set up the plots so there are enough to accomodate \n",
      "# every comparison\n",
      "fig, ax = plt.subplots(ndims,ndims)\n"
     ],
     "language": "python",
     "metadata": {},
     "outputs": [
      {
       "ename": "NameError",
       "evalue": "name 'size' is not defined",
       "output_type": "pyerr",
       "traceback": [
        "\u001b[0;31m---------------------------------------------------------------------------\u001b[0m\n\u001b[0;31mNameError\u001b[0m                                 Traceback (most recent call last)",
        "\u001b[0;32m<ipython-input-6-0b53adc2b8c7>\u001b[0m in \u001b[0;36m<module>\u001b[0;34m()\u001b[0m\n\u001b[1;32m     24\u001b[0m \u001b[0;34m\u001b[0m\u001b[0m\n\u001b[1;32m     25\u001b[0m \u001b[0;31m# get the number of examples in each dimensions\u001b[0m\u001b[0;34m\u001b[0m\u001b[0;34m\u001b[0m\u001b[0m\n\u001b[0;32m---> 26\u001b[0;31m \u001b[0mndatapoints\u001b[0m \u001b[0;34m=\u001b[0m \u001b[0msize\u001b[0m\u001b[0;34m(\u001b[0m\u001b[0mdata\u001b[0m\u001b[0;34m)\u001b[0m\u001b[0;34m\u001b[0m\u001b[0m\n\u001b[0m\u001b[1;32m     27\u001b[0m \u001b[0;34m\u001b[0m\u001b[0m\n\u001b[1;32m     28\u001b[0m \u001b[0;31m# set up the plots so there are enough to accomodate\u001b[0m\u001b[0;34m\u001b[0m\u001b[0;34m\u001b[0m\u001b[0m\n",
        "\u001b[0;31mNameError\u001b[0m: name 'size' is not defined"
       ]
      }
     ],
     "prompt_number": 6
    },
    {
     "cell_type": "code",
     "collapsed": false,
     "input": [],
     "language": "python",
     "metadata": {},
     "outputs": []
    },
    {
     "cell_type": "code",
     "collapsed": false,
     "input": [
      "class flowerbrusher(object):\n",
      "    def __init__(self):\n",
      "        self.ax = plt.gca()\n",
      "        self.rect = Rectangle((0,0), 1, 1)\n",
      "        self.x0 = None\n",
      "        self.y0 = None\n",
      "        self.x1 = None\n",
      "        self.y1 = None\n",
      "        self.ax.add_patch(self.rect)\n",
      "        self.ax.figure.canvas.mpl_connect('button_press_event', self.on_press)\n",
      "        self.ax.figure.canvas.mpl_connect('button_release_event', self.on_release)\n",
      "        self.ax.figure.canvas.mpl_connect('button_press_event', self.which_axis)\n",
      "    \n",
      "    def which_axis(self, event):\n",
      "        self.ax = event.inaxes\n",
      "        print event.inaxes\n",
      "\n",
      "    def on_press(self, event):    \n",
      "        self.x0 = event.xdata\n",
      "        self.y0 = event.ydata\n",
      "        print self.x0\n",
      "        print self.y0\n",
      "        \n",
      "\n",
      "        \n",
      "    def on_release(self, event):\n",
      "        self.x1 = event.xdata\n",
      "        self.y1 = event.ydata\n",
      "        print self.x1\n",
      "        print self.y1\n",
      "        self.rect.set_width(self.x1 - self.x0)\n",
      "        self.rect.set_height(self.y1 - self.y0)\n",
      "        self.rect.set_xy((self.x0, self.y0))\n",
      "        self.ax.figure.canvas.draw()\n",
      "        self.ax.add_patch(self.rect)"
     ],
     "language": "python",
     "metadata": {},
     "outputs": [],
     "prompt_number": 8
    },
    {
     "cell_type": "code",
     "collapsed": false,
     "input": [
      "flowerbrusher()"
     ],
     "language": "python",
     "metadata": {},
     "outputs": [
      {
       "metadata": {},
       "output_type": "pyout",
       "prompt_number": 9,
       "text": [
        "<__main__.flowerbrusher at 0x10be64290>"
       ]
      },
      {
       "output_type": "stream",
       "stream": "stdout",
       "text": [
        "Axes(0.731522,0.726087;0.168478x0.173913)\n",
        "apple\n",
        "6.12116935484\n",
        "5.9125\n",
        "6.12116935484"
       ]
      },
      {
       "output_type": "stream",
       "stream": "stdout",
       "text": [
        "\n",
        "5.9125\n",
        "Axes(0.731522,0.726087;0.168478x0.173913)"
       ]
      },
      {
       "output_type": "stream",
       "stream": "stdout",
       "text": [
        "\n",
        "apple\n",
        "6.12116935484\n",
        "5.9125\n",
        "6.12116935484\n",
        "5.9125\n",
        "Axes(0.731522,0.726087;0.168478x0.173913)"
       ]
      },
      {
       "output_type": "stream",
       "stream": "stdout",
       "text": [
        "\n",
        "apple\n",
        "6.12116935484\n",
        "5.9125\n",
        "6.12116935484"
       ]
      }
     ],
     "prompt_number": 9
    },
    {
     "cell_type": "code",
     "collapsed": false,
     "input": [],
     "language": "python",
     "metadata": {},
     "outputs": []
    },
    {
     "cell_type": "code",
     "collapsed": false,
     "input": [],
     "language": "python",
     "metadata": {},
     "outputs": [],
     "prompt_number": 296
    },
    {
     "cell_type": "code",
     "collapsed": false,
     "input": [],
     "language": "python",
     "metadata": {},
     "outputs": [],
     "prompt_number": 261
    },
    {
     "cell_type": "code",
     "collapsed": false,
     "input": [],
     "language": "python",
     "metadata": {},
     "outputs": []
    }
   ],
   "metadata": {}
  }
 ]
}