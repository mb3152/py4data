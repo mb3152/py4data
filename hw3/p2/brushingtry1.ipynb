{
 "metadata": {
  "name": ""
 },
 "nbformat": 3,
 "nbformat_minor": 0,
 "worksheets": [
  {
   "cells": [
    {
     "cell_type": "code",
     "collapsed": false,
     "input": [],
     "language": "python",
     "metadata": {},
     "outputs": [],
     "prompt_number": 14
    },
    {
     "cell_type": "code",
     "collapsed": false,
     "input": [],
     "language": "python",
     "metadata": {},
     "outputs": [],
     "prompt_number": 14
    },
    {
     "cell_type": "code",
     "collapsed": false,
     "input": [
      "%matplotlib osx\n",
      "import matplotlib.pyplot as plt\n",
      "from matplotlib.patches import Rectangle\n",
      "import pandas as pd\n",
      "import sys\n",
      "import os\n",
      "import numpy as np\n",
      "from mpl_toolkits.axes_grid1 import ImageGrid\n",
      "import numpy as np"
     ],
     "language": "python",
     "metadata": {},
     "outputs": [],
     "prompt_number": 1
    },
    {
     "cell_type": "code",
     "collapsed": false,
     "input": [
      "#input must be a csv file, with column that determines color last. \n",
      "flowers = pd.read_csv('flowers.csv', sep= ',')"
     ],
     "language": "python",
     "metadata": {},
     "outputs": [],
     "prompt_number": 2
    },
    {
     "cell_type": "code",
     "collapsed": false,
     "input": [
      "    # USER IMPUTS #\n",
      "dimensions = 1 #(for flowers, this is 1)\n",
      "# this lets us know how many plots to make...\n",
      "plotsize = ((len(flowers.columns))-dimensions)\n",
      "        "
     ],
     "language": "python",
     "metadata": {},
     "outputs": [],
     "prompt_number": 3
    },
    {
     "cell_type": "code",
     "collapsed": false,
     "input": [
      "#user enters colors of species they want\n",
      "ctable={'setosa':'r','versicolor':'g','virginica':'b'}"
     ],
     "language": "python",
     "metadata": {},
     "outputs": [],
     "prompt_number": 4
    },
    {
     "cell_type": "code",
     "collapsed": false,
     "input": [
      "fig, axarr = plt.subplots(plotsize,plotsize) #plotting part\n",
      "for i in xrange(0,plotsize):\n",
      "    for j in xrange(0,plotsize):\n",
      "        axarr[i,j].scatter(flowers.iloc[:,(plotsize-1)-j],flowers.iloc[:,i], c=[ctable[s] for s in flowers.species])"
     ],
     "language": "python",
     "metadata": {},
     "outputs": [],
     "prompt_number": 5
    },
    {
     "cell_type": "code",
     "collapsed": false,
     "input": [
      "\n"
     ],
     "language": "python",
     "metadata": {},
     "outputs": [],
     "prompt_number": 8
    },
    {
     "cell_type": "code",
     "collapsed": false,
     "input": [],
     "language": "python",
     "metadata": {},
     "outputs": [],
     "prompt_number": 6
    },
    {
     "cell_type": "code",
     "collapsed": false,
     "input": [
      "class flowerbrusher(object):\n",
      "    def __init__(self):\n",
      "        self.ax = plt.gca()\n",
      "        self.rect = Rectangle((0,0), 1, 1)\n",
      "        self.x0 = None\n",
      "        self.y0 = None\n",
      "        self.x1 = None\n",
      "        self.y1 = None\n",
      "        self.ax.add_patch(self.rect)\n",
      "        self.ax.figure.canvas.mpl_connect('button_press_event', self.on_press)\n",
      "        self.ax.figure.canvas.mpl_connect('button_release_event', self.on_release)\n",
      "        self.ax.figure.canvas.mpl_connect('button_press_event', self.which_axis)\n",
      "    \n",
      "    def which_axis(self, event):\n",
      "        self.ax = event.inaxes\n",
      "        print event.inaxes\n",
      "\n",
      "    def on_press(self, event):    \n",
      "        self.x0 = event.xdata\n",
      "        self.y0 = event.ydata\n",
      "        print self.x0\n",
      "        print self.y0\n",
      "        \n",
      "\n",
      "        \n",
      "    def on_release(self, event):\n",
      "        self.x1 = event.xdata\n",
      "        self.y1 = event.ydata\n",
      "        print self.x1\n",
      "        print self.y1\n",
      "        self.rect.set_width(self.x1 - self.x0)\n",
      "        self.rect.set_height(self.y1 - self.y0)\n",
      "        self.rect.set_xy((self.x0, self.y0))\n",
      "        self.ax.figure.canvas.draw()\n",
      "        self.ax.add_patch(self.rect)"
     ],
     "language": "python",
     "metadata": {},
     "outputs": [],
     "prompt_number": 6
    },
    {
     "cell_type": "code",
     "collapsed": false,
     "input": [
      "flowerbrusher()"
     ],
     "language": "python",
     "metadata": {},
     "outputs": [
      {
       "metadata": {},
       "output_type": "pyout",
       "prompt_number": 7,
       "text": [
        "<__main__.flowerbrusher at 0x10bfa29d0>"
       ]
      },
      {
       "output_type": "stream",
       "stream": "stdout",
       "text": [
        "Axes(0.125,0.517391;0.168478x0.173913)\n",
        "1.64233870968\n",
        "2.74322916667\n",
        "1.64233870968\n",
        "2.74322916667\n",
        "Axes(0.125,0.517391;0.168478x0.173913)"
       ]
      }
     ],
     "prompt_number": 7
    },
    {
     "cell_type": "code",
     "collapsed": false,
     "input": [],
     "language": "python",
     "metadata": {},
     "outputs": []
    },
    {
     "cell_type": "code",
     "collapsed": false,
     "input": [],
     "language": "python",
     "metadata": {},
     "outputs": [],
     "prompt_number": 296
    },
    {
     "cell_type": "code",
     "collapsed": false,
     "input": [],
     "language": "python",
     "metadata": {},
     "outputs": [],
     "prompt_number": 261
    },
    {
     "cell_type": "code",
     "collapsed": false,
     "input": [],
     "language": "python",
     "metadata": {},
     "outputs": []
    }
   ],
   "metadata": {}
  }
 ]
}