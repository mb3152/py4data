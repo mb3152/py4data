{
 "metadata": {
  "name": ""
 },
 "nbformat": 3,
 "nbformat_minor": 0,
 "worksheets": [
  {
   "cells": [
    {
     "cell_type": "heading",
     "level": 4,
     "metadata": {},
     "source": [
      "Part 1: Create a table of the 50 most travelled airports in the US containing relevant information such as name, city, ICAO airport code, latitude, and longitude."
     ]
    },
    {
     "cell_type": "code",
     "collapsed": false,
     "input": [
      "import pandas as pd\n",
      "import numpy as np"
     ],
     "language": "python",
     "metadata": {},
     "outputs": [],
     "prompt_number": 56
    },
    {
     "cell_type": "code",
     "collapsed": false,
     "input": [
      "#get the top airports\n",
      "topair= pd.read_csv('top_airports.csv')"
     ],
     "language": "python",
     "metadata": {},
     "outputs": [],
     "prompt_number": 2
    },
    {
     "cell_type": "code",
     "collapsed": false,
     "input": [
      "#get the data on all airports\n",
      "airdata = pd.read_csv('ICAO_airports.csv')"
     ],
     "language": "python",
     "metadata": {},
     "outputs": [],
     "prompt_number": 3
    },
    {
     "cell_type": "code",
     "collapsed": false,
     "input": [
      "#merge them, leaving on the data on the top 50 airports.\n",
      "#I know you can do this in the database, but pandas makes it too easy to do beforehand.\n",
      "airdata.rename(columns={'iata_code': 'IATA'}, inplace=True)\n",
      "airdata = pd.merge(topair, airdata, on='IATA')"
     ],
     "language": "python",
     "metadata": {},
     "outputs": [],
     "prompt_number": 4
    },
    {
     "cell_type": "code",
     "collapsed": false,
     "input": [
      "#Make AirportData.db database, make AirportData table, and fill it with the airport data.\n",
      "import sqlite3\n",
      "# sql_cmd = \"\"\"CREATE TABLE AirportData (id INTEGER PRIMARY KEY AUTOINCREMENT,\n",
      "#     code TEXT, latitude FLOAT, longitude FLOAT, elevation FLOAT, \n",
      "#     network TEXT, status TEXT, name TEXT)\"\"\"\n",
      "connection = sqlite3.connect('AirportData.db')\n",
      "cursor = connection.cursor()\n",
      "sql_cmd = \"\"\"CREATE TABLE AirportData (id INTEGER PRIMARY KEY AUTOINCREMENT,\n",
      "    City TEXT, Airport TEXT, ICAO TEXT, Longitude FLOAT, Latitude FLOAT, Elevation FLOAT)\"\"\"\n",
      "cursor.execute(sql_cmd)\n",
      "count = 0\n",
      "for y in airdata:\n",
      "    airport_city = str(airdata['City'])\n",
      "    airport_name = str(airdata['name'])\n",
      "    airport_ICAO = str(airdata['ICAO'])\n",
      "    airport_long = str(airdata['longitude_deg'])\n",
      "    airport_lat = str(airdata['latitude_deg'])\n",
      "    airport_elev = str(airdata['elevation_ft'])\n",
      "    data = (airport_city, airport_name, airport_ICAO, airport_long, airport_lat, airport_elev)\n",
      "    sql_cmd = (\"INSERT INTO AirportData (City, Airport, ICAO, Longitude, Latitude, Elevation) VALUES \" + str(data))\n",
      "    cursor.execute(sql_cmd)"
     ],
     "language": "python",
     "metadata": {},
     "outputs": [],
     "prompt_number": 7
    },
    {
     "cell_type": "code",
     "collapsed": false,
     "input": [
      "cursor.execute(\"SELECT Elevation FROM AirportData WHERE Airport == 'Denver International Airport'\")\n",
      "Elevation = cursor.fetchall()"
     ],
     "language": "python",
     "metadata": {},
     "outputs": [],
     "prompt_number": 108
    },
    {
     "cell_type": "code",
     "collapsed": false,
     "input": [
      "print Elevation"
     ],
     "language": "python",
     "metadata": {},
     "outputs": [
      {
       "output_type": "stream",
       "stream": "stdout",
       "text": [
        "[]\n"
       ]
      }
     ],
     "prompt_number": 107
    },
    {
     "cell_type": "code",
     "collapsed": false,
     "input": [],
     "language": "python",
     "metadata": {},
     "outputs": [],
     "prompt_number": 45
    },
    {
     "cell_type": "heading",
     "level": 4,
     "metadata": {},
     "source": [
      "Part 2: Build another table that will hold historical weather information, such as min/max temperature, humidity, precipitation, and cloud cover."
     ]
    },
    {
     "cell_type": "code",
     "collapsed": false,
     "input": [
      "connection = sqlite3.connect('AirportData.db)\n",
      "cursor = connection.cursor()\n",
      "sql_cmd = \"\"\"CREATE TABLE WeatherData (id INTEGER PRIMARY KEY AUTOINCREMENT,\n",
      "    max FLOAT, min FLOAT, humidity FLOAT, rain FLOAT, \n",
      "    cloud cover FLAT)\"\"\"\n",
      "cursor.execute(sql_cmd)\n",
      "count = 0"
     ],
     "language": "python",
     "metadata": {},
     "outputs": [],
     "prompt_number": 43
    },
    {
     "cell_type": "heading",
     "level": 4,
     "metadata": {},
     "source": [
      "Part 3: Grab historical data from weather underground from 2008 until now and populate your tables accordingly\n",
      "HINT: You can access a month\u2019s worth of tabular weather data in CSV format from Weather Underground using the ICAO airport code. For instance, to get the weather for San Francisco airport (ICAO code KSFO) in the month of September 2013, go to:\n",
      "http://www.wunderground.com/history/airport/KSFO/2013/9/1/MonthlyHistory.html?format=1"
     ]
    },
    {
     "cell_type": "code",
     "collapsed": false,
     "input": [
      "# GRAB WEATHER DATA"
     ],
     "language": "python",
     "metadata": {},
     "outputs": []
    },
    {
     "cell_type": "code",
     "collapsed": false,
     "input": [
      "# PUT WEATHER DATA INTO TABLE\n",
      "# for y in airdata:\n",
      "#     airport_city = str(airdata['City'])\n",
      "#     airport_name = str(airdata['name'])\n",
      "#     airport_ICAO = str(airdata['ICAO'])\n",
      "#     airport_long = str(airdata['longitude_deg'])\n",
      "#     airport_lat = str(airdata['latitude_deg'])\n",
      "#     airport_elev = str(airdata['elevation_ft'])\n",
      "#     data = (airport_city, airport_name, airport_ICAO, airport_long, airport_lat, airport_elev)\n",
      "#     sql_cmd = (\"INSERT INTO WeatherData (City, Airport, ICAO, Longitute, Latitude, Eleveation) VALUES \" + str(data))\n",
      "#     cursor.execute(sql_cmd)"
     ],
     "language": "python",
     "metadata": {},
     "outputs": []
    },
    {
     "cell_type": "heading",
     "level": 4,
     "metadata": {},
     "source": [
      "Part 4 For each pair of cities/airports determine how the daily change of high temperature and cloud cover from one city predicts the daily change of the other city 1,3, & 7 days in advance\n",
      "NOTE: Cloud cover from the Weather Underground tables ranges from 0 (clear) to 8 (completely cloudy)"
     ]
    },
    {
     "cell_type": "code",
     "collapsed": false,
     "input": [],
     "language": "python",
     "metadata": {},
     "outputs": [],
     "prompt_number": 38
    },
    {
     "cell_type": "heading",
     "level": 4,
     "metadata": {},
     "source": [
      "Part 5 Plot the correlation strengths for the 10 top pairs for all three dates, for both temperature and cloud cover as a function of distance. Also make a plot as a function of longitude difference. What trends do you see?"
     ]
    },
    {
     "cell_type": "code",
     "collapsed": false,
     "input": [],
     "language": "python",
     "metadata": {},
     "outputs": [],
     "prompt_number": 38
    },
    {
     "cell_type": "code",
     "collapsed": false,
     "input": [],
     "language": "python",
     "metadata": {},
     "outputs": [],
     "prompt_number": 38
    },
    {
     "cell_type": "code",
     "collapsed": false,
     "input": [],
     "language": "python",
     "metadata": {},
     "outputs": []
    }
   ],
   "metadata": {}
  }
 ]
}