{
 "metadata": {
  "name": ""
 },
 "nbformat": 3,
 "nbformat_minor": 0,
 "worksheets": [
  {
   "cells": [
    {
     "cell_type": "heading",
     "level": 4,
     "metadata": {},
     "source": [
      "Part 1: Create a table of the 50 most travelled airports in the US containing relevant information such as name, city, ICAO airport code, latitude, and longitude."
     ]
    },
    {
     "cell_type": "code",
     "collapsed": false,
     "input": [
      "import pandas as pd\n",
      "import numpy as np"
     ],
     "language": "python",
     "metadata": {},
     "outputs": [],
     "prompt_number": 56
    },
    {
     "cell_type": "code",
     "collapsed": false,
     "input": [
      "#get the top airports\n",
      "topair= pd.read_csv('top_airports.csv')"
     ],
     "language": "python",
     "metadata": {},
     "outputs": [],
     "prompt_number": 2
    },
    {
     "cell_type": "code",
     "collapsed": false,
     "input": [
      "#get the data on all airports\n",
      "airdata = pd.read_csv('ICAO_airports.csv')"
     ],
     "language": "python",
     "metadata": {},
     "outputs": [],
     "prompt_number": 3
    },
    {
     "cell_type": "code",
     "collapsed": false,
     "input": [
      "#merge them. I know you can do this in the database, but pandas makes it too easy to do beforehand.\n",
      "airdata.rename(columns={'iata_code': 'IATA'}, inplace=True)\n",
      "airdata = pd.merge(topair, airdata, on='IATA')"
     ],
     "language": "python",
     "metadata": {},
     "outputs": [],
     "prompt_number": 4
    },
    {
     "cell_type": "code",
     "collapsed": false,
     "input": [
      "airdata.City"
     ],
     "language": "python",
     "metadata": {},
     "outputs": [
      {
       "metadata": {},
       "output_type": "pyout",
       "prompt_number": 27,
       "text": [
        "0                                  Atlanta\n",
        "1                                  Chicago\n",
        "2                              Los Angeles\n",
        "3                        Dallas-Fort Worth\n",
        "4                                   Denver\n",
        "5                                 New York\n",
        "6                            San Francisco\n",
        "7                                  Houston\n",
        "8                                Las Vegas\n",
        "9                                  Phoenix\n",
        "10                               Charlotte\n",
        "11                                   Miami\n",
        "12                                 Orlando\n",
        "13                                  Newark\n",
        "14                       Detroit / Romulus\n",
        "15                             Minneapolis\n",
        "16               Seattle / Tacoma (SeaTac)\n",
        "17                            Philadelphia\n",
        "18                                  Boston\n",
        "19                                New York\n",
        "20    Washington D.C. / Chantilly / Dulles\n",
        "21                 Baltimore / Glen Burnie\n",
        "22                         Fort Lauderdale\n",
        "23                          Salt Lake City\n",
        "24                                Honolulu\n",
        "25      Washington D.C. / Arlington County\n",
        "26                                 Chicago\n",
        "27                               San Diego\n",
        "28                                   Tampa\n",
        "29                                Portland\n",
        "30                               St. Louis\n",
        "31                             Kansas City\n",
        "32                                 Memphis\n",
        "33                               Cleveland\n",
        "34                                 Oakland\n",
        "35                     San Juan / Carolina\n",
        "36                                 Raleigh\n",
        "37                               Nashville\n",
        "38                              Sacramento\n",
        "39                                 Houston\n",
        "40                               Santa Ana\n",
        "41                                  Austin\n",
        "42                                San Jose\n",
        "43                             New Orleans\n",
        "44                              Pittsburgh\n",
        "45                             San Antonio\n",
        "46                               Covington\n",
        "47                               Milwaukee\n",
        "48                                  Dallas\n",
        "49                            Indianapolis\n",
        "Name: City, dtype: object"
       ]
      }
     ],
     "prompt_number": 27
    },
    {
     "cell_type": "code",
     "collapsed": false,
     "input": [
      "#sweet, now lets make a database from this."
     ],
     "language": "python",
     "metadata": {},
     "outputs": [],
     "prompt_number": 6
    },
    {
     "cell_type": "code",
     "collapsed": false,
     "input": [],
     "language": "python",
     "metadata": {},
     "outputs": [],
     "prompt_number": 6
    },
    {
     "cell_type": "code",
     "collapsed": false,
     "input": [
      "import sqlite3\n",
      "# sql_cmd = \"\"\"CREATE TABLE AirportData (id INTEGER PRIMARY KEY AUTOINCREMENT,\n",
      "#     code TEXT, latitude FLOAT, longitude FLOAT, elevation FLOAT, \n",
      "#     network TEXT, status TEXT, name TEXT)\"\"\"\n",
      "connection = sqlite3.connect('AirportData.db')\n",
      "cursor = connection.cursor()\n",
      "sql_cmd = \"\"\"CREATE TABLE AirportData (id INTEGER PRIMARY KEY AUTOINCREMENT,\n",
      "    City TEXT, Airport TEXT, ICAO TEXT, Longitude FLOAT, Latitude FLOAT, Elevation FLOAT)\"\"\"\n",
      "cursor.execute(sql_cmd)\n",
      "count = 0\n",
      "for y in airdata:\n",
      "    airport_city = str(airdata['City'])\n",
      "    airport_name = str(airdata['name'])\n",
      "    airport_ICAO = str(airdata['ICAO'])\n",
      "    airport_long = str(airdata['longitude_deg'])\n",
      "    airport_lat = str(airdata['latitude_deg'])\n",
      "    airport_elev = str(airdata['elevation_ft'])\n",
      "    data = (airport_city, airport_name, airport_ICAO, airport_long, airport_lat, airport_elev)\n",
      "    sql_cmd = (\"INSERT INTO AirportData (City, Airport, ICAO, Longitude, Latitude, Elevation) VALUES \" + str(data))\n",
      "    cursor.execute(sql_cmd)"
     ],
     "language": "python",
     "metadata": {},
     "outputs": [],
     "prompt_number": 7
    },
    {
     "cell_type": "code",
     "collapsed": false,
     "input": [
      "sql_cmd = \"\"\"SELECT Longitude, Latitude FROM AirportData WHERE ICAO == 'KIND'\"\"\"\n",
      "cursor.execute(sql_cmd)\n",
      "LongLat = np.array(cursor.fetchall())\n",
      "print LongLat"
     ],
     "language": "python",
     "metadata": {},
     "outputs": [
      {
       "output_type": "stream",
       "stream": "stdout",
       "text": [
        "[]\n"
       ]
      }
     ],
     "prompt_number": 67
    },
    {
     "cell_type": "code",
     "collapsed": false,
     "input": [],
     "language": "python",
     "metadata": {},
     "outputs": [],
     "prompt_number": 67
    },
    {
     "cell_type": "code",
     "collapsed": false,
     "input": [],
     "language": "python",
     "metadata": {},
     "outputs": [],
     "prompt_number": 45
    },
    {
     "cell_type": "heading",
     "level": 4,
     "metadata": {},
     "source": [
      "Part 2: Build another table that will hold historical weather information, such as min/max temperature, humidity, precipitation, and cloud cover."
     ]
    },
    {
     "cell_type": "code",
     "collapsed": false,
     "input": [
      "connection = sqlite3.connect('AirportData.db)\n",
      "cursor = connection.cursor()\n",
      "sql_cmd = \"\"\"CREATE TABLE WeatherData (id INTEGER PRIMARY KEY AUTOINCREMENT,\n",
      "    max FLOAT, min FLOAT, humidity FLOAT, rain FLOAT, \n",
      "    cloud cover FLAT)\"\"\"\n",
      "cursor.execute(sql_cmd)\n",
      "count = 0"
     ],
     "language": "python",
     "metadata": {},
     "outputs": [],
     "prompt_number": 43
    },
    {
     "cell_type": "heading",
     "level": 4,
     "metadata": {},
     "source": [
      "Part 3: Grab historical data from weather underground from 2008 until now and populate your tables accordingly\n",
      "HINT: You can access a month\u2019s worth of tabular weather data in CSV format from Weather Underground using the ICAO airport code. For instance, to get the weather for San Francisco airport (ICAO code KSFO) in the month of September 2013, go to:\n",
      "http://www.wunderground.com/history/airport/KSFO/2013/9/1/MonthlyHistory.html?format=1"
     ]
    },
    {
     "cell_type": "code",
     "collapsed": false,
     "input": [
      "# GRAB WEATHER DATA"
     ],
     "language": "python",
     "metadata": {},
     "outputs": []
    },
    {
     "cell_type": "code",
     "collapsed": false,
     "input": [
      "# PUT WEATHER DATA INTO TABLE\n",
      "# for y in airdata:\n",
      "#     airport_city = str(airdata['City'])\n",
      "#     airport_name = str(airdata['name'])\n",
      "#     airport_ICAO = str(airdata['ICAO'])\n",
      "#     airport_long = str(airdata['longitude_deg'])\n",
      "#     airport_lat = str(airdata['latitude_deg'])\n",
      "#     airport_elev = str(airdata['elevation_ft'])\n",
      "#     data = (airport_city, airport_name, airport_ICAO, airport_long, airport_lat, airport_elev)\n",
      "#     sql_cmd = (\"INSERT INTO WeatherData (City, Airport, ICAO, Longitute, Latitude, Eleveation) VALUES \" + str(data))\n",
      "#     cursor.execute(sql_cmd)"
     ],
     "language": "python",
     "metadata": {},
     "outputs": []
    },
    {
     "cell_type": "heading",
     "level": 4,
     "metadata": {},
     "source": [
      "Part 4 For each pair of cities/airports determine how the daily change of high temperature and cloud cover from one city predicts the daily change of the other city 1,3, & 7 days in advance\n",
      "NOTE: Cloud cover from the Weather Underground tables ranges from 0 (clear) to 8 (completely cloudy)"
     ]
    },
    {
     "cell_type": "code",
     "collapsed": false,
     "input": [],
     "language": "python",
     "metadata": {},
     "outputs": [],
     "prompt_number": 38
    },
    {
     "cell_type": "heading",
     "level": 4,
     "metadata": {},
     "source": [
      "Part 5 Plot the correlation strengths for the 10 top pairs for all three dates, for both temperature and cloud cover as a function of distance. Also make a plot as a function of longitude difference. What trends do you see?"
     ]
    },
    {
     "cell_type": "code",
     "collapsed": false,
     "input": [],
     "language": "python",
     "metadata": {},
     "outputs": [],
     "prompt_number": 38
    },
    {
     "cell_type": "code",
     "collapsed": false,
     "input": [],
     "language": "python",
     "metadata": {},
     "outputs": [],
     "prompt_number": 38
    },
    {
     "cell_type": "code",
     "collapsed": false,
     "input": [],
     "language": "python",
     "metadata": {},
     "outputs": []
    }
   ],
   "metadata": {}
  }
 ]
}