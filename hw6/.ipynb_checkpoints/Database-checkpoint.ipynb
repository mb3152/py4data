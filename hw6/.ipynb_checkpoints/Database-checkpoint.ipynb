{
 "metadata": {
  "name": ""
 },
 "nbformat": 3,
 "nbformat_minor": 0,
 "worksheets": [
  {
   "cells": [
    {
     "cell_type": "code",
     "collapsed": false,
     "input": [
      "import pandas as pd"
     ],
     "language": "python",
     "metadata": {},
     "outputs": [],
     "prompt_number": 4
    },
    {
     "cell_type": "code",
     "collapsed": false,
     "input": [
      "#get the top airports\n",
      "topair= pd.read_csv('top_airports.csv')"
     ],
     "language": "python",
     "metadata": {},
     "outputs": [],
     "prompt_number": 5
    },
    {
     "cell_type": "code",
     "collapsed": false,
     "input": [
      "#get the data on all airports\n",
      "airdata = pd.read_csv('ICAO_airports.csv')"
     ],
     "language": "python",
     "metadata": {},
     "outputs": [],
     "prompt_number": 6
    },
    {
     "cell_type": "code",
     "collapsed": false,
     "input": [
      "#try with pd.merge\n",
      "airdata.rename(columns={'name': 'Airport'}, inplace=True)\n",
      "x = pd.merge(topair, airdata, on='Airport')"
     ],
     "language": "python",
     "metadata": {},
     "outputs": [],
     "prompt_number": 7
    },
    {
     "cell_type": "code",
     "collapsed": false,
     "input": [
      "x.Airport\n",
      "#doesn't seem to get them all, as some aren't an exact match, and we need to do a fuzzy match. Perfect thing to do in the database!"
     ],
     "language": "python",
     "metadata": {},
     "outputs": [
      {
       "metadata": {},
       "output_type": "pyout",
       "prompt_number": 8,
       "text": [
        "0                  Chicago O'Hare International Airport\n",
        "1                     Los Angeles International Airport\n",
        "2                          Denver International Airport\n",
        "3                   San Francisco International Airport\n",
        "4                        McCarran International Airport\n",
        "5              Phoenix Sky Harbor International Airport\n",
        "6                           Miami International Airport\n",
        "7                         Orlando International Airport\n",
        "8                  Newark Liberty International Airport\n",
        "9             Detroit Metropolitan Wayne County Airport\n",
        "10                   Philadelphia International Airport\n",
        "11              Washington Dulles International Airport\n",
        "12                 Salt Lake City International Airport\n",
        "13            Ronald Reagan Washington National Airport\n",
        "14                 Chicago Midway International Airport\n",
        "15                      San Diego International Airport\n",
        "16                          Tampa International Airport\n",
        "17                       Portland International Airport\n",
        "18                    Kansas City International Airport\n",
        "19                        Memphis International Airport\n",
        "20                     Sacramento International Airport\n",
        "21    Louis Armstrong New Orleans International Airport\n",
        "22                     Pittsburgh International Airport\n",
        "23                    San Antonio International Airport\n",
        "24               General Mitchell International Airport\n",
        "25                                    Dallas Love Field\n",
        "26                   Indianapolis International Airport\n",
        "Name: Airport, dtype: object"
       ]
      }
     ],
     "prompt_number": 8
    },
    {
     "cell_type": "code",
     "collapsed": false,
     "input": [
      "import pandas as pd\n",
      "#get the data on all airports\n",
      "airdata = pd.read_csv('ICAO_airports.csv')\n",
      "#get the top airports\n",
      "topair= pd.read_csv('top_airports.csv')"
     ],
     "language": "python",
     "metadata": {},
     "outputs": [],
     "prompt_number": 1
    },
    {
     "cell_type": "code",
     "collapsed": false,
     "input": [
      "sql_cmd = \"\"\"CREATE TABLE stations (id INTEGER PRIMARY KEY AUTOINCREMENT,\n",
      "    code TEXT, latitude FLOAT, longitude FLOAT, elevation FLOAT, \n",
      "    network TEXT, status TEXT, name TEXT)\"\"\"\n",
      "import sqlite3\n",
      "connection = sqlite3.connect(\":memory:\")\n",
      "cursor = connection.cursor()\n",
      "sql_cmd = \"\"\"CREATE TABLE Airports (id INTEGER PRIMARY KEY AUTOINCREMENT,\n",
      "    City, Airport TEXT)\"\"\"\n",
      "cursor.execute(sql_cmd)\n",
      "count = 0\n",
      "for airport in topair:\n",
      "    airport_city = str(topair['City'])\n",
      "    airport_name = str(topair['Airport'])\n",
      "    data = (airport_city, airport_name)\n",
      "    sql_cmd = (\"INSERT INTO Airports (City, Airport) VALUES \" + str(data))\n",
      "    cursor.execute(sql_cmd)"
     ],
     "language": "python",
     "metadata": {},
     "outputs": [],
     "prompt_number": 21
    },
    {
     "cell_type": "code",
     "collapsed": false,
     "input": [],
     "language": "python",
     "metadata": {},
     "outputs": [
      {
       "ename": "NameError",
       "evalue": "name 'Airports' is not defined",
       "output_type": "pyerr",
       "traceback": [
        "\u001b[0;31m---------------------------------------------------------------------------\u001b[0m\n\u001b[0;31mNameError\u001b[0m                                 Traceback (most recent call last)",
        "\u001b[0;32m<ipython-input-22-ae0c16a647bf>\u001b[0m in \u001b[0;36m<module>\u001b[0;34m()\u001b[0m\n\u001b[0;32m----> 1\u001b[0;31m \u001b[0mAirports\u001b[0m\u001b[0;34m\u001b[0m\u001b[0m\n\u001b[0m",
        "\u001b[0;31mNameError\u001b[0m: name 'Airports' is not defined"
       ]
      }
     ],
     "prompt_number": 22
    },
    {
     "cell_type": "code",
     "collapsed": false,
     "input": [
      "topair"
     ],
     "language": "python",
     "metadata": {},
     "outputs": [
      {
       "html": [
        "<pre>\n",
        "&ltclass 'pandas.core.frame.DataFrame'&gt\n",
        "Int64Index: 50 entries, 0 to 49\n",
        "Data columns (total 7 columns):\n",
        "City            50  non-null values\n",
        "FAA             50  non-null values\n",
        "IATA            50  non-null values\n",
        "ICAO            50  non-null values\n",
        "Airport         50  non-null values\n",
        "Role            50  non-null values\n",
        "Enplanements    50  non-null values\n",
        "dtypes: int64(1), object(6)\n",
        "</pre>"
       ],
       "metadata": {},
       "output_type": "pyout",
       "prompt_number": 28,
       "text": [
        "                                    City  FAA IATA  ICAO  \\\n",
        "0                                Atlanta  ATL  ATL  KATL   \n",
        "1                                Chicago  ORD  ORD  KORD   \n",
        "2                            Los Angeles  LAX  LAX  KLAX   \n",
        "3                      Dallas-Fort Worth  DFW  DFW  KDFW   \n",
        "4                                 Denver  DEN  DEN  KDEN   \n",
        "5                               New York  JFK  JFK  KJFK   \n",
        "6                          San Francisco  SFO  SFO  KSFO   \n",
        "7                                Houston  IAH  IAH  KIAH   \n",
        "8                              Las Vegas  LAS  LAS  KLAS   \n",
        "9                                Phoenix  PHX  PHX  KPHX   \n",
        "10                             Charlotte  CLT  CLT  KCLT   \n",
        "11                                 Miami  MIA  MIA  KMIA   \n",
        "12                               Orlando  MCO  MCO  KMCO   \n",
        "13                                Newark  EWR  EWR  KEWR   \n",
        "14                     Detroit / Romulus  DTW  DTW  KDTW   \n",
        "15                           Minneapolis  MSP  MSP  KMSP   \n",
        "16             Seattle / Tacoma (SeaTac)  SEA  SEA  KSEA   \n",
        "17                          Philadelphia  PHL  PHL  KPHL   \n",
        "18                                Boston  BOS  BOS  KBOS   \n",
        "19                              New York  LGA  LGA  KLGA   \n",
        "20  Washington D.C. / Chantilly / Dulles  IAD  IAD  KIAD   \n",
        "21               Baltimore / Glen Burnie  BWI  BWI  KBWI   \n",
        "22                       Fort Lauderdale  FLL  FLL  KFLL   \n",
        "23                        Salt Lake City  SLC  SLC  KSLC   \n",
        "24                              Honolulu  HNL  HNL  PHNL   \n",
        "25    Washington D.C. / Arlington County  DCA  DCA  KDCA   \n",
        "26                               Chicago  MDW  MDW  KMDW   \n",
        "27                             San Diego  SAN  SAN  KSAN   \n",
        "28                                 Tampa  TPA  TPA  KTPA   \n",
        "29                              Portland  PDX  PDX  KPDX   \n",
        "30                             St. Louis  STL  STL  KSTL   \n",
        "31                           Kansas City  MCI  MCI  KMCI   \n",
        "32                               Memphis  MEM  MEM  KMEM   \n",
        "33                             Cleveland  CLE  CLE  KCLE   \n",
        "34                               Oakland  OAK  OAK  KOAK   \n",
        "35                   San Juan / Carolina  SJU  SJU  TJSJ   \n",
        "36                               Raleigh  RDU  RDU  KRDU   \n",
        "37                             Nashville  BNA  BNA  KBNA   \n",
        "38                            Sacramento  SMF  SMF  KSMF   \n",
        "39                               Houston  HOU  HOU  KHOU   \n",
        "40                             Santa Ana  SNA  SNA  KSNA   \n",
        "41                                Austin  AUS  AUS  KAUS   \n",
        "42                              San Jose  SJC  SJC  KSJC   \n",
        "43                           New Orleans  MSY  MSY  KMSY   \n",
        "44                            Pittsburgh  PIT  PIT  KPIT   \n",
        "45                           San Antonio  SAT  SAT  KSAT   \n",
        "46                             Covington  CVG  CVG  KCVG   \n",
        "47                             Milwaukee  MKE  MKE  KMKE   \n",
        "48                                Dallas  DAL  DAL  KDAL   \n",
        "49                          Indianapolis  IND  IND  KIND   \n",
        "\n",
        "                                              Airport Role  Enplanements  \n",
        "0    Hartsfield-Jackson Atlanta International Airport  P-L      43130585  \n",
        "1                Chicago O'Hare International Airport  P-L      32171831  \n",
        "2                   Los Angeles International Airport  P-L      30528737  \n",
        "3             Dallas/Fort Worth International Airport  P-L      27100656  \n",
        "4                        Denver International Airport  P-L      25241962  \n",
        "5               John F. Kennedy International Airport  P-L      22934047  \n",
        "6                 San Francisco International Airport  P-L      20038679  \n",
        "7                George Bush Intercontinental Airport  P-L      19528631  \n",
        "8                      McCarran International Airport  P-L      18996738  \n",
        "9            Phoenix Sky Harbor International Airport  P-L      18907171  \n",
        "10            Charlotte/Douglas International Airport  P-L      18629181  \n",
        "11                        Miami International Airport  P-L      17017654  \n",
        "12                      Orlando International Airport  P-L      17017491  \n",
        "13               Newark Liberty International Airport  P-L      16571754  \n",
        "14          Detroit Metropolitan Wayne County Airport  P-L      15643890  \n",
        "15  Minneapolis-St. Paul International Airport (Wo...  P-L      15512487  \n",
        "16               Seattle-Tacoma International Airport  P-L      15406243  \n",
        "17                 Philadelphia International Airport  P-L      14951254  \n",
        "18   Gen. Edward Lawrence Logan International Airport  P-L      13561814  \n",
        "19        LaGuardia Airport (and Marine Air Terminal)  P-L      12001501  \n",
        "20            Washington Dulles International Airport  P-L      11276481  \n",
        "21  Baltimore/Washington International Thurgood Ma...  P-L      10848633  \n",
        "22    Fort Lauderdale\u2013Hollywood International Airport  P-L      10829810  \n",
        "23               Salt Lake City International Airport  P-L       9910493  \n",
        "24        Honolulu International Airport / Hickam AFB  P-L       8740077  \n",
        "25          Ronald Reagan Washington National Airport  P-L       8736804  \n",
        "26               Chicago Midway International Airport  P-L       8518957  \n",
        "27                    San Diego International Airport  P-L       8430509  \n",
        "28                        Tampa International Airport  P-L       8137222  \n",
        "29                     Portland International Airport  P-M       6582227  \n",
        "30            Lambert-St. Louis International Airport  P-M       6044760  \n",
        "31                  Kansas City International Airport  P-M       4946173  \n",
        "32                      Memphis International Airport  P-M       4930935  \n",
        "33            Cleveland-Hopkins International Airport  P-M       4704329  \n",
        "34                      Oakland International Airport  P-M       4673417  \n",
        "35             Luis Mu\u00f1oz Mar\u00edn International Airport  P-M       4635798  \n",
        "36               Raleigh-Durham International Airport  P-M       4465736  \n",
        "37      Nashville International Airport (Berry Field)  P-M       4432527  \n",
        "38                   Sacramento International Airport  P-M       4424279  \n",
        "39                           William P. Hobby Airport  P-M       4357835  \n",
        "40  John Wayne Airport \u2013 Orange County (was Orange...  P-M       4278623  \n",
        "41             Austin-Bergstrom International Airport  P-M       4201136  \n",
        "42    Norman Y. Mineta San Jos\u00e9 International Airport  P-M       4108167  \n",
        "43  Louis Armstrong New Orleans International Airport  P-M       4088889  \n",
        "44                   Pittsburgh International Airport  P-M       3996656  \n",
        "45                  San Antonio International Airport  P-M       3916320  \n",
        "46  Cincinnati/Northern Kentucky International Air...  P-M       3906826  \n",
        "47             General Mitchell International Airport  P-M       3861333  \n",
        "48                                  Dallas Love Field  P-M       3783407  \n",
        "49                 Indianapolis International Airport  P-M       3728698  "
       ]
      }
     ],
     "prompt_number": 28
    },
    {
     "cell_type": "code",
     "collapsed": false,
     "input": [],
     "language": "python",
     "metadata": {},
     "outputs": []
    }
   ],
   "metadata": {}
  }
 ]
}