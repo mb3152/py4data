{
 "metadata": {
  "name": ""
 },
 "nbformat": 3,
 "nbformat_minor": 0,
 "worksheets": [
  {
   "cells": [
    {
     "cell_type": "heading",
     "level": 1,
     "metadata": {},
     "source": [
      "PANDAS BITCH"
     ]
    },
    {
     "cell_type": "markdown",
     "metadata": {},
     "source": [
      "The data for this notebook lives here:\n",
      "https://www.dropbox.com/s/pe6dqooznrfynii/closed.json\n",
      "<n>\n",
      "Each element in the list contains information about a GitHub issue and all developer comments that were made on it in the 'comments' field."
     ]
    },
    {
     "cell_type": "heading",
     "level": 4,
     "metadata": {},
     "source": [
      "Make a DataFrame with 1 row per issue with the columns: ntitle, created_at, labels, closed_at, user, id"
     ]
    },
    {
     "cell_type": "code",
     "collapsed": false,
     "input": [
      "import pandas as pd\n",
      "import numpy as np\n",
      "import matplotlib.pyplot as plt"
     ],
     "language": "python",
     "metadata": {},
     "outputs": [],
     "prompt_number": 1
    },
    {
     "cell_type": "code",
     "collapsed": false,
     "input": [
      "#read it in with the pandas read json \n",
      "data = pd.read_json('closed.json', convert_dates = ['created_at', 'closed_at'])"
     ],
     "language": "python",
     "metadata": {},
     "outputs": [],
     "prompt_number": 2
    },
    {
     "cell_type": "code",
     "collapsed": false,
     "input": [
      "#Break it up into series, then I can populate my dataframe with them.\n",
      "s1 = data.created_at\n",
      "s2 = data.title\n",
      "s3 = data.labels\n",
      "s4 = data.closed_at\n",
      "s5 = data.user\n",
      "s6 = data.id\n",
      "s1 = pd.to_datetime(s1) #Convert the ``created_at`` column from string to datetime type.\n",
      "s4 = pd.to_datetime(s4) #Convert the  ``closed_at`` column from string to datetime type."
     ],
     "language": "python",
     "metadata": {},
     "outputs": [],
     "prompt_number": 3
    },
    {
     "cell_type": "code",
     "collapsed": false,
     "input": [
      "#let's check out all the ones we got...\n",
      "data.columns"
     ],
     "language": "python",
     "metadata": {},
     "outputs": [
      {
       "metadata": {},
       "output_type": "pyout",
       "prompt_number": 4,
       "text": [
        "Index([u'assignee', u'body', u'closed_at', u'comments', u'comments_url', u'created_at', u'events_url', u'html_url', u'id', u'labels', u'labels_url', u'milestone', u'number', u'pull_request', u'state', u'title', u'updated_at', u'url', u'user'], dtype=object)"
       ]
      }
     ],
     "prompt_number": 4
    },
    {
     "cell_type": "code",
     "collapsed": false,
     "input": [
      "#make my dataframe\n",
      "df = pd.DataFrame({'Title': s2,'Created': s1,'Labels': s3, 'Closed':s4, 'User': s5, 'ID': s6})"
     ],
     "language": "python",
     "metadata": {},
     "outputs": [],
     "prompt_number": 5
    },
    {
     "cell_type": "code",
     "collapsed": false,
     "input": [
      "#look at it; this is my favorite part of pandas.\n",
      "df.head()"
     ],
     "language": "python",
     "metadata": {},
     "outputs": [
      {
       "html": [
        "<div style=\"max-height:1000px;max-width:1500px;overflow:auto;\">\n",
        "<table border=\"1\" class=\"dataframe\">\n",
        "  <thead>\n",
        "    <tr style=\"text-align: right;\">\n",
        "      <th></th>\n",
        "      <th>Closed</th>\n",
        "      <th>Created</th>\n",
        "      <th>ID</th>\n",
        "      <th>Labels</th>\n",
        "      <th>Title</th>\n",
        "      <th>User</th>\n",
        "    </tr>\n",
        "  </thead>\n",
        "  <tbody>\n",
        "    <tr>\n",
        "      <th>0</th>\n",
        "      <td>2011-02-19 23:13:48</td>\n",
        "      <td>2010-09-29 00:45:31</td>\n",
        "      <td> 337721</td>\n",
        "      <td> []</td>\n",
        "      <td> Enable element-wise comparison operations in D...</td>\n",
        "      <td> {u'following_url': u'https://api.github.com/us...</td>\n",
        "    </tr>\n",
        "    <tr>\n",
        "      <th>1</th>\n",
        "      <td>2011-02-19 23:13:48</td>\n",
        "      <td>2010-09-29 00:45:31</td>\n",
        "      <td> 337721</td>\n",
        "      <td> []</td>\n",
        "      <td> Enable element-wise comparison operations in D...</td>\n",
        "      <td> {u'following_url': u'https://api.github.com/us...</td>\n",
        "    </tr>\n",
        "    <tr>\n",
        "      <th>2</th>\n",
        "      <td>2010-12-17 02:57:33</td>\n",
        "      <td>2010-09-29 00:50:13</td>\n",
        "      <td> 337726</td>\n",
        "      <td> []</td>\n",
        "      <td>                             reindex_like function</td>\n",
        "      <td> {u'following_url': u'https://api.github.com/us...</td>\n",
        "    </tr>\n",
        "    <tr>\n",
        "      <th>3</th>\n",
        "      <td>2010-12-17 02:57:33</td>\n",
        "      <td>2010-09-29 00:50:13</td>\n",
        "      <td> 337726</td>\n",
        "      <td> []</td>\n",
        "      <td>                             reindex_like function</td>\n",
        "      <td> {u'following_url': u'https://api.github.com/us...</td>\n",
        "    </tr>\n",
        "    <tr>\n",
        "      <th>4</th>\n",
        "      <td>2011-01-01 23:50:12</td>\n",
        "      <td>2010-09-29 00:50:52</td>\n",
        "      <td> 337728</td>\n",
        "      <td> []</td>\n",
        "      <td>               Binary operations on int DataMatrix</td>\n",
        "      <td> {u'following_url': u'https://api.github.com/us...</td>\n",
        "    </tr>\n",
        "  </tbody>\n",
        "</table>\n",
        "</div>"
       ],
       "metadata": {},
       "output_type": "pyout",
       "prompt_number": 6,
       "text": [
        "               Closed             Created      ID Labels  \\\n",
        "0 2011-02-19 23:13:48 2010-09-29 00:45:31  337721     []   \n",
        "1 2011-02-19 23:13:48 2010-09-29 00:45:31  337721     []   \n",
        "2 2010-12-17 02:57:33 2010-09-29 00:50:13  337726     []   \n",
        "3 2010-12-17 02:57:33 2010-09-29 00:50:13  337726     []   \n",
        "4 2011-01-01 23:50:12 2010-09-29 00:50:52  337728     []   \n",
        "\n",
        "                                               Title  \\\n",
        "0  Enable element-wise comparison operations in D...   \n",
        "1  Enable element-wise comparison operations in D...   \n",
        "2                              reindex_like function   \n",
        "3                              reindex_like function   \n",
        "4                Binary operations on int DataMatrix   \n",
        "\n",
        "                                                User  \n",
        "0  {u'following_url': u'https://api.github.com/us...  \n",
        "1  {u'following_url': u'https://api.github.com/us...  \n",
        "2  {u'following_url': u'https://api.github.com/us...  \n",
        "3  {u'following_url': u'https://api.github.com/us...  \n",
        "4  {u'following_url': u'https://api.github.com/us...  "
       ]
      }
     ],
     "prompt_number": 6
    },
    {
     "cell_type": "heading",
     "level": 4,
     "metadata": {},
     "source": [
      "Transform the user values to be simply the 'login' string, so that the user\n",
      "column contains only string usernames."
     ]
    },
    {
     "cell_type": "code",
     "collapsed": false,
     "input": [
      "#loop through the users, just getting the string of the key \"login\" so that I can get usernames.\n",
      "users = []\n",
      "for x in data.user[:]:\n",
      "    x = x['login']\n",
      "    x = x.encode('ascii','ignore')\n",
      "    users.append(x)"
     ],
     "language": "python",
     "metadata": {},
     "outputs": [],
     "prompt_number": 7
    },
    {
     "cell_type": "code",
     "collapsed": false,
     "input": [
      "#make that a series\n",
      "User = pd.Series(users)"
     ],
     "language": "python",
     "metadata": {},
     "outputs": [],
     "prompt_number": 8
    },
    {
     "cell_type": "code",
     "collapsed": false,
     "input": [
      "#put it into a new dataframe\n",
      "df = pd.DataFrame({'Title': s2,'Created': s1,'Labels': s3, 'Closed':s4, 'User': User, 'ID': s6})"
     ],
     "language": "python",
     "metadata": {},
     "outputs": [],
     "prompt_number": 9
    },
    {
     "cell_type": "code",
     "collapsed": false,
     "input": [
      "#because it's fun! \n",
      "df.head()"
     ],
     "language": "python",
     "metadata": {},
     "outputs": [
      {
       "html": [
        "<div style=\"max-height:1000px;max-width:1500px;overflow:auto;\">\n",
        "<table border=\"1\" class=\"dataframe\">\n",
        "  <thead>\n",
        "    <tr style=\"text-align: right;\">\n",
        "      <th></th>\n",
        "      <th>Closed</th>\n",
        "      <th>Created</th>\n",
        "      <th>ID</th>\n",
        "      <th>Labels</th>\n",
        "      <th>Title</th>\n",
        "      <th>User</th>\n",
        "    </tr>\n",
        "  </thead>\n",
        "  <tbody>\n",
        "    <tr>\n",
        "      <th>0</th>\n",
        "      <td>2011-02-19 23:13:48</td>\n",
        "      <td>2010-09-29 00:45:31</td>\n",
        "      <td> 337721</td>\n",
        "      <td> []</td>\n",
        "      <td> Enable element-wise comparison operations in D...</td>\n",
        "      <td> wesm</td>\n",
        "    </tr>\n",
        "    <tr>\n",
        "      <th>1</th>\n",
        "      <td>2011-02-19 23:13:48</td>\n",
        "      <td>2010-09-29 00:45:31</td>\n",
        "      <td> 337721</td>\n",
        "      <td> []</td>\n",
        "      <td> Enable element-wise comparison operations in D...</td>\n",
        "      <td> wesm</td>\n",
        "    </tr>\n",
        "    <tr>\n",
        "      <th>2</th>\n",
        "      <td>2010-12-17 02:57:33</td>\n",
        "      <td>2010-09-29 00:50:13</td>\n",
        "      <td> 337726</td>\n",
        "      <td> []</td>\n",
        "      <td>                             reindex_like function</td>\n",
        "      <td> wesm</td>\n",
        "    </tr>\n",
        "    <tr>\n",
        "      <th>3</th>\n",
        "      <td>2010-12-17 02:57:33</td>\n",
        "      <td>2010-09-29 00:50:13</td>\n",
        "      <td> 337726</td>\n",
        "      <td> []</td>\n",
        "      <td>                             reindex_like function</td>\n",
        "      <td> wesm</td>\n",
        "    </tr>\n",
        "    <tr>\n",
        "      <th>4</th>\n",
        "      <td>2011-01-01 23:50:12</td>\n",
        "      <td>2010-09-29 00:50:52</td>\n",
        "      <td> 337728</td>\n",
        "      <td> []</td>\n",
        "      <td>               Binary operations on int DataMatrix</td>\n",
        "      <td> wesm</td>\n",
        "    </tr>\n",
        "  </tbody>\n",
        "</table>\n",
        "</div>"
       ],
       "metadata": {},
       "output_type": "pyout",
       "prompt_number": 10,
       "text": [
        "               Closed             Created      ID Labels  \\\n",
        "0 2011-02-19 23:13:48 2010-09-29 00:45:31  337721     []   \n",
        "1 2011-02-19 23:13:48 2010-09-29 00:45:31  337721     []   \n",
        "2 2010-12-17 02:57:33 2010-09-29 00:50:13  337726     []   \n",
        "3 2010-12-17 02:57:33 2010-09-29 00:50:13  337726     []   \n",
        "4 2011-01-01 23:50:12 2010-09-29 00:50:52  337728     []   \n",
        "\n",
        "                                               Title  User  \n",
        "0  Enable element-wise comparison operations in D...  wesm  \n",
        "1  Enable element-wise comparison operations in D...  wesm  \n",
        "2                              reindex_like function  wesm  \n",
        "3                              reindex_like function  wesm  \n",
        "4                Binary operations on int DataMatrix  wesm  "
       ]
      }
     ],
     "prompt_number": 10
    },
    {
     "cell_type": "heading",
     "level": 4,
     "metadata": {},
     "source": [
      "Remove duplicate rows by id from the DataFrame you just created using the id\n",
      "column's duplicated method."
     ]
    },
    {
     "cell_type": "code",
     "collapsed": false,
     "input": [
      "#pandas makes this easy! \n",
      "df = df.drop_duplicates(cols='ID', take_last=True)"
     ],
     "language": "python",
     "metadata": {},
     "outputs": [],
     "prompt_number": 11
    },
    {
     "cell_type": "heading",
     "level": 4,
     "metadata": {},
     "source": [
      "Convert the ``created_at`` column from string to datetime type. Convert the  ``closed_at`` column from string to datetime type."
     ]
    },
    {
     "cell_type": "code",
     "collapsed": false,
     "input": [
      "# I think I did this above. Let me check."
     ],
     "language": "python",
     "metadata": {},
     "outputs": [],
     "prompt_number": 12
    },
    {
     "cell_type": "code",
     "collapsed": false,
     "input": [
      "type(df.Closed.values[0])"
     ],
     "language": "python",
     "metadata": {},
     "outputs": [
      {
       "metadata": {},
       "output_type": "pyout",
       "prompt_number": 13,
       "text": [
        "numpy.datetime64"
       ]
      }
     ],
     "prompt_number": 13
    },
    {
     "cell_type": "code",
     "collapsed": false,
     "input": [
      "type(df.Created.values[0])"
     ],
     "language": "python",
     "metadata": {},
     "outputs": [
      {
       "metadata": {},
       "output_type": "pyout",
       "prompt_number": 14,
       "text": [
        "numpy.datetime64"
       ]
      }
     ],
     "prompt_number": 14
    },
    {
     "cell_type": "code",
     "collapsed": false,
     "input": [
      "# looks like I did! "
     ],
     "language": "python",
     "metadata": {},
     "outputs": [],
     "prompt_number": 15
    },
    {
     "cell_type": "heading",
     "level": 4,
     "metadata": {},
     "source": [
      "Now construct appropriate time series and pandas functions to make the following plots:"
     ]
    },
    {
     "cell_type": "heading",
     "level": 5,
     "metadata": {},
     "source": [
      "Number of issues created by month"
     ]
    },
    {
     "cell_type": "code",
     "collapsed": false,
     "input": [
      "dfCreated = df.set_index('Created')\n",
      "dfCreated.head()"
     ],
     "language": "python",
     "metadata": {},
     "outputs": [
      {
       "html": [
        "<div style=\"max-height:1000px;max-width:1500px;overflow:auto;\">\n",
        "<table border=\"1\" class=\"dataframe\">\n",
        "  <thead>\n",
        "    <tr style=\"text-align: right;\">\n",
        "      <th></th>\n",
        "      <th>Closed</th>\n",
        "      <th>ID</th>\n",
        "      <th>Labels</th>\n",
        "      <th>Title</th>\n",
        "      <th>User</th>\n",
        "    </tr>\n",
        "    <tr>\n",
        "      <th>Created</th>\n",
        "      <th></th>\n",
        "      <th></th>\n",
        "      <th></th>\n",
        "      <th></th>\n",
        "      <th></th>\n",
        "    </tr>\n",
        "  </thead>\n",
        "  <tbody>\n",
        "    <tr>\n",
        "      <th>2010-09-29 00:45:31</th>\n",
        "      <td>2011-02-19 23:13:48</td>\n",
        "      <td> 337721</td>\n",
        "      <td> []</td>\n",
        "      <td> Enable element-wise comparison operations in D...</td>\n",
        "      <td> wesm</td>\n",
        "    </tr>\n",
        "    <tr>\n",
        "      <th>2010-09-29 00:50:13</th>\n",
        "      <td>2010-12-17 02:57:33</td>\n",
        "      <td> 337726</td>\n",
        "      <td> []</td>\n",
        "      <td>                             reindex_like function</td>\n",
        "      <td> wesm</td>\n",
        "    </tr>\n",
        "    <tr>\n",
        "      <th>2010-09-29 00:50:52</th>\n",
        "      <td>2011-01-01 23:50:12</td>\n",
        "      <td> 337728</td>\n",
        "      <td> []</td>\n",
        "      <td>               Binary operations on int DataMatrix</td>\n",
        "      <td> wesm</td>\n",
        "    </tr>\n",
        "    <tr>\n",
        "      <th>2010-09-29 00:51:27</th>\n",
        "      <td>2010-12-11 06:14:32</td>\n",
        "      <td> 337730</td>\n",
        "      <td> []</td>\n",
        "      <td> Plot keyword arguments are unused in DataFrame...</td>\n",
        "      <td> wesm</td>\n",
        "    </tr>\n",
        "    <tr>\n",
        "      <th>2010-09-29 00:57:00</th>\n",
        "      <td>2010-12-17 02:46:34</td>\n",
        "      <td> 337736</td>\n",
        "      <td> []</td>\n",
        "      <td>                                Python 2.7 testing</td>\n",
        "      <td> wesm</td>\n",
        "    </tr>\n",
        "  </tbody>\n",
        "</table>\n",
        "</div>"
       ],
       "metadata": {},
       "output_type": "pyout",
       "prompt_number": 16,
       "text": [
        "                                 Closed      ID Labels  \\\n",
        "Created                                                  \n",
        "2010-09-29 00:45:31 2011-02-19 23:13:48  337721     []   \n",
        "2010-09-29 00:50:13 2010-12-17 02:57:33  337726     []   \n",
        "2010-09-29 00:50:52 2011-01-01 23:50:12  337728     []   \n",
        "2010-09-29 00:51:27 2010-12-11 06:14:32  337730     []   \n",
        "2010-09-29 00:57:00 2010-12-17 02:46:34  337736     []   \n",
        "\n",
        "                                                                 Title  User  \n",
        "Created                                                                       \n",
        "2010-09-29 00:45:31  Enable element-wise comparison operations in D...  wesm  \n",
        "2010-09-29 00:50:13                              reindex_like function  wesm  \n",
        "2010-09-29 00:50:52                Binary operations on int DataMatrix  wesm  \n",
        "2010-09-29 00:51:27  Plot keyword arguments are unused in DataFrame...  wesm  \n",
        "2010-09-29 00:57:00                                 Python 2.7 testing  wesm  "
       ]
      }
     ],
     "prompt_number": 16
    },
    {
     "cell_type": "code",
     "collapsed": false,
     "input": [
      "dfCreated.Title.resample('M', how='nunique',fill_method='pad').plot()\n",
      "plt.ylabel('Number of issues')\n",
      "plt.xlabel('')\n",
      "plt.show()"
     ],
     "language": "python",
     "metadata": {},
     "outputs": [],
     "prompt_number": 17
    },
    {
     "cell_type": "heading",
     "level": 5,
     "metadata": {},
     "source": [
      "Number of distinct users creating issues each month (hint: you can pass a function to resample's how argument, and there's nothing wrong with having string values in a TimeSeries)"
     ]
    },
    {
     "cell_type": "code",
     "collapsed": false,
     "input": [
      "dfCreated.User.resample('M', how='nunique').plot()\n",
      "plt.ylabel('Number of users creating issues')\n",
      "plt.xlabel('')\n",
      "plt.show()"
     ],
     "language": "python",
     "metadata": {},
     "outputs": [],
     "prompt_number": 18
    },
    {
     "cell_type": "heading",
     "level": 4,
     "metadata": {},
     "source": [
      "Make a table and an accompanying plot illustrating:\n",
      "\n",
      "- The mean number of days it took for issues to be closed by the month they\n",
      "  were opened. In other words, for closed issues created in August 2012, how\n",
      "  long were they open on average? (hint: use the ``total_seconds`` function on the\n",
      "  timedelta objects computed when subtracting datetime objects). Also show the\n",
      "  number of issues in each month in the table."
     ]
    },
    {
     "cell_type": "code",
     "collapsed": false,
     "input": [
      "#here is what we have right now...\n",
      "df.head()"
     ],
     "language": "python",
     "metadata": {},
     "outputs": [
      {
       "html": [
        "<div style=\"max-height:1000px;max-width:1500px;overflow:auto;\">\n",
        "<table border=\"1\" class=\"dataframe\">\n",
        "  <thead>\n",
        "    <tr style=\"text-align: right;\">\n",
        "      <th></th>\n",
        "      <th>Closed</th>\n",
        "      <th>Created</th>\n",
        "      <th>ID</th>\n",
        "      <th>Labels</th>\n",
        "      <th>Title</th>\n",
        "      <th>User</th>\n",
        "    </tr>\n",
        "  </thead>\n",
        "  <tbody>\n",
        "    <tr>\n",
        "      <th>1</th>\n",
        "      <td>2011-02-19 23:13:48</td>\n",
        "      <td>2010-09-29 00:45:31</td>\n",
        "      <td> 337721</td>\n",
        "      <td> []</td>\n",
        "      <td> Enable element-wise comparison operations in D...</td>\n",
        "      <td> wesm</td>\n",
        "    </tr>\n",
        "    <tr>\n",
        "      <th>3</th>\n",
        "      <td>2010-12-17 02:57:33</td>\n",
        "      <td>2010-09-29 00:50:13</td>\n",
        "      <td> 337726</td>\n",
        "      <td> []</td>\n",
        "      <td>                             reindex_like function</td>\n",
        "      <td> wesm</td>\n",
        "    </tr>\n",
        "    <tr>\n",
        "      <th>5</th>\n",
        "      <td>2011-01-01 23:50:12</td>\n",
        "      <td>2010-09-29 00:50:52</td>\n",
        "      <td> 337728</td>\n",
        "      <td> []</td>\n",
        "      <td>               Binary operations on int DataMatrix</td>\n",
        "      <td> wesm</td>\n",
        "    </tr>\n",
        "    <tr>\n",
        "      <th>7</th>\n",
        "      <td>2010-12-11 06:14:32</td>\n",
        "      <td>2010-09-29 00:51:27</td>\n",
        "      <td> 337730</td>\n",
        "      <td> []</td>\n",
        "      <td> Plot keyword arguments are unused in DataFrame...</td>\n",
        "      <td> wesm</td>\n",
        "    </tr>\n",
        "    <tr>\n",
        "      <th>9</th>\n",
        "      <td>2010-12-17 02:46:34</td>\n",
        "      <td>2010-09-29 00:57:00</td>\n",
        "      <td> 337736</td>\n",
        "      <td> []</td>\n",
        "      <td>                                Python 2.7 testing</td>\n",
        "      <td> wesm</td>\n",
        "    </tr>\n",
        "  </tbody>\n",
        "</table>\n",
        "</div>"
       ],
       "metadata": {},
       "output_type": "pyout",
       "prompt_number": 19,
       "text": [
        "               Closed             Created      ID Labels  \\\n",
        "1 2011-02-19 23:13:48 2010-09-29 00:45:31  337721     []   \n",
        "3 2010-12-17 02:57:33 2010-09-29 00:50:13  337726     []   \n",
        "5 2011-01-01 23:50:12 2010-09-29 00:50:52  337728     []   \n",
        "7 2010-12-11 06:14:32 2010-09-29 00:51:27  337730     []   \n",
        "9 2010-12-17 02:46:34 2010-09-29 00:57:00  337736     []   \n",
        "\n",
        "                                               Title  User  \n",
        "1  Enable element-wise comparison operations in D...  wesm  \n",
        "3                              reindex_like function  wesm  \n",
        "5                Binary operations on int DataMatrix  wesm  \n",
        "7  Plot keyword arguments are unused in DataFrame...  wesm  \n",
        "9                                 Python 2.7 testing  wesm  "
       ]
      }
     ],
     "prompt_number": 19
    },
    {
     "cell_type": "code",
     "collapsed": false,
     "input": [
      "import datetime as datetime\n",
      "s7 = []\n",
      "for i in range(len(df.Closed)):\n",
      "    z = (df.Closed.values[i] - df.Created.values[i])\n",
      "    z = z / 1000000000 #nanos to seconds\n",
      "    z = z / 60 #seconds to minutes \n",
      "    z = z / 60 #minutes to hours\n",
      "    z = z / 24 #hours to days\n",
      "    s7.append(z)\n",
      "df['DayDiff'] = s7\n",
      "df.head()"
     ],
     "language": "python",
     "metadata": {},
     "outputs": [
      {
       "html": [
        "<div style=\"max-height:1000px;max-width:1500px;overflow:auto;\">\n",
        "<table border=\"1\" class=\"dataframe\">\n",
        "  <thead>\n",
        "    <tr style=\"text-align: right;\">\n",
        "      <th></th>\n",
        "      <th>Closed</th>\n",
        "      <th>Created</th>\n",
        "      <th>ID</th>\n",
        "      <th>Labels</th>\n",
        "      <th>Title</th>\n",
        "      <th>User</th>\n",
        "      <th>DayDiff</th>\n",
        "    </tr>\n",
        "  </thead>\n",
        "  <tbody>\n",
        "    <tr>\n",
        "      <th>1</th>\n",
        "      <td>2011-02-19 23:13:48</td>\n",
        "      <td>2010-09-29 00:45:31</td>\n",
        "      <td> 337721</td>\n",
        "      <td> []</td>\n",
        "      <td> Enable element-wise comparison operations in D...</td>\n",
        "      <td> wesm</td>\n",
        "      <td> 143</td>\n",
        "    </tr>\n",
        "    <tr>\n",
        "      <th>3</th>\n",
        "      <td>2010-12-17 02:57:33</td>\n",
        "      <td>2010-09-29 00:50:13</td>\n",
        "      <td> 337726</td>\n",
        "      <td> []</td>\n",
        "      <td>                             reindex_like function</td>\n",
        "      <td> wesm</td>\n",
        "      <td>  79</td>\n",
        "    </tr>\n",
        "    <tr>\n",
        "      <th>5</th>\n",
        "      <td>2011-01-01 23:50:12</td>\n",
        "      <td>2010-09-29 00:50:52</td>\n",
        "      <td> 337728</td>\n",
        "      <td> []</td>\n",
        "      <td>               Binary operations on int DataMatrix</td>\n",
        "      <td> wesm</td>\n",
        "      <td>  94</td>\n",
        "    </tr>\n",
        "    <tr>\n",
        "      <th>7</th>\n",
        "      <td>2010-12-11 06:14:32</td>\n",
        "      <td>2010-09-29 00:51:27</td>\n",
        "      <td> 337730</td>\n",
        "      <td> []</td>\n",
        "      <td> Plot keyword arguments are unused in DataFrame...</td>\n",
        "      <td> wesm</td>\n",
        "      <td>  73</td>\n",
        "    </tr>\n",
        "    <tr>\n",
        "      <th>9</th>\n",
        "      <td>2010-12-17 02:46:34</td>\n",
        "      <td>2010-09-29 00:57:00</td>\n",
        "      <td> 337736</td>\n",
        "      <td> []</td>\n",
        "      <td>                                Python 2.7 testing</td>\n",
        "      <td> wesm</td>\n",
        "      <td>  79</td>\n",
        "    </tr>\n",
        "  </tbody>\n",
        "</table>\n",
        "</div>"
       ],
       "metadata": {},
       "output_type": "pyout",
       "prompt_number": 44,
       "text": [
        "               Closed             Created      ID Labels  \\\n",
        "1 2011-02-19 23:13:48 2010-09-29 00:45:31  337721     []   \n",
        "3 2010-12-17 02:57:33 2010-09-29 00:50:13  337726     []   \n",
        "5 2011-01-01 23:50:12 2010-09-29 00:50:52  337728     []   \n",
        "7 2010-12-11 06:14:32 2010-09-29 00:51:27  337730     []   \n",
        "9 2010-12-17 02:46:34 2010-09-29 00:57:00  337736     []   \n",
        "\n",
        "                                               Title  User  DayDiff  \n",
        "1  Enable element-wise comparison operations in D...  wesm      143  \n",
        "3                              reindex_like function  wesm       79  \n",
        "5                Binary operations on int DataMatrix  wesm       94  \n",
        "7  Plot keyword arguments are unused in DataFrame...  wesm       73  \n",
        "9                                 Python 2.7 testing  wesm       79  "
       ]
      }
     ],
     "prompt_number": 44
    },
    {
     "cell_type": "code",
     "collapsed": false,
     "input": [
      "#okay, pretty sure that is in seconds...\n",
      "#make closed my index, since that's the timepoint we care most about--when the issue was closed.\n",
      "dfClosed = df.set_index('Closed')\n",
      "dfClosed.head()"
     ],
     "language": "python",
     "metadata": {},
     "outputs": [
      {
       "html": [
        "<div style=\"max-height:1000px;max-width:1500px;overflow:auto;\">\n",
        "<table border=\"1\" class=\"dataframe\">\n",
        "  <thead>\n",
        "    <tr style=\"text-align: right;\">\n",
        "      <th></th>\n",
        "      <th>Created</th>\n",
        "      <th>ID</th>\n",
        "      <th>Labels</th>\n",
        "      <th>Title</th>\n",
        "      <th>User</th>\n",
        "      <th>DayDiff</th>\n",
        "    </tr>\n",
        "    <tr>\n",
        "      <th>Closed</th>\n",
        "      <th></th>\n",
        "      <th></th>\n",
        "      <th></th>\n",
        "      <th></th>\n",
        "      <th></th>\n",
        "      <th></th>\n",
        "    </tr>\n",
        "  </thead>\n",
        "  <tbody>\n",
        "    <tr>\n",
        "      <th>2011-02-19 23:13:48</th>\n",
        "      <td>2010-09-29 00:45:31</td>\n",
        "      <td> 337721</td>\n",
        "      <td> []</td>\n",
        "      <td> Enable element-wise comparison operations in D...</td>\n",
        "      <td> wesm</td>\n",
        "      <td> 143</td>\n",
        "    </tr>\n",
        "    <tr>\n",
        "      <th>2010-12-17 02:57:33</th>\n",
        "      <td>2010-09-29 00:50:13</td>\n",
        "      <td> 337726</td>\n",
        "      <td> []</td>\n",
        "      <td>                             reindex_like function</td>\n",
        "      <td> wesm</td>\n",
        "      <td>  79</td>\n",
        "    </tr>\n",
        "    <tr>\n",
        "      <th>2011-01-01 23:50:12</th>\n",
        "      <td>2010-09-29 00:50:52</td>\n",
        "      <td> 337728</td>\n",
        "      <td> []</td>\n",
        "      <td>               Binary operations on int DataMatrix</td>\n",
        "      <td> wesm</td>\n",
        "      <td>  94</td>\n",
        "    </tr>\n",
        "    <tr>\n",
        "      <th>2010-12-11 06:14:32</th>\n",
        "      <td>2010-09-29 00:51:27</td>\n",
        "      <td> 337730</td>\n",
        "      <td> []</td>\n",
        "      <td> Plot keyword arguments are unused in DataFrame...</td>\n",
        "      <td> wesm</td>\n",
        "      <td>  73</td>\n",
        "    </tr>\n",
        "    <tr>\n",
        "      <th>2010-12-17 02:46:34</th>\n",
        "      <td>2010-09-29 00:57:00</td>\n",
        "      <td> 337736</td>\n",
        "      <td> []</td>\n",
        "      <td>                                Python 2.7 testing</td>\n",
        "      <td> wesm</td>\n",
        "      <td>  79</td>\n",
        "    </tr>\n",
        "  </tbody>\n",
        "</table>\n",
        "</div>"
       ],
       "metadata": {},
       "output_type": "pyout",
       "prompt_number": 45,
       "text": [
        "                                Created      ID Labels  \\\n",
        "Closed                                                   \n",
        "2011-02-19 23:13:48 2010-09-29 00:45:31  337721     []   \n",
        "2010-12-17 02:57:33 2010-09-29 00:50:13  337726     []   \n",
        "2011-01-01 23:50:12 2010-09-29 00:50:52  337728     []   \n",
        "2010-12-11 06:14:32 2010-09-29 00:51:27  337730     []   \n",
        "2010-12-17 02:46:34 2010-09-29 00:57:00  337736     []   \n",
        "\n",
        "                                                                 Title  User  \\\n",
        "Closed                                                                         \n",
        "2011-02-19 23:13:48  Enable element-wise comparison operations in D...  wesm   \n",
        "2010-12-17 02:57:33                              reindex_like function  wesm   \n",
        "2011-01-01 23:50:12                Binary operations on int DataMatrix  wesm   \n",
        "2010-12-11 06:14:32  Plot keyword arguments are unused in DataFrame...  wesm   \n",
        "2010-12-17 02:46:34                                 Python 2.7 testing  wesm   \n",
        "\n",
        "                     DayDiff  \n",
        "Closed                        \n",
        "2011-02-19 23:13:48      143  \n",
        "2010-12-17 02:57:33       79  \n",
        "2011-01-01 23:50:12       94  \n",
        "2010-12-11 06:14:32       73  \n",
        "2010-12-17 02:46:34       79  "
       ]
      }
     ],
     "prompt_number": 45
    },
    {
     "cell_type": "code",
     "collapsed": false,
     "input": [
      "dfClosed.DayDiff.resample('M', how='mean',fill_method='pad').plot()\n",
      "plt.ylabel('Number hours to resolve issues')\n",
      "plt.xlabel('')\n",
      "plt.show()"
     ],
     "language": "python",
     "metadata": {},
     "outputs": [],
     "prompt_number": 47
    },
    {
     "cell_type": "heading",
     "level": 4,
     "metadata": {},
     "source": [
      "Make a DataFrame containing all the comments for all of the issues. You will\n",
      "want to add an ``id`` attribute to each comment while doing so so that each row\n",
      "contains a single comment and has the id of the issue it belongs to.\n",
      "\n",
      "Convert the ``created`` column to datetime format; note you will need to multiply\n",
      "the values (appropriately converted to integers) by 1000000 to get them in\n",
      "nanoseconds and pass to to_datetime."
     ]
    },
    {
     "cell_type": "code",
     "collapsed": false,
     "input": [
      "dfCreated = df.set_index('Created')\n",
      "dfCreated.head()"
     ],
     "language": "python",
     "metadata": {},
     "outputs": [
      {
       "html": [
        "<div style=\"max-height:1000px;max-width:1500px;overflow:auto;\">\n",
        "<table border=\"1\" class=\"dataframe\">\n",
        "  <thead>\n",
        "    <tr style=\"text-align: right;\">\n",
        "      <th></th>\n",
        "      <th>Closed</th>\n",
        "      <th>ID</th>\n",
        "      <th>Labels</th>\n",
        "      <th>Title</th>\n",
        "      <th>User</th>\n",
        "      <th>DayDiff</th>\n",
        "    </tr>\n",
        "    <tr>\n",
        "      <th>Created</th>\n",
        "      <th></th>\n",
        "      <th></th>\n",
        "      <th></th>\n",
        "      <th></th>\n",
        "      <th></th>\n",
        "      <th></th>\n",
        "    </tr>\n",
        "  </thead>\n",
        "  <tbody>\n",
        "    <tr>\n",
        "      <th>2010-09-29 00:45:31</th>\n",
        "      <td>2011-02-19 23:13:48</td>\n",
        "      <td> 337721</td>\n",
        "      <td> []</td>\n",
        "      <td> Enable element-wise comparison operations in D...</td>\n",
        "      <td> wesm</td>\n",
        "      <td> 143</td>\n",
        "    </tr>\n",
        "    <tr>\n",
        "      <th>2010-09-29 00:50:13</th>\n",
        "      <td>2010-12-17 02:57:33</td>\n",
        "      <td> 337726</td>\n",
        "      <td> []</td>\n",
        "      <td>                             reindex_like function</td>\n",
        "      <td> wesm</td>\n",
        "      <td>  79</td>\n",
        "    </tr>\n",
        "    <tr>\n",
        "      <th>2010-09-29 00:50:52</th>\n",
        "      <td>2011-01-01 23:50:12</td>\n",
        "      <td> 337728</td>\n",
        "      <td> []</td>\n",
        "      <td>               Binary operations on int DataMatrix</td>\n",
        "      <td> wesm</td>\n",
        "      <td>  94</td>\n",
        "    </tr>\n",
        "    <tr>\n",
        "      <th>2010-09-29 00:51:27</th>\n",
        "      <td>2010-12-11 06:14:32</td>\n",
        "      <td> 337730</td>\n",
        "      <td> []</td>\n",
        "      <td> Plot keyword arguments are unused in DataFrame...</td>\n",
        "      <td> wesm</td>\n",
        "      <td>  73</td>\n",
        "    </tr>\n",
        "    <tr>\n",
        "      <th>2010-09-29 00:57:00</th>\n",
        "      <td>2010-12-17 02:46:34</td>\n",
        "      <td> 337736</td>\n",
        "      <td> []</td>\n",
        "      <td>                                Python 2.7 testing</td>\n",
        "      <td> wesm</td>\n",
        "      <td>  79</td>\n",
        "    </tr>\n",
        "  </tbody>\n",
        "</table>\n",
        "</div>"
       ],
       "metadata": {},
       "output_type": "pyout",
       "prompt_number": 59,
       "text": [
        "                                 Closed      ID Labels  \\\n",
        "Created                                                  \n",
        "2010-09-29 00:45:31 2011-02-19 23:13:48  337721     []   \n",
        "2010-09-29 00:50:13 2010-12-17 02:57:33  337726     []   \n",
        "2010-09-29 00:50:52 2011-01-01 23:50:12  337728     []   \n",
        "2010-09-29 00:51:27 2010-12-11 06:14:32  337730     []   \n",
        "2010-09-29 00:57:00 2010-12-17 02:46:34  337736     []   \n",
        "\n",
        "                                                                 Title  User  \\\n",
        "Created                                                                        \n",
        "2010-09-29 00:45:31  Enable element-wise comparison operations in D...  wesm   \n",
        "2010-09-29 00:50:13                              reindex_like function  wesm   \n",
        "2010-09-29 00:50:52                Binary operations on int DataMatrix  wesm   \n",
        "2010-09-29 00:51:27  Plot keyword arguments are unused in DataFrame...  wesm   \n",
        "2010-09-29 00:57:00                                 Python 2.7 testing  wesm   \n",
        "\n",
        "                     DayDiff  \n",
        "Created                       \n",
        "2010-09-29 00:45:31      143  \n",
        "2010-09-29 00:50:13       79  \n",
        "2010-09-29 00:50:52       94  \n",
        "2010-09-29 00:51:27       73  \n",
        "2010-09-29 00:57:00       79  "
       ]
      }
     ],
     "prompt_number": 59
    },
    {
     "cell_type": "code",
     "collapsed": false,
     "input": [
      "#here I made the ID the same as it is in the original data so I have an easy way to merge the talbes.\n",
      "comments = []\n",
      "IDs = []\n",
      "for i, ID in zip(data.comments.values, dfCreated.ID.values):\n",
      "    if i:\n",
      "        comment = i[0]['text']\n",
      "        comment = comment.encode('ascii','ignore')\n",
      "        comments.append(comment)\n",
      "        ID = int(ID)\n",
      "        IDs.append(ID)"
     ],
     "language": "python",
     "metadata": {},
     "outputs": [],
     "prompt_number": 72
    },
    {
     "cell_type": "code",
     "collapsed": false,
     "input": [
      "#sanity check\n",
      "len(IDs), len(comments)"
     ],
     "language": "python",
     "metadata": {},
     "outputs": [
      {
       "metadata": {},
       "output_type": "pyout",
       "prompt_number": 96,
       "text": [
        "(2019, 2019)"
       ]
      }
     ],
     "prompt_number": 96
    },
    {
     "cell_type": "code",
     "collapsed": false,
     "input": [
      "dftomerge = pd.DataFrame({'Comments': comments, 'ID': IDs,})"
     ],
     "language": "python",
     "metadata": {},
     "outputs": [],
     "prompt_number": 99
    },
    {
     "cell_type": "code",
     "collapsed": false,
     "input": [
      "dfmerged = pd.merge(dfCreated,dftomerge, on='ID', how='inner') #doing outer messes things up.\n",
      "dfmerged.head()"
     ],
     "language": "python",
     "metadata": {},
     "outputs": [
      {
       "html": [
        "<div style=\"max-height:1000px;max-width:1500px;overflow:auto;\">\n",
        "<table border=\"1\" class=\"dataframe\">\n",
        "  <thead>\n",
        "    <tr style=\"text-align: right;\">\n",
        "      <th></th>\n",
        "      <th>Closed</th>\n",
        "      <th>ID</th>\n",
        "      <th>Labels</th>\n",
        "      <th>Title</th>\n",
        "      <th>User</th>\n",
        "      <th>DayDiff</th>\n",
        "      <th>Comments</th>\n",
        "    </tr>\n",
        "  </thead>\n",
        "  <tbody>\n",
        "    <tr>\n",
        "      <th>0</th>\n",
        "      <td>2011-02-19 23:13:48</td>\n",
        "      <td> 337721</td>\n",
        "      <td> []</td>\n",
        "      <td> Enable element-wise comparison operations in D...</td>\n",
        "      <td> wesm</td>\n",
        "      <td> 143</td>\n",
        "      <td>                           implemented in git HEAD</td>\n",
        "    </tr>\n",
        "    <tr>\n",
        "      <th>1</th>\n",
        "      <td>2010-12-17 02:57:33</td>\n",
        "      <td> 337726</td>\n",
        "      <td> []</td>\n",
        "      <td>                             reindex_like function</td>\n",
        "      <td> wesm</td>\n",
        "      <td>  79</td>\n",
        "      <td>                           implemented in git HEAD</td>\n",
        "    </tr>\n",
        "    <tr>\n",
        "      <th>2</th>\n",
        "      <td>2011-01-01 23:50:12</td>\n",
        "      <td> 337728</td>\n",
        "      <td> []</td>\n",
        "      <td>               Binary operations on int DataMatrix</td>\n",
        "      <td> wesm</td>\n",
        "      <td>  94</td>\n",
        "      <td>                                              done</td>\n",
        "    </tr>\n",
        "    <tr>\n",
        "      <th>3</th>\n",
        "      <td>2010-12-11 06:14:32</td>\n",
        "      <td> 337730</td>\n",
        "      <td> []</td>\n",
        "      <td> Plot keyword arguments are unused in DataFrame...</td>\n",
        "      <td> wesm</td>\n",
        "      <td>  73</td>\n",
        "      <td>                                              done</td>\n",
        "    </tr>\n",
        "    <tr>\n",
        "      <th>4</th>\n",
        "      <td>2010-12-17 02:46:34</td>\n",
        "      <td> 337736</td>\n",
        "      <td> []</td>\n",
        "      <td>                                Python 2.7 testing</td>\n",
        "      <td> wesm</td>\n",
        "      <td>  79</td>\n",
        "      <td> I guess I &amp;quot;accidentally&amp;quot; fixed this ...</td>\n",
        "    </tr>\n",
        "  </tbody>\n",
        "</table>\n",
        "</div>"
       ],
       "metadata": {},
       "output_type": "pyout",
       "prompt_number": 100,
       "text": [
        "               Closed      ID Labels  \\\n",
        "0 2011-02-19 23:13:48  337721     []   \n",
        "1 2010-12-17 02:57:33  337726     []   \n",
        "2 2011-01-01 23:50:12  337728     []   \n",
        "3 2010-12-11 06:14:32  337730     []   \n",
        "4 2010-12-17 02:46:34  337736     []   \n",
        "\n",
        "                                               Title  User  DayDiff  \\\n",
        "0  Enable element-wise comparison operations in D...  wesm      143   \n",
        "1                              reindex_like function  wesm       79   \n",
        "2                Binary operations on int DataMatrix  wesm       94   \n",
        "3  Plot keyword arguments are unused in DataFrame...  wesm       73   \n",
        "4                                 Python 2.7 testing  wesm       79   \n",
        "\n",
        "                                            Comments  \n",
        "0                            implemented in git HEAD  \n",
        "1                            implemented in git HEAD  \n",
        "2                                               done  \n",
        "3                                               done  \n",
        "4  I guess I &quot;accidentally&quot; fixed this ...  "
       ]
      }
     ],
     "prompt_number": 100
    },
    {
     "cell_type": "code",
     "collapsed": false,
     "input": [
      "type(dfmerged.Closed.values[0])"
     ],
     "language": "python",
     "metadata": {},
     "outputs": [
      {
       "metadata": {},
       "output_type": "pyout",
       "prompt_number": 101,
       "text": [
        "numpy.datetime64"
       ]
      }
     ],
     "prompt_number": 101
    },
    {
     "cell_type": "code",
     "collapsed": false,
     "input": [
      "dfmerged = dfmerged.set_index('Closed')\n",
      "dfmerged.head()"
     ],
     "language": "python",
     "metadata": {},
     "outputs": [
      {
       "html": [
        "<div style=\"max-height:1000px;max-width:1500px;overflow:auto;\">\n",
        "<table border=\"1\" class=\"dataframe\">\n",
        "  <thead>\n",
        "    <tr style=\"text-align: right;\">\n",
        "      <th></th>\n",
        "      <th>ID</th>\n",
        "      <th>Labels</th>\n",
        "      <th>Title</th>\n",
        "      <th>User</th>\n",
        "      <th>DayDiff</th>\n",
        "      <th>Comments</th>\n",
        "    </tr>\n",
        "    <tr>\n",
        "      <th>Closed</th>\n",
        "      <th></th>\n",
        "      <th></th>\n",
        "      <th></th>\n",
        "      <th></th>\n",
        "      <th></th>\n",
        "      <th></th>\n",
        "    </tr>\n",
        "  </thead>\n",
        "  <tbody>\n",
        "    <tr>\n",
        "      <th>2011-02-19 23:13:48</th>\n",
        "      <td> 337721</td>\n",
        "      <td> []</td>\n",
        "      <td> Enable element-wise comparison operations in D...</td>\n",
        "      <td> wesm</td>\n",
        "      <td> 143</td>\n",
        "      <td>                           implemented in git HEAD</td>\n",
        "    </tr>\n",
        "    <tr>\n",
        "      <th>2010-12-17 02:57:33</th>\n",
        "      <td> 337726</td>\n",
        "      <td> []</td>\n",
        "      <td>                             reindex_like function</td>\n",
        "      <td> wesm</td>\n",
        "      <td>  79</td>\n",
        "      <td>                           implemented in git HEAD</td>\n",
        "    </tr>\n",
        "    <tr>\n",
        "      <th>2011-01-01 23:50:12</th>\n",
        "      <td> 337728</td>\n",
        "      <td> []</td>\n",
        "      <td>               Binary operations on int DataMatrix</td>\n",
        "      <td> wesm</td>\n",
        "      <td>  94</td>\n",
        "      <td>                                              done</td>\n",
        "    </tr>\n",
        "    <tr>\n",
        "      <th>2010-12-11 06:14:32</th>\n",
        "      <td> 337730</td>\n",
        "      <td> []</td>\n",
        "      <td> Plot keyword arguments are unused in DataFrame...</td>\n",
        "      <td> wesm</td>\n",
        "      <td>  73</td>\n",
        "      <td>                                              done</td>\n",
        "    </tr>\n",
        "    <tr>\n",
        "      <th>2010-12-17 02:46:34</th>\n",
        "      <td> 337736</td>\n",
        "      <td> []</td>\n",
        "      <td>                                Python 2.7 testing</td>\n",
        "      <td> wesm</td>\n",
        "      <td>  79</td>\n",
        "      <td> I guess I &amp;quot;accidentally&amp;quot; fixed this ...</td>\n",
        "    </tr>\n",
        "  </tbody>\n",
        "</table>\n",
        "</div>"
       ],
       "metadata": {},
       "output_type": "pyout",
       "prompt_number": 103,
       "text": [
        "                         ID Labels  \\\n",
        "Closed                               \n",
        "2011-02-19 23:13:48  337721     []   \n",
        "2010-12-17 02:57:33  337726     []   \n",
        "2011-01-01 23:50:12  337728     []   \n",
        "2010-12-11 06:14:32  337730     []   \n",
        "2010-12-17 02:46:34  337736     []   \n",
        "\n",
        "                                                                 Title  User  \\\n",
        "Closed                                                                         \n",
        "2011-02-19 23:13:48  Enable element-wise comparison operations in D...  wesm   \n",
        "2010-12-17 02:57:33                              reindex_like function  wesm   \n",
        "2011-01-01 23:50:12                Binary operations on int DataMatrix  wesm   \n",
        "2010-12-11 06:14:32  Plot keyword arguments are unused in DataFrame...  wesm   \n",
        "2010-12-17 02:46:34                                 Python 2.7 testing  wesm   \n",
        "\n",
        "                     DayDiff  \\\n",
        "Closed                         \n",
        "2011-02-19 23:13:48      143   \n",
        "2010-12-17 02:57:33       79   \n",
        "2011-01-01 23:50:12       94   \n",
        "2010-12-11 06:14:32       73   \n",
        "2010-12-17 02:46:34       79   \n",
        "\n",
        "                                                              Comments  \n",
        "Closed                                                                  \n",
        "2011-02-19 23:13:48                            implemented in git HEAD  \n",
        "2010-12-17 02:57:33                            implemented in git HEAD  \n",
        "2011-01-01 23:50:12                                               done  \n",
        "2010-12-11 06:14:32                                               done  \n",
        "2010-12-17 02:46:34  I guess I &quot;accidentally&quot; fixed this ...  "
       ]
      }
     ],
     "prompt_number": 103
    },
    {
     "cell_type": "heading",
     "level": 4,
     "metadata": {},
     "source": [
      "For each month, compute a table summarizing the following for each month:\n",
      "\n",
      "\n",
      "\n"
     ]
    },
    {
     "cell_type": "heading",
     "level": 5,
     "metadata": {},
     "source": [
      "- Total number of issue comments"
     ]
    },
    {
     "cell_type": "code",
     "collapsed": false,
     "input": [
      "dfmerged.Comments.resample('M', how='nunique',fill_method='pad').plot()\n",
      "plt.ylabel('Total Number of Comments')\n",
      "plt.xlabel('')\n",
      "plt.show()"
     ],
     "language": "python",
     "metadata": {},
     "outputs": [],
     "prompt_number": 122
    },
    {
     "cell_type": "code",
     "collapsed": false,
     "input": [],
     "language": "python",
     "metadata": {},
     "outputs": [],
     "prompt_number": 106
    },
    {
     "cell_type": "code",
     "collapsed": false,
     "input": [],
     "language": "python",
     "metadata": {},
     "outputs": [],
     "prompt_number": 106
    },
    {
     "cell_type": "heading",
     "level": 5,
     "metadata": {},
     "source": [
      "- The \"chattiest\" user (most number of comments)"
     ]
    },
    {
     "cell_type": "code",
     "collapsed": false,
     "input": [
      "chat = dfmerged.User.resample('M', how='max',fill_method='pad')\n",
      "#will figure out how to plot later \n",
      "chat.head(100)"
     ],
     "language": "python",
     "metadata": {},
     "outputs": [
      {
       "metadata": {},
       "output_type": "pyout",
       "prompt_number": 138,
       "text": [
        "Closed\n",
        "2010-11-30            wesm\n",
        "2010-12-31            wesm\n",
        "2011-01-31            wesm\n",
        "2011-02-28            wesm\n",
        "2011-03-31         tgefell\n",
        "2011-04-30         tgefell\n",
        "2011-05-31            wesm\n",
        "2011-06-30            wesm\n",
        "2011-07-31            wesm\n",
        "2011-08-31           xdong\n",
        "2011-09-30      yarikoptic\n",
        "2011-10-31            wesm\n",
        "2011-11-30            wesm\n",
        "2011-12-31            wesm\n",
        "2012-01-31      yarikoptic\n",
        "2012-02-29           xdong\n",
        "2012-03-31            wesm\n",
        "2012-04-30      yarikoptic\n",
        "2012-05-31            wesm\n",
        "2012-06-30           yinhm\n",
        "2012-07-31            wesm\n",
        "2012-08-31          zachcp\n",
        "2012-09-30          zachcp\n",
        "2012-10-31          zachcp\n",
        "2012-11-30          zachcp\n",
        "2012-12-31      zhangruoyu\n",
        "2013-01-31             y-p\n",
        "2013-02-28       yashoteja\n",
        "2013-03-31    yishenggudou\n",
        "2013-04-30             y-p\n",
        "Freq: M, dtype: object"
       ]
      }
     ],
     "prompt_number": 138
    },
    {
     "cell_type": "code",
     "collapsed": false,
     "input": [],
     "language": "python",
     "metadata": {},
     "outputs": [],
     "prompt_number": 138
    },
    {
     "cell_type": "code",
     "collapsed": false,
     "input": [],
     "language": "python",
     "metadata": {},
     "outputs": [],
     "prompt_number": 112
    },
    {
     "cell_type": "heading",
     "level": 5,
     "metadata": {},
     "source": [
      "- The percentage of total comments made by the chattiest users"
     ]
    },
    {
     "cell_type": "code",
     "collapsed": false,
     "input": [
      "dfmerged.User."
     ],
     "language": "python",
     "metadata": {},
     "outputs": [
      {
       "metadata": {},
       "output_type": "pyout",
       "prompt_number": 115,
       "text": [
        "<bound method TimeSeries.min of Closed\n",
        "2011-02-19 23:13:48        wesm\n",
        "2010-12-17 02:57:33        wesm\n",
        "2011-01-01 23:50:12        wesm\n",
        "2010-12-11 06:14:32        wesm\n",
        "2010-12-17 02:46:34        wesm\n",
        "2010-12-11 06:05:26        wesm\n",
        "2010-12-11 06:12:00     andylei\n",
        "2011-06-23 04:50:05     andylei\n",
        "2011-05-18 02:43:33        wesm\n",
        "2011-06-23 19:38:51        wesm\n",
        "2011-02-19 23:46:00        wesm\n",
        "2010-12-11 22:53:14    hector13\n",
        "2012-12-12 21:35:57      surbas\n",
        "2011-02-19 16:13:00        wesm\n",
        "2010-12-11 06:19:58        wesm\n",
        "...\n",
        "2013-04-25 12:29:36          jreback\n",
        "2013-04-25 16:11:11           abudis\n",
        "2013-04-25 14:38:23              y-p\n",
        "2013-04-25 15:25:49              y-p\n",
        "2013-04-25 16:09:51              y-p\n",
        "2013-04-25 14:38:06          jreback\n",
        "2013-04-25 21:57:05           rla3rd\n",
        "2013-04-29 14:37:13          jreback\n",
        "2013-04-25 21:56:33          jreback\n",
        "2013-04-26 18:52:57          cpcloud\n",
        "2013-04-26 18:52:46              y-p\n",
        "2013-04-28 00:55:20           kyleam\n",
        "2013-04-27 20:14:38    TomAugspurger\n",
        "2013-04-29 17:43:37        dieterv77\n",
        "2013-04-29 21:54:45              y-p\n",
        "Name: User, Length: 2019, dtype: object>"
       ]
      }
     ],
     "prompt_number": 115
    },
    {
     "cell_type": "code",
     "collapsed": false,
     "input": [],
     "language": "python",
     "metadata": {},
     "outputs": []
    },
    {
     "cell_type": "heading",
     "level": 5,
     "metadata": {},
     "source": [
      "- The number of distinct participants in the issue comments"
     ]
    },
    {
     "cell_type": "code",
     "collapsed": false,
     "input": [
      "dfmerged.User.resample('M', how='nunique',fill_method='pad').plot()\n",
      "plt.ylabel('Number of distinct participants')\n",
      "plt.xlabel('')\n",
      "plt.show()"
     ],
     "language": "python",
     "metadata": {},
     "outputs": [],
     "prompt_number": 136
    },
    {
     "cell_type": "code",
     "collapsed": false,
     "input": [],
     "language": "python",
     "metadata": {},
     "outputs": [],
     "prompt_number": 114
    },
    {
     "cell_type": "code",
     "collapsed": false,
     "input": [],
     "language": "python",
     "metadata": {},
     "outputs": [],
     "prompt_number": 114
    },
    {
     "cell_type": "code",
     "collapsed": false,
     "input": [],
     "language": "python",
     "metadata": {},
     "outputs": [],
     "prompt_number": 114
    },
    {
     "cell_type": "heading",
     "level": 4,
     "metadata": {},
     "source": [
      "Create a helper ``labels`` table from the issues data with two columns: id and\n",
      "label. If an issue has 3 elements in its 'labels' value, add 3 rows to the\n",
      "table. If an issue does not have any labels, place a single row with None as\n",
      "the label (hint: construct a list of tuples, then make the DataFrame)."
     ]
    },
    {
     "cell_type": "code",
     "collapsed": false,
     "input": [
      "df.head()"
     ],
     "language": "python",
     "metadata": {},
     "outputs": [
      {
       "html": [
        "<div style=\"max-height:1000px;max-width:1500px;overflow:auto;\">\n",
        "<table border=\"1\" class=\"dataframe\">\n",
        "  <thead>\n",
        "    <tr style=\"text-align: right;\">\n",
        "      <th></th>\n",
        "      <th>Closed</th>\n",
        "      <th>Created</th>\n",
        "      <th>ID</th>\n",
        "      <th>Labels</th>\n",
        "      <th>Title</th>\n",
        "      <th>User</th>\n",
        "      <th>DayDiff</th>\n",
        "    </tr>\n",
        "  </thead>\n",
        "  <tbody>\n",
        "    <tr>\n",
        "      <th>1</th>\n",
        "      <td>2011-02-19 23:13:48</td>\n",
        "      <td>2010-09-29 00:45:31</td>\n",
        "      <td> 337721</td>\n",
        "      <td> []</td>\n",
        "      <td> Enable element-wise comparison operations in D...</td>\n",
        "      <td> wesm</td>\n",
        "      <td> 143</td>\n",
        "    </tr>\n",
        "    <tr>\n",
        "      <th>3</th>\n",
        "      <td>2010-12-17 02:57:33</td>\n",
        "      <td>2010-09-29 00:50:13</td>\n",
        "      <td> 337726</td>\n",
        "      <td> []</td>\n",
        "      <td>                             reindex_like function</td>\n",
        "      <td> wesm</td>\n",
        "      <td>  79</td>\n",
        "    </tr>\n",
        "    <tr>\n",
        "      <th>5</th>\n",
        "      <td>2011-01-01 23:50:12</td>\n",
        "      <td>2010-09-29 00:50:52</td>\n",
        "      <td> 337728</td>\n",
        "      <td> []</td>\n",
        "      <td>               Binary operations on int DataMatrix</td>\n",
        "      <td> wesm</td>\n",
        "      <td>  94</td>\n",
        "    </tr>\n",
        "    <tr>\n",
        "      <th>7</th>\n",
        "      <td>2010-12-11 06:14:32</td>\n",
        "      <td>2010-09-29 00:51:27</td>\n",
        "      <td> 337730</td>\n",
        "      <td> []</td>\n",
        "      <td> Plot keyword arguments are unused in DataFrame...</td>\n",
        "      <td> wesm</td>\n",
        "      <td>  73</td>\n",
        "    </tr>\n",
        "    <tr>\n",
        "      <th>9</th>\n",
        "      <td>2010-12-17 02:46:34</td>\n",
        "      <td>2010-09-29 00:57:00</td>\n",
        "      <td> 337736</td>\n",
        "      <td> []</td>\n",
        "      <td>                                Python 2.7 testing</td>\n",
        "      <td> wesm</td>\n",
        "      <td>  79</td>\n",
        "    </tr>\n",
        "  </tbody>\n",
        "</table>\n",
        "</div>"
       ],
       "metadata": {},
       "output_type": "pyout",
       "prompt_number": 194,
       "text": [
        "               Closed             Created      ID Labels  \\\n",
        "1 2011-02-19 23:13:48 2010-09-29 00:45:31  337721     []   \n",
        "3 2010-12-17 02:57:33 2010-09-29 00:50:13  337726     []   \n",
        "5 2011-01-01 23:50:12 2010-09-29 00:50:52  337728     []   \n",
        "7 2010-12-11 06:14:32 2010-09-29 00:51:27  337730     []   \n",
        "9 2010-12-17 02:46:34 2010-09-29 00:57:00  337736     []   \n",
        "\n",
        "                                               Title  User  DayDiff  \n",
        "1  Enable element-wise comparison operations in D...  wesm      143  \n",
        "3                              reindex_like function  wesm       79  \n",
        "5                Binary operations on int DataMatrix  wesm       94  \n",
        "7  Plot keyword arguments are unused in DataFrame...  wesm       73  \n",
        "9                                 Python 2.7 testing  wesm       79  "
       ]
      }
     ],
     "prompt_number": 194
    },
    {
     "cell_type": "code",
     "collapsed": false,
     "input": [
      "x = df.Labels.values[12:13] #let's find a nonblank one\n",
      "x"
     ],
     "language": "python",
     "metadata": {},
     "outputs": [
      {
       "metadata": {},
       "output_type": "pyout",
       "prompt_number": 205,
       "text": [
        "array([ [{u'url': u'https://api.github.com/repos/pydata/pandas/labels/Enhancement', u'color': u'4E9A06', u'name': u'Enhancement'}]], dtype=object)"
       ]
      }
     ],
     "prompt_number": 205
    },
    {
     "cell_type": "code",
     "collapsed": false,
     "input": [
      "x = x[0] #go into it"
     ],
     "language": "python",
     "metadata": {},
     "outputs": [],
     "prompt_number": 196
    },
    {
     "cell_type": "code",
     "collapsed": false,
     "input": [
      "x = x[0]  #go into it again"
     ],
     "language": "python",
     "metadata": {},
     "outputs": [],
     "prompt_number": 197
    },
    {
     "cell_type": "code",
     "collapsed": false,
     "input": [
      "x['name'] #get the value to the key 'name'"
     ],
     "language": "python",
     "metadata": {},
     "outputs": [
      {
       "metadata": {},
       "output_type": "pyout",
       "prompt_number": 198,
       "text": [
        "u'Enhancement'"
       ]
      }
     ],
     "prompt_number": 198
    },
    {
     "cell_type": "code",
     "collapsed": false,
     "input": [
      "#okay, now we can build up the lists to append to the dataframe.\n",
      "IDS = []\n",
      "issues=[]\n",
      "for i,ID in zip(df.Labels.values,df.ID.values):\n",
      "    if i:\n",
      "        i = i[0]\n",
      "        issue = i['name']\n",
      "        issues.append(issue)\n",
      "        IDS.append(ID)"
     ],
     "language": "python",
     "metadata": {},
     "outputs": [],
     "prompt_number": 201
    },
    {
     "cell_type": "code",
     "collapsed": false,
     "input": [
      "#sanity check\n",
      "len(IDS), len(issues)"
     ],
     "language": "python",
     "metadata": {},
     "outputs": [
      {
       "metadata": {},
       "output_type": "pyout",
       "prompt_number": 203,
       "text": [
        "(1761, 1761)"
       ]
      }
     ],
     "prompt_number": 203
    },
    {
     "cell_type": "code",
     "collapsed": false,
     "input": [
      "#another sanity check\n",
      "len(df.Labels.values),len(df.ID.values)\n",
      "#I am not insane! it looks like it's skipping ones with more than 1 name..hmmm"
     ],
     "language": "python",
     "metadata": {},
     "outputs": [
      {
       "metadata": {},
       "output_type": "pyout",
       "prompt_number": 204,
       "text": [
        "(2934, 2934)"
       ]
      }
     ],
     "prompt_number": 204
    },
    {
     "cell_type": "code",
     "collapsed": false,
     "input": [
      "IDS = []\n",
      "issues=[]\n",
      "#let's see what's going on! I wonder if I can do an if/elif/elif for the lenthes of them\n",
      "for i,ID in zip(df.Labels.values,df.ID.values):\n",
      "    if i:\n",
      "        if len(i) == 1:\n",
      "            i = i[0]\n",
      "            issue = i['name']\n",
      "            issues.append(issue)\n",
      "            IDS.append(ID) # I do this to make sure they are the same length.\n",
      "        elif len(i) == 2:\n",
      "            issue = i[0]['name']\n",
      "            issue2 = i[1]['name']\n",
      "            issues.append(issue)\n",
      "            IDS.append(ID)\n",
      "            issues.append(issue2)\n",
      "            IDS.append(ID)\n",
      "        elif len(i) == 3:\n",
      "            issue = i[0]['name']\n",
      "            issue2 = i[1]['name']\n",
      "            issue3 = i[2]['name']\n",
      "            issues.append(issue)\n",
      "            IDS.append(ID)\n",
      "            issues.append(issue2)\n",
      "            IDS.append(ID)\n",
      "            issues.append(issue3)\n",
      "            IDS.append(ID)"
     ],
     "language": "python",
     "metadata": {},
     "outputs": [],
     "prompt_number": 248
    },
    {
     "cell_type": "heading",
     "level": 4,
     "metadata": {},
     "source": [
      "Now, join the issues data with the labels helper table (pandas.merge). Add\n",
      "a column to this table containing the number of days (as a floating point\n",
      "number) it took to close each issue."
     ]
    },
    {
     "cell_type": "code",
     "collapsed": false,
     "input": [
      "issues = pd.Series(issues)"
     ],
     "language": "python",
     "metadata": {},
     "outputs": [],
     "prompt_number": 249
    },
    {
     "cell_type": "code",
     "collapsed": false,
     "input": [
      "issues.values.astype(str)"
     ],
     "language": "python",
     "metadata": {},
     "outputs": [
      {
       "metadata": {},
       "output_type": "pyout",
       "prompt_number": 250,
       "text": [
        "array(['Bug', 'Enhancement', 'Enhancement', ..., 'Dtypes', 'Bug',\n",
        "       'Build problem'], \n",
        "      dtype='|S64')"
       ]
      }
     ],
     "prompt_number": 250
    },
    {
     "cell_type": "code",
     "collapsed": false,
     "input": [
      "len(issues),len(IDS)"
     ],
     "language": "python",
     "metadata": {},
     "outputs": [
      {
       "metadata": {},
       "output_type": "pyout",
       "prompt_number": 252,
       "text": [
        "(2587, 2587)"
       ]
      }
     ],
     "prompt_number": 252
    },
    {
     "cell_type": "heading",
     "level": 4,
     "metadata": {},
     "source": [
      "Compute a table containing the average time to close for each label\n",
      "type. Now make a plot comparing mean time to close by month for Enhancement\n",
      "versus Bug issue types."
     ]
    },
    {
     "cell_type": "code",
     "collapsed": false,
     "input": [],
     "language": "python",
     "metadata": {},
     "outputs": [],
     "prompt_number": 114
    },
    {
     "cell_type": "code",
     "collapsed": false,
     "input": [],
     "language": "python",
     "metadata": {},
     "outputs": []
    }
   ],
   "metadata": {}
  }
 ]
}