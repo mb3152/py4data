{
 "metadata": {
  "name": ""
 },
 "nbformat": 3,
 "nbformat_minor": 0,
 "worksheets": [
  {
   "cells": [
    {
     "cell_type": "heading",
     "level": 1,
     "metadata": {},
     "source": [
      "PANDAS"
     ]
    },
    {
     "cell_type": "markdown",
     "metadata": {},
     "source": [
      "The data for this notebook lives here:\n",
      "https://www.dropbox.com/s/pe6dqooznrfynii/closed.json\n",
      "<n>\n",
      "Each element in the list contains information about a GitHub issue and all developer comments that were made on it in the 'comments' field."
     ]
    },
    {
     "cell_type": "heading",
     "level": 4,
     "metadata": {},
     "source": [
      "Make a DataFrame with 1 row per issue with the columns: ntitle, created_at, labels, closed_at, user, id"
     ]
    },
    {
     "cell_type": "code",
     "collapsed": false,
     "input": [
      "import pandas as pd\n",
      "import numpy as np\n",
      "import matplotlib.pyplot as plt"
     ],
     "language": "python",
     "metadata": {},
     "outputs": [],
     "prompt_number": 1
    },
    {
     "cell_type": "code",
     "collapsed": false,
     "input": [
      "#read it in with the pandas read json \n",
      "data = pd.read_json('closed.json', convert_dates = ['created_at', 'closed_at'])"
     ],
     "language": "python",
     "metadata": {},
     "outputs": [],
     "prompt_number": 2
    },
    {
     "cell_type": "code",
     "collapsed": false,
     "input": [
      "#let's check out all the ones we got...\n",
      "data.columns"
     ],
     "language": "python",
     "metadata": {},
     "outputs": [
      {
       "metadata": {},
       "output_type": "pyout",
       "prompt_number": 3,
       "text": [
        "Index([u'assignee', u'body', u'closed_at', u'comments', u'comments_url', u'created_at', u'events_url', u'html_url', u'id', u'labels', u'labels_url', u'milestone', u'number', u'pull_request', u'state', u'title', u'updated_at', u'url', u'user'], dtype=object)"
       ]
      }
     ],
     "prompt_number": 3
    },
    {
     "cell_type": "code",
     "collapsed": false,
     "input": [
      "#Break it up into series, then I can populate my dataframe with them.\n",
      "s1 = data.created_at\n",
      "s2 = data.title\n",
      "s3 = data.labels\n",
      "s4 = data.closed_at\n",
      "s5 = data.user\n",
      "s6 = data.id\n",
      "s1 = pd.to_datetime(s1) #Convert the ``created_at`` column from string to datetime type.\n",
      "s4 = pd.to_datetime(s4) #Convert the  ``closed_at`` column from string to datetime type."
     ],
     "language": "python",
     "metadata": {},
     "outputs": [],
     "prompt_number": 4
    },
    {
     "cell_type": "code",
     "collapsed": false,
     "input": [
      "#make my dataframe\n",
      "df = pd.DataFrame({'Title': s2,'Created': s1,'Labels': s3, 'Closed':s4, 'User': s5, 'ID': s6})"
     ],
     "language": "python",
     "metadata": {},
     "outputs": [],
     "prompt_number": 5
    },
    {
     "cell_type": "code",
     "collapsed": false,
     "input": [
      "#look at it; this is my favorite part of pandas.\n",
      "df.head()"
     ],
     "language": "python",
     "metadata": {},
     "outputs": [
      {
       "html": [
        "<div style=\"max-height:1000px;max-width:1500px;overflow:auto;\">\n",
        "<table border=\"1\" class=\"dataframe\">\n",
        "  <thead>\n",
        "    <tr style=\"text-align: right;\">\n",
        "      <th></th>\n",
        "      <th>Closed</th>\n",
        "      <th>Created</th>\n",
        "      <th>ID</th>\n",
        "      <th>Labels</th>\n",
        "      <th>Title</th>\n",
        "      <th>User</th>\n",
        "    </tr>\n",
        "  </thead>\n",
        "  <tbody>\n",
        "    <tr>\n",
        "      <th>0</th>\n",
        "      <td>2011-02-19 23:13:48</td>\n",
        "      <td>2010-09-29 00:45:31</td>\n",
        "      <td> 337721</td>\n",
        "      <td> []</td>\n",
        "      <td> Enable element-wise comparison operations in D...</td>\n",
        "      <td> {u'following_url': u'https://api.github.com/us...</td>\n",
        "    </tr>\n",
        "    <tr>\n",
        "      <th>1</th>\n",
        "      <td>2011-02-19 23:13:48</td>\n",
        "      <td>2010-09-29 00:45:31</td>\n",
        "      <td> 337721</td>\n",
        "      <td> []</td>\n",
        "      <td> Enable element-wise comparison operations in D...</td>\n",
        "      <td> {u'following_url': u'https://api.github.com/us...</td>\n",
        "    </tr>\n",
        "    <tr>\n",
        "      <th>2</th>\n",
        "      <td>2010-12-17 02:57:33</td>\n",
        "      <td>2010-09-29 00:50:13</td>\n",
        "      <td> 337726</td>\n",
        "      <td> []</td>\n",
        "      <td>                             reindex_like function</td>\n",
        "      <td> {u'following_url': u'https://api.github.com/us...</td>\n",
        "    </tr>\n",
        "    <tr>\n",
        "      <th>3</th>\n",
        "      <td>2010-12-17 02:57:33</td>\n",
        "      <td>2010-09-29 00:50:13</td>\n",
        "      <td> 337726</td>\n",
        "      <td> []</td>\n",
        "      <td>                             reindex_like function</td>\n",
        "      <td> {u'following_url': u'https://api.github.com/us...</td>\n",
        "    </tr>\n",
        "    <tr>\n",
        "      <th>4</th>\n",
        "      <td>2011-01-01 23:50:12</td>\n",
        "      <td>2010-09-29 00:50:52</td>\n",
        "      <td> 337728</td>\n",
        "      <td> []</td>\n",
        "      <td>               Binary operations on int DataMatrix</td>\n",
        "      <td> {u'following_url': u'https://api.github.com/us...</td>\n",
        "    </tr>\n",
        "  </tbody>\n",
        "</table>\n",
        "</div>"
       ],
       "metadata": {},
       "output_type": "pyout",
       "prompt_number": 6,
       "text": [
        "               Closed             Created      ID Labels  \\\n",
        "0 2011-02-19 23:13:48 2010-09-29 00:45:31  337721     []   \n",
        "1 2011-02-19 23:13:48 2010-09-29 00:45:31  337721     []   \n",
        "2 2010-12-17 02:57:33 2010-09-29 00:50:13  337726     []   \n",
        "3 2010-12-17 02:57:33 2010-09-29 00:50:13  337726     []   \n",
        "4 2011-01-01 23:50:12 2010-09-29 00:50:52  337728     []   \n",
        "\n",
        "                                               Title  \\\n",
        "0  Enable element-wise comparison operations in D...   \n",
        "1  Enable element-wise comparison operations in D...   \n",
        "2                              reindex_like function   \n",
        "3                              reindex_like function   \n",
        "4                Binary operations on int DataMatrix   \n",
        "\n",
        "                                                User  \n",
        "0  {u'following_url': u'https://api.github.com/us...  \n",
        "1  {u'following_url': u'https://api.github.com/us...  \n",
        "2  {u'following_url': u'https://api.github.com/us...  \n",
        "3  {u'following_url': u'https://api.github.com/us...  \n",
        "4  {u'following_url': u'https://api.github.com/us...  "
       ]
      }
     ],
     "prompt_number": 6
    },
    {
     "cell_type": "heading",
     "level": 4,
     "metadata": {},
     "source": [
      "Transform the user values to be simply the 'login' string, so that the user\n",
      "column contains only string usernames."
     ]
    },
    {
     "cell_type": "code",
     "collapsed": false,
     "input": [
      "#loop through the users, just getting the string of the key \"login\" so that I can get usernames.\n",
      "users = []\n",
      "for x in data.user[:]:\n",
      "    x = x['login']\n",
      "    x = x.encode('ascii','ignore')\n",
      "    users.append(x)"
     ],
     "language": "python",
     "metadata": {},
     "outputs": [],
     "prompt_number": 7
    },
    {
     "cell_type": "code",
     "collapsed": false,
     "input": [
      "#make that a series\n",
      "User = pd.Series(users)"
     ],
     "language": "python",
     "metadata": {},
     "outputs": [],
     "prompt_number": 8
    },
    {
     "cell_type": "code",
     "collapsed": false,
     "input": [
      "#put it into a new dataframe\n",
      "df = pd.DataFrame({'Title': s2,'Created': s1,'Labels': s3, 'Closed':s4, 'User': User, 'ID': s6})"
     ],
     "language": "python",
     "metadata": {},
     "outputs": [],
     "prompt_number": 9
    },
    {
     "cell_type": "code",
     "collapsed": false,
     "input": [
      "#make sure it worked...\n",
      "df.head()"
     ],
     "language": "python",
     "metadata": {},
     "outputs": [
      {
       "html": [
        "<div style=\"max-height:1000px;max-width:1500px;overflow:auto;\">\n",
        "<table border=\"1\" class=\"dataframe\">\n",
        "  <thead>\n",
        "    <tr style=\"text-align: right;\">\n",
        "      <th></th>\n",
        "      <th>Closed</th>\n",
        "      <th>Created</th>\n",
        "      <th>ID</th>\n",
        "      <th>Labels</th>\n",
        "      <th>Title</th>\n",
        "      <th>User</th>\n",
        "    </tr>\n",
        "  </thead>\n",
        "  <tbody>\n",
        "    <tr>\n",
        "      <th>0</th>\n",
        "      <td>2011-02-19 23:13:48</td>\n",
        "      <td>2010-09-29 00:45:31</td>\n",
        "      <td> 337721</td>\n",
        "      <td> []</td>\n",
        "      <td> Enable element-wise comparison operations in D...</td>\n",
        "      <td> wesm</td>\n",
        "    </tr>\n",
        "    <tr>\n",
        "      <th>1</th>\n",
        "      <td>2011-02-19 23:13:48</td>\n",
        "      <td>2010-09-29 00:45:31</td>\n",
        "      <td> 337721</td>\n",
        "      <td> []</td>\n",
        "      <td> Enable element-wise comparison operations in D...</td>\n",
        "      <td> wesm</td>\n",
        "    </tr>\n",
        "    <tr>\n",
        "      <th>2</th>\n",
        "      <td>2010-12-17 02:57:33</td>\n",
        "      <td>2010-09-29 00:50:13</td>\n",
        "      <td> 337726</td>\n",
        "      <td> []</td>\n",
        "      <td>                             reindex_like function</td>\n",
        "      <td> wesm</td>\n",
        "    </tr>\n",
        "    <tr>\n",
        "      <th>3</th>\n",
        "      <td>2010-12-17 02:57:33</td>\n",
        "      <td>2010-09-29 00:50:13</td>\n",
        "      <td> 337726</td>\n",
        "      <td> []</td>\n",
        "      <td>                             reindex_like function</td>\n",
        "      <td> wesm</td>\n",
        "    </tr>\n",
        "    <tr>\n",
        "      <th>4</th>\n",
        "      <td>2011-01-01 23:50:12</td>\n",
        "      <td>2010-09-29 00:50:52</td>\n",
        "      <td> 337728</td>\n",
        "      <td> []</td>\n",
        "      <td>               Binary operations on int DataMatrix</td>\n",
        "      <td> wesm</td>\n",
        "    </tr>\n",
        "  </tbody>\n",
        "</table>\n",
        "</div>"
       ],
       "metadata": {},
       "output_type": "pyout",
       "prompt_number": 10,
       "text": [
        "               Closed             Created      ID Labels  \\\n",
        "0 2011-02-19 23:13:48 2010-09-29 00:45:31  337721     []   \n",
        "1 2011-02-19 23:13:48 2010-09-29 00:45:31  337721     []   \n",
        "2 2010-12-17 02:57:33 2010-09-29 00:50:13  337726     []   \n",
        "3 2010-12-17 02:57:33 2010-09-29 00:50:13  337726     []   \n",
        "4 2011-01-01 23:50:12 2010-09-29 00:50:52  337728     []   \n",
        "\n",
        "                                               Title  User  \n",
        "0  Enable element-wise comparison operations in D...  wesm  \n",
        "1  Enable element-wise comparison operations in D...  wesm  \n",
        "2                              reindex_like function  wesm  \n",
        "3                              reindex_like function  wesm  \n",
        "4                Binary operations on int DataMatrix  wesm  "
       ]
      }
     ],
     "prompt_number": 10
    },
    {
     "cell_type": "heading",
     "level": 4,
     "metadata": {},
     "source": [
      "Remove duplicate rows by id from the DataFrame you just created using the id\n",
      "column's duplicated method."
     ]
    },
    {
     "cell_type": "code",
     "collapsed": false,
     "input": [
      "#pandas makes this easy! \n",
      "df = df.drop_duplicates(cols='ID', take_last=True)\n",
      "df.head()"
     ],
     "language": "python",
     "metadata": {},
     "outputs": [
      {
       "html": [
        "<div style=\"max-height:1000px;max-width:1500px;overflow:auto;\">\n",
        "<table border=\"1\" class=\"dataframe\">\n",
        "  <thead>\n",
        "    <tr style=\"text-align: right;\">\n",
        "      <th></th>\n",
        "      <th>Closed</th>\n",
        "      <th>Created</th>\n",
        "      <th>ID</th>\n",
        "      <th>Labels</th>\n",
        "      <th>Title</th>\n",
        "      <th>User</th>\n",
        "    </tr>\n",
        "  </thead>\n",
        "  <tbody>\n",
        "    <tr>\n",
        "      <th>1</th>\n",
        "      <td>2011-02-19 23:13:48</td>\n",
        "      <td>2010-09-29 00:45:31</td>\n",
        "      <td> 337721</td>\n",
        "      <td> []</td>\n",
        "      <td> Enable element-wise comparison operations in D...</td>\n",
        "      <td> wesm</td>\n",
        "    </tr>\n",
        "    <tr>\n",
        "      <th>3</th>\n",
        "      <td>2010-12-17 02:57:33</td>\n",
        "      <td>2010-09-29 00:50:13</td>\n",
        "      <td> 337726</td>\n",
        "      <td> []</td>\n",
        "      <td>                             reindex_like function</td>\n",
        "      <td> wesm</td>\n",
        "    </tr>\n",
        "    <tr>\n",
        "      <th>5</th>\n",
        "      <td>2011-01-01 23:50:12</td>\n",
        "      <td>2010-09-29 00:50:52</td>\n",
        "      <td> 337728</td>\n",
        "      <td> []</td>\n",
        "      <td>               Binary operations on int DataMatrix</td>\n",
        "      <td> wesm</td>\n",
        "    </tr>\n",
        "    <tr>\n",
        "      <th>7</th>\n",
        "      <td>2010-12-11 06:14:32</td>\n",
        "      <td>2010-09-29 00:51:27</td>\n",
        "      <td> 337730</td>\n",
        "      <td> []</td>\n",
        "      <td> Plot keyword arguments are unused in DataFrame...</td>\n",
        "      <td> wesm</td>\n",
        "    </tr>\n",
        "    <tr>\n",
        "      <th>9</th>\n",
        "      <td>2010-12-17 02:46:34</td>\n",
        "      <td>2010-09-29 00:57:00</td>\n",
        "      <td> 337736</td>\n",
        "      <td> []</td>\n",
        "      <td>                                Python 2.7 testing</td>\n",
        "      <td> wesm</td>\n",
        "    </tr>\n",
        "  </tbody>\n",
        "</table>\n",
        "</div>"
       ],
       "metadata": {},
       "output_type": "pyout",
       "prompt_number": 12,
       "text": [
        "               Closed             Created      ID Labels  \\\n",
        "1 2011-02-19 23:13:48 2010-09-29 00:45:31  337721     []   \n",
        "3 2010-12-17 02:57:33 2010-09-29 00:50:13  337726     []   \n",
        "5 2011-01-01 23:50:12 2010-09-29 00:50:52  337728     []   \n",
        "7 2010-12-11 06:14:32 2010-09-29 00:51:27  337730     []   \n",
        "9 2010-12-17 02:46:34 2010-09-29 00:57:00  337736     []   \n",
        "\n",
        "                                               Title  User  \n",
        "1  Enable element-wise comparison operations in D...  wesm  \n",
        "3                              reindex_like function  wesm  \n",
        "5                Binary operations on int DataMatrix  wesm  \n",
        "7  Plot keyword arguments are unused in DataFrame...  wesm  \n",
        "9                                 Python 2.7 testing  wesm  "
       ]
      }
     ],
     "prompt_number": 12
    },
    {
     "cell_type": "heading",
     "level": 4,
     "metadata": {},
     "source": [
      "Convert the ``created_at`` column from string to datetime type. Convert the  ``closed_at`` column from string to datetime type."
     ]
    },
    {
     "cell_type": "code",
     "collapsed": false,
     "input": [
      "# I think I did this above. Let me check."
     ],
     "language": "python",
     "metadata": {},
     "outputs": [],
     "prompt_number": 13
    },
    {
     "cell_type": "code",
     "collapsed": false,
     "input": [
      "type(df.Closed.values[0])"
     ],
     "language": "python",
     "metadata": {},
     "outputs": [
      {
       "metadata": {},
       "output_type": "pyout",
       "prompt_number": 14,
       "text": [
        "numpy.datetime64"
       ]
      }
     ],
     "prompt_number": 14
    },
    {
     "cell_type": "code",
     "collapsed": false,
     "input": [
      "type(df.Created.values[0])"
     ],
     "language": "python",
     "metadata": {},
     "outputs": [
      {
       "metadata": {},
       "output_type": "pyout",
       "prompt_number": 15,
       "text": [
        "numpy.datetime64"
       ]
      }
     ],
     "prompt_number": 15
    },
    {
     "cell_type": "code",
     "collapsed": false,
     "input": [
      "# looks like I did! "
     ],
     "language": "python",
     "metadata": {},
     "outputs": [],
     "prompt_number": 16
    },
    {
     "cell_type": "heading",
     "level": 4,
     "metadata": {},
     "source": [
      "Now construct appropriate time series and pandas functions to make the following plots:"
     ]
    },
    {
     "cell_type": "heading",
     "level": 5,
     "metadata": {},
     "source": [
      "Number of issues created by month"
     ]
    },
    {
     "cell_type": "code",
     "collapsed": false,
     "input": [
      "#make the created column my index\n",
      "dfCreated = df.set_index('Created')"
     ],
     "language": "python",
     "metadata": {},
     "outputs": [],
     "prompt_number": 19
    },
    {
     "cell_type": "code",
     "collapsed": false,
     "input": [
      "#let's see what we got right now\n",
      "dfCreated.head()"
     ],
     "language": "python",
     "metadata": {},
     "outputs": [
      {
       "html": [
        "<div style=\"max-height:1000px;max-width:1500px;overflow:auto;\">\n",
        "<table border=\"1\" class=\"dataframe\">\n",
        "  <thead>\n",
        "    <tr style=\"text-align: right;\">\n",
        "      <th></th>\n",
        "      <th>Closed</th>\n",
        "      <th>ID</th>\n",
        "      <th>Labels</th>\n",
        "      <th>Title</th>\n",
        "      <th>User</th>\n",
        "    </tr>\n",
        "    <tr>\n",
        "      <th>Created</th>\n",
        "      <th></th>\n",
        "      <th></th>\n",
        "      <th></th>\n",
        "      <th></th>\n",
        "      <th></th>\n",
        "    </tr>\n",
        "  </thead>\n",
        "  <tbody>\n",
        "    <tr>\n",
        "      <th>2010-09-29 00:45:31</th>\n",
        "      <td>2011-02-19 23:13:48</td>\n",
        "      <td> 337721</td>\n",
        "      <td> []</td>\n",
        "      <td> Enable element-wise comparison operations in D...</td>\n",
        "      <td> wesm</td>\n",
        "    </tr>\n",
        "    <tr>\n",
        "      <th>2010-09-29 00:50:13</th>\n",
        "      <td>2010-12-17 02:57:33</td>\n",
        "      <td> 337726</td>\n",
        "      <td> []</td>\n",
        "      <td>                             reindex_like function</td>\n",
        "      <td> wesm</td>\n",
        "    </tr>\n",
        "    <tr>\n",
        "      <th>2010-09-29 00:50:52</th>\n",
        "      <td>2011-01-01 23:50:12</td>\n",
        "      <td> 337728</td>\n",
        "      <td> []</td>\n",
        "      <td>               Binary operations on int DataMatrix</td>\n",
        "      <td> wesm</td>\n",
        "    </tr>\n",
        "    <tr>\n",
        "      <th>2010-09-29 00:51:27</th>\n",
        "      <td>2010-12-11 06:14:32</td>\n",
        "      <td> 337730</td>\n",
        "      <td> []</td>\n",
        "      <td> Plot keyword arguments are unused in DataFrame...</td>\n",
        "      <td> wesm</td>\n",
        "    </tr>\n",
        "    <tr>\n",
        "      <th>2010-09-29 00:57:00</th>\n",
        "      <td>2010-12-17 02:46:34</td>\n",
        "      <td> 337736</td>\n",
        "      <td> []</td>\n",
        "      <td>                                Python 2.7 testing</td>\n",
        "      <td> wesm</td>\n",
        "    </tr>\n",
        "  </tbody>\n",
        "</table>\n",
        "</div>"
       ],
       "metadata": {},
       "output_type": "pyout",
       "prompt_number": 20,
       "text": [
        "                                 Closed      ID Labels  \\\n",
        "Created                                                  \n",
        "2010-09-29 00:45:31 2011-02-19 23:13:48  337721     []   \n",
        "2010-09-29 00:50:13 2010-12-17 02:57:33  337726     []   \n",
        "2010-09-29 00:50:52 2011-01-01 23:50:12  337728     []   \n",
        "2010-09-29 00:51:27 2010-12-11 06:14:32  337730     []   \n",
        "2010-09-29 00:57:00 2010-12-17 02:46:34  337736     []   \n",
        "\n",
        "                                                                 Title  User  \n",
        "Created                                                                       \n",
        "2010-09-29 00:45:31  Enable element-wise comparison operations in D...  wesm  \n",
        "2010-09-29 00:50:13                              reindex_like function  wesm  \n",
        "2010-09-29 00:50:52                Binary operations on int DataMatrix  wesm  \n",
        "2010-09-29 00:51:27  Plot keyword arguments are unused in DataFrame...  wesm  \n",
        "2010-09-29 00:57:00                                 Python 2.7 testing  wesm  "
       ]
      }
     ],
     "prompt_number": 20
    },
    {
     "cell_type": "code",
     "collapsed": false,
     "input": [
      "#resample based on number of unique titles, by month, pad missing values,\n",
      "dfCreated.Title.resample('M', how='nunique',fill_method='pad').head(10)"
     ],
     "language": "python",
     "metadata": {},
     "outputs": [
      {
       "metadata": {},
       "output_type": "pyout",
       "prompt_number": 22,
       "text": [
        "Created\n",
        "2010-09-30    11\n",
        "2010-10-31     8\n",
        "2010-11-30     2\n",
        "2010-12-31     4\n",
        "2011-01-31     9\n",
        "2011-02-28     2\n",
        "2011-03-31     2\n",
        "2011-04-30     0\n",
        "2011-05-31     7\n",
        "2011-06-30     9\n",
        "dtype: int64"
       ]
      }
     ],
     "prompt_number": 22
    },
    {
     "cell_type": "code",
     "collapsed": false,
     "input": [
      "#plot\n",
      "dfCreated.Title.resample('M', how='nunique',fill_method='pad').plot(label = 'Issues')\n",
      "plt.suptitle('Number of Issues Created By Month')\n",
      "plt.ylabel('Number of issues')\n",
      "plt.xlabel('')\n",
      "plt.legend()\n",
      "plt.show()"
     ],
     "language": "python",
     "metadata": {},
     "outputs": [],
     "prompt_number": 24
    },
    {
     "cell_type": "heading",
     "level": 5,
     "metadata": {},
     "source": [
      "Number of distinct users creating issues each month (hint: you can pass a function to resample's how argument, and there's nothing wrong with having string values in a TimeSeries)"
     ]
    },
    {
     "cell_type": "code",
     "collapsed": false,
     "input": [
      "#do the same thing, but with number of unique users, not titles \n",
      "dfCreated.User.resample('M', how='nunique').head(10)"
     ],
     "language": "python",
     "metadata": {},
     "outputs": [
      {
       "metadata": {},
       "output_type": "pyout",
       "prompt_number": 26,
       "text": [
        "Created\n",
        "2010-09-30    2\n",
        "2010-10-31    3\n",
        "2010-11-30    2\n",
        "2010-12-31    3\n",
        "2011-01-31    5\n",
        "2011-02-28    2\n",
        "2011-03-31    1\n",
        "2011-04-30    0\n",
        "2011-05-31    3\n",
        "2011-06-30    3\n",
        "dtype: int64"
       ]
      }
     ],
     "prompt_number": 26
    },
    {
     "cell_type": "code",
     "collapsed": false,
     "input": [
      "#plot\n",
      "dfCreated.User.resample('M', how='nunique').plot(label='Distinct Users')\n",
      "plt.suptitle('Number of Distinct Users Creating Issues Each Month')\n",
      "plt.ylabel('Number of users creating issues')\n",
      "plt.xlabel('')\n",
      "plt.legend(loc='upper left')\n",
      "plt.show()"
     ],
     "language": "python",
     "metadata": {},
     "outputs": [],
     "prompt_number": 30
    },
    {
     "cell_type": "heading",
     "level": 4,
     "metadata": {},
     "source": [
      "Make a table and an accompanying plot illustrating:\n",
      "\n",
      "- The mean number of days it took for issues to be closed by the month they\n",
      "  were opened. In other words, for closed issues created in August 2012, how\n",
      "  long were they open on average? (hint: use the ``total_seconds`` function on the\n",
      "  timedelta objects computed when subtracting datetime objects). "
     ]
    },
    {
     "cell_type": "code",
     "collapsed": false,
     "input": [
      "#here is what we have right now, using original dataframe\n",
      "df.head()"
     ],
     "language": "python",
     "metadata": {},
     "outputs": [
      {
       "html": [
        "<div style=\"max-height:1000px;max-width:1500px;overflow:auto;\">\n",
        "<table border=\"1\" class=\"dataframe\">\n",
        "  <thead>\n",
        "    <tr style=\"text-align: right;\">\n",
        "      <th></th>\n",
        "      <th>Closed</th>\n",
        "      <th>Created</th>\n",
        "      <th>ID</th>\n",
        "      <th>Labels</th>\n",
        "      <th>Title</th>\n",
        "      <th>User</th>\n",
        "    </tr>\n",
        "  </thead>\n",
        "  <tbody>\n",
        "    <tr>\n",
        "      <th>1</th>\n",
        "      <td>2011-02-19 23:13:48</td>\n",
        "      <td>2010-09-29 00:45:31</td>\n",
        "      <td> 337721</td>\n",
        "      <td> []</td>\n",
        "      <td> Enable element-wise comparison operations in D...</td>\n",
        "      <td> wesm</td>\n",
        "    </tr>\n",
        "    <tr>\n",
        "      <th>3</th>\n",
        "      <td>2010-12-17 02:57:33</td>\n",
        "      <td>2010-09-29 00:50:13</td>\n",
        "      <td> 337726</td>\n",
        "      <td> []</td>\n",
        "      <td>                             reindex_like function</td>\n",
        "      <td> wesm</td>\n",
        "    </tr>\n",
        "    <tr>\n",
        "      <th>5</th>\n",
        "      <td>2011-01-01 23:50:12</td>\n",
        "      <td>2010-09-29 00:50:52</td>\n",
        "      <td> 337728</td>\n",
        "      <td> []</td>\n",
        "      <td>               Binary operations on int DataMatrix</td>\n",
        "      <td> wesm</td>\n",
        "    </tr>\n",
        "    <tr>\n",
        "      <th>7</th>\n",
        "      <td>2010-12-11 06:14:32</td>\n",
        "      <td>2010-09-29 00:51:27</td>\n",
        "      <td> 337730</td>\n",
        "      <td> []</td>\n",
        "      <td> Plot keyword arguments are unused in DataFrame...</td>\n",
        "      <td> wesm</td>\n",
        "    </tr>\n",
        "    <tr>\n",
        "      <th>9</th>\n",
        "      <td>2010-12-17 02:46:34</td>\n",
        "      <td>2010-09-29 00:57:00</td>\n",
        "      <td> 337736</td>\n",
        "      <td> []</td>\n",
        "      <td>                                Python 2.7 testing</td>\n",
        "      <td> wesm</td>\n",
        "    </tr>\n",
        "  </tbody>\n",
        "</table>\n",
        "</div>"
       ],
       "metadata": {},
       "output_type": "pyout",
       "prompt_number": 31,
       "text": [
        "               Closed             Created      ID Labels  \\\n",
        "1 2011-02-19 23:13:48 2010-09-29 00:45:31  337721     []   \n",
        "3 2010-12-17 02:57:33 2010-09-29 00:50:13  337726     []   \n",
        "5 2011-01-01 23:50:12 2010-09-29 00:50:52  337728     []   \n",
        "7 2010-12-11 06:14:32 2010-09-29 00:51:27  337730     []   \n",
        "9 2010-12-17 02:46:34 2010-09-29 00:57:00  337736     []   \n",
        "\n",
        "                                               Title  User  \n",
        "1  Enable element-wise comparison operations in D...  wesm  \n",
        "3                              reindex_like function  wesm  \n",
        "5                Binary operations on int DataMatrix  wesm  \n",
        "7  Plot keyword arguments are unused in DataFrame...  wesm  \n",
        "9                                 Python 2.7 testing  wesm  "
       ]
      }
     ],
     "prompt_number": 31
    },
    {
     "cell_type": "code",
     "collapsed": false,
     "input": [
      "#use datetimes to get a day difference column\n",
      "import datetime as datetime\n",
      "s7 = []\n",
      "for i in range(len(df.Closed)):\n",
      "    z = (df.Closed.values[i] - df.Created.values[i])\n",
      "    z = z / 1000000000 #nanos to seconds\n",
      "    z = z / 60 #seconds to minutes \n",
      "    z = z / 60 #minutes to hours\n",
      "    z = z / 24 #hours to days\n",
      "    s7.append(z)\n",
      "df['DayDiff'] = s7\n",
      "df.head()"
     ],
     "language": "python",
     "metadata": {},
     "outputs": [
      {
       "html": [
        "<div style=\"max-height:1000px;max-width:1500px;overflow:auto;\">\n",
        "<table border=\"1\" class=\"dataframe\">\n",
        "  <thead>\n",
        "    <tr style=\"text-align: right;\">\n",
        "      <th></th>\n",
        "      <th>Closed</th>\n",
        "      <th>Created</th>\n",
        "      <th>ID</th>\n",
        "      <th>Labels</th>\n",
        "      <th>Title</th>\n",
        "      <th>User</th>\n",
        "      <th>DayDiff</th>\n",
        "    </tr>\n",
        "  </thead>\n",
        "  <tbody>\n",
        "    <tr>\n",
        "      <th>1</th>\n",
        "      <td>2011-02-19 23:13:48</td>\n",
        "      <td>2010-09-29 00:45:31</td>\n",
        "      <td> 337721</td>\n",
        "      <td> []</td>\n",
        "      <td> Enable element-wise comparison operations in D...</td>\n",
        "      <td> wesm</td>\n",
        "      <td> 143</td>\n",
        "    </tr>\n",
        "    <tr>\n",
        "      <th>3</th>\n",
        "      <td>2010-12-17 02:57:33</td>\n",
        "      <td>2010-09-29 00:50:13</td>\n",
        "      <td> 337726</td>\n",
        "      <td> []</td>\n",
        "      <td>                             reindex_like function</td>\n",
        "      <td> wesm</td>\n",
        "      <td>  79</td>\n",
        "    </tr>\n",
        "    <tr>\n",
        "      <th>5</th>\n",
        "      <td>2011-01-01 23:50:12</td>\n",
        "      <td>2010-09-29 00:50:52</td>\n",
        "      <td> 337728</td>\n",
        "      <td> []</td>\n",
        "      <td>               Binary operations on int DataMatrix</td>\n",
        "      <td> wesm</td>\n",
        "      <td>  94</td>\n",
        "    </tr>\n",
        "    <tr>\n",
        "      <th>7</th>\n",
        "      <td>2010-12-11 06:14:32</td>\n",
        "      <td>2010-09-29 00:51:27</td>\n",
        "      <td> 337730</td>\n",
        "      <td> []</td>\n",
        "      <td> Plot keyword arguments are unused in DataFrame...</td>\n",
        "      <td> wesm</td>\n",
        "      <td>  73</td>\n",
        "    </tr>\n",
        "    <tr>\n",
        "      <th>9</th>\n",
        "      <td>2010-12-17 02:46:34</td>\n",
        "      <td>2010-09-29 00:57:00</td>\n",
        "      <td> 337736</td>\n",
        "      <td> []</td>\n",
        "      <td>                                Python 2.7 testing</td>\n",
        "      <td> wesm</td>\n",
        "      <td>  79</td>\n",
        "    </tr>\n",
        "  </tbody>\n",
        "</table>\n",
        "</div>"
       ],
       "metadata": {},
       "output_type": "pyout",
       "prompt_number": 32,
       "text": [
        "               Closed             Created      ID Labels  \\\n",
        "1 2011-02-19 23:13:48 2010-09-29 00:45:31  337721     []   \n",
        "3 2010-12-17 02:57:33 2010-09-29 00:50:13  337726     []   \n",
        "5 2011-01-01 23:50:12 2010-09-29 00:50:52  337728     []   \n",
        "7 2010-12-11 06:14:32 2010-09-29 00:51:27  337730     []   \n",
        "9 2010-12-17 02:46:34 2010-09-29 00:57:00  337736     []   \n",
        "\n",
        "                                               Title  User  DayDiff  \n",
        "1  Enable element-wise comparison operations in D...  wesm      143  \n",
        "3                              reindex_like function  wesm       79  \n",
        "5                Binary operations on int DataMatrix  wesm       94  \n",
        "7  Plot keyword arguments are unused in DataFrame...  wesm       73  \n",
        "9                                 Python 2.7 testing  wesm       79  "
       ]
      }
     ],
     "prompt_number": 32
    },
    {
     "cell_type": "code",
     "collapsed": false,
     "input": [
      "#okay, pretty sure that is in days...\n",
      "#make closed my index, since that's the timepoint we care most about--when the issue was closed.\n",
      "dfClosed = df.set_index('Closed')\n",
      "dfClosed.head()"
     ],
     "language": "python",
     "metadata": {},
     "outputs": [
      {
       "html": [
        "<div style=\"max-height:1000px;max-width:1500px;overflow:auto;\">\n",
        "<table border=\"1\" class=\"dataframe\">\n",
        "  <thead>\n",
        "    <tr style=\"text-align: right;\">\n",
        "      <th></th>\n",
        "      <th>Created</th>\n",
        "      <th>ID</th>\n",
        "      <th>Labels</th>\n",
        "      <th>Title</th>\n",
        "      <th>User</th>\n",
        "      <th>DayDiff</th>\n",
        "    </tr>\n",
        "    <tr>\n",
        "      <th>Closed</th>\n",
        "      <th></th>\n",
        "      <th></th>\n",
        "      <th></th>\n",
        "      <th></th>\n",
        "      <th></th>\n",
        "      <th></th>\n",
        "    </tr>\n",
        "  </thead>\n",
        "  <tbody>\n",
        "    <tr>\n",
        "      <th>2011-02-19 23:13:48</th>\n",
        "      <td>2010-09-29 00:45:31</td>\n",
        "      <td> 337721</td>\n",
        "      <td> []</td>\n",
        "      <td> Enable element-wise comparison operations in D...</td>\n",
        "      <td> wesm</td>\n",
        "      <td> 143</td>\n",
        "    </tr>\n",
        "    <tr>\n",
        "      <th>2010-12-17 02:57:33</th>\n",
        "      <td>2010-09-29 00:50:13</td>\n",
        "      <td> 337726</td>\n",
        "      <td> []</td>\n",
        "      <td>                             reindex_like function</td>\n",
        "      <td> wesm</td>\n",
        "      <td>  79</td>\n",
        "    </tr>\n",
        "    <tr>\n",
        "      <th>2011-01-01 23:50:12</th>\n",
        "      <td>2010-09-29 00:50:52</td>\n",
        "      <td> 337728</td>\n",
        "      <td> []</td>\n",
        "      <td>               Binary operations on int DataMatrix</td>\n",
        "      <td> wesm</td>\n",
        "      <td>  94</td>\n",
        "    </tr>\n",
        "    <tr>\n",
        "      <th>2010-12-11 06:14:32</th>\n",
        "      <td>2010-09-29 00:51:27</td>\n",
        "      <td> 337730</td>\n",
        "      <td> []</td>\n",
        "      <td> Plot keyword arguments are unused in DataFrame...</td>\n",
        "      <td> wesm</td>\n",
        "      <td>  73</td>\n",
        "    </tr>\n",
        "    <tr>\n",
        "      <th>2010-12-17 02:46:34</th>\n",
        "      <td>2010-09-29 00:57:00</td>\n",
        "      <td> 337736</td>\n",
        "      <td> []</td>\n",
        "      <td>                                Python 2.7 testing</td>\n",
        "      <td> wesm</td>\n",
        "      <td>  79</td>\n",
        "    </tr>\n",
        "  </tbody>\n",
        "</table>\n",
        "</div>"
       ],
       "metadata": {},
       "output_type": "pyout",
       "prompt_number": 33,
       "text": [
        "                                Created      ID Labels  \\\n",
        "Closed                                                   \n",
        "2011-02-19 23:13:48 2010-09-29 00:45:31  337721     []   \n",
        "2010-12-17 02:57:33 2010-09-29 00:50:13  337726     []   \n",
        "2011-01-01 23:50:12 2010-09-29 00:50:52  337728     []   \n",
        "2010-12-11 06:14:32 2010-09-29 00:51:27  337730     []   \n",
        "2010-12-17 02:46:34 2010-09-29 00:57:00  337736     []   \n",
        "\n",
        "                                                                 Title  User  \\\n",
        "Closed                                                                         \n",
        "2011-02-19 23:13:48  Enable element-wise comparison operations in D...  wesm   \n",
        "2010-12-17 02:57:33                              reindex_like function  wesm   \n",
        "2011-01-01 23:50:12                Binary operations on int DataMatrix  wesm   \n",
        "2010-12-11 06:14:32  Plot keyword arguments are unused in DataFrame...  wesm   \n",
        "2010-12-17 02:46:34                                 Python 2.7 testing  wesm   \n",
        "\n",
        "                     DayDiff  \n",
        "Closed                        \n",
        "2011-02-19 23:13:48      143  \n",
        "2010-12-17 02:57:33       79  \n",
        "2011-01-01 23:50:12       94  \n",
        "2010-12-11 06:14:32       73  \n",
        "2010-12-17 02:46:34       79  "
       ]
      }
     ],
     "prompt_number": 33
    },
    {
     "cell_type": "code",
     "collapsed": false,
     "input": [
      "#resample by month and take mean of DayDiff column.\n",
      "dfClosed.DayDiff.resample('M', how='mean',fill_method='pad').head(10)"
     ],
     "language": "python",
     "metadata": {},
     "outputs": [
      {
       "metadata": {},
       "output_type": "pyout",
       "prompt_number": 35,
       "text": [
        "Closed\n",
        "2010-11-30     0.000000\n",
        "2010-12-31    48.272727\n",
        "2011-01-31    33.833333\n",
        "2011-02-28    69.500000\n",
        "2011-03-31     5.333333\n",
        "2011-04-30     5.333333\n",
        "2011-05-31    86.000000\n",
        "2011-06-30    76.647059\n",
        "2011-07-31    21.071429\n",
        "2011-08-31     5.214286\n",
        "Freq: M, dtype: float64"
       ]
      }
     ],
     "prompt_number": 35
    },
    {
     "cell_type": "code",
     "collapsed": false,
     "input": [
      "#plot it! \n",
      "dfClosed.DayDiff.resample('M', how='mean',fill_method='pad').plot(label='Mean Time Lag')\n",
      "plt.suptitle('Mean number of days for issues to be closed by the month')\n",
      "plt.ylabel('Number days to resolve issues')\n",
      "plt.xlabel('')\n",
      "plt.legend()\n",
      "plt.show()"
     ],
     "language": "python",
     "metadata": {},
     "outputs": [],
     "prompt_number": 38
    },
    {
     "cell_type": "heading",
     "level": 5,
     "metadata": {},
     "source": [
      "Also show the number of issues in each month in the table."
     ]
    },
    {
     "cell_type": "code",
     "collapsed": false,
     "input": [
      "#resample by month and take mean of DayDiff column.\n",
      "dfClosed.Title.resample('M', how='nunique',fill_method='pad').head(10)"
     ],
     "language": "python",
     "metadata": {},
     "outputs": [
      {
       "metadata": {},
       "output_type": "pyout",
       "prompt_number": 39,
       "text": [
        "Closed\n",
        "2010-11-30     1\n",
        "2010-12-31    11\n",
        "2011-01-31     6\n",
        "2011-02-28     8\n",
        "2011-03-31     3\n",
        "2011-04-30     0\n",
        "2011-05-31     3\n",
        "2011-06-30    17\n",
        "2011-07-31    14\n",
        "2011-08-31    14\n",
        "dtype: int64"
       ]
      }
     ],
     "prompt_number": 39
    },
    {
     "cell_type": "code",
     "collapsed": false,
     "input": [
      "dfClosed.Title.resample('M', how='nunique',fill_method='pad').plot(label='Number of Issues')\n",
      "dfClosed.DayDiff.resample('M', how='mean',fill_method='pad').plot(label='Mean Time Lag')\n",
      "plt.suptitle('Mean number of days for issues to be closed | Number of Issues ')\n",
      "plt.ylabel('Number days to resolve issues | Number of Issues')\n",
      "plt.xlabel('')\n",
      "plt.legend()\n",
      "plt.show()"
     ],
     "language": "python",
     "metadata": {},
     "outputs": [],
     "prompt_number": 80
    },
    {
     "cell_type": "heading",
     "level": 4,
     "metadata": {},
     "source": [
      "Make a DataFrame containing all the comments for all of the issues. You will\n",
      "want to add an ``id`` attribute to each comment while doing so so that each row\n",
      "contains a single comment and has the id of the issue it belongs to.\n",
      "\n",
      "Convert the ``created`` column to datetime format; note you will need to multiply\n",
      "the values (appropriately converted to integers) by 1000000 to get them in\n",
      "nanoseconds and pass to to_datetime."
     ]
    },
    {
     "cell_type": "code",
     "collapsed": false,
     "input": [
      "#get all the comments\n",
      "#here I made the ID the same as it is in the original data so I have an easy way to merge the tables.\n",
      "comments = []\n",
      "IDs = []\n",
      "for i, ID in zip(data.comments.values, dfCreated.ID.values):\n",
      "    if i:\n",
      "        comment = i[0]['text']\n",
      "        comment = comment.encode('ascii','ignore')\n",
      "        comments.append(comment)\n",
      "        ID = int(ID)\n",
      "        IDs.append(ID)"
     ],
     "language": "python",
     "metadata": {},
     "outputs": [],
     "prompt_number": 81
    },
    {
     "cell_type": "code",
     "collapsed": false,
     "input": [
      "#sanity check\n",
      "len(IDs), len(comments)"
     ],
     "language": "python",
     "metadata": {},
     "outputs": [
      {
       "metadata": {},
       "output_type": "pyout",
       "prompt_number": 82,
       "text": [
        "(2019, 2019)"
       ]
      }
     ],
     "prompt_number": 82
    },
    {
     "cell_type": "code",
     "collapsed": false,
     "input": [
      "dftomerge = pd.DataFrame({'Comments': comments, 'ID': IDs,})"
     ],
     "language": "python",
     "metadata": {},
     "outputs": [],
     "prompt_number": 83
    },
    {
     "cell_type": "code",
     "collapsed": false,
     "input": [
      "dfmerged = pd.merge(df,dftomerge, on='ID', how='inner') #doing outer messes things up.\n",
      "dfmerged.head()"
     ],
     "language": "python",
     "metadata": {},
     "outputs": [
      {
       "html": [
        "<div style=\"max-height:1000px;max-width:1500px;overflow:auto;\">\n",
        "<table border=\"1\" class=\"dataframe\">\n",
        "  <thead>\n",
        "    <tr style=\"text-align: right;\">\n",
        "      <th></th>\n",
        "      <th>Closed</th>\n",
        "      <th>Created</th>\n",
        "      <th>ID</th>\n",
        "      <th>Labels</th>\n",
        "      <th>Title</th>\n",
        "      <th>User</th>\n",
        "      <th>DayDiff</th>\n",
        "      <th>Comments</th>\n",
        "    </tr>\n",
        "  </thead>\n",
        "  <tbody>\n",
        "    <tr>\n",
        "      <th>0</th>\n",
        "      <td>2011-02-19 23:13:48</td>\n",
        "      <td>2010-09-29 00:45:31</td>\n",
        "      <td> 337721</td>\n",
        "      <td> []</td>\n",
        "      <td> Enable element-wise comparison operations in D...</td>\n",
        "      <td> wesm</td>\n",
        "      <td> 143</td>\n",
        "      <td>                           implemented in git HEAD</td>\n",
        "    </tr>\n",
        "    <tr>\n",
        "      <th>1</th>\n",
        "      <td>2010-12-17 02:57:33</td>\n",
        "      <td>2010-09-29 00:50:13</td>\n",
        "      <td> 337726</td>\n",
        "      <td> []</td>\n",
        "      <td>                             reindex_like function</td>\n",
        "      <td> wesm</td>\n",
        "      <td>  79</td>\n",
        "      <td>                           implemented in git HEAD</td>\n",
        "    </tr>\n",
        "    <tr>\n",
        "      <th>2</th>\n",
        "      <td>2011-01-01 23:50:12</td>\n",
        "      <td>2010-09-29 00:50:52</td>\n",
        "      <td> 337728</td>\n",
        "      <td> []</td>\n",
        "      <td>               Binary operations on int DataMatrix</td>\n",
        "      <td> wesm</td>\n",
        "      <td>  94</td>\n",
        "      <td>                                              done</td>\n",
        "    </tr>\n",
        "    <tr>\n",
        "      <th>3</th>\n",
        "      <td>2010-12-11 06:14:32</td>\n",
        "      <td>2010-09-29 00:51:27</td>\n",
        "      <td> 337730</td>\n",
        "      <td> []</td>\n",
        "      <td> Plot keyword arguments are unused in DataFrame...</td>\n",
        "      <td> wesm</td>\n",
        "      <td>  73</td>\n",
        "      <td>                                              done</td>\n",
        "    </tr>\n",
        "    <tr>\n",
        "      <th>4</th>\n",
        "      <td>2010-12-17 02:46:34</td>\n",
        "      <td>2010-09-29 00:57:00</td>\n",
        "      <td> 337736</td>\n",
        "      <td> []</td>\n",
        "      <td>                                Python 2.7 testing</td>\n",
        "      <td> wesm</td>\n",
        "      <td>  79</td>\n",
        "      <td> I guess I &amp;quot;accidentally&amp;quot; fixed this ...</td>\n",
        "    </tr>\n",
        "  </tbody>\n",
        "</table>\n",
        "</div>"
       ],
       "metadata": {},
       "output_type": "pyout",
       "prompt_number": 84,
       "text": [
        "               Closed             Created      ID Labels  \\\n",
        "0 2011-02-19 23:13:48 2010-09-29 00:45:31  337721     []   \n",
        "1 2010-12-17 02:57:33 2010-09-29 00:50:13  337726     []   \n",
        "2 2011-01-01 23:50:12 2010-09-29 00:50:52  337728     []   \n",
        "3 2010-12-11 06:14:32 2010-09-29 00:51:27  337730     []   \n",
        "4 2010-12-17 02:46:34 2010-09-29 00:57:00  337736     []   \n",
        "\n",
        "                                               Title  User  DayDiff  \\\n",
        "0  Enable element-wise comparison operations in D...  wesm      143   \n",
        "1                              reindex_like function  wesm       79   \n",
        "2                Binary operations on int DataMatrix  wesm       94   \n",
        "3  Plot keyword arguments are unused in DataFrame...  wesm       73   \n",
        "4                                 Python 2.7 testing  wesm       79   \n",
        "\n",
        "                                            Comments  \n",
        "0                            implemented in git HEAD  \n",
        "1                            implemented in git HEAD  \n",
        "2                                               done  \n",
        "3                                               done  \n",
        "4  I guess I &quot;accidentally&quot; fixed this ...  "
       ]
      }
     ],
     "prompt_number": 84
    },
    {
     "cell_type": "code",
     "collapsed": false,
     "input": [
      "type(dfmerged.Closed.values[0]) #make sure I still have datetimes types "
     ],
     "language": "python",
     "metadata": {},
     "outputs": [
      {
       "metadata": {},
       "output_type": "pyout",
       "prompt_number": 85,
       "text": [
        "numpy.datetime64"
       ]
      }
     ],
     "prompt_number": 85
    },
    {
     "cell_type": "code",
     "collapsed": false,
     "input": [
      "#make the 'created' column the index.\n",
      "dfmerged = dfmerged.set_index('Created')\n",
      "dfmerged.head()"
     ],
     "language": "python",
     "metadata": {},
     "outputs": [
      {
       "html": [
        "<div style=\"max-height:1000px;max-width:1500px;overflow:auto;\">\n",
        "<table border=\"1\" class=\"dataframe\">\n",
        "  <thead>\n",
        "    <tr style=\"text-align: right;\">\n",
        "      <th></th>\n",
        "      <th>Closed</th>\n",
        "      <th>ID</th>\n",
        "      <th>Labels</th>\n",
        "      <th>Title</th>\n",
        "      <th>User</th>\n",
        "      <th>DayDiff</th>\n",
        "      <th>Comments</th>\n",
        "    </tr>\n",
        "    <tr>\n",
        "      <th>Created</th>\n",
        "      <th></th>\n",
        "      <th></th>\n",
        "      <th></th>\n",
        "      <th></th>\n",
        "      <th></th>\n",
        "      <th></th>\n",
        "      <th></th>\n",
        "    </tr>\n",
        "  </thead>\n",
        "  <tbody>\n",
        "    <tr>\n",
        "      <th>2010-09-29 00:45:31</th>\n",
        "      <td>2011-02-19 23:13:48</td>\n",
        "      <td> 337721</td>\n",
        "      <td> []</td>\n",
        "      <td> Enable element-wise comparison operations in D...</td>\n",
        "      <td> wesm</td>\n",
        "      <td> 143</td>\n",
        "      <td>                           implemented in git HEAD</td>\n",
        "    </tr>\n",
        "    <tr>\n",
        "      <th>2010-09-29 00:50:13</th>\n",
        "      <td>2010-12-17 02:57:33</td>\n",
        "      <td> 337726</td>\n",
        "      <td> []</td>\n",
        "      <td>                             reindex_like function</td>\n",
        "      <td> wesm</td>\n",
        "      <td>  79</td>\n",
        "      <td>                           implemented in git HEAD</td>\n",
        "    </tr>\n",
        "    <tr>\n",
        "      <th>2010-09-29 00:50:52</th>\n",
        "      <td>2011-01-01 23:50:12</td>\n",
        "      <td> 337728</td>\n",
        "      <td> []</td>\n",
        "      <td>               Binary operations on int DataMatrix</td>\n",
        "      <td> wesm</td>\n",
        "      <td>  94</td>\n",
        "      <td>                                              done</td>\n",
        "    </tr>\n",
        "    <tr>\n",
        "      <th>2010-09-29 00:51:27</th>\n",
        "      <td>2010-12-11 06:14:32</td>\n",
        "      <td> 337730</td>\n",
        "      <td> []</td>\n",
        "      <td> Plot keyword arguments are unused in DataFrame...</td>\n",
        "      <td> wesm</td>\n",
        "      <td>  73</td>\n",
        "      <td>                                              done</td>\n",
        "    </tr>\n",
        "    <tr>\n",
        "      <th>2010-09-29 00:57:00</th>\n",
        "      <td>2010-12-17 02:46:34</td>\n",
        "      <td> 337736</td>\n",
        "      <td> []</td>\n",
        "      <td>                                Python 2.7 testing</td>\n",
        "      <td> wesm</td>\n",
        "      <td>  79</td>\n",
        "      <td> I guess I &amp;quot;accidentally&amp;quot; fixed this ...</td>\n",
        "    </tr>\n",
        "  </tbody>\n",
        "</table>\n",
        "</div>"
       ],
       "metadata": {},
       "output_type": "pyout",
       "prompt_number": 86,
       "text": [
        "                                 Closed      ID Labels  \\\n",
        "Created                                                  \n",
        "2010-09-29 00:45:31 2011-02-19 23:13:48  337721     []   \n",
        "2010-09-29 00:50:13 2010-12-17 02:57:33  337726     []   \n",
        "2010-09-29 00:50:52 2011-01-01 23:50:12  337728     []   \n",
        "2010-09-29 00:51:27 2010-12-11 06:14:32  337730     []   \n",
        "2010-09-29 00:57:00 2010-12-17 02:46:34  337736     []   \n",
        "\n",
        "                                                                 Title  User  \\\n",
        "Created                                                                        \n",
        "2010-09-29 00:45:31  Enable element-wise comparison operations in D...  wesm   \n",
        "2010-09-29 00:50:13                              reindex_like function  wesm   \n",
        "2010-09-29 00:50:52                Binary operations on int DataMatrix  wesm   \n",
        "2010-09-29 00:51:27  Plot keyword arguments are unused in DataFrame...  wesm   \n",
        "2010-09-29 00:57:00                                 Python 2.7 testing  wesm   \n",
        "\n",
        "                     DayDiff  \\\n",
        "Created                        \n",
        "2010-09-29 00:45:31      143   \n",
        "2010-09-29 00:50:13       79   \n",
        "2010-09-29 00:50:52       94   \n",
        "2010-09-29 00:51:27       73   \n",
        "2010-09-29 00:57:00       79   \n",
        "\n",
        "                                                              Comments  \n",
        "Created                                                                 \n",
        "2010-09-29 00:45:31                            implemented in git HEAD  \n",
        "2010-09-29 00:50:13                            implemented in git HEAD  \n",
        "2010-09-29 00:50:52                                               done  \n",
        "2010-09-29 00:51:27                                               done  \n",
        "2010-09-29 00:57:00  I guess I &quot;accidentally&quot; fixed this ...  "
       ]
      }
     ],
     "prompt_number": 86
    },
    {
     "cell_type": "heading",
     "level": 4,
     "metadata": {},
     "source": [
      "For each month, compute a table summarizing the following for each month:\n",
      "\n",
      "\n",
      "\n"
     ]
    },
    {
     "cell_type": "heading",
     "level": 5,
     "metadata": {},
     "source": [
      "- Total number of issue comments"
     ]
    },
    {
     "cell_type": "code",
     "collapsed": false,
     "input": [
      "#resample, get number of unique comments per month\n",
      "dfmerged.Comments.resample('M', how='nunique',fill_method='pad').plot()\n",
      "plt.suptitle('Total Number of Issue Comments')\n",
      "plt.ylabel('Total Number of Comments')\n",
      "plt.xlabel('')\n",
      "plt.show()"
     ],
     "language": "python",
     "metadata": {},
     "outputs": [],
     "prompt_number": 87
    },
    {
     "cell_type": "code",
     "collapsed": false,
     "input": [
      "dfmerged.Comments.resample('M', how='nunique',fill_method='pad').head(10)"
     ],
     "language": "python",
     "metadata": {},
     "outputs": [
      {
       "metadata": {},
       "output_type": "pyout",
       "prompt_number": 88,
       "text": [
        "Created\n",
        "2010-09-30    6\n",
        "2010-10-31    5\n",
        "2010-11-30    2\n",
        "2010-12-31    3\n",
        "2011-01-31    5\n",
        "2011-02-28    1\n",
        "2011-03-31    1\n",
        "2011-04-30    0\n",
        "2011-05-31    4\n",
        "2011-06-30    5\n",
        "dtype: int64"
       ]
      }
     ],
     "prompt_number": 88
    },
    {
     "cell_type": "heading",
     "level": 5,
     "metadata": {},
     "source": [
      "- The \"chattiest\" user (most number of comments)"
     ]
    },
    {
     "cell_type": "code",
     "collapsed": false,
     "input": [
      "#resample, get string of most frequent user. I think this is how max works with strings, as it doesn't just return the longest one.\n",
      "#also I ran how='min', and it gives longer strings.\n",
      "chat = dfmerged.User.resample('M', how='max',fill_method='pad')\n",
      "#dont really know how this would plot...so just showing table\n",
      "chat.head(25)"
     ],
     "language": "python",
     "metadata": {},
     "outputs": [
      {
       "metadata": {},
       "output_type": "pyout",
       "prompt_number": 90,
       "text": [
        "Created\n",
        "2010-09-30          wesm\n",
        "2010-10-31          wesm\n",
        "2010-11-30          wesm\n",
        "2010-12-31       tgefell\n",
        "2011-01-31          wesm\n",
        "2011-02-28       tgefell\n",
        "2011-03-31         ghost\n",
        "2011-04-30         ghost\n",
        "2011-05-31          wesm\n",
        "2011-06-30          wesm\n",
        "2011-07-31          wesm\n",
        "2011-08-31         xdong\n",
        "2011-09-30    yarikoptic\n",
        "2011-10-31          wesm\n",
        "2011-11-30          wesm\n",
        "2011-12-31          wesm\n",
        "2012-01-31    yarikoptic\n",
        "2012-02-29         xdong\n",
        "2012-03-31    yarikoptic\n",
        "2012-04-30    yarikoptic\n",
        "2012-05-31          wesm\n",
        "2012-06-30         yinhm\n",
        "2012-07-31        zachcp\n",
        "2012-08-31        zachcp\n",
        "2012-09-30    yarikoptic\n",
        "Freq: M, dtype: object"
       ]
      }
     ],
     "prompt_number": 90
    },
    {
     "cell_type": "heading",
     "level": 5,
     "metadata": {},
     "source": [
      "- The percentage of total comments made by the chattiest users"
     ]
    },
    {
     "cell_type": "code",
     "collapsed": false,
     "input": [
      "#make a function to pass resample that gets number of the chattiest user comments, then divides it by total comments\n",
      "from collections import Counter\n",
      "def getmostpercent(values):\n",
      "    if len(values):\n",
      "        return Counter(values).most_common()[0][1] / float(len(values))\n",
      "    else:\n",
      "        return np.nan"
     ],
     "language": "python",
     "metadata": {},
     "outputs": [],
     "prompt_number": 91
    },
    {
     "cell_type": "code",
     "collapsed": false,
     "input": [
      "#pretty sweet you can pass a function to resample.\n",
      "chatpercent = dfmerged.User.resample('M', how=lambda x: getmostpercent(x), fill_method='pad')"
     ],
     "language": "python",
     "metadata": {},
     "outputs": [],
     "prompt_number": 92
    },
    {
     "cell_type": "code",
     "collapsed": false,
     "input": [
      "chatpercent.head(10)"
     ],
     "language": "python",
     "metadata": {},
     "outputs": [
      {
       "metadata": {},
       "output_type": "pyout",
       "prompt_number": 93,
       "text": [
        "Created\n",
        "2010-09-30    0.818182\n",
        "2010-10-31    0.750000\n",
        "2010-11-30    0.500000\n",
        "2010-12-31    0.500000\n",
        "2011-01-31    0.333333\n",
        "2011-02-28    0.500000\n",
        "2011-03-31    1.000000\n",
        "2011-04-30    1.000000\n",
        "2011-05-31    0.714286\n",
        "2011-06-30    0.777778\n",
        "Freq: M, dtype: float64"
       ]
      }
     ],
     "prompt_number": 93
    },
    {
     "cell_type": "code",
     "collapsed": false,
     "input": [
      "#plot! \n",
      "chatpercent.plot()\n",
      "plt.suptitle(\"The percentage of total comments made by the chattiest users\")\n",
      "plt.xlabel('')\n",
      "plt.ylabel('percentage')\n",
      "plt.show()"
     ],
     "language": "python",
     "metadata": {},
     "outputs": [],
     "prompt_number": 94
    },
    {
     "cell_type": "heading",
     "level": 5,
     "metadata": {},
     "source": [
      "- The number of distinct participants in the issue comments"
     ]
    },
    {
     "cell_type": "code",
     "collapsed": false,
     "input": [
      "#resample, get number of unique Users\n",
      "dfmerged.User.resample('M', how='nunique',fill_method='pad').plot()\n",
      "plt.suptitle('Number of Distinct Participants per Month')\n",
      "plt.ylabel('Number of distinct participants')\n",
      "plt.xlabel('')\n",
      "plt.show()"
     ],
     "language": "python",
     "metadata": {},
     "outputs": [],
     "prompt_number": 95
    },
    {
     "cell_type": "code",
     "collapsed": false,
     "input": [
      "numparts = dfmerged.User.resample('M', how='nunique',fill_method='pad')"
     ],
     "language": "python",
     "metadata": {},
     "outputs": [],
     "prompt_number": 96
    },
    {
     "cell_type": "code",
     "collapsed": false,
     "input": [
      "numparts.head(10)"
     ],
     "language": "python",
     "metadata": {},
     "outputs": [
      {
       "metadata": {},
       "output_type": "pyout",
       "prompt_number": 98,
       "text": [
        "Created\n",
        "2010-09-30    2\n",
        "2010-10-31    3\n",
        "2010-11-30    2\n",
        "2010-12-31    3\n",
        "2011-01-31    5\n",
        "2011-02-28    2\n",
        "2011-03-31    1\n",
        "2011-04-30    0\n",
        "2011-05-31    3\n",
        "2011-06-30    3\n",
        "dtype: int64"
       ]
      }
     ],
     "prompt_number": 98
    },
    {
     "cell_type": "heading",
     "level": 4,
     "metadata": {},
     "source": [
      "Create a helper ``labels`` table from the issues data with two columns: id and\n",
      "label. If an issue has 3 elements in its 'labels' value, add 3 rows to the\n",
      "table. If an issue does not have any labels, place a single row with None as\n",
      "the label (hint: construct a list of tuples, then make the DataFrame)."
     ]
    },
    {
     "cell_type": "code",
     "collapsed": false,
     "input": [
      "#what do we have again?\n",
      "df.head()"
     ],
     "language": "python",
     "metadata": {},
     "outputs": [
      {
       "html": [
        "<div style=\"max-height:1000px;max-width:1500px;overflow:auto;\">\n",
        "<table border=\"1\" class=\"dataframe\">\n",
        "  <thead>\n",
        "    <tr style=\"text-align: right;\">\n",
        "      <th></th>\n",
        "      <th>Closed</th>\n",
        "      <th>Created</th>\n",
        "      <th>ID</th>\n",
        "      <th>Labels</th>\n",
        "      <th>Title</th>\n",
        "      <th>User</th>\n",
        "      <th>DayDiff</th>\n",
        "    </tr>\n",
        "  </thead>\n",
        "  <tbody>\n",
        "    <tr>\n",
        "      <th>1</th>\n",
        "      <td>2011-02-19 23:13:48</td>\n",
        "      <td>2010-09-29 00:45:31</td>\n",
        "      <td> 337721</td>\n",
        "      <td> []</td>\n",
        "      <td> Enable element-wise comparison operations in D...</td>\n",
        "      <td> wesm</td>\n",
        "      <td> 143</td>\n",
        "    </tr>\n",
        "    <tr>\n",
        "      <th>3</th>\n",
        "      <td>2010-12-17 02:57:33</td>\n",
        "      <td>2010-09-29 00:50:13</td>\n",
        "      <td> 337726</td>\n",
        "      <td> []</td>\n",
        "      <td>                             reindex_like function</td>\n",
        "      <td> wesm</td>\n",
        "      <td>  79</td>\n",
        "    </tr>\n",
        "    <tr>\n",
        "      <th>5</th>\n",
        "      <td>2011-01-01 23:50:12</td>\n",
        "      <td>2010-09-29 00:50:52</td>\n",
        "      <td> 337728</td>\n",
        "      <td> []</td>\n",
        "      <td>               Binary operations on int DataMatrix</td>\n",
        "      <td> wesm</td>\n",
        "      <td>  94</td>\n",
        "    </tr>\n",
        "    <tr>\n",
        "      <th>7</th>\n",
        "      <td>2010-12-11 06:14:32</td>\n",
        "      <td>2010-09-29 00:51:27</td>\n",
        "      <td> 337730</td>\n",
        "      <td> []</td>\n",
        "      <td> Plot keyword arguments are unused in DataFrame...</td>\n",
        "      <td> wesm</td>\n",
        "      <td>  73</td>\n",
        "    </tr>\n",
        "    <tr>\n",
        "      <th>9</th>\n",
        "      <td>2010-12-17 02:46:34</td>\n",
        "      <td>2010-09-29 00:57:00</td>\n",
        "      <td> 337736</td>\n",
        "      <td> []</td>\n",
        "      <td>                                Python 2.7 testing</td>\n",
        "      <td> wesm</td>\n",
        "      <td>  79</td>\n",
        "    </tr>\n",
        "  </tbody>\n",
        "</table>\n",
        "</div>"
       ],
       "metadata": {},
       "output_type": "pyout",
       "prompt_number": 99,
       "text": [
        "               Closed             Created      ID Labels  \\\n",
        "1 2011-02-19 23:13:48 2010-09-29 00:45:31  337721     []   \n",
        "3 2010-12-17 02:57:33 2010-09-29 00:50:13  337726     []   \n",
        "5 2011-01-01 23:50:12 2010-09-29 00:50:52  337728     []   \n",
        "7 2010-12-11 06:14:32 2010-09-29 00:51:27  337730     []   \n",
        "9 2010-12-17 02:46:34 2010-09-29 00:57:00  337736     []   \n",
        "\n",
        "                                               Title  User  DayDiff  \n",
        "1  Enable element-wise comparison operations in D...  wesm      143  \n",
        "3                              reindex_like function  wesm       79  \n",
        "5                Binary operations on int DataMatrix  wesm       94  \n",
        "7  Plot keyword arguments are unused in DataFrame...  wesm       73  \n",
        "9                                 Python 2.7 testing  wesm       79  "
       ]
      }
     ],
     "prompt_number": 99
    },
    {
     "cell_type": "code",
     "collapsed": false,
     "input": [
      "x = df.Labels.values[12:13] #let's find a nonblank one to mess with\n",
      "x"
     ],
     "language": "python",
     "metadata": {},
     "outputs": [
      {
       "metadata": {},
       "output_type": "pyout",
       "prompt_number": 100,
       "text": [
        "array([ [{u'url': u'https://api.github.com/repos/pydata/pandas/labels/Enhancement', u'color': u'4E9A06', u'name': u'Enhancement'}]], dtype=object)"
       ]
      }
     ],
     "prompt_number": 100
    },
    {
     "cell_type": "code",
     "collapsed": false,
     "input": [
      "x = x[0] #go into it"
     ],
     "language": "python",
     "metadata": {},
     "outputs": [],
     "prompt_number": 101
    },
    {
     "cell_type": "code",
     "collapsed": false,
     "input": [
      "x = x[0]  #go into it again"
     ],
     "language": "python",
     "metadata": {},
     "outputs": [],
     "prompt_number": 102
    },
    {
     "cell_type": "code",
     "collapsed": false,
     "input": [
      "x['name'] #get the value to the key 'name'"
     ],
     "language": "python",
     "metadata": {},
     "outputs": [
      {
       "metadata": {},
       "output_type": "pyout",
       "prompt_number": 103,
       "text": [
        "u'Enhancement'"
       ]
      }
     ],
     "prompt_number": 103
    },
    {
     "cell_type": "code",
     "collapsed": false,
     "input": [
      "#okay, now we can build up the lists to append to the dataframe.\n",
      "IDS = []\n",
      "issues=[]\n",
      "for i,ID in zip(df.Labels.values,df.ID.values):\n",
      "    if i:\n",
      "        i = i[0]\n",
      "        issue = i['name']\n",
      "        issues.append(issue)\n",
      "        IDS.append(ID)\n",
      "    else:\n",
      "        IDS.append(ID)\n",
      "        issues.append('None')"
     ],
     "language": "python",
     "metadata": {},
     "outputs": [],
     "prompt_number": 104
    },
    {
     "cell_type": "code",
     "collapsed": false,
     "input": [
      "#sanity check to make sure that i got the same number of issues comments and IDs \n",
      "len(IDS), len(issues)"
     ],
     "language": "python",
     "metadata": {},
     "outputs": [
      {
       "metadata": {},
       "output_type": "pyout",
       "prompt_number": 105,
       "text": [
        "(2934, 2934)"
       ]
      }
     ],
     "prompt_number": 105
    },
    {
     "cell_type": "code",
     "collapsed": false,
     "input": [
      "#another sanity check to make sure I got everything\n",
      "len(df.Labels.values),len(df.ID.values)\n",
      "#guess not. I must be getting only one comment even if there are 2 or 3. "
     ],
     "language": "python",
     "metadata": {},
     "outputs": [
      {
       "metadata": {},
       "output_type": "pyout",
       "prompt_number": 106,
       "text": [
        "(2934, 2934)"
       ]
      }
     ],
     "prompt_number": 106
    },
    {
     "cell_type": "code",
     "collapsed": false,
     "input": [
      "#hopefully this will work...\n",
      "IDS = []\n",
      "issues=[]\n",
      "#let's see what's going on! I wonder if I can do an if/elif/elif for the lenthes of them\n",
      "for i,ID in zip(df.Labels.values,df.ID.values):\n",
      "    if i:\n",
      "        if len(i) == 1:\n",
      "            i = i[0]\n",
      "            issue = i['name']\n",
      "            issues.append(issue)\n",
      "            IDS.append(ID) # I do this to make sure they are the same length.\n",
      "        elif len(i) == 2:\n",
      "            issue = i[0]['name']\n",
      "            issue2 = i[1]['name']\n",
      "            issues.append(issue)\n",
      "            IDS.append(ID)\n",
      "            issues.append(issue2)\n",
      "            IDS.append(ID)\n",
      "        elif len(i) == 3:\n",
      "            issue = i[0]['name']\n",
      "            issue2 = i[1]['name']\n",
      "            issue3 = i[2]['name']\n",
      "            issues.append(issue)\n",
      "            IDS.append(ID)\n",
      "            issues.append(issue2)\n",
      "            IDS.append(ID)\n",
      "            issues.append(issue3)\n",
      "            IDS.append(ID)\n",
      "    else:\n",
      "        IDS.append(ID)\n",
      "        issues.append('None')\n",
      "len(issues),len(IDS)"
     ],
     "language": "python",
     "metadata": {},
     "outputs": [
      {
       "metadata": {},
       "output_type": "pyout",
       "prompt_number": 136,
       "text": [
        "(3760, 3760)"
       ]
      }
     ],
     "prompt_number": 136
    },
    {
     "cell_type": "code",
     "collapsed": false,
     "input": [
      "#okay, the above shape looks right, as it has more rows than the original dataframe, which should be the case since some\n",
      "# contain more than 1 issue\n",
      "issues = pd.DataFrame({'ID': IDS, 'Issues': issues})"
     ],
     "language": "python",
     "metadata": {},
     "outputs": [],
     "prompt_number": 137
    },
    {
     "cell_type": "heading",
     "level": 4,
     "metadata": {},
     "source": [
      "Now, join the issues data with the labels helper table (pandas.merge). Add\n",
      "a column to this table containing the number of days (as a floating point\n",
      "number) it took to close each issue."
     ]
    },
    {
     "cell_type": "code",
     "collapsed": false,
     "input": [
      "#merge my new 'helper' table with the original one I made earlier, on ID column\n",
      "Issues = pd.merge(issues, dfmerged, on='ID')"
     ],
     "language": "python",
     "metadata": {},
     "outputs": [],
     "prompt_number": 138
    },
    {
     "cell_type": "code",
     "collapsed": false,
     "input": [
      "len(Issues)"
     ],
     "language": "python",
     "metadata": {},
     "outputs": [
      {
       "metadata": {},
       "output_type": "pyout",
       "prompt_number": 139,
       "text": [
        "2547"
       ]
      }
     ],
     "prompt_number": 139
    },
    {
     "cell_type": "code",
     "collapsed": false,
     "input": [
      "Issues.head(10)"
     ],
     "language": "python",
     "metadata": {},
     "outputs": [
      {
       "html": [
        "<div style=\"max-height:1000px;max-width:1500px;overflow:auto;\">\n",
        "<table border=\"1\" class=\"dataframe\">\n",
        "  <thead>\n",
        "    <tr style=\"text-align: right;\">\n",
        "      <th></th>\n",
        "      <th>ID</th>\n",
        "      <th>Issues</th>\n",
        "      <th>Closed</th>\n",
        "      <th>Labels</th>\n",
        "      <th>Title</th>\n",
        "      <th>User</th>\n",
        "      <th>DayDiff</th>\n",
        "      <th>Comments</th>\n",
        "    </tr>\n",
        "  </thead>\n",
        "  <tbody>\n",
        "    <tr>\n",
        "      <th>0</th>\n",
        "      <td> 337721</td>\n",
        "      <td> None</td>\n",
        "      <td>2011-02-19 23:13:48</td>\n",
        "      <td>                                                []</td>\n",
        "      <td> Enable element-wise comparison operations in D...</td>\n",
        "      <td>    wesm</td>\n",
        "      <td> 143</td>\n",
        "      <td>                           implemented in git HEAD</td>\n",
        "    </tr>\n",
        "    <tr>\n",
        "      <th>1</th>\n",
        "      <td> 337726</td>\n",
        "      <td> None</td>\n",
        "      <td>2010-12-17 02:57:33</td>\n",
        "      <td>                                                []</td>\n",
        "      <td>                             reindex_like function</td>\n",
        "      <td>    wesm</td>\n",
        "      <td>  79</td>\n",
        "      <td>                           implemented in git HEAD</td>\n",
        "    </tr>\n",
        "    <tr>\n",
        "      <th>2</th>\n",
        "      <td> 337728</td>\n",
        "      <td> None</td>\n",
        "      <td>2011-01-01 23:50:12</td>\n",
        "      <td>                                                []</td>\n",
        "      <td>               Binary operations on int DataMatrix</td>\n",
        "      <td>    wesm</td>\n",
        "      <td>  94</td>\n",
        "      <td>                                              done</td>\n",
        "    </tr>\n",
        "    <tr>\n",
        "      <th>3</th>\n",
        "      <td> 337730</td>\n",
        "      <td> None</td>\n",
        "      <td>2010-12-11 06:14:32</td>\n",
        "      <td>                                                []</td>\n",
        "      <td> Plot keyword arguments are unused in DataFrame...</td>\n",
        "      <td>    wesm</td>\n",
        "      <td>  73</td>\n",
        "      <td>                                              done</td>\n",
        "    </tr>\n",
        "    <tr>\n",
        "      <th>4</th>\n",
        "      <td> 337736</td>\n",
        "      <td> None</td>\n",
        "      <td>2010-12-17 02:46:34</td>\n",
        "      <td>                                                []</td>\n",
        "      <td>                                Python 2.7 testing</td>\n",
        "      <td>    wesm</td>\n",
        "      <td>  79</td>\n",
        "      <td> I guess I &amp;quot;accidentally&amp;quot; fixed this ...</td>\n",
        "    </tr>\n",
        "    <tr>\n",
        "      <th>5</th>\n",
        "      <td> 337994</td>\n",
        "      <td> None</td>\n",
        "      <td>2010-12-11 06:05:26</td>\n",
        "      <td>                                                []</td>\n",
        "      <td> Fix argument inconsistency in pandas.stats.mom...</td>\n",
        "      <td>    wesm</td>\n",
        "      <td>  73</td>\n",
        "      <td> I guess I &amp;quot;accidentally&amp;quot; fixed this ...</td>\n",
        "    </tr>\n",
        "    <tr>\n",
        "      <th>6</th>\n",
        "      <td> 338909</td>\n",
        "      <td> None</td>\n",
        "      <td>2010-12-11 06:12:00</td>\n",
        "      <td>                                                []</td>\n",
        "      <td> DataMatrix constructor ignores dtype argument ...</td>\n",
        "      <td> andylei</td>\n",
        "      <td>  72</td>\n",
        "      <td>                                             fixed</td>\n",
        "    </tr>\n",
        "    <tr>\n",
        "      <th>7</th>\n",
        "      <td> 339355</td>\n",
        "      <td>  Bug</td>\n",
        "      <td>2011-06-23 04:50:05</td>\n",
        "      <td> [{u'url': u'https://api.github.com/repos/pydat...</td>\n",
        "      <td>                               np.fix doesn't work</td>\n",
        "      <td> andylei</td>\n",
        "      <td> 266</td>\n",
        "      <td>                                             fixed</td>\n",
        "    </tr>\n",
        "    <tr>\n",
        "      <th>8</th>\n",
        "      <td> 341577</td>\n",
        "      <td> None</td>\n",
        "      <td>2011-05-18 02:43:33</td>\n",
        "      <td>                                                []</td>\n",
        "      <td> Fix pandas.io.parsers.parseExcel to be more ro...</td>\n",
        "      <td>    wesm</td>\n",
        "      <td> 229</td>\n",
        "      <td> Everything seems to be working in Python 2.7 w...</td>\n",
        "    </tr>\n",
        "    <tr>\n",
        "      <th>9</th>\n",
        "      <td> 341581</td>\n",
        "      <td> None</td>\n",
        "      <td>2011-06-23 19:38:51</td>\n",
        "      <td>                                                []</td>\n",
        "      <td> Improvements to pandas.io.pytables / unit testing</td>\n",
        "      <td>    wesm</td>\n",
        "      <td> 265</td>\n",
        "      <td> Everything seems to be working in Python 2.7 w...</td>\n",
        "    </tr>\n",
        "  </tbody>\n",
        "</table>\n",
        "</div>"
       ],
       "metadata": {},
       "output_type": "pyout",
       "prompt_number": 140,
       "text": [
        "       ID Issues              Closed  \\\n",
        "0  337721   None 2011-02-19 23:13:48   \n",
        "1  337726   None 2010-12-17 02:57:33   \n",
        "2  337728   None 2011-01-01 23:50:12   \n",
        "3  337730   None 2010-12-11 06:14:32   \n",
        "4  337736   None 2010-12-17 02:46:34   \n",
        "5  337994   None 2010-12-11 06:05:26   \n",
        "6  338909   None 2010-12-11 06:12:00   \n",
        "7  339355    Bug 2011-06-23 04:50:05   \n",
        "8  341577   None 2011-05-18 02:43:33   \n",
        "9  341581   None 2011-06-23 19:38:51   \n",
        "\n",
        "                                              Labels  \\\n",
        "0                                                 []   \n",
        "1                                                 []   \n",
        "2                                                 []   \n",
        "3                                                 []   \n",
        "4                                                 []   \n",
        "5                                                 []   \n",
        "6                                                 []   \n",
        "7  [{u'url': u'https://api.github.com/repos/pydat...   \n",
        "8                                                 []   \n",
        "9                                                 []   \n",
        "\n",
        "                                               Title     User  DayDiff  \\\n",
        "0  Enable element-wise comparison operations in D...     wesm      143   \n",
        "1                              reindex_like function     wesm       79   \n",
        "2                Binary operations on int DataMatrix     wesm       94   \n",
        "3  Plot keyword arguments are unused in DataFrame...     wesm       73   \n",
        "4                                 Python 2.7 testing     wesm       79   \n",
        "5  Fix argument inconsistency in pandas.stats.mom...     wesm       73   \n",
        "6  DataMatrix constructor ignores dtype argument ...  andylei       72   \n",
        "7                                np.fix doesn't work  andylei      266   \n",
        "8  Fix pandas.io.parsers.parseExcel to be more ro...     wesm      229   \n",
        "9  Improvements to pandas.io.pytables / unit testing     wesm      265   \n",
        "\n",
        "                                            Comments  \n",
        "0                            implemented in git HEAD  \n",
        "1                            implemented in git HEAD  \n",
        "2                                               done  \n",
        "3                                               done  \n",
        "4  I guess I &quot;accidentally&quot; fixed this ...  \n",
        "5  I guess I &quot;accidentally&quot; fixed this ...  \n",
        "6                                              fixed  \n",
        "7                                              fixed  \n",
        "8  Everything seems to be working in Python 2.7 w...  \n",
        "9  Everything seems to be working in Python 2.7 w...  "
       ]
      }
     ],
     "prompt_number": 140
    },
    {
     "cell_type": "heading",
     "level": 4,
     "metadata": {},
     "source": [
      "Compute a table containing the average time to close for each label\n",
      "type. Now make a plot comparing mean time to close by month for Enhancement\n",
      "versus Bug issue types."
     ]
    },
    {
     "cell_type": "code",
     "collapsed": false,
     "input": [
      "#I kept my day difference, so now I jsut have to resample based on type of comment I think"
     ],
     "language": "python",
     "metadata": {},
     "outputs": [],
     "prompt_number": 130
    },
    {
     "cell_type": "code",
     "collapsed": false,
     "input": [
      "Only2 = Issues[(Issues.Issues.values == 'Bug') | (Issues.Issues.values == 'Enhancement')]"
     ],
     "language": "python",
     "metadata": {},
     "outputs": [],
     "prompt_number": 142
    },
    {
     "cell_type": "code",
     "collapsed": false,
     "input": [
      "Only2 = Only2.set_index('Closed') #make it closed since that's the timepoint we probably care about most. "
     ],
     "language": "python",
     "metadata": {},
     "outputs": [],
     "prompt_number": 143
    },
    {
     "cell_type": "code",
     "collapsed": false,
     "input": [
      "Only2.head()"
     ],
     "language": "python",
     "metadata": {},
     "outputs": [
      {
       "html": [
        "<div style=\"max-height:1000px;max-width:1500px;overflow:auto;\">\n",
        "<table border=\"1\" class=\"dataframe\">\n",
        "  <thead>\n",
        "    <tr style=\"text-align: right;\">\n",
        "      <th></th>\n",
        "      <th>ID</th>\n",
        "      <th>Issues</th>\n",
        "      <th>Labels</th>\n",
        "      <th>Title</th>\n",
        "      <th>User</th>\n",
        "      <th>DayDiff</th>\n",
        "      <th>Comments</th>\n",
        "    </tr>\n",
        "    <tr>\n",
        "      <th>Closed</th>\n",
        "      <th></th>\n",
        "      <th></th>\n",
        "      <th></th>\n",
        "      <th></th>\n",
        "      <th></th>\n",
        "      <th></th>\n",
        "      <th></th>\n",
        "    </tr>\n",
        "  </thead>\n",
        "  <tbody>\n",
        "    <tr>\n",
        "      <th>2011-06-23 04:50:05</th>\n",
        "      <td> 339355</td>\n",
        "      <td>         Bug</td>\n",
        "      <td> [{u'url': u'https://api.github.com/repos/pydat...</td>\n",
        "      <td>                               np.fix doesn't work</td>\n",
        "      <td> andylei</td>\n",
        "      <td> 266</td>\n",
        "      <td>                                             fixed</td>\n",
        "    </tr>\n",
        "    <tr>\n",
        "      <th>2012-12-12 21:35:57</th>\n",
        "      <td> 352369</td>\n",
        "      <td> Enhancement</td>\n",
        "      <td> [{u'url': u'https://api.github.com/repos/pydat...</td>\n",
        "      <td>                     Add PyTable Paths to HDFStore</td>\n",
        "      <td>  surbas</td>\n",
        "      <td> 796</td>\n",
        "      <td> This is a bug. DataMatrix as input to the Data...</td>\n",
        "    </tr>\n",
        "    <tr>\n",
        "      <th>2011-07-08 22:15:57</th>\n",
        "      <td> 358950</td>\n",
        "      <td> Enhancement</td>\n",
        "      <td> [{u'url': u'https://api.github.com/repos/pydat...</td>\n",
        "      <td>                Better support for mixed-type data</td>\n",
        "      <td>    wesm</td>\n",
        "      <td> 269</td>\n",
        "      <td> A user suggested this version to start with:\\r...</td>\n",
        "    </tr>\n",
        "    <tr>\n",
        "      <th>2011-09-25 05:17:23</th>\n",
        "      <td> 358952</td>\n",
        "      <td>         Bug</td>\n",
        "      <td> [{u'url': u'https://api.github.com/repos/pydat...</td>\n",
        "      <td> weights option may not be working in pandas.st...</td>\n",
        "      <td>    wesm</td>\n",
        "      <td> 347</td>\n",
        "      <td> A user suggested this version to start with:\\r...</td>\n",
        "    </tr>\n",
        "    <tr>\n",
        "      <th>2011-06-28 03:09:55</th>\n",
        "      <td> 835724</td>\n",
        "      <td> Enhancement</td>\n",
        "      <td> [{u'url': u'https://api.github.com/repos/pydat...</td>\n",
        "      <td>             Create generic moving window function</td>\n",
        "      <td>    wesm</td>\n",
        "      <td>  57</td>\n",
        "      <td> Should be safe to use the git HEAD, I will try...</td>\n",
        "    </tr>\n",
        "  </tbody>\n",
        "</table>\n",
        "</div>"
       ],
       "metadata": {},
       "output_type": "pyout",
       "prompt_number": 144,
       "text": [
        "                         ID       Issues  \\\n",
        "Closed                                     \n",
        "2011-06-23 04:50:05  339355          Bug   \n",
        "2012-12-12 21:35:57  352369  Enhancement   \n",
        "2011-07-08 22:15:57  358950  Enhancement   \n",
        "2011-09-25 05:17:23  358952          Bug   \n",
        "2011-06-28 03:09:55  835724  Enhancement   \n",
        "\n",
        "                                                                Labels  \\\n",
        "Closed                                                                   \n",
        "2011-06-23 04:50:05  [{u'url': u'https://api.github.com/repos/pydat...   \n",
        "2012-12-12 21:35:57  [{u'url': u'https://api.github.com/repos/pydat...   \n",
        "2011-07-08 22:15:57  [{u'url': u'https://api.github.com/repos/pydat...   \n",
        "2011-09-25 05:17:23  [{u'url': u'https://api.github.com/repos/pydat...   \n",
        "2011-06-28 03:09:55  [{u'url': u'https://api.github.com/repos/pydat...   \n",
        "\n",
        "                                                                 Title  \\\n",
        "Closed                                                                   \n",
        "2011-06-23 04:50:05                                np.fix doesn't work   \n",
        "2012-12-12 21:35:57                      Add PyTable Paths to HDFStore   \n",
        "2011-07-08 22:15:57                 Better support for mixed-type data   \n",
        "2011-09-25 05:17:23  weights option may not be working in pandas.st...   \n",
        "2011-06-28 03:09:55              Create generic moving window function   \n",
        "\n",
        "                        User  DayDiff  \\\n",
        "Closed                                  \n",
        "2011-06-23 04:50:05  andylei      266   \n",
        "2012-12-12 21:35:57   surbas      796   \n",
        "2011-07-08 22:15:57     wesm      269   \n",
        "2011-09-25 05:17:23     wesm      347   \n",
        "2011-06-28 03:09:55     wesm       57   \n",
        "\n",
        "                                                              Comments  \n",
        "Closed                                                                  \n",
        "2011-06-23 04:50:05                                              fixed  \n",
        "2012-12-12 21:35:57  This is a bug. DataMatrix as input to the Data...  \n",
        "2011-07-08 22:15:57  A user suggested this version to start with:\\r...  \n",
        "2011-09-25 05:17:23  A user suggested this version to start with:\\r...  \n",
        "2011-06-28 03:09:55  Should be safe to use the git HEAD, I will try...  "
       ]
      }
     ],
     "prompt_number": 144
    },
    {
     "cell_type": "code",
     "collapsed": false,
     "input": [
      "Only2.Issues.resample('M', how='count').head()"
     ],
     "language": "python",
     "metadata": {},
     "outputs": [
      {
       "metadata": {},
       "output_type": "pyout",
       "prompt_number": 145,
       "text": [
        "Closed\n",
        "2011-06-30    10\n",
        "2011-07-31     7\n",
        "2011-08-31     5\n",
        "2011-09-30    27\n",
        "2011-10-31    41\n",
        "dtype: int64"
       ]
      }
     ],
     "prompt_number": 145
    },
    {
     "cell_type": "code",
     "collapsed": false,
     "input": [
      "#okay, so that is giving me the total number of bug and enhancement issues, let me seperate them and plot them."
     ],
     "language": "python",
     "metadata": {},
     "outputs": [],
     "prompt_number": 121
    },
    {
     "cell_type": "code",
     "collapsed": false,
     "input": [
      "Bugs = pd.DataFrame(Issues[Issues.Issues.values == 'Bug'])"
     ],
     "language": "python",
     "metadata": {},
     "outputs": [],
     "prompt_number": 152
    },
    {
     "cell_type": "code",
     "collapsed": false,
     "input": [
      "Enhancements = pd.DataFrame(Issues[Issues.Issues.values == 'Enhancement'])"
     ],
     "language": "python",
     "metadata": {},
     "outputs": [],
     "prompt_number": 153
    },
    {
     "cell_type": "code",
     "collapsed": false,
     "input": [
      "Bugs = Bugs.set_index('Closed')\n",
      "Bugs.DayDiff.resample('M', how='mean').head()"
     ],
     "language": "python",
     "metadata": {},
     "outputs": [
      {
       "metadata": {},
       "output_type": "pyout",
       "prompt_number": 154,
       "text": [
        "Closed\n",
        "2011-06-30    103.333333\n",
        "2011-07-31      4.500000\n",
        "2011-08-31      6.000000\n",
        "2011-09-30     30.615385\n",
        "2011-10-31      2.187500\n",
        "Freq: M, dtype: float64"
       ]
      }
     ],
     "prompt_number": 154
    },
    {
     "cell_type": "code",
     "collapsed": false,
     "input": [
      "Enhancements = Enhancements.set_index('Closed')\n",
      "Enhancements.DayDiff.resample('M', how='mean').head()"
     ],
     "language": "python",
     "metadata": {},
     "outputs": [
      {
       "metadata": {},
       "output_type": "pyout",
       "prompt_number": 155,
       "text": [
        "Closed\n",
        "2011-06-30    22.714286\n",
        "2011-07-31    91.000000\n",
        "2011-08-31    11.000000\n",
        "2011-09-30    19.928571\n",
        "2011-10-31    10.200000\n",
        "Freq: M, dtype: float64"
       ]
      }
     ],
     "prompt_number": 155
    },
    {
     "cell_type": "code",
     "collapsed": false,
     "input": [
      "Enhancements.DayDiff.resample('M', how='mean').plot(color = 'b', label='Enhancements')\n",
      "Bugs.DayDiff.resample('M', how='mean').plot(color = 'y', label= \"Bugs\")\n",
      "plt.suptitle('Time to close by month for Enhancement versus Bug issue types')\n",
      "plt.legend( loc = 'best')\n",
      "plt.xlabel('')\n",
      "plt.ylabel('Days to Close')\n",
      "plt.show()"
     ],
     "language": "python",
     "metadata": {},
     "outputs": [],
     "prompt_number": 156
    },
    {
     "cell_type": "code",
     "collapsed": false,
     "input": [
      "#done!"
     ],
     "language": "python",
     "metadata": {},
     "outputs": [],
     "prompt_number": 122
    }
   ],
   "metadata": {}
  }
 ]
}