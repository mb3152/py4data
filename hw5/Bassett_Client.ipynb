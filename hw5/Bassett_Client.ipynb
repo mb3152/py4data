{
 "metadata": {
  "name": ""
 },
 "nbformat": 3,
 "nbformat_minor": 0,
 "worksheets": [
  {
   "cells": [
    {
     "cell_type": "code",
     "collapsed": false,
     "input": [
      "import xmlrpclib, sys\n",
      "from PIL import Image\n",
      "\n",
      "host, port = \"\", 5023\n",
      "server = xmlrpclib.ServerProxy(\"http://%s:%d\" % (host, port))\n",
      "#server = xmlrpclib.ServerProxy('http://localhost:9000')\n",
      "test = server.test()\n",
      "blackandwhite = server.color2black('bassetts.jpg')\n",
      "edges = server.detectedges('bassetts.jpg')\n",
      "brighter = server.brighten('bassetts.jpg')"
     ],
     "language": "python",
     "metadata": {},
     "outputs": [],
     "prompt_number": 16
    },
    {
     "cell_type": "code",
     "collapsed": false,
     "input": [
      "print test"
     ],
     "language": "python",
     "metadata": {},
     "outputs": [
      {
       "output_type": "stream",
       "stream": "stdout",
       "text": [
        "You are connected to Maxwell's Lossless Image Manipulator\n"
       ]
      }
     ],
     "prompt_number": 17
    },
    {
     "cell_type": "code",
     "collapsed": false,
     "input": [
      "edges = Image.open(edges)\n",
      "edges.show()"
     ],
     "language": "python",
     "metadata": {},
     "outputs": [],
     "prompt_number": 8
    },
    {
     "cell_type": "code",
     "collapsed": false,
     "input": [
      "black=Image.open(blackandwhite)\n",
      "black.show()"
     ],
     "language": "python",
     "metadata": {},
     "outputs": [],
     "prompt_number": 20
    },
    {
     "cell_type": "code",
     "collapsed": false,
     "input": [
      "bright = Image.open(brighter)\n",
      "bright.show()"
     ],
     "language": "python",
     "metadata": {},
     "outputs": [],
     "prompt_number": 19
    },
    {
     "cell_type": "code",
     "collapsed": false,
     "input": [
      "available_methods = server.system.listMethods()"
     ],
     "language": "python",
     "metadata": {},
     "outputs": [],
     "prompt_number": 21
    },
    {
     "cell_type": "code",
     "collapsed": false,
     "input": [
      "print available_methods"
     ],
     "language": "python",
     "metadata": {},
     "outputs": [
      {
       "output_type": "stream",
       "stream": "stdout",
       "text": [
        "['brighten', 'color2black', 'detectedges', 'system.listMethods', 'system.methodHelp', 'system.methodSignature', 'system.multicall', 'test']\n"
       ]
      }
     ],
     "prompt_number": 22
    },
    {
     "cell_type": "code",
     "collapsed": false,
     "input": [],
     "language": "python",
     "metadata": {},
     "outputs": []
    }
   ],
   "metadata": {}
  }
 ]
}