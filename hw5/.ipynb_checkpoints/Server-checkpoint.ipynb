{
 "metadata": {
  "name": ""
 },
 "nbformat": 3,
 "nbformat_minor": 0,
 "worksheets": [
  {
   "cells": [
    {
     "cell_type": "heading",
     "level": 1,
     "metadata": {},
     "source": [
      "Write an XML-RPC server/client program pair:"
     ]
    },
    {
     "cell_type": "heading",
     "level": 3,
     "metadata": {},
     "source": [
      "Import Modules"
     ]
    },
    {
     "cell_type": "code",
     "collapsed": false,
     "input": [
      "from PIL import Image \n",
      "from scipy import ndimage\n",
      "#from SimpleXMLRPCServer import SimpleXMLRPCServer\n",
      "import SimpleXMLRPCServer\n",
      "from skimage import data, img_as_float\n",
      "from skimage import filter\n",
      "from skimage.color import gray2rgb\n",
      "from skimage.color import rgb2gray\n",
      "from skimage.filter import sobel\n",
      "from skimage.filter import threshold_otsu\n",
      "from skimage.measure import structural_similarity as ssim\n",
      "from xmlrpclib import Binary\n",
      "import datetime\n",
      "import logging\n",
      "import matplotlib.pyplot as plt\n",
      "import numpy as np\n",
      "import os\n",
      "import pylab\n",
      "import skimage.io as io\n",
      "import xmlrpclib\n",
      "import xmlrpclib, sys\n",
      "import pickle\n",
      "from scipy.misc import toimage"
     ],
     "language": "python",
     "metadata": {},
     "outputs": [],
     "prompt_number": 1
    },
    {
     "cell_type": "heading",
     "level": 3,
     "metadata": {},
     "source": [
      "Server"
     ]
    },
    {
     "cell_type": "code",
     "collapsed": false,
     "input": [
      "class ImageService:\n",
      "    def test(self):\n",
      "        \"\"\"Simple function to respond when called to demonstrate connectivity.\"\"\"\n",
      "        return str(\"You are connected to Maxwell's Lossless Image Manipulator\")\n",
      "    def detectedges(self,image):\n",
      "        \"\"\"Sorbel edge detector\"\"\"\n",
      "        edgeimage = np.array(image,dtype=float)\n",
      "        io.imsave('orig_image.jpg',edgeimage)\n",
      "        edgeimage = rgb2gray(edgeimage)\n",
      "        edgeimage = sobel(edgeimage)\n",
      "        edgeimage = gray2rgb(edgeimage)\n",
      "        io.imsave('edgeimage.jpg',edgeimage)\n",
      "        edgeimage = edgeimage.tolist()\n",
      "        return edgeimage\n",
      "        return image\n",
      "    def color2black(self,image):\n",
      "        bwimage = np.array(image,dtype=float)\n",
      "        io.imsave('orig_image.jpg',bwimage)\n",
      "        bwimage = rgb2gray(bwimage)\n",
      "        bwimage = bwimage.tolist()\n",
      "        return bwimage\n",
      "        return image\n",
      "    def brighten(self,image):\n",
      "        bimage = np.array(image,dtype=float)\n",
      "        io.imsave('orig_image.jpg',bimage)\n",
      "        bimage = toimage(bimage)\n",
      "        io.imsave('notbimage!.jpg',bimage)\n",
      "        bimage = Image.open('bimage.jpg')\n",
      "        bimage = bimage.point(lambda p: p * 3)\n",
      "        bimage = np.array(bimage,dtype=float)\n",
      "        io.imsave('bimage.jpg',bimage)\n",
      "        bimage = bimage.tolist()\n",
      "        return bimage\n",
      "        return image\n",
      "\n",
      "\n",
      "host, port = \"\", 5025\n",
      "server = SimpleXMLRPCServer.SimpleXMLRPCServer((host, port), allow_none=True)\n",
      "server.register_instance(ImageService())\n",
      "#server = SimpleXMLRPCServer(('localhost', 9000), logRequests=True, allow_none=True) #for local connections\n",
      "\n",
      "server.register_introspection_functions()\n",
      "server.register_multicall_functions()\n",
      " \n",
      "try:\n",
      "    print 'Use Control-C to exit'\n",
      "    server.serve_forever()\n",
      "except KeyboardInterrupt:\n",
      "    print 'Exiting'"
     ],
     "language": "python",
     "metadata": {},
     "outputs": [
      {
       "output_type": "stream",
       "stream": "stderr",
       "text": [
        "127.0.0.1 - - [09/Oct/2013 17:21:59] \"POST /RPC2 HTTP/1.1\" 200 -\n",
        "127.0.0.1 - - [09/Oct/2013 17:22:00] \"POST /RPC2 HTTP/1.1\" 200 -\n"
       ]
      },
      {
       "output_type": "stream",
       "stream": "stderr",
       "text": [
        "127.0.0.1 - - [09/Oct/2013 17:22:06] \"POST /RPC2 HTTP/1.1\" 200 -\n",
        "127.0.0.1 - - [09/Oct/2013 17:22:13] \"POST /RPC2 HTTP/1.1\" 200 -\n"
       ]
      }
     ],
     "prompt_number": "*"
    },
    {
     "cell_type": "code",
     "collapsed": false,
     "input": [
      "server.serve_forever()"
     ],
     "language": "python",
     "metadata": {},
     "outputs": [],
     "prompt_number": "*"
    },
    {
     "cell_type": "code",
     "collapsed": false,
     "input": [],
     "language": "python",
     "metadata": {},
     "outputs": [],
     "prompt_number": 6
    },
    {
     "cell_type": "code",
     "collapsed": false,
     "input": [],
     "language": "python",
     "metadata": {},
     "outputs": [],
     "prompt_number": "*"
    },
    {
     "cell_type": "code",
     "collapsed": false,
     "input": [],
     "language": "python",
     "metadata": {},
     "outputs": [],
     "prompt_number": 51
    },
    {
     "cell_type": "code",
     "collapsed": false,
     "input": [
      "image = np.array(edgeimage)\n",
      "from scipy.misc import toimage\n",
      "toimage(edgeimage).show()"
     ],
     "language": "python",
     "metadata": {},
     "outputs": [],
     "prompt_number": 55
    },
    {
     "cell_type": "code",
     "collapsed": false,
     "input": [],
     "language": "python",
     "metadata": {},
     "outputs": [],
     "prompt_number": 55
    },
    {
     "cell_type": "code",
     "collapsed": false,
     "input": [
      "        image.save('brightened.jpg')\n",
      "        io.imsave('original.jpg',orig_image)"
     ],
     "language": "python",
     "metadata": {},
     "outputs": [],
     "prompt_number": 55
    },
    {
     "cell_type": "code",
     "collapsed": false,
     "input": [
      "bimage = np.array(x,dtype=float)\n",
      "bimage = toimage(bimage)\n",
      "io.imsave('bimage.jpg',bimage)\n",
      "bimage = Image.open('bimage.jpg')\n",
      "bimage = bimage.point(lambda p: p * 3)\n",
      "bimage = np.array(bimage,dtype=float)\n",
      "bimage = bimage.tolist()"
     ],
     "language": "python",
     "metadata": {},
     "outputs": [],
     "prompt_number": 55
    },
    {
     "cell_type": "code",
     "collapsed": false,
     "input": [],
     "language": "python",
     "metadata": {},
     "outputs": [],
     "prompt_number": 55
    },
    {
     "cell_type": "code",
     "collapsed": false,
     "input": [],
     "language": "python",
     "metadata": {},
     "outputs": []
    }
   ],
   "metadata": {}
  }
 ]
}