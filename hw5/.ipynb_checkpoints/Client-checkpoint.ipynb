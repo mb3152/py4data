{
 "metadata": {
  "name": ""
 },
 "nbformat": 3,
 "nbformat_minor": 0,
 "worksheets": [
  {
   "cells": [
    {
     "cell_type": "heading",
     "level": 1,
     "metadata": {},
     "source": [
      "XML-RPC Client "
     ]
    },
    {
     "cell_type": "heading",
     "level": 3,
     "metadata": {},
     "source": [
      "This client send an image to a server that changes the properties of it. It can change the image to black and white (i.e., greyscale). It can make the image into an image of the edges in the original image. It can also brighten the image. One the image is changed, it will be displayed and saved."
     ]
    },
    {
     "cell_type": "heading",
     "level": 3,
     "metadata": {},
     "source": [
      "Import Modules"
     ]
    },
    {
     "cell_type": "code",
     "collapsed": false,
     "input": [
      "import xmlrpclib, sys\n",
      "from PIL import Image\n",
      "import skimage.io as io\n",
      "import numpy as np\n",
      "from scipy.misc import toimage\n",
      "from PIL import Image \n",
      "from scipy import ndimage\n",
      "#from SimpleXMLRPCServer import SimpleXMLRPCServer\n",
      "import SimpleXMLRPCServer\n",
      "from skimage import data, img_as_float\n",
      "from skimage import filter\n",
      "from skimage.color import gray2rgb\n",
      "from skimage.color import rgb2gray\n",
      "from skimage.filter import sobel\n",
      "from skimage.filter import threshold_otsu\n",
      "from skimage.measure import structural_similarity as ssim\n",
      "from xmlrpclib import Binary\n",
      "import datetime\n",
      "import logging\n",
      "import matplotlib.pyplot as plt\n",
      "import numpy as np\n",
      "import os\n",
      "import pylab\n",
      "import skimage.io as io\n",
      "import xmlrpclib\n",
      "import xmlrpclib, sys\n",
      "import pickle"
     ],
     "language": "python",
     "metadata": {},
     "outputs": [],
     "prompt_number": 1
    },
    {
     "cell_type": "heading",
     "level": 3,
     "metadata": {},
     "source": [
      "Uncomment these to rawinput the image you want and the type of manipulation you want, or change the third line"
     ]
    },
    {
     "cell_type": "code",
     "collapsed": false,
     "input": [
      "#image = raw_input(\"what image do you want to mess with? \")"
     ],
     "language": "python",
     "metadata": {},
     "outputs": [],
     "prompt_number": 2
    },
    {
     "cell_type": "code",
     "collapsed": false,
     "input": [
      "#manipulation = raw_input('You can do color2black, detectedges, or brighten. What do you want to do to your image? ')"
     ],
     "language": "python",
     "metadata": {},
     "outputs": [],
     "prompt_number": 3
    },
    {
     "cell_type": "code",
     "collapsed": false,
     "input": [
      "image = 'bassetts.jpg'"
     ],
     "language": "python",
     "metadata": {},
     "outputs": [],
     "prompt_number": 4
    },
    {
     "cell_type": "heading",
     "level": 3,
     "metadata": {},
     "source": [
      "Activate client"
     ]
    },
    {
     "cell_type": "code",
     "collapsed": false,
     "input": [
      "host, port = \"\", 5025\n",
      "server = xmlrpclib.ServerProxy(\"http://%s:%d\" % (host, port))\n",
      "#server = xmlrpclib.ServerProxy('http://localhost:9000')"
     ],
     "language": "python",
     "metadata": {},
     "outputs": [],
     "prompt_number": 5
    },
    {
     "cell_type": "heading",
     "level": 3,
     "metadata": {},
     "source": [
      "What methods does the server have?"
     ]
    },
    {
     "cell_type": "code",
     "collapsed": false,
     "input": [
      "print server.system.listMethods()"
     ],
     "language": "python",
     "metadata": {},
     "outputs": [
      {
       "output_type": "stream",
       "stream": "stdout",
       "text": [
        "['brighten', 'color2black', 'detectedges', 'system.listMethods', 'system.methodHelp', 'system.methodSignature', 'system.multicall', 'test']\n"
       ]
      }
     ],
     "prompt_number": 6
    },
    {
     "cell_type": "heading",
     "level": 3,
     "metadata": {},
     "source": [
      "Test it out"
     ]
    },
    {
     "cell_type": "code",
     "collapsed": false,
     "input": [
      "test = server.test()\n",
      "print test"
     ],
     "language": "python",
     "metadata": {},
     "outputs": [
      {
       "output_type": "stream",
       "stream": "stdout",
       "text": [
        "You are connected to Maxwell's Lossless Image Manipulator\n"
       ]
      }
     ],
     "prompt_number": 7
    },
    {
     "cell_type": "heading",
     "level": 3,
     "metadata": {},
     "source": [
      "Some functions to make passing an image to the server and getting it back and displaying it possible"
     ]
    },
    {
     "cell_type": "code",
     "collapsed": false,
     "input": [
      "def imagetolist(image):\n",
      "    image = io.imread(image)\n",
      "    image = image.tolist()\n",
      "    return image\n",
      "def show_image_from_list(image):\n",
      "    image = np.array(image,dtype=float)\n",
      "    x = toimage(image).show()\n",
      "    return x"
     ],
     "language": "python",
     "metadata": {},
     "outputs": [],
     "prompt_number": 8
    },
    {
     "cell_type": "heading",
     "level": 3,
     "metadata": {},
     "source": [
      "Make my image into a list to I can pass it to the server"
     ]
    },
    {
     "cell_type": "code",
     "collapsed": false,
     "input": [
      "image = imagetolist(image)"
     ],
     "language": "python",
     "metadata": {},
     "outputs": [],
     "prompt_number": 9
    },
    {
     "cell_type": "heading",
     "level": 3,
     "metadata": {},
     "source": [
      "Get an edge image, display it, save it"
     ]
    },
    {
     "cell_type": "code",
     "collapsed": false,
     "input": [
      "edges = server.detectedges(image)\n",
      "show_image_from_list(edges)\n",
      "io.imsave('edgeimageclient.jpg',np.array(edges))"
     ],
     "language": "python",
     "metadata": {},
     "outputs": [],
     "prompt_number": 10
    },
    {
     "cell_type": "code",
     "collapsed": false,
     "input": [
      "bw = server.color2black(image)\n",
      "show_image_from_list(bw)\n",
      "io.imsave('bwclient.jpg',np.array(bw))"
     ],
     "language": "python",
     "metadata": {},
     "outputs": [],
     "prompt_number": 11
    },
    {
     "cell_type": "code",
     "collapsed": false,
     "input": [
      "bright = server.brighten(image)\n",
      "show_image_from_list(bright)\n",
      "io.imsave('brightclient.jpg',np.array(bright))"
     ],
     "language": "python",
     "metadata": {},
     "outputs": [],
     "prompt_number": 12
    },
    {
     "cell_type": "code",
     "collapsed": false,
     "input": [
      "show_image_from_list(image)"
     ],
     "language": "python",
     "metadata": {},
     "outputs": [],
     "prompt_number": 13
    },
    {
     "cell_type": "code",
     "collapsed": false,
     "input": [],
     "language": "python",
     "metadata": {},
     "outputs": []
    }
   ],
   "metadata": {}
  }
 ]
}