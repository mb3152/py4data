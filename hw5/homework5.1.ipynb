{
 "metadata": {
  "name": ""
 },
 "nbformat": 3,
 "nbformat_minor": 0,
 "worksheets": [
  {
   "cells": [
    {
     "cell_type": "heading",
     "level": 1,
     "metadata": {},
     "source": [
      "Write an XML-RPC server/client program pair:"
     ]
    },
    {
     "cell_type": "heading",
     "level": 3,
     "metadata": {},
     "source": [
      "Import Modules"
     ]
    },
    {
     "cell_type": "code",
     "collapsed": false,
     "input": [
      "from PIL import Image \n",
      "from scipy import ndimage\n",
      "#from SimpleXMLRPCServer import SimpleXMLRPCServer\n",
      "import SimpleXMLRPCServer\n",
      "from skimage import data, img_as_float\n",
      "from skimage import filter\n",
      "from skimage.color import gray2rgb\n",
      "from skimage.color import rgb2gray\n",
      "from skimage.filter import sobel\n",
      "from skimage.filter import threshold_otsu\n",
      "from skimage.measure import structural_similarity as ssim\n",
      "from xmlrpclib import Binary\n",
      "import datetime\n",
      "import logging\n",
      "import matplotlib.pyplot as plt\n",
      "import numpy as np\n",
      "import os\n",
      "import pylab\n",
      "import skimage.io as io\n",
      "import xmlrpclib\n",
      "import xmlrpclib, sys"
     ],
     "language": "python",
     "metadata": {},
     "outputs": [],
     "prompt_number": 2
    },
    {
     "cell_type": "heading",
     "level": 3,
     "metadata": {},
     "source": [
      "Server"
     ]
    },
    {
     "cell_type": "code",
     "collapsed": false,
     "input": [],
     "language": "python",
     "metadata": {},
     "outputs": [],
     "prompt_number": 2
    },
    {
     "cell_type": "code",
     "collapsed": false,
     "input": [],
     "language": "python",
     "metadata": {},
     "outputs": [],
     "prompt_number": 2
    },
    {
     "cell_type": "code",
     "collapsed": false,
     "input": [
      "class ImageService:\n",
      "    \n",
      "\tdef test(self):\n",
      "\t\t\"\"\"Simple function to respond when called to demonstrate connectivity.\"\"\"\n",
      "\t\treturn str(\"You are connected to Maxwell's Lossless Image Manipulator\")\n",
      "    \n",
      "\tdef color2black(self,image):\n",
      "\t\torig_image = io.imread(image)\n",
      "\t\timage = io.imread(image)\n",
      "\t\timage = rgb2gray(image)\n",
      "\t\tio.imsave('black&white.jpg',image)\n",
      "\t\tio.imsave('original.jpg',orig_image)\n",
      "\t\treturn 'black&white.jpg'\n",
      "\t\treturn 'original.jpg'\n",
      "\tdef detectedges(self,image):\n",
      "\t\t\"\"\"Sorbel edge detector\"\"\"\n",
      "\t\torig_image = io.imread(image)\n",
      "\t\timage = io.imread(image)\n",
      "\t\timage = rgb2gray(image)\n",
      "\t\tedge_sobel = sobel(image)\n",
      "\t\tio.imsave('edges.jpg',edge_sobel)\n",
      "\t\tio.imsave('original.jpg',orig_image)\n",
      "\t\treturn 'edges.jpg'\n",
      "\t\treturn 'original.jpg'\n",
      "\tdef brighten(self,image):\n",
      "\t\torig_image = io.imread(image)\n",
      "\t\timage = Image.open(image)\n",
      "\t\timage = image.point(lambda p: p * 3)\n",
      "\t\timage.save('brightened.jpg')\n",
      "\t\tio.imsave('original.jpg',orig_image)\n",
      "\t\treturn 'brightened.jpg'\n",
      "\t\treturn 'original.jpg'\n",
      "\n",
      "host, port = \"\", 5023\n",
      "server = SimpleXMLRPCServer.SimpleXMLRPCServer((host, port), allow_none=True)\n",
      "server.register_instance(ImageService())\n",
      "#server = SimpleXMLRPCServer(('localhost', 9000), logRequests=True, allow_none=True)\n",
      "\n",
      "server.register_introspection_functions()\n",
      "server.register_multicall_functions()\n",
      " \n",
      "try:\n",
      "    print 'Use Control-C to exit'\n",
      "    server.serve_forever()\n",
      "except KeyboardInterrupt:\n",
      "    print 'Exiting'"
     ],
     "language": "python",
     "metadata": {},
     "outputs": [
      {
       "output_type": "stream",
       "stream": "stderr",
       "text": [
        "127.0.0.1 - - [06/Oct/2013 18:36:54] \"POST /RPC2 HTTP/1.1\" 200 -\n",
        "127.0.0.1 - - [06/Oct/2013 18:36:54] \"POST /RPC2 HTTP/1.1\" 200 -\n"
       ]
      },
      {
       "output_type": "stream",
       "stream": "stderr",
       "text": [
        "127.0.0.1 - - [06/Oct/2013 18:36:55] \"POST /RPC2 HTTP/1.1\" 200 -\n",
        "127.0.0.1 - - [06/Oct/2013 18:36:55] \"POST /RPC2 HTTP/1.1\" 200 -\n"
       ]
      }
     ],
     "prompt_number": "*"
    },
    {
     "cell_type": "code",
     "collapsed": false,
     "input": [
      "server.serve_forever()"
     ],
     "language": "python",
     "metadata": {},
     "outputs": [],
     "prompt_number": "*"
    },
    {
     "cell_type": "code",
     "collapsed": false,
     "input": [],
     "language": "python",
     "metadata": {},
     "outputs": []
    },
    {
     "cell_type": "code",
     "collapsed": false,
     "input": [],
     "language": "python",
     "metadata": {},
     "outputs": []
    },
    {
     "cell_type": "code",
     "collapsed": false,
     "input": [],
     "language": "python",
     "metadata": {},
     "outputs": []
    }
   ],
   "metadata": {}
  }
 ]
}