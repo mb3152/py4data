{
 "metadata": {
  "name": ""
 },
 "nbformat": 3,
 "nbformat_minor": 0,
 "worksheets": [
  {
   "cells": [
    {
     "cell_type": "code",
     "collapsed": false,
     "input": [
      "import xmlrpclib, sys\n",
      "from PIL import Image\n",
      "import skimage.io as io\n",
      "import numpy as np\n",
      "from scipy.misc import toimage\n",
      "from PIL import Image \n",
      "from scipy import ndimage\n",
      "#from SimpleXMLRPCServer import SimpleXMLRPCServer\n",
      "import SimpleXMLRPCServer\n",
      "from skimage import data, img_as_float\n",
      "from skimage import filter\n",
      "from skimage.color import gray2rgb\n",
      "from skimage.color import rgb2gray\n",
      "from skimage.filter import sobel\n",
      "from skimage.filter import threshold_otsu\n",
      "from skimage.measure import structural_similarity as ssim\n",
      "from xmlrpclib import Binary\n",
      "import datetime\n",
      "import logging\n",
      "import matplotlib.pyplot as plt\n",
      "import numpy as np\n",
      "import os\n",
      "import pylab\n",
      "import skimage.io as io\n",
      "import xmlrpclib\n",
      "import xmlrpclib, sys\n",
      "import pickle"
     ],
     "language": "python",
     "metadata": {},
     "outputs": [],
     "prompt_number": 1
    },
    {
     "cell_type": "code",
     "collapsed": false,
     "input": [
      "#image = raw_input(\"what image do you want to mess with? \")"
     ],
     "language": "python",
     "metadata": {},
     "outputs": [],
     "prompt_number": 2
    },
    {
     "cell_type": "code",
     "collapsed": false,
     "input": [
      "#manipulation = raw_input('You can do color2black, detectedges, or brighten. What do you want to do to your image? ')"
     ],
     "language": "python",
     "metadata": {},
     "outputs": [],
     "prompt_number": 3
    },
    {
     "cell_type": "code",
     "collapsed": false,
     "input": [
      "host, port = \"\", 5025\n",
      "server = xmlrpclib.ServerProxy(\"http://%s:%d\" % (host, port))\n",
      "#server = xmlrpclib.ServerProxy('http://localhost:9000')"
     ],
     "language": "python",
     "metadata": {},
     "outputs": [],
     "prompt_number": 4
    },
    {
     "cell_type": "code",
     "collapsed": false,
     "input": [
      "print server.system.listMethods()"
     ],
     "language": "python",
     "metadata": {},
     "outputs": [
      {
       "output_type": "stream",
       "stream": "stdout",
       "text": [
        "['brighten', 'color2black', 'detectedges', 'system.listMethods', 'system.methodHelp', 'system.methodSignature', 'system.multicall', 'test']\n"
       ]
      }
     ],
     "prompt_number": 5
    },
    {
     "cell_type": "code",
     "collapsed": false,
     "input": [
      "test = server.test()\n",
      "print test"
     ],
     "language": "python",
     "metadata": {},
     "outputs": [
      {
       "output_type": "stream",
       "stream": "stdout",
       "text": [
        "You are connected to Maxwell's Lossless Image Manipulator\n"
       ]
      }
     ],
     "prompt_number": 6
    },
    {
     "cell_type": "code",
     "collapsed": false,
     "input": [
      "def imagetolist(image):\n",
      "    image = io.imread(image)\n",
      "    image = image.tolist()\n",
      "    return image\n",
      "def show_image_from_list(image):\n",
      "    image = np.array(image,dtype=float)\n",
      "    x = toimage(image).show()\n",
      "    return x"
     ],
     "language": "python",
     "metadata": {},
     "outputs": [],
     "prompt_number": 7
    },
    {
     "cell_type": "code",
     "collapsed": false,
     "input": [
      "image = 'bassetts.jpg'\n",
      "image = imagetolist(image)"
     ],
     "language": "python",
     "metadata": {},
     "outputs": [],
     "prompt_number": 8
    },
    {
     "cell_type": "code",
     "collapsed": false,
     "input": [
      "edges = server.detectedges(image)\n",
      "show_image_from_list(edges)"
     ],
     "language": "python",
     "metadata": {},
     "outputs": [],
     "prompt_number": "*"
    },
    {
     "cell_type": "code",
     "collapsed": false,
     "input": [
      "bw = server.color2black(image)\n",
      "show_image_from_list(bw)"
     ],
     "language": "python",
     "metadata": {},
     "outputs": [],
     "prompt_number": "*"
    },
    {
     "cell_type": "code",
     "collapsed": false,
     "input": [
      "bright = server.brighten(image)\n",
      "show_image_from_list(bright)"
     ],
     "language": "python",
     "metadata": {},
     "outputs": [],
     "prompt_number": "*"
    }
   ],
   "metadata": {}
  }
 ]
}