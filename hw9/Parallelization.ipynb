{
 "metadata": {
  "name": ""
 },
 "nbformat": 3,
 "nbformat_minor": 0,
 "worksheets": [
  {
   "cells": [
    {
     "cell_type": "heading",
     "level": 1,
     "metadata": {},
     "source": [
      "Homework 9: Parallelization"
     ]
    },
    {
     "cell_type": "heading",
     "level": 3,
     "metadata": {},
     "source": [
      "Stuff I will use for all three types of \u03c0 finders"
     ]
    },
    {
     "cell_type": "code",
     "collapsed": false,
     "input": [
      "#I am going to make a list of numbers of darts to try. \n",
      "darts = []\n",
      "powers = xrange(1,7) #make this bigger in the end\n",
      "for p in powers:\n",
      "    p = 10**p\n",
      "    darts.append(p)\n",
      "darts"
     ],
     "language": "python",
     "metadata": {},
     "outputs": [
      {
       "metadata": {},
       "output_type": "pyout",
       "prompt_number": 14,
       "text": [
        "[10, 100, 1000, 10000, 100000, 1000000]"
       ]
      }
     ],
     "prompt_number": 14
    },
    {
     "cell_type": "code",
     "collapsed": false,
     "input": [
      "#dart thrower, count number of darts in circle \n",
      "from random import uniform\n",
      "from math import sqrt\n",
      "def in_circle(n): \n",
      "    num_hits = 0\n",
      "    for dart in xrange(n):\n",
      "            x,y, = uniform(0,1), uniform(0,1)\n",
      "            if sqrt((x - 0.5)**2 + (y - 0.5)**2) <= 0.5:\n",
      "                num_hits += 1\n",
      "    return num_hits"
     ],
     "language": "python",
     "metadata": {},
     "outputs": [],
     "prompt_number": 15
    },
    {
     "cell_type": "code",
     "collapsed": false,
     "input": [
      "#dart thrower, count number of darts in circle \n",
      "def in_circle2(n):\n",
      "    from random import uniform\n",
      "    from math import sqrt # had to have these in there for IPython way. Weird. \n",
      "    num_hits = 0\n",
      "    for dart in xrange(n):\n",
      "            x,y, = uniform(0,1), uniform(0,1)\n",
      "            if sqrt((x - 0.5)**2 + (y - 0.5)**2) <= 0.5:\n",
      "                num_hits += 1\n",
      "    return num_hits"
     ],
     "language": "python",
     "metadata": {},
     "outputs": [],
     "prompt_number": 16
    },
    {
     "cell_type": "code",
     "collapsed": false,
     "input": [
      "#define Pi for comparisons \n",
      "realPi = 3.141592653589793\n",
      "realPi"
     ],
     "language": "python",
     "metadata": {},
     "outputs": [
      {
       "metadata": {},
       "output_type": "pyout",
       "prompt_number": 17,
       "text": [
        "3.141592653589793"
       ]
      }
     ],
     "prompt_number": 17
    },
    {
     "cell_type": "code",
     "collapsed": false,
     "input": [
      "from time import time\n",
      "import pandas as pd"
     ],
     "language": "python",
     "metadata": {},
     "outputs": [],
     "prompt_number": 26
    },
    {
     "cell_type": "heading",
     "level": 2,
     "metadata": {},
     "source": [
      "Serial \u03c0"
     ]
    },
    {
     "cell_type": "code",
     "collapsed": false,
     "input": [
      "def serial_pi(n):\n",
      "    start_time = time()\n",
      "    num_hits = in_circle(n)\n",
      "    end_time = time()\n",
      "    run_time = end_time - start_time\n",
      "    pish = 4 * num_hits / float(n)\n",
      "    print 'Number of darts = ' + str(n)\n",
      "    print 'Pi Approximation = ' + str(pish)\n",
      "    print 'Missed Pi by ', abs(pish - realPi)\n",
      "    print 'Run Time = ' + str(run_time)\n",
      "    print 'Darts thrown per second = ' + str(n / run_time)"
     ],
     "language": "python",
     "metadata": {},
     "outputs": [],
     "prompt_number": 19
    },
    {
     "cell_type": "heading",
     "level": 2,
     "metadata": {},
     "source": [
      "Multiprocessing \u03c0"
     ]
    },
    {
     "cell_type": "code",
     "collapsed": false,
     "input": [
      "import random\n",
      "import multiprocessing\n",
      "from multiprocessing import Pool"
     ],
     "language": "python",
     "metadata": {},
     "outputs": [],
     "prompt_number": 27
    },
    {
     "cell_type": "heading",
     "level": 4,
     "metadata": {},
     "source": [
      "I found that you can either do the apply_async or the pool.map, so I tried both."
     ]
    },
    {
     "cell_type": "code",
     "collapsed": false,
     "input": [
      "#using apply_async\n",
      "def multi_pi(n):\n",
      "    start_time = time()\n",
      "    #get number of processors\n",
      "    np = multiprocessing.cpu_count()\n",
      "    #Create the pool\n",
      "    pool = Pool(processes=np)   \n",
      "    \n",
      "    multiestimate = pool.apply_async(in_circle, [n])\n",
      "    estimatedpi = multiestimate.get()/(n*1.0)*4\n",
      "    end_time = time()\n",
      "    run_time = end_time - start_time\n",
      "\n",
      "    print 'Number of darts = ' + str(n)\n",
      "    print \"Estimated value of Pi:: \", estimatedpi\n",
      "    print 'Missed Pi by ', abs(estimatedpi - realPi)\n",
      "    print 'Run Time = ' + str(run_time)\n",
      "    print 'Darts thrown per second = ' + str(n / run_time)"
     ],
     "language": "python",
     "metadata": {},
     "outputs": [],
     "prompt_number": 21
    },
    {
     "cell_type": "code",
     "collapsed": false,
     "input": [
      "#Using pool.map\n",
      "def multi_pi2(n):\n",
      "    start_time = time()\n",
      "    #get number of processors\n",
      "    np = multiprocessing.cpu_count()\n",
      "    #divide up the workload\n",
      "    divided =[n/np for i in range(np)]\n",
      "    \n",
      "    #Create the pool\n",
      "    pool = Pool(processes=np)   \n",
      "    \n",
      "    # parallel map\n",
      "    multiestimate = pool.map(in_circle, divided)\n",
      "    end_time = time()\n",
      "    run_time = end_time - start_time\n",
      "    estimatedpi = sum(multiestimate)/(n*1.0)*4\n",
      "\n",
      "    print 'Number of darts = ' + str(n)\n",
      "    print \"Estimated value of Pi:: \", estimatedpi\n",
      "    print 'Missed Pi by ', abs(estimatedpi - realPi)\n",
      "    print 'Run Time = ' + str(run_time)\n",
      "    print 'Darts thrown per second = ' + str(n / run_time)"
     ],
     "language": "python",
     "metadata": {},
     "outputs": [],
     "prompt_number": 22
    },
    {
     "cell_type": "heading",
     "level": 2,
     "metadata": {},
     "source": [
      "IPython Parallel Module \u03c0"
     ]
    },
    {
     "cell_type": "code",
     "collapsed": false,
     "input": [
      "from IPython import parallel\n",
      "def iPyPi(n):\n",
      "    start_time = time()\n",
      "    rc = parallel.Client()\n",
      "    view = rc[:]\n",
      "    np = len(view.targets) #number of processors\n",
      "    divided = n/np\n",
      "    multiestimate = view.apply_async(in_circle2, divided)\n",
      "    end_time = time()\n",
      "    run_time = end_time - start_time\n",
      "    estimatedPi =  (sum(multiestimate))/(n*1.0)*4\n",
      "    print 'Number of darts = ' + str(n)\n",
      "    print \"Estimated value of Pi:: \", estimatedPi\n",
      "    print 'Missed Pi by ', abs(estimatedPi - realPi)\n",
      "    print 'Run Time = ' + str(run_time)\n",
      "    print 'Darts thrown per second = ' + str(n / run_time)"
     ],
     "language": "python",
     "metadata": {},
     "outputs": [],
     "prompt_number": 23
    },
    {
     "cell_type": "heading",
     "level": 4,
     "metadata": {},
     "source": [
      "Let's see performance next to each other..."
     ]
    },
    {
     "cell_type": "code",
     "collapsed": false,
     "input": [
      "#not that many darts...\n",
      "print 'Serial'\n",
      "serial_pi(100)\n",
      "print '______________________________'\n",
      "serial_pi(1000)\n",
      "print '______________________________'\n",
      "serial_pi(1000000)\n",
      "print '_______________________________________________________'\n",
      "print 'Multi 1'\n",
      "multi_pi(100)\n",
      "print '______________________________'\n",
      "multi_pi(1000)\n",
      "print '______________________________'\n",
      "multi_pi(1000000)\n",
      "print '_______________________________________________________'\n",
      "print 'Multi 2'\n",
      "multi_pi2(100)\n",
      "print '______________________________'\n",
      "multi_pi2(1000)\n",
      "print '______________________________'\n",
      "multi_pi2(1000000)\n",
      "print '_______________________________________________________'\n",
      "print 'Ipython'\n",
      "iPyPi(100)\n",
      "print '______________________________'\n",
      "iPyPi(1000)\n",
      "print '______________________________'\n",
      "iPyPi(1000000)"
     ],
     "language": "python",
     "metadata": {},
     "outputs": [
      {
       "output_type": "stream",
       "stream": "stdout",
       "text": [
        "Serial\n",
        "Number of darts = 100\n",
        "Pi Approximation = 3.28\n",
        "Missed Pi by  0.13840734641\n",
        "Run Time = 0.000308036804199\n",
        "Darts thrown per second = 324636.532508\n",
        "______________________________\n",
        "Number of darts = 1000\n",
        "Pi Approximation = 3.076\n",
        "Missed Pi by  0.0655926535898\n",
        "Run Time = 0.00241899490356\n",
        "Darts thrown per second = 413394.835403\n",
        "______________________________\n",
        "Number of darts = 1000000"
       ]
      },
      {
       "output_type": "stream",
       "stream": "stdout",
       "text": [
        "\n",
        "Pi Approximation = 3.14154\n",
        "Missed Pi by  5.26535897931e-05\n",
        "Run Time = 1.06744503975\n",
        "Darts thrown per second = 936816.381886\n",
        "_______________________________________________________\n",
        "Multi 1\n"
       ]
      },
      {
       "output_type": "stream",
       "stream": "stdout",
       "text": [
        "Number of darts = 100\n",
        "Estimated value of Pi::  3.08\n",
        "Missed Pi by  0.0615926535898\n",
        "Run Time = 0.0171439647675\n",
        "Darts thrown per second = 5832.95645765\n",
        "______________________________\n"
       ]
      },
      {
       "output_type": "stream",
       "stream": "stdout",
       "text": [
        "Number of darts = 1000\n",
        "Estimated value of Pi::  3.052\n",
        "Missed Pi by  0.0895926535898\n",
        "Run Time = 0.0245280265808\n",
        "Darts thrown per second = 40769.6883687\n",
        "______________________________\n"
       ]
      },
      {
       "output_type": "stream",
       "stream": "stdout",
       "text": [
        "Number of darts = 1000000\n",
        "Estimated value of Pi::  3.140228\n",
        "Missed Pi by  0.00136465358979\n",
        "Run Time = 1.05641007423\n",
        "Darts thrown per second = 946602.104988\n",
        "_______________________________________________________\n",
        "Multi 2\n"
       ]
      },
      {
       "output_type": "stream",
       "stream": "stdout",
       "text": [
        "Number of darts = 100\n",
        "Estimated value of Pi::  3.04\n",
        "Missed Pi by  0.10159265359\n",
        "Run Time = 0.0201828479767\n",
        "Darts thrown per second = 4954.70213696\n",
        "______________________________\n"
       ]
      },
      {
       "output_type": "stream",
       "stream": "stdout",
       "text": [
        "Number of darts = 1000\n",
        "Estimated value of Pi::  3.168\n",
        "Missed Pi by  0.0264073464102\n",
        "Run Time = 0.0291628837585\n",
        "Darts thrown per second = 34290.1617096\n",
        "______________________________\n"
       ]
      },
      {
       "output_type": "stream",
       "stream": "stdout",
       "text": [
        "Number of darts = 1000000\n",
        "Estimated value of Pi::  3.141208\n",
        "Missed Pi by  0.000384653589793\n",
        "Run Time = 0.575221061707\n",
        "Darts thrown per second = 1738462.0741\n",
        "_______________________________________________________\n",
        "Ipython\n",
        "Number of darts = 100\n",
        "Estimated value of Pi::  3.16\n",
        "Missed Pi by  0.0184073464102\n",
        "Run Time = 0.00899791717529\n",
        "Darts thrown per second = 11113.6830949\n",
        "______________________________\n",
        "Number of darts = 1000\n",
        "Estimated value of Pi::  3.18\n",
        "Missed Pi by  0.0384073464102\n",
        "Run Time = 0.00567603111267\n",
        "Darts thrown per second = 176179.443021\n",
        "______________________________\n",
        "Number of darts = 1000000"
       ]
      },
      {
       "output_type": "stream",
       "stream": "stdout",
       "text": [
        "\n",
        "Estimated value of Pi::  3.139992\n",
        "Missed Pi by  0.00160065358979\n",
        "Run Time = 0.00575017929077\n",
        "Darts thrown per second = 173907620.864\n"
       ]
      }
     ],
     "prompt_number": 20
    },
    {
     "cell_type": "heading",
     "level": 4,
     "metadata": {},
     "source": [
      "It looks like the performance gains take a while to get going! "
     ]
    },
    {
     "cell_type": "heading",
     "level": 1,
     "metadata": {},
     "source": [
      "Formal Testing & Plotting"
     ]
    },
    {
     "cell_type": "heading",
     "level": 3,
     "metadata": {},
     "source": [
      "We want to plot Execution Time, Throwing Rate, and Number of Darts for all three different way..."
     ]
    },
    {
     "cell_type": "heading",
     "level": 4,
     "metadata": {},
     "source": [
      "Redefine all my fuctions to return relevent data instead of printing it out"
     ]
    },
    {
     "cell_type": "code",
     "collapsed": false,
     "input": [
      "def serial_pi(n):\n",
      "    start_time = time()\n",
      "    num_hits = in_circle(n)\n",
      "    end_time = time()\n",
      "    run_time = end_time - start_time\n",
      "    pish = 4 * num_hits / float(n)\n",
      "    throw_rate = n / run_time\n",
      "    return (run_time, n, throw_rate)\n",
      "\n",
      "import random\n",
      "import multiprocessing\n",
      "from multiprocessing import Pool\n",
      "\n",
      "def multi_pi(n):\n",
      "    start_time = time()\n",
      "    #get number of processors\n",
      "    np = multiprocessing.cpu_count()\n",
      "    #Create the pool\n",
      "    pool = Pool(processes=np)   \n",
      "    \n",
      "    multiestimate = pool.apply_async(in_circle, [n])\n",
      "    estimatedpi = multiestimate.get()/(n*1.0)*4\n",
      "    end_time = time()\n",
      "    run_time = end_time - start_time\n",
      "    throw_rate = n / run_time\n",
      "    return (run_time, n, throw_rate)\n",
      "\n",
      "from IPython import parallel\n",
      "def iPyPi(n):\n",
      "    start_time = time()\n",
      "    rc = parallel.Client()\n",
      "    view = rc[:]\n",
      "    np = len(view.targets) #number of processors\n",
      "    divided = n/np\n",
      "    multiestimate = view.apply_async(in_circle2, divided)\n",
      "    end_time = time()\n",
      "    run_time = end_time - start_time\n",
      "    estimatedPi =  (sum(multiestimate))/(n*1.0)*4\n",
      "    throw_rate = n / run_time\n",
      "    return (run_time, n, throw_rate)"
     ],
     "language": "python",
     "metadata": {},
     "outputs": [],
     "prompt_number": 24
    },
    {
     "cell_type": "code",
     "collapsed": false,
     "input": [
      "serial = []\n",
      "multi = []\n",
      "iPy = []\n",
      "for dart in darts:\n",
      "    x = serial_pi(dart)\n",
      "    serial.append(x)\n",
      "    y = multi_pi(dart)\n",
      "    multi.append(y)\n",
      "    z = iPyPi(dart)\n",
      "    iPy.append(z)"
     ],
     "language": "python",
     "metadata": {},
     "outputs": [
      {
       "ename": "IOError",
       "evalue": "[Errno 2] No such file or directory: u'/Users/Maxwell/.ipython/profile_default/security/ipcontroller-client.json'",
       "output_type": "pyerr",
       "traceback": [
        "\u001b[0;31m---------------------------------------------------------------------------\u001b[0m\n\u001b[0;31mIOError\u001b[0m                                   Traceback (most recent call last)",
        "\u001b[0;32m<ipython-input-28-cb002cbc7660>\u001b[0m in \u001b[0;36m<module>\u001b[0;34m()\u001b[0m\n\u001b[1;32m      7\u001b[0m     \u001b[0my\u001b[0m \u001b[0;34m=\u001b[0m \u001b[0mmulti_pi\u001b[0m\u001b[0;34m(\u001b[0m\u001b[0mdart\u001b[0m\u001b[0;34m)\u001b[0m\u001b[0;34m\u001b[0m\u001b[0m\n\u001b[1;32m      8\u001b[0m     \u001b[0mmulti\u001b[0m\u001b[0;34m.\u001b[0m\u001b[0mappend\u001b[0m\u001b[0;34m(\u001b[0m\u001b[0my\u001b[0m\u001b[0;34m)\u001b[0m\u001b[0;34m\u001b[0m\u001b[0m\n\u001b[0;32m----> 9\u001b[0;31m     \u001b[0mz\u001b[0m \u001b[0;34m=\u001b[0m \u001b[0miPyPi\u001b[0m\u001b[0;34m(\u001b[0m\u001b[0mdart\u001b[0m\u001b[0;34m)\u001b[0m\u001b[0;34m\u001b[0m\u001b[0m\n\u001b[0m\u001b[1;32m     10\u001b[0m     \u001b[0miPy\u001b[0m\u001b[0;34m.\u001b[0m\u001b[0mappend\u001b[0m\u001b[0;34m(\u001b[0m\u001b[0mz\u001b[0m\u001b[0;34m)\u001b[0m\u001b[0;34m\u001b[0m\u001b[0m\n",
        "\u001b[0;32m<ipython-input-24-fb4355695962>\u001b[0m in \u001b[0;36miPyPi\u001b[0;34m(n)\u001b[0m\n\u001b[1;32m     29\u001b[0m \u001b[0;32mdef\u001b[0m \u001b[0miPyPi\u001b[0m\u001b[0;34m(\u001b[0m\u001b[0mn\u001b[0m\u001b[0;34m)\u001b[0m\u001b[0;34m:\u001b[0m\u001b[0;34m\u001b[0m\u001b[0m\n\u001b[1;32m     30\u001b[0m     \u001b[0mstart_time\u001b[0m \u001b[0;34m=\u001b[0m \u001b[0mtime\u001b[0m\u001b[0;34m(\u001b[0m\u001b[0;34m)\u001b[0m\u001b[0;34m\u001b[0m\u001b[0m\n\u001b[0;32m---> 31\u001b[0;31m     \u001b[0mrc\u001b[0m \u001b[0;34m=\u001b[0m \u001b[0mparallel\u001b[0m\u001b[0;34m.\u001b[0m\u001b[0mClient\u001b[0m\u001b[0;34m(\u001b[0m\u001b[0;34m)\u001b[0m\u001b[0;34m\u001b[0m\u001b[0m\n\u001b[0m\u001b[1;32m     32\u001b[0m     \u001b[0mview\u001b[0m \u001b[0;34m=\u001b[0m \u001b[0mrc\u001b[0m\u001b[0;34m[\u001b[0m\u001b[0;34m:\u001b[0m\u001b[0;34m]\u001b[0m\u001b[0;34m\u001b[0m\u001b[0m\n\u001b[1;32m     33\u001b[0m     \u001b[0mnp\u001b[0m \u001b[0;34m=\u001b[0m \u001b[0mlen\u001b[0m\u001b[0;34m(\u001b[0m\u001b[0mview\u001b[0m\u001b[0;34m.\u001b[0m\u001b[0mtargets\u001b[0m\u001b[0;34m)\u001b[0m \u001b[0;31m#number of processors\u001b[0m\u001b[0;34m\u001b[0m\u001b[0m\n",
        "\u001b[0;32m//anaconda/lib/python2.7/site-packages/IPython/parallel/client/client.pyc\u001b[0m in \u001b[0;36m__init__\u001b[0;34m(self, url_file, profile, profile_dir, ipython_dir, context, debug, sshserver, sshkey, password, paramiko, timeout, cluster_id, **extra_args)\u001b[0m\n\u001b[1;32m    407\u001b[0m             )\n\u001b[1;32m    408\u001b[0m \u001b[0;34m\u001b[0m\u001b[0m\n\u001b[0;32m--> 409\u001b[0;31m         \u001b[0;32mwith\u001b[0m \u001b[0mopen\u001b[0m\u001b[0;34m(\u001b[0m\u001b[0murl_file\u001b[0m\u001b[0;34m)\u001b[0m \u001b[0;32mas\u001b[0m \u001b[0mf\u001b[0m\u001b[0;34m:\u001b[0m\u001b[0;34m\u001b[0m\u001b[0m\n\u001b[0m\u001b[1;32m    410\u001b[0m             \u001b[0mcfg\u001b[0m \u001b[0;34m=\u001b[0m \u001b[0mjson\u001b[0m\u001b[0;34m.\u001b[0m\u001b[0mload\u001b[0m\u001b[0;34m(\u001b[0m\u001b[0mf\u001b[0m\u001b[0;34m)\u001b[0m\u001b[0;34m\u001b[0m\u001b[0m\n\u001b[1;32m    411\u001b[0m \u001b[0;34m\u001b[0m\u001b[0m\n",
        "\u001b[0;31mIOError\u001b[0m: [Errno 2] No such file or directory: u'/Users/Maxwell/.ipython/profile_default/security/ipcontroller-client.json'"
       ]
      }
     ],
     "prompt_number": 28
    },
    {
     "cell_type": "code",
     "collapsed": false,
     "input": [
      "df = pd.DataFrame(serial)\n",
      "df.columns = ['Serial Run Time', 'Darts', 'Serial Throw Rate']\n",
      "df.set_index('Darts')"
     ],
     "language": "python",
     "metadata": {},
     "outputs": [
      {
       "html": [
        "<div style=\"max-height:1000px;max-width:1500px;overflow:auto;\">\n",
        "<table border=\"1\" class=\"dataframe\">\n",
        "  <thead>\n",
        "    <tr style=\"text-align: right;\">\n",
        "      <th></th>\n",
        "      <th>Serial Run Time</th>\n",
        "      <th>Serial Throw Rate</th>\n",
        "    </tr>\n",
        "    <tr>\n",
        "      <th>Darts</th>\n",
        "      <th></th>\n",
        "      <th></th>\n",
        "    </tr>\n",
        "  </thead>\n",
        "  <tbody>\n",
        "    <tr>\n",
        "      <th>10     </th>\n",
        "      <td> 0.000040</td>\n",
        "      <td> 249660.952381</td>\n",
        "    </tr>\n",
        "    <tr>\n",
        "      <th>100    </th>\n",
        "      <td> 0.000179</td>\n",
        "      <td> 558495.872170</td>\n",
        "    </tr>\n",
        "    <tr>\n",
        "      <th>1000   </th>\n",
        "      <td> 0.002308</td>\n",
        "      <td> 433295.867769</td>\n",
        "    </tr>\n",
        "    <tr>\n",
        "      <th>10000  </th>\n",
        "      <td> 0.013515</td>\n",
        "      <td> 739918.851215</td>\n",
        "    </tr>\n",
        "    <tr>\n",
        "      <th>100000 </th>\n",
        "      <td> 0.115324</td>\n",
        "      <td> 867122.041579</td>\n",
        "    </tr>\n",
        "    <tr>\n",
        "      <th>1000000</th>\n",
        "      <td> 1.095862</td>\n",
        "      <td> 912523.532111</td>\n",
        "    </tr>\n",
        "  </tbody>\n",
        "</table>\n",
        "</div>"
       ],
       "metadata": {},
       "output_type": "pyout",
       "prompt_number": 216,
       "text": [
        "         Serial Run Time  Serial Throw Rate\n",
        "Darts                                      \n",
        "10              0.000040      249660.952381\n",
        "100             0.000179      558495.872170\n",
        "1000            0.002308      433295.867769\n",
        "10000           0.013515      739918.851215\n",
        "100000          0.115324      867122.041579\n",
        "1000000         1.095862      912523.532111"
       ]
      }
     ],
     "prompt_number": 216
    },
    {
     "cell_type": "code",
     "collapsed": false,
     "input": [
      "multidf = pd.DataFrame(multi)\n",
      "multidf.columns = ['Multi Run Time', 'Darts', 'Multi Throw Rate']\n",
      "multidf.set_index('Darts')"
     ],
     "language": "python",
     "metadata": {},
     "outputs": [
      {
       "html": [
        "<div style=\"max-height:1000px;max-width:1500px;overflow:auto;\">\n",
        "<table border=\"1\" class=\"dataframe\">\n",
        "  <thead>\n",
        "    <tr style=\"text-align: right;\">\n",
        "      <th></th>\n",
        "      <th>Multi Run Time</th>\n",
        "      <th>Multi Throw Rate</th>\n",
        "    </tr>\n",
        "    <tr>\n",
        "      <th>Darts</th>\n",
        "      <th></th>\n",
        "      <th></th>\n",
        "    </tr>\n",
        "  </thead>\n",
        "  <tbody>\n",
        "    <tr>\n",
        "      <th>10     </th>\n",
        "      <td> 0.013846</td>\n",
        "      <td>    722.234391</td>\n",
        "    </tr>\n",
        "    <tr>\n",
        "      <th>100    </th>\n",
        "      <td> 0.014326</td>\n",
        "      <td>   6980.268939</td>\n",
        "    </tr>\n",
        "    <tr>\n",
        "      <th>1000   </th>\n",
        "      <td> 0.017682</td>\n",
        "      <td>  56554.446901</td>\n",
        "    </tr>\n",
        "    <tr>\n",
        "      <th>10000  </th>\n",
        "      <td> 0.025889</td>\n",
        "      <td> 386265.632770</td>\n",
        "    </tr>\n",
        "    <tr>\n",
        "      <th>100000 </th>\n",
        "      <td> 0.116306</td>\n",
        "      <td> 859800.378416</td>\n",
        "    </tr>\n",
        "    <tr>\n",
        "      <th>1000000</th>\n",
        "      <td> 1.038577</td>\n",
        "      <td> 962855.833694</td>\n",
        "    </tr>\n",
        "  </tbody>\n",
        "</table>\n",
        "</div>"
       ],
       "metadata": {},
       "output_type": "pyout",
       "prompt_number": 217,
       "text": [
        "         Multi Run Time  Multi Throw Rate\n",
        "Darts                                    \n",
        "10             0.013846        722.234391\n",
        "100            0.014326       6980.268939\n",
        "1000           0.017682      56554.446901\n",
        "10000          0.025889     386265.632770\n",
        "100000         0.116306     859800.378416\n",
        "1000000        1.038577     962855.833694"
       ]
      }
     ],
     "prompt_number": 217
    },
    {
     "cell_type": "code",
     "collapsed": false,
     "input": [
      "pypidf = pd.DataFrame(iPy)\n",
      "pypidf.columns = ['IPy Run Time', 'Darts', 'IPy Throw Rate']\n",
      "pypidf.set_index('Darts')"
     ],
     "language": "python",
     "metadata": {},
     "outputs": [
      {
       "html": [
        "<div style=\"max-height:1000px;max-width:1500px;overflow:auto;\">\n",
        "<table border=\"1\" class=\"dataframe\">\n",
        "  <thead>\n",
        "    <tr style=\"text-align: right;\">\n",
        "      <th></th>\n",
        "      <th>IPy Run Time</th>\n",
        "      <th>IPy Throw Rate</th>\n",
        "    </tr>\n",
        "    <tr>\n",
        "      <th>Darts</th>\n",
        "      <th></th>\n",
        "      <th></th>\n",
        "    </tr>\n",
        "  </thead>\n",
        "  <tbody>\n",
        "    <tr>\n",
        "      <th>10     </th>\n",
        "      <td> 0.026195</td>\n",
        "      <td> 3.817515e+02</td>\n",
        "    </tr>\n",
        "    <tr>\n",
        "      <th>100    </th>\n",
        "      <td> 0.011154</td>\n",
        "      <td> 8.965253e+03</td>\n",
        "    </tr>\n",
        "    <tr>\n",
        "      <th>1000   </th>\n",
        "      <td> 0.013028</td>\n",
        "      <td> 7.675690e+04</td>\n",
        "    </tr>\n",
        "    <tr>\n",
        "      <th>10000  </th>\n",
        "      <td> 0.011116</td>\n",
        "      <td> 8.996212e+05</td>\n",
        "    </tr>\n",
        "    <tr>\n",
        "      <th>100000 </th>\n",
        "      <td> 0.007954</td>\n",
        "      <td> 1.257210e+07</td>\n",
        "    </tr>\n",
        "    <tr>\n",
        "      <th>1000000</th>\n",
        "      <td> 0.008660</td>\n",
        "      <td> 1.154756e+08</td>\n",
        "    </tr>\n",
        "  </tbody>\n",
        "</table>\n",
        "</div>"
       ],
       "metadata": {},
       "output_type": "pyout",
       "prompt_number": 218,
       "text": [
        "         IPy Run Time  IPy Throw Rate\n",
        "Darts                                \n",
        "10           0.026195    3.817515e+02\n",
        "100          0.011154    8.965253e+03\n",
        "1000         0.013028    7.675690e+04\n",
        "10000        0.011116    8.996212e+05\n",
        "100000       0.007954    1.257210e+07\n",
        "1000000      0.008660    1.154756e+08"
       ]
      }
     ],
     "prompt_number": 218
    },
    {
     "cell_type": "code",
     "collapsed": false,
     "input": [
      "import matplotlib.pylab as plt\n",
      "merged = pd.merge(multidf, df, on='Darts')\n",
      "merged.set_index('Darts')\n",
      "merged = pd.merge(pypidf, merged, on='Darts')\n",
      "merged.set_index('Darts').head(10)"
     ],
     "language": "python",
     "metadata": {},
     "outputs": [
      {
       "html": [
        "<div style=\"max-height:1000px;max-width:1500px;overflow:auto;\">\n",
        "<table border=\"1\" class=\"dataframe\">\n",
        "  <thead>\n",
        "    <tr style=\"text-align: right;\">\n",
        "      <th></th>\n",
        "      <th>IPy Run Time</th>\n",
        "      <th>IPy Throw Rate</th>\n",
        "      <th>Multi Run Time</th>\n",
        "      <th>Multi Throw Rate</th>\n",
        "      <th>Serial Run Time</th>\n",
        "      <th>Serial Throw Rate</th>\n",
        "    </tr>\n",
        "    <tr>\n",
        "      <th>Darts</th>\n",
        "      <th></th>\n",
        "      <th></th>\n",
        "      <th></th>\n",
        "      <th></th>\n",
        "      <th></th>\n",
        "      <th></th>\n",
        "    </tr>\n",
        "  </thead>\n",
        "  <tbody>\n",
        "    <tr>\n",
        "      <th>10     </th>\n",
        "      <td> 0.026195</td>\n",
        "      <td> 3.817515e+02</td>\n",
        "      <td> 0.013846</td>\n",
        "      <td>    722.234391</td>\n",
        "      <td> 0.000040</td>\n",
        "      <td> 249660.952381</td>\n",
        "    </tr>\n",
        "    <tr>\n",
        "      <th>100    </th>\n",
        "      <td> 0.011154</td>\n",
        "      <td> 8.965253e+03</td>\n",
        "      <td> 0.014326</td>\n",
        "      <td>   6980.268939</td>\n",
        "      <td> 0.000179</td>\n",
        "      <td> 558495.872170</td>\n",
        "    </tr>\n",
        "    <tr>\n",
        "      <th>1000   </th>\n",
        "      <td> 0.013028</td>\n",
        "      <td> 7.675690e+04</td>\n",
        "      <td> 0.017682</td>\n",
        "      <td>  56554.446901</td>\n",
        "      <td> 0.002308</td>\n",
        "      <td> 433295.867769</td>\n",
        "    </tr>\n",
        "    <tr>\n",
        "      <th>10000  </th>\n",
        "      <td> 0.011116</td>\n",
        "      <td> 8.996212e+05</td>\n",
        "      <td> 0.025889</td>\n",
        "      <td> 386265.632770</td>\n",
        "      <td> 0.013515</td>\n",
        "      <td> 739918.851215</td>\n",
        "    </tr>\n",
        "    <tr>\n",
        "      <th>100000 </th>\n",
        "      <td> 0.007954</td>\n",
        "      <td> 1.257210e+07</td>\n",
        "      <td> 0.116306</td>\n",
        "      <td> 859800.378416</td>\n",
        "      <td> 0.115324</td>\n",
        "      <td> 867122.041579</td>\n",
        "    </tr>\n",
        "    <tr>\n",
        "      <th>1000000</th>\n",
        "      <td> 0.008660</td>\n",
        "      <td> 1.154756e+08</td>\n",
        "      <td> 1.038577</td>\n",
        "      <td> 962855.833694</td>\n",
        "      <td> 1.095862</td>\n",
        "      <td> 912523.532111</td>\n",
        "    </tr>\n",
        "  </tbody>\n",
        "</table>\n",
        "</div>"
       ],
       "metadata": {},
       "output_type": "pyout",
       "prompt_number": 219,
       "text": [
        "         IPy Run Time  IPy Throw Rate  Multi Run Time  Multi Throw Rate  \\\n",
        "Darts                                                                     \n",
        "10           0.026195    3.817515e+02        0.013846        722.234391   \n",
        "100          0.011154    8.965253e+03        0.014326       6980.268939   \n",
        "1000         0.013028    7.675690e+04        0.017682      56554.446901   \n",
        "10000        0.011116    8.996212e+05        0.025889     386265.632770   \n",
        "100000       0.007954    1.257210e+07        0.116306     859800.378416   \n",
        "1000000      0.008660    1.154756e+08        1.038577     962855.833694   \n",
        "\n",
        "         Serial Run Time  Serial Throw Rate  \n",
        "Darts                                        \n",
        "10              0.000040      249660.952381  \n",
        "100             0.000179      558495.872170  \n",
        "1000            0.002308      433295.867769  \n",
        "10000           0.013515      739918.851215  \n",
        "100000          0.115324      867122.041579  \n",
        "1000000         1.095862      912523.532111  "
       ]
      }
     ],
     "prompt_number": 219
    },
    {
     "cell_type": "code",
     "collapsed": false,
     "input": [
      "x1 = merged['IPy Run Time']\n",
      "x2 = merged['Multi Run Time']\n",
      "x3 = merged['Serial Run Time']\n",
      "y = merged['Darts']\n",
      "x1= x1.values\n",
      "x2 = x2.values\n",
      "x3 = x3.values\n",
      "y = y.values"
     ],
     "language": "python",
     "metadata": {},
     "outputs": [],
     "prompt_number": 248
    },
    {
     "cell_type": "code",
     "collapsed": false,
     "input": [
      "import matplotlib.pylab as plot\n",
      "plt.plot(y,x1,color='yellow')\n",
      "plt.plot(y,x2,color = 'red')\n",
      "plt.plot(y,x3,color = 'blue')"
     ],
     "language": "python",
     "metadata": {},
     "outputs": [
      {
       "metadata": {},
       "output_type": "pyout",
       "prompt_number": 252,
       "text": [
        "[<matplotlib.lines.Line2D at 0x110de4a90>]"
       ]
      },
      {
       "metadata": {},
       "output_type": "display_data",
       "png": "[encoded data removed]",
       "text": [
        "<matplotlib.figure.Figure at 0x11103b910>"
       ]
      }
     ],
     "prompt_number": 252
    },
    {
     "cell_type": "code",
     "collapsed": false,
     "input": [
      "plot"
     ],
     "language": "python",
     "metadata": {},
     "outputs": [
      {
       "metadata": {},
       "output_type": "pyout",
       "prompt_number": 185,
       "text": [
        "0    0.000040\n",
        "1    0.000179\n",
        "2    0.002308\n",
        "3    0.013515\n",
        "4    0.115324\n",
        "5    1.095862\n",
        "Name: Serial Run Time, dtype: float64"
       ]
      }
     ],
     "prompt_number": 185
    },
    {
     "cell_type": "code",
     "collapsed": false,
     "input": [
      "type(y)"
     ],
     "language": "python",
     "metadata": {},
     "outputs": [
      {
       "metadata": {},
       "output_type": "pyout",
       "prompt_number": 179,
       "text": [
        "tuple"
       ]
      }
     ],
     "prompt_number": 179
    },
    {
     "cell_type": "code",
     "collapsed": false,
     "input": [
      "y[0]"
     ],
     "language": "python",
     "metadata": {},
     "outputs": [
      {
       "metadata": {},
       "output_type": "pyout",
       "prompt_number": 180,
       "text": [
        "0    0.000040\n",
        "1    0.000179\n",
        "2    0.002308\n",
        "3    0.013515\n",
        "4    0.115324\n",
        "5    1.095862\n",
        "Name: Serial Run Time, dtype: float64"
       ]
      }
     ],
     "prompt_number": 180
    },
    {
     "cell_type": "code",
     "collapsed": false,
     "input": [
      "y[1]"
     ],
     "language": "python",
     "metadata": {},
     "outputs": [
      {
       "metadata": {},
       "output_type": "pyout",
       "prompt_number": 181,
       "text": [
        "0    249660.952381\n",
        "1    558495.872170\n",
        "2    433295.867769\n",
        "3    739918.851215\n",
        "4    867122.041579\n",
        "5    912523.532111\n",
        "Name: Serial Throw Rate, dtype: float64"
       ]
      }
     ],
     "prompt_number": 181
    },
    {
     "cell_type": "code",
     "collapsed": false,
     "input": [],
     "language": "python",
     "metadata": {},
     "outputs": []
    },
    {
     "cell_type": "code",
     "collapsed": false,
     "input": [],
     "language": "python",
     "metadata": {},
     "outputs": [],
     "prompt_number": 27
    },
    {
     "cell_type": "code",
     "collapsed": false,
     "input": [],
     "language": "python",
     "metadata": {},
     "outputs": [],
     "prompt_number": 27
    },
    {
     "cell_type": "code",
     "collapsed": false,
     "input": [],
     "language": "python",
     "metadata": {},
     "outputs": []
    }
   ],
   "metadata": {}
  }
 ]
}