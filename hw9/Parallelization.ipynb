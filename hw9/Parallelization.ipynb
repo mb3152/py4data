{
 "metadata": {
  "name": ""
 },
 "nbformat": 3,
 "nbformat_minor": 0,
 "worksheets": [
  {
   "cells": [
    {
     "cell_type": "heading",
     "level": 1,
     "metadata": {},
     "source": [
      "Homework 9: Parallelization"
     ]
    },
    {
     "cell_type": "heading",
     "level": 3,
     "metadata": {},
     "source": [
      "Stuff I will use for all three types of \u03c0 finders"
     ]
    },
    {
     "cell_type": "code",
     "collapsed": false,
     "input": [
      "#I am going to make a list of numbers of darts to try. \n",
      "darts = []\n",
      "powers = xrange(1,7) #make this bigger in the end\n",
      "for p in powers:\n",
      "    p = 10**p\n",
      "    darts.append(p)\n",
      "darts"
     ],
     "language": "python",
     "metadata": {},
     "outputs": [
      {
       "metadata": {},
       "output_type": "pyout",
       "prompt_number": 1,
       "text": [
        "[10, 100, 1000, 10000, 100000, 1000000]"
       ]
      }
     ],
     "prompt_number": 1
    },
    {
     "cell_type": "code",
     "collapsed": false,
     "input": [
      "#dart thrower, count number of darts in circle \n",
      "from random import uniform\n",
      "from math import sqrt\n",
      "def in_circle(n): \n",
      "    num_hits = 0\n",
      "    for dart in xrange(n):\n",
      "            x,y, = uniform(0,1), uniform(0,1)\n",
      "            if sqrt((x - 0.5)**2 + (y - 0.5)**2) <= 0.5:\n",
      "                num_hits += 1\n",
      "    return num_hits"
     ],
     "language": "python",
     "metadata": {},
     "outputs": [],
     "prompt_number": 2
    },
    {
     "cell_type": "code",
     "collapsed": false,
     "input": [
      "#dart thrower, count number of darts in circle \n",
      "def in_circle2(n):\n",
      "    from random import uniform\n",
      "    from math import sqrt # had to have these in there for IPython way. Weird. \n",
      "    num_hits = 0\n",
      "    for dart in xrange(n):\n",
      "            x,y, = uniform(0,1), uniform(0,1)\n",
      "            if sqrt((x - 0.5)**2 + (y - 0.5)**2) <= 0.5:\n",
      "                num_hits += 1\n",
      "    return num_hits"
     ],
     "language": "python",
     "metadata": {},
     "outputs": [],
     "prompt_number": 3
    },
    {
     "cell_type": "code",
     "collapsed": false,
     "input": [
      "#define Pi for comparisons \n",
      "realPi = 3.141592653589793\n",
      "realPi"
     ],
     "language": "python",
     "metadata": {},
     "outputs": [
      {
       "metadata": {},
       "output_type": "pyout",
       "prompt_number": 4,
       "text": [
        "3.141592653589793"
       ]
      }
     ],
     "prompt_number": 4
    },
    {
     "cell_type": "code",
     "collapsed": false,
     "input": [
      "from time import time\n",
      "import pandas as pd\n",
      "import matplotlib.pylab as plot"
     ],
     "language": "python",
     "metadata": {},
     "outputs": [],
     "prompt_number": 5
    },
    {
     "cell_type": "heading",
     "level": 2,
     "metadata": {},
     "source": [
      "Serial \u03c0"
     ]
    },
    {
     "cell_type": "code",
     "collapsed": false,
     "input": [
      "def serial_pi(n):\n",
      "    start_time = time()\n",
      "    num_hits = in_circle(n)\n",
      "    end_time = time()\n",
      "    run_time = end_time - start_time\n",
      "    pish = 4 * num_hits / float(n)\n",
      "    print 'Number of darts = ' + str(n)\n",
      "    print 'Pi Approximation = ' + str(pish)\n",
      "    print 'Missed Pi by ', abs(pish - realPi)\n",
      "    print 'Run Time = ' + str(run_time)\n",
      "    print 'Darts thrown per second = ' + str(n / run_time)"
     ],
     "language": "python",
     "metadata": {},
     "outputs": [],
     "prompt_number": 19
    },
    {
     "cell_type": "heading",
     "level": 2,
     "metadata": {},
     "source": [
      "Multiprocessing \u03c0"
     ]
    },
    {
     "cell_type": "code",
     "collapsed": false,
     "input": [
      "import random\n",
      "import multiprocessing\n",
      "from multiprocessing import Pool"
     ],
     "language": "python",
     "metadata": {},
     "outputs": [],
     "prompt_number": 27
    },
    {
     "cell_type": "heading",
     "level": 4,
     "metadata": {},
     "source": [
      "I found that you can either do the apply_async or the pool.map, so I tried both."
     ]
    },
    {
     "cell_type": "code",
     "collapsed": false,
     "input": [
      "#using apply_async\n",
      "def multi_pi(n):\n",
      "    start_time = time()\n",
      "    #get number of processors\n",
      "    np = multiprocessing.cpu_count()\n",
      "    #Create the pool\n",
      "    pool = Pool(processes=np)   \n",
      "    \n",
      "    multiestimate = pool.apply_async(in_circle, [n])\n",
      "    estimatedpi = multiestimate.get()/(n*1.0)*4\n",
      "    end_time = time()\n",
      "    run_time = end_time - start_time\n",
      "\n",
      "    print 'Number of darts = ' + str(n)\n",
      "    print \"Estimated value of Pi:: \", estimatedpi\n",
      "    print 'Missed Pi by ', abs(estimatedpi - realPi)\n",
      "    print 'Run Time = ' + str(run_time)\n",
      "    print 'Darts thrown per second = ' + str(n / run_time)"
     ],
     "language": "python",
     "metadata": {},
     "outputs": [],
     "prompt_number": 21
    },
    {
     "cell_type": "code",
     "collapsed": false,
     "input": [
      "#Using pool.map I actually think this one works better than the apply_async. I will use this from now on.\n",
      "def multi_pi2(n):\n",
      "    start_time = time()\n",
      "    #get number of processors\n",
      "    np = multiprocessing.cpu_count()\n",
      "    #divide up the workload\n",
      "    divided =[n/np for i in range(np)]\n",
      "    \n",
      "    #Create the pool\n",
      "    pool = Pool(processes=np)   \n",
      "    \n",
      "    # parallel map\n",
      "    multiestimate = pool.map(in_circle, divided)\n",
      "    end_time = time()\n",
      "    run_time = end_time - start_time\n",
      "    estimatedpi = sum(multiestimate)/(n*1.0)*4\n",
      "\n",
      "    print 'Number of darts = ' + str(n)\n",
      "    print \"Estimated value of Pi:: \", estimatedpi\n",
      "    print 'Missed Pi by ', abs(estimatedpi - realPi)\n",
      "    print 'Run Time = ' + str(run_time)\n",
      "    print 'Darts thrown per second = ' + str(n / run_time)"
     ],
     "language": "python",
     "metadata": {},
     "outputs": [],
     "prompt_number": 22
    },
    {
     "cell_type": "heading",
     "level": 2,
     "metadata": {},
     "source": [
      "IPython Parallel Module \u03c0"
     ]
    },
    {
     "cell_type": "code",
     "collapsed": false,
     "input": [
      "from IPython import parallel\n",
      "def iPyPi(n):\n",
      "    start_time = time()\n",
      "    rc = parallel.Client()\n",
      "    view = rc[:]\n",
      "    np = len(view.targets) #number of processors\n",
      "    divided = n/np\n",
      "    multiestimate = view.apply_async(in_circle2, divided)\n",
      "    end_time = time()\n",
      "    run_time = end_time - start_time\n",
      "    estimatedPi =  (sum(multiestimate))/(n*1.0)*4\n",
      "    print 'Number of darts = ' + str(n)\n",
      "    print \"Estimated value of Pi:: \", estimatedPi\n",
      "    print 'Missed Pi by ', abs(estimatedPi - realPi)\n",
      "    print 'Run Time = ' + str(run_time)\n",
      "    print 'Darts thrown per second = ' + str(n / run_time)"
     ],
     "language": "python",
     "metadata": {},
     "outputs": [],
     "prompt_number": 23
    },
    {
     "cell_type": "heading",
     "level": 4,
     "metadata": {},
     "source": [
      "Let's see performance next to each other..."
     ]
    },
    {
     "cell_type": "code",
     "collapsed": false,
     "input": [
      "#not that many darts...\n",
      "print 'Serial'\n",
      "serial_pi(100)\n",
      "print '______________________________'\n",
      "serial_pi(1000)\n",
      "print '______________________________'\n",
      "serial_pi(1000000)\n",
      "print '_______________________________________________________'\n",
      "print 'Multi 1'\n",
      "multi_pi(100)\n",
      "print '______________________________'\n",
      "multi_pi(1000)\n",
      "print '______________________________'\n",
      "multi_pi(1000000)\n",
      "print '_______________________________________________________'\n",
      "print 'Multi 2'\n",
      "multi_pi2(100)\n",
      "print '______________________________'\n",
      "multi_pi2(1000)\n",
      "print '______________________________'\n",
      "multi_pi2(1000000)\n",
      "print '_______________________________________________________'\n",
      "print 'Ipython'\n",
      "iPyPi(100)\n",
      "print '______________________________'\n",
      "iPyPi(1000)\n",
      "print '______________________________'\n",
      "iPyPi(1000000)"
     ],
     "language": "python",
     "metadata": {},
     "outputs": [
      {
       "output_type": "stream",
       "stream": "stdout",
       "text": [
        "Serial\n",
        "Number of darts = 100\n",
        "Pi Approximation = 3.28\n",
        "Missed Pi by  0.13840734641\n",
        "Run Time = 0.000308036804199\n",
        "Darts thrown per second = 324636.532508\n",
        "______________________________\n",
        "Number of darts = 1000\n",
        "Pi Approximation = 3.076\n",
        "Missed Pi by  0.0655926535898\n",
        "Run Time = 0.00241899490356\n",
        "Darts thrown per second = 413394.835403\n",
        "______________________________\n",
        "Number of darts = 1000000"
       ]
      },
      {
       "output_type": "stream",
       "stream": "stdout",
       "text": [
        "\n",
        "Pi Approximation = 3.14154\n",
        "Missed Pi by  5.26535897931e-05\n",
        "Run Time = 1.06744503975\n",
        "Darts thrown per second = 936816.381886\n",
        "_______________________________________________________\n",
        "Multi 1\n"
       ]
      },
      {
       "output_type": "stream",
       "stream": "stdout",
       "text": [
        "Number of darts = 100\n",
        "Estimated value of Pi::  3.08\n",
        "Missed Pi by  0.0615926535898\n",
        "Run Time = 0.0171439647675\n",
        "Darts thrown per second = 5832.95645765\n",
        "______________________________\n"
       ]
      },
      {
       "output_type": "stream",
       "stream": "stdout",
       "text": [
        "Number of darts = 1000\n",
        "Estimated value of Pi::  3.052\n",
        "Missed Pi by  0.0895926535898\n",
        "Run Time = 0.0245280265808\n",
        "Darts thrown per second = 40769.6883687\n",
        "______________________________\n"
       ]
      },
      {
       "output_type": "stream",
       "stream": "stdout",
       "text": [
        "Number of darts = 1000000\n",
        "Estimated value of Pi::  3.140228\n",
        "Missed Pi by  0.00136465358979\n",
        "Run Time = 1.05641007423\n",
        "Darts thrown per second = 946602.104988\n",
        "_______________________________________________________\n",
        "Multi 2\n"
       ]
      },
      {
       "output_type": "stream",
       "stream": "stdout",
       "text": [
        "Number of darts = 100\n",
        "Estimated value of Pi::  3.04\n",
        "Missed Pi by  0.10159265359\n",
        "Run Time = 0.0201828479767\n",
        "Darts thrown per second = 4954.70213696\n",
        "______________________________\n"
       ]
      },
      {
       "output_type": "stream",
       "stream": "stdout",
       "text": [
        "Number of darts = 1000\n",
        "Estimated value of Pi::  3.168\n",
        "Missed Pi by  0.0264073464102\n",
        "Run Time = 0.0291628837585\n",
        "Darts thrown per second = 34290.1617096\n",
        "______________________________\n"
       ]
      },
      {
       "output_type": "stream",
       "stream": "stdout",
       "text": [
        "Number of darts = 1000000\n",
        "Estimated value of Pi::  3.141208\n",
        "Missed Pi by  0.000384653589793\n",
        "Run Time = 0.575221061707\n",
        "Darts thrown per second = 1738462.0741\n",
        "_______________________________________________________\n",
        "Ipython\n",
        "Number of darts = 100\n",
        "Estimated value of Pi::  3.16\n",
        "Missed Pi by  0.0184073464102\n",
        "Run Time = 0.00899791717529\n",
        "Darts thrown per second = 11113.6830949\n",
        "______________________________\n",
        "Number of darts = 1000\n",
        "Estimated value of Pi::  3.18\n",
        "Missed Pi by  0.0384073464102\n",
        "Run Time = 0.00567603111267\n",
        "Darts thrown per second = 176179.443021\n",
        "______________________________\n",
        "Number of darts = 1000000"
       ]
      },
      {
       "output_type": "stream",
       "stream": "stdout",
       "text": [
        "\n",
        "Estimated value of Pi::  3.139992\n",
        "Missed Pi by  0.00160065358979\n",
        "Run Time = 0.00575017929077\n",
        "Darts thrown per second = 173907620.864\n"
       ]
      }
     ],
     "prompt_number": 20
    },
    {
     "cell_type": "heading",
     "level": 4,
     "metadata": {},
     "source": [
      "It looks like the performance gains take a while to get going! "
     ]
    },
    {
     "cell_type": "heading",
     "level": 1,
     "metadata": {},
     "source": [
      "Formal Testing & Plotting"
     ]
    },
    {
     "cell_type": "heading",
     "level": 3,
     "metadata": {},
     "source": [
      "We want to plot Execution Time, Throwing Rate, and Number of Darts for all three different way..."
     ]
    },
    {
     "cell_type": "heading",
     "level": 4,
     "metadata": {},
     "source": [
      "Redefine all my fuctions to return relevent data instead of printing it out"
     ]
    },
    {
     "cell_type": "code",
     "collapsed": false,
     "input": [
      "def serial_pi(n):\n",
      "    start_time = time()\n",
      "    num_hits = in_circle(n)\n",
      "    end_time = time()\n",
      "    run_time = end_time - start_time\n",
      "    pish = 4 * num_hits / float(n)\n",
      "    throw_rate = n / run_time\n",
      "    return (run_time, n, throw_rate)\n",
      "\n",
      "import random\n",
      "import multiprocessing\n",
      "from multiprocessing import Pool\n",
      "\n",
      "def multi_pi(n):\n",
      "    start_time = time()\n",
      "    #get number of processors\n",
      "    np = multiprocessing.cpu_count()\n",
      "    #Create the pool\n",
      "    pool = Pool(processes=np)   \n",
      "    \n",
      "    multiestimate = pool.apply_async(in_circle, [n])\n",
      "    estimatedpi = multiestimate.get()/(n*1.0)*4\n",
      "    end_time = time()\n",
      "    run_time = end_time - start_time\n",
      "    throw_rate = n / run_time\n",
      "    return (run_time, n, throw_rate)\n",
      "\n",
      "def multi_pi2(n):\n",
      "    start_time = time()\n",
      "    np = multiprocessing.cpu_count()\n",
      "    divided =[n/np for i in range(np)]\n",
      "    pool = Pool(processes=np)   \n",
      "    multiestimate = pool.map(in_circle, divided)\n",
      "    end_time = time()\n",
      "    run_time = end_time - start_time\n",
      "    estimatedpi = sum(multiestimate)/(n*1.0)*4\n",
      "    throw_rate = n / run_time\n",
      "    return(run_time,n,throw_rate)\n",
      "\n",
      "from IPython import parallel\n",
      "def iPyPi(n):\n",
      "    start_time = time()\n",
      "    rc = parallel.Client()\n",
      "    view = rc[:]\n",
      "    np = len(view.targets) #number of processors\n",
      "    divided = n/np\n",
      "    multiestimate = view.apply_async(in_circle2, divided)\n",
      "    end_time = time()\n",
      "    run_time = end_time - start_time\n",
      "    estimatedPi =  (sum(multiestimate))/(n*1.0)*4\n",
      "    throw_rate = n / run_time\n",
      "    return (run_time, n, throw_rate)"
     ],
     "language": "python",
     "metadata": {},
     "outputs": [],
     "prompt_number": 9
    },
    {
     "cell_type": "code",
     "collapsed": false,
     "input": [
      "serial = []\n",
      "multi = []\n",
      "iPy = []\n",
      "for dart in darts:\n",
      "    x = serial_pi(dart)\n",
      "    serial.append(x)\n",
      "    y = multi_pi2(dart)\n",
      "    multi.append(y)\n",
      "    z = iPyPi(dart)\n",
      "    iPy.append(z)"
     ],
     "language": "python",
     "metadata": {},
     "outputs": [],
     "prompt_number": 10
    },
    {
     "cell_type": "code",
     "collapsed": false,
     "input": [
      "df = pd.DataFrame(serial)\n",
      "df.columns = ['Serial Run Time', 'Darts', 'Serial Throw Rate']\n",
      "df.set_index('Darts')"
     ],
     "language": "python",
     "metadata": {},
     "outputs": [
      {
       "html": [
        "<div style=\"max-height:1000px;max-width:1500px;overflow:auto;\">\n",
        "<table border=\"1\" class=\"dataframe\">\n",
        "  <thead>\n",
        "    <tr style=\"text-align: right;\">\n",
        "      <th></th>\n",
        "      <th>Serial Run Time</th>\n",
        "      <th>Serial Throw Rate</th>\n",
        "    </tr>\n",
        "    <tr>\n",
        "      <th>Darts</th>\n",
        "      <th></th>\n",
        "      <th></th>\n",
        "    </tr>\n",
        "  </thead>\n",
        "  <tbody>\n",
        "    <tr>\n",
        "      <th>10     </th>\n",
        "      <td> 0.000101</td>\n",
        "      <td>  99156.122931</td>\n",
        "    </tr>\n",
        "    <tr>\n",
        "      <th>100    </th>\n",
        "      <td> 0.000281</td>\n",
        "      <td> 355750.975403</td>\n",
        "    </tr>\n",
        "    <tr>\n",
        "      <th>1000   </th>\n",
        "      <td> 0.001144</td>\n",
        "      <td> 873995.415712</td>\n",
        "    </tr>\n",
        "    <tr>\n",
        "      <th>10000  </th>\n",
        "      <td> 0.012303</td>\n",
        "      <td> 812802.356452</td>\n",
        "    </tr>\n",
        "    <tr>\n",
        "      <th>100000 </th>\n",
        "      <td> 0.109310</td>\n",
        "      <td> 914828.127726</td>\n",
        "    </tr>\n",
        "    <tr>\n",
        "      <th>1000000</th>\n",
        "      <td> 1.073179</td>\n",
        "      <td> 931810.996928</td>\n",
        "    </tr>\n",
        "  </tbody>\n",
        "</table>\n",
        "</div>"
       ],
       "metadata": {},
       "output_type": "pyout",
       "prompt_number": 11,
       "text": [
        "         Serial Run Time  Serial Throw Rate\n",
        "Darts                                      \n",
        "10              0.000101       99156.122931\n",
        "100             0.000281      355750.975403\n",
        "1000            0.001144      873995.415712\n",
        "10000           0.012303      812802.356452\n",
        "100000          0.109310      914828.127726\n",
        "1000000         1.073179      931810.996928"
       ]
      }
     ],
     "prompt_number": 11
    },
    {
     "cell_type": "code",
     "collapsed": false,
     "input": [
      "multidf = pd.DataFrame(multi)\n",
      "multidf.columns = ['Multi Run Time', 'Darts', 'Multi Throw Rate']\n",
      "multidf.set_index('Darts')"
     ],
     "language": "python",
     "metadata": {},
     "outputs": [
      {
       "html": [
        "<div style=\"max-height:1000px;max-width:1500px;overflow:auto;\">\n",
        "<table border=\"1\" class=\"dataframe\">\n",
        "  <thead>\n",
        "    <tr style=\"text-align: right;\">\n",
        "      <th></th>\n",
        "      <th>Multi Run Time</th>\n",
        "      <th>Multi Throw Rate</th>\n",
        "    </tr>\n",
        "    <tr>\n",
        "      <th>Darts</th>\n",
        "      <th></th>\n",
        "      <th></th>\n",
        "    </tr>\n",
        "  </thead>\n",
        "  <tbody>\n",
        "    <tr>\n",
        "      <th>10     </th>\n",
        "      <td> 0.014405</td>\n",
        "      <td>     694.202817</td>\n",
        "    </tr>\n",
        "    <tr>\n",
        "      <th>100    </th>\n",
        "      <td> 0.017011</td>\n",
        "      <td>    5878.491941</td>\n",
        "    </tr>\n",
        "    <tr>\n",
        "      <th>1000   </th>\n",
        "      <td> 0.016682</td>\n",
        "      <td>   59944.318994</td>\n",
        "    </tr>\n",
        "    <tr>\n",
        "      <th>10000  </th>\n",
        "      <td> 0.027375</td>\n",
        "      <td>  365297.032721</td>\n",
        "    </tr>\n",
        "    <tr>\n",
        "      <th>100000 </th>\n",
        "      <td> 0.066575</td>\n",
        "      <td> 1502069.582968</td>\n",
        "    </tr>\n",
        "    <tr>\n",
        "      <th>1000000</th>\n",
        "      <td> 0.556532</td>\n",
        "      <td> 1796842.173807</td>\n",
        "    </tr>\n",
        "  </tbody>\n",
        "</table>\n",
        "</div>"
       ],
       "metadata": {},
       "output_type": "pyout",
       "prompt_number": 12,
       "text": [
        "         Multi Run Time  Multi Throw Rate\n",
        "Darts                                    \n",
        "10             0.014405        694.202817\n",
        "100            0.017011       5878.491941\n",
        "1000           0.016682      59944.318994\n",
        "10000          0.027375     365297.032721\n",
        "100000         0.066575    1502069.582968\n",
        "1000000        0.556532    1796842.173807"
       ]
      }
     ],
     "prompt_number": 12
    },
    {
     "cell_type": "code",
     "collapsed": false,
     "input": [
      "pypidf = pd.DataFrame(iPy)\n",
      "pypidf.columns = ['IPy Run Time', 'Darts', 'IPy Throw Rate']\n",
      "pypidf.set_index('Darts')"
     ],
     "language": "python",
     "metadata": {},
     "outputs": [
      {
       "html": [
        "<div style=\"max-height:1000px;max-width:1500px;overflow:auto;\">\n",
        "<table border=\"1\" class=\"dataframe\">\n",
        "  <thead>\n",
        "    <tr style=\"text-align: right;\">\n",
        "      <th></th>\n",
        "      <th>IPy Run Time</th>\n",
        "      <th>IPy Throw Rate</th>\n",
        "    </tr>\n",
        "    <tr>\n",
        "      <th>Darts</th>\n",
        "      <th></th>\n",
        "      <th></th>\n",
        "    </tr>\n",
        "  </thead>\n",
        "  <tbody>\n",
        "    <tr>\n",
        "      <th>10     </th>\n",
        "      <td> 0.010445</td>\n",
        "      <td> 9.574069e+02</td>\n",
        "    </tr>\n",
        "    <tr>\n",
        "      <th>100    </th>\n",
        "      <td> 0.012603</td>\n",
        "      <td> 7.934591e+03</td>\n",
        "    </tr>\n",
        "    <tr>\n",
        "      <th>1000   </th>\n",
        "      <td> 0.011745</td>\n",
        "      <td> 8.514279e+04</td>\n",
        "    </tr>\n",
        "    <tr>\n",
        "      <th>10000  </th>\n",
        "      <td> 0.012502</td>\n",
        "      <td> 7.998749e+05</td>\n",
        "    </tr>\n",
        "    <tr>\n",
        "      <th>100000 </th>\n",
        "      <td> 0.008955</td>\n",
        "      <td> 1.116694e+07</td>\n",
        "    </tr>\n",
        "    <tr>\n",
        "      <th>1000000</th>\n",
        "      <td> 0.009117</td>\n",
        "      <td> 1.096866e+08</td>\n",
        "    </tr>\n",
        "  </tbody>\n",
        "</table>\n",
        "</div>"
       ],
       "metadata": {},
       "output_type": "pyout",
       "prompt_number": 13,
       "text": [
        "         IPy Run Time  IPy Throw Rate\n",
        "Darts                                \n",
        "10           0.010445    9.574069e+02\n",
        "100          0.012603    7.934591e+03\n",
        "1000         0.011745    8.514279e+04\n",
        "10000        0.012502    7.998749e+05\n",
        "100000       0.008955    1.116694e+07\n",
        "1000000      0.009117    1.096866e+08"
       ]
      }
     ],
     "prompt_number": 13
    },
    {
     "cell_type": "code",
     "collapsed": false,
     "input": [
      "import matplotlib.pylab as plt\n",
      "merged = pd.merge(multidf, df, on='Darts')\n",
      "merged.set_index('Darts')\n",
      "merged = pd.merge(pypidf, merged, on='Darts')\n",
      "merged.set_index('Darts').head(10)"
     ],
     "language": "python",
     "metadata": {},
     "outputs": [
      {
       "html": [
        "<div style=\"max-height:1000px;max-width:1500px;overflow:auto;\">\n",
        "<table border=\"1\" class=\"dataframe\">\n",
        "  <thead>\n",
        "    <tr style=\"text-align: right;\">\n",
        "      <th></th>\n",
        "      <th>IPy Run Time</th>\n",
        "      <th>IPy Throw Rate</th>\n",
        "      <th>Multi Run Time</th>\n",
        "      <th>Multi Throw Rate</th>\n",
        "      <th>Serial Run Time</th>\n",
        "      <th>Serial Throw Rate</th>\n",
        "    </tr>\n",
        "    <tr>\n",
        "      <th>Darts</th>\n",
        "      <th></th>\n",
        "      <th></th>\n",
        "      <th></th>\n",
        "      <th></th>\n",
        "      <th></th>\n",
        "      <th></th>\n",
        "    </tr>\n",
        "  </thead>\n",
        "  <tbody>\n",
        "    <tr>\n",
        "      <th>10     </th>\n",
        "      <td> 0.010445</td>\n",
        "      <td> 9.574069e+02</td>\n",
        "      <td> 0.014405</td>\n",
        "      <td>     694.202817</td>\n",
        "      <td> 0.000101</td>\n",
        "      <td>  99156.122931</td>\n",
        "    </tr>\n",
        "    <tr>\n",
        "      <th>100    </th>\n",
        "      <td> 0.012603</td>\n",
        "      <td> 7.934591e+03</td>\n",
        "      <td> 0.017011</td>\n",
        "      <td>    5878.491941</td>\n",
        "      <td> 0.000281</td>\n",
        "      <td> 355750.975403</td>\n",
        "    </tr>\n",
        "    <tr>\n",
        "      <th>1000   </th>\n",
        "      <td> 0.011745</td>\n",
        "      <td> 8.514279e+04</td>\n",
        "      <td> 0.016682</td>\n",
        "      <td>   59944.318994</td>\n",
        "      <td> 0.001144</td>\n",
        "      <td> 873995.415712</td>\n",
        "    </tr>\n",
        "    <tr>\n",
        "      <th>10000  </th>\n",
        "      <td> 0.012502</td>\n",
        "      <td> 7.998749e+05</td>\n",
        "      <td> 0.027375</td>\n",
        "      <td>  365297.032721</td>\n",
        "      <td> 0.012303</td>\n",
        "      <td> 812802.356452</td>\n",
        "    </tr>\n",
        "    <tr>\n",
        "      <th>100000 </th>\n",
        "      <td> 0.008955</td>\n",
        "      <td> 1.116694e+07</td>\n",
        "      <td> 0.066575</td>\n",
        "      <td> 1502069.582968</td>\n",
        "      <td> 0.109310</td>\n",
        "      <td> 914828.127726</td>\n",
        "    </tr>\n",
        "    <tr>\n",
        "      <th>1000000</th>\n",
        "      <td> 0.009117</td>\n",
        "      <td> 1.096866e+08</td>\n",
        "      <td> 0.556532</td>\n",
        "      <td> 1796842.173807</td>\n",
        "      <td> 1.073179</td>\n",
        "      <td> 931810.996928</td>\n",
        "    </tr>\n",
        "  </tbody>\n",
        "</table>\n",
        "</div>"
       ],
       "metadata": {},
       "output_type": "pyout",
       "prompt_number": 14,
       "text": [
        "         IPy Run Time  IPy Throw Rate  Multi Run Time  Multi Throw Rate  \\\n",
        "Darts                                                                     \n",
        "10           0.010445    9.574069e+02        0.014405        694.202817   \n",
        "100          0.012603    7.934591e+03        0.017011       5878.491941   \n",
        "1000         0.011745    8.514279e+04        0.016682      59944.318994   \n",
        "10000        0.012502    7.998749e+05        0.027375     365297.032721   \n",
        "100000       0.008955    1.116694e+07        0.066575    1502069.582968   \n",
        "1000000      0.009117    1.096866e+08        0.556532    1796842.173807   \n",
        "\n",
        "         Serial Run Time  Serial Throw Rate  \n",
        "Darts                                        \n",
        "10              0.000101       99156.122931  \n",
        "100             0.000281      355750.975403  \n",
        "1000            0.001144      873995.415712  \n",
        "10000           0.012303      812802.356452  \n",
        "100000          0.109310      914828.127726  \n",
        "1000000         1.073179      931810.996928  "
       ]
      }
     ],
     "prompt_number": 14
    },
    {
     "cell_type": "heading",
     "level": 3,
     "metadata": {},
     "source": [
      "Plot!"
     ]
    },
    {
     "cell_type": "code",
     "collapsed": false,
     "input": [
      "x1 = merged['IPy Run Time']\n",
      "x2 = merged['Multi Run Time']\n",
      "x3 = merged['Serial Run Time']\n",
      "y = merged['Darts']\n",
      "x1= x1.values\n",
      "x2 = x2.values\n",
      "x3 = x3.values\n",
      "y = y.values\n",
      "plt.plot(y,x1,color='yellow',label = 'IPY')\n",
      "plt.plot(y,x2,color = 'red',label = 'Multi')\n",
      "plt.plot(y,x3,color = 'blue',label = 'Serial')\n",
      "plt.ylabel('Run Time(seconds)')\n",
      "plt.xscale('log')\n",
      "plt.legend(loc='upper left')\n",
      "plt.show()"
     ],
     "language": "python",
     "metadata": {},
     "outputs": [],
     "prompt_number": 44
    },
    {
     "cell_type": "code",
     "collapsed": false,
     "input": [
      "w1 = merged['IPy Throw Rate']\n",
      "w2 = merged['Multi Throw Rate']\n",
      "w3 = merged['Serial Throw Rate']\n",
      "wy = merged['Darts']\n",
      "x1= w1.values\n",
      "x2 = w2.values\n",
      "x3 = w3.values\n",
      "y = wy.values\n",
      "plt.plot(y,x1,color='yellow',label = 'IPY')\n",
      "plt.plot(y,x2,color = 'red',label = 'Multi')\n",
      "plt.plot(y,x3,color = 'blue',label = 'Serial')\n",
      "plt.ylabel('Dart Throwing Rate')\n",
      "plt.xscale('log')\n",
      "plt.legend(loc='upper left')\n",
      "plt.show()"
     ],
     "language": "python",
     "metadata": {},
     "outputs": [],
     "prompt_number": 45
    },
    {
     "cell_type": "heading",
     "level": 4,
     "metadata": {},
     "source": [
      "Alright, let's go for a better plot."
     ]
    },
    {
     "cell_type": "code",
     "collapsed": false,
     "input": [
      "x1 = merged['IPy Run Time']\n",
      "x2 = merged['Multi Run Time']\n",
      "x3 = merged['Serial Run Time']\n",
      "w1 = merged['IPy Throw Rate']/10000\n",
      "w2 = merged['Multi Throw Rate']/10000\n",
      "w3 = merged['Serial Throw Rate']/10000\n",
      "y = merged['Darts']\n",
      "fig = plt.figure(figsize=(14,8))\n",
      "ax = fig.add_subplot(1,1,1) \n",
      "ax2 = ax.twinx()\n",
      "line1, = ax.plot(y, x1, label = 'iPy Run')\n",
      "line2, = ax.plot(y, x2, label = 'Multi Run')\n",
      "line3, = ax.plot(y, x3, label = 'Serial Run')\n",
      "line4, = ax2.plot(y, w1, label = 'iPy Throw',linestyle='dotted')\n",
      "line5, = ax2.plot(y, w2, label = 'Multi Throw',linestyle='dotted')\n",
      "line6, = ax2.plot(y, w3, label = 'Serial Throw',linestyle='dotted')\n",
      "ax.set_xlabel('Darts',fontsize=14)\n",
      "ax.set_ylabel('Run Time',fontsize=14)\n",
      "ax2.set_ylabel('Throw Rate / 10000',fontsize=14)\n",
      "ax2.set_ylim(0,max(w1))\n",
      "ax.set_ylim(0,max(x3))\n",
      "plt.legend((line1,line2,line3,line4,line5,line6),('iPy Run','Multi Run','Serial Run','iPy Throw','Multi Throw','Serial Throw'), loc='upper left', frameon=False)\n",
      "plt.show()"
     ],
     "language": "python",
     "metadata": {},
     "outputs": [],
     "prompt_number": 94
    },
    {
     "cell_type": "code",
     "collapsed": false,
     "input": [],
     "language": "python",
     "metadata": {},
     "outputs": [],
     "prompt_number": 94
    },
    {
     "cell_type": "code",
     "collapsed": false,
     "input": [],
     "language": "python",
     "metadata": {},
     "outputs": []
    },
    {
     "cell_type": "code",
     "collapsed": false,
     "input": [],
     "language": "python",
     "metadata": {},
     "outputs": [],
     "prompt_number": 27
    },
    {
     "cell_type": "code",
     "collapsed": false,
     "input": [],
     "language": "python",
     "metadata": {},
     "outputs": [],
     "prompt_number": 27
    },
    {
     "cell_type": "code",
     "collapsed": false,
     "input": [],
     "language": "python",
     "metadata": {},
     "outputs": []
    }
   ],
   "metadata": {}
  }
 ]
}