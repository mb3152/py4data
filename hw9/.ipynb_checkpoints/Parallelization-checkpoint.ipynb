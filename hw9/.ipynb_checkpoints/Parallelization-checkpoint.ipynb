{
 "metadata": {
  "name": ""
 },
 "nbformat": 3,
 "nbformat_minor": 0,
 "worksheets": [
  {
   "cells": [
    {
     "cell_type": "heading",
     "level": 1,
     "metadata": {},
     "source": [
      "Homework 9: Parallelization"
     ]
    },
    {
     "cell_type": "heading",
     "level": 3,
     "metadata": {},
     "source": [
      "Stuff I will use for all three types of Pi finders"
     ]
    },
    {
     "cell_type": "code",
     "collapsed": false,
     "input": [
      "#I am going to make a list of numbers of darts to try. \n",
      "darts = []\n",
      "powers = range(1,4) #make this bigger in the end\n",
      "for p in powers:\n",
      "    p = 10**p\n",
      "    darts.append(p)\n",
      "darts"
     ],
     "language": "python",
     "metadata": {},
     "outputs": [
      {
       "metadata": {},
       "output_type": "pyout",
       "prompt_number": 1,
       "text": [
        "[10, 100, 1000]"
       ]
      }
     ],
     "prompt_number": 1
    },
    {
     "cell_type": "code",
     "collapsed": false,
     "input": [
      "#dart thrower, count number of darts in circle \n",
      "def in_circle(n):\n",
      "    num_hits = 0\n",
      "    for dart in range(n):\n",
      "            x,y, = uniform(0,1), uniform(0,1)\n",
      "            if sqrt((x - 0.5)**2 + (y - 0.5)**2) <= 0.5:\n",
      "                num_hits += 1\n",
      "    return num_hits"
     ],
     "language": "python",
     "metadata": {},
     "outputs": [],
     "prompt_number": 2
    },
    {
     "cell_type": "code",
     "collapsed": false,
     "input": [
      "#define Pi for comparisons \n",
      "realPi = 3.141592653589793\n",
      "realPi"
     ],
     "language": "python",
     "metadata": {},
     "outputs": [
      {
       "metadata": {},
       "output_type": "pyout",
       "prompt_number": 3,
       "text": [
        "3.141592653589793"
       ]
      }
     ],
     "prompt_number": 3
    },
    {
     "cell_type": "heading",
     "level": 2,
     "metadata": {},
     "source": [
      "Serial Pi"
     ]
    },
    {
     "cell_type": "code",
     "collapsed": false,
     "input": [
      "from random import uniform\n",
      "from math import sqrt\n",
      "from time import time"
     ],
     "language": "python",
     "metadata": {},
     "outputs": [],
     "prompt_number": 4
    },
    {
     "cell_type": "code",
     "collapsed": false,
     "input": [
      "def serial_pi(n):\n",
      "    start_time = time()\n",
      "    num_hits = in_circle(n)\n",
      "    end_time = time()\n",
      "    run_time = end_time - start_time\n",
      "    pish = 4 * num_hits / float(n)\n",
      "    print 'Number of darts = ' + str(n)\n",
      "    print 'Pi Approximation = ' + str(pish)\n",
      "    print 'Missed Pi by ', abs(pish - realPi)\n",
      "    print 'Run Time = ' + str(run_time)\n",
      "    print 'Darts thrown per second = ' + str(n / run_time)"
     ],
     "language": "python",
     "metadata": {},
     "outputs": [],
     "prompt_number": 5
    },
    {
     "cell_type": "code",
     "collapsed": false,
     "input": [
      "for x in darts:\n",
      "    serial_pi(x)\n",
      "    print '_____________________________________'"
     ],
     "language": "python",
     "metadata": {},
     "outputs": [
      {
       "output_type": "stream",
       "stream": "stdout",
       "text": [
        "Number of darts = 10\n",
        "Pi Approximation = 2.4\n",
        "Missed Pi by  0.74159265359\n",
        "Run Time = 5.10215759277e-05\n",
        "Darts thrown per second = 195995.514019\n",
        "_____________________________________\n",
        "Number of darts = 100\n",
        "Pi Approximation = 3.28\n",
        "Missed Pi by  0.13840734641\n",
        "Run Time = 0.000214815139771\n",
        "Darts thrown per second = 465516.537181\n",
        "_____________________________________\n",
        "Number of darts = 1000\n",
        "Pi Approximation = 3.244\n",
        "Missed Pi by  0.10240734641\n",
        "Run Time = 0.00236511230469\n",
        "Darts thrown per second = 422812.903226\n",
        "_____________________________________\n"
       ]
      }
     ],
     "prompt_number": 6
    },
    {
     "cell_type": "heading",
     "level": 2,
     "metadata": {},
     "source": [
      "Multiprocessing"
     ]
    },
    {
     "cell_type": "code",
     "collapsed": false,
     "input": [
      "import random\n",
      "import multiprocessing\n",
      "from multiprocessing import Pool"
     ],
     "language": "python",
     "metadata": {},
     "outputs": [],
     "prompt_number": 7
    },
    {
     "cell_type": "heading",
     "level": 4,
     "metadata": {},
     "source": [
      "I found that you can either do the apply_async or the pool.map, so I tried both."
     ]
    },
    {
     "cell_type": "code",
     "collapsed": false,
     "input": [
      "#using apply_async\n",
      "def multi_pi(n):\n",
      "    start_time = time()\n",
      "    #get number of processors\n",
      "    np = multiprocessing.cpu_count()\n",
      "    #Create the pool\n",
      "    pool = Pool(processes=np)   \n",
      "    \n",
      "    multiestimate = pool.apply_async(in_circle, [n])\n",
      "    estimatedpi = multiestimate.get()/(n*1.0)*4\n",
      "    end_time = time()\n",
      "    run_time = end_time - start_time\n",
      "\n",
      "    print 'Number of darts = ' + str(n)\n",
      "    print \"Estimated value of Pi:: \", estimatedpi\n",
      "    print 'Missed Pi by ', abs(estimatedpi - realPi)\n",
      "    print 'Run Time = ' + str(run_time)\n",
      "    print 'Darts thrown per second = ' + str(n / run_time)"
     ],
     "language": "python",
     "metadata": {},
     "outputs": [],
     "prompt_number": 12
    },
    {
     "cell_type": "code",
     "collapsed": false,
     "input": [
      "for x in darts:\n",
      "    print '_____________________________________'\n",
      "    multi_pi(x)"
     ],
     "language": "python",
     "metadata": {},
     "outputs": [
      {
       "output_type": "stream",
       "stream": "stdout",
       "text": [
        "_____________________________________\n"
       ]
      },
      {
       "output_type": "stream",
       "stream": "stdout",
       "text": [
        "Number of darts = 10\n",
        "Estimated value of Pi::  4.0\n",
        "Missed Pi by  0.85840734641\n",
        "Run Time = 0.0149450302124\n",
        "Darts thrown per second = 669.118754387\n",
        "_____________________________________\n"
       ]
      },
      {
       "output_type": "stream",
       "stream": "stdout",
       "text": [
        "Number of darts = 100\n",
        "Estimated value of Pi::  3.2\n",
        "Missed Pi by  0.0584073464102\n",
        "Run Time = 0.016165971756\n",
        "Darts thrown per second = 6185.83290318\n",
        "_____________________________________\n"
       ]
      },
      {
       "output_type": "stream",
       "stream": "stdout",
       "text": [
        "Number of darts = 1000\n",
        "Estimated value of Pi::  3.04\n",
        "Missed Pi by  0.10159265359\n",
        "Run Time = 0.0270681381226\n",
        "Darts thrown per second = 36943.80439\n"
       ]
      }
     ],
     "prompt_number": 13
    },
    {
     "cell_type": "code",
     "collapsed": false,
     "input": [
      "#Using pool.map\n",
      "def multi_pi2(n):\n",
      "    start_time = time()\n",
      "    #get number of processors\n",
      "    np = multiprocessing.cpu_count()\n",
      "    #divide up the workload\n",
      "    divided =[n/np for i in range(np)]\n",
      "    \n",
      "    #Create the pool\n",
      "    pool = Pool(processes=np)   \n",
      "    \n",
      "    # parallel map\n",
      "    multiestimate = pool.map(in_circle, divided)\n",
      "    end_time = time()\n",
      "    run_time = end_time - start_time\n",
      "    estimatedpi = sum(multiestimate)/(n*1.0)*4\n",
      "\n",
      "    print 'Number of darts = ' + str(n)\n",
      "    print \"Estimated value of Pi:: \", estimatedpi\n",
      "    print 'Missed Pi by ', abs(estimatedpi - realPi)\n",
      "    print 'Run Time = ' + str(run_time)\n",
      "    print 'Darts thrown per second = ' + str(n / run_time)"
     ],
     "language": "python",
     "metadata": {},
     "outputs": [],
     "prompt_number": 14
    },
    {
     "cell_type": "code",
     "collapsed": false,
     "input": [
      "for x in darts:\n",
      "    print '_____________________________________'\n",
      "    multi_pi2(x)"
     ],
     "language": "python",
     "metadata": {},
     "outputs": [
      {
       "output_type": "stream",
       "stream": "stdout",
       "text": [
        "_____________________________________\n"
       ]
      },
      {
       "output_type": "stream",
       "stream": "stdout",
       "text": [
        "Number of darts = 10\n",
        "Estimated value of Pi::  2.8\n",
        "Missed Pi by  0.34159265359\n",
        "Run Time = 0.0209019184113\n",
        "Darts thrown per second = 478.424984886\n",
        "_____________________________________\n"
       ]
      },
      {
       "output_type": "stream",
       "stream": "stdout",
       "text": [
        "Number of darts = 100\n",
        "Estimated value of Pi::  3.12\n",
        "Missed Pi by  0.0215926535898\n",
        "Run Time = 0.0235521793365\n",
        "Darts thrown per second = 4245.89158273\n",
        "_____________________________________\n"
       ]
      },
      {
       "output_type": "stream",
       "stream": "stdout",
       "text": [
        "Number of darts = 1000\n",
        "Estimated value of Pi::  3.124\n",
        "Missed Pi by  0.0175926535898\n",
        "Run Time = 0.0258560180664\n",
        "Darts thrown per second = 38675.7155503\n"
       ]
      }
     ],
     "prompt_number": 15
    },
    {
     "cell_type": "heading",
     "level": 4,
     "metadata": {},
     "source": [
      "They look about the same speed and accuracy"
     ]
    },
    {
     "cell_type": "code",
     "collapsed": false,
     "input": [],
     "language": "python",
     "metadata": {},
     "outputs": []
    },
    {
     "cell_type": "code",
     "collapsed": false,
     "input": [],
     "language": "python",
     "metadata": {},
     "outputs": []
    },
    {
     "cell_type": "code",
     "collapsed": false,
     "input": [],
     "language": "python",
     "metadata": {},
     "outputs": []
    },
    {
     "cell_type": "code",
     "collapsed": false,
     "input": [],
     "language": "python",
     "metadata": {},
     "outputs": []
    },
    {
     "cell_type": "code",
     "collapsed": false,
     "input": [],
     "language": "python",
     "metadata": {},
     "outputs": []
    },
    {
     "cell_type": "code",
     "collapsed": false,
     "input": [],
     "language": "python",
     "metadata": {},
     "outputs": []
    },
    {
     "cell_type": "code",
     "collapsed": false,
     "input": [],
     "language": "python",
     "metadata": {},
     "outputs": []
    },
    {
     "cell_type": "code",
     "collapsed": false,
     "input": [],
     "language": "python",
     "metadata": {},
     "outputs": []
    },
    {
     "cell_type": "code",
     "collapsed": false,
     "input": [],
     "language": "python",
     "metadata": {},
     "outputs": []
    },
    {
     "cell_type": "code",
     "collapsed": false,
     "input": [],
     "language": "python",
     "metadata": {},
     "outputs": []
    },
    {
     "cell_type": "code",
     "collapsed": false,
     "input": [],
     "language": "python",
     "metadata": {},
     "outputs": []
    },
    {
     "cell_type": "code",
     "collapsed": false,
     "input": [],
     "language": "python",
     "metadata": {},
     "outputs": []
    },
    {
     "cell_type": "code",
     "collapsed": false,
     "input": [],
     "language": "python",
     "metadata": {},
     "outputs": []
    },
    {
     "cell_type": "code",
     "collapsed": false,
     "input": [],
     "language": "python",
     "metadata": {},
     "outputs": []
    },
    {
     "cell_type": "code",
     "collapsed": false,
     "input": [],
     "language": "python",
     "metadata": {},
     "outputs": []
    },
    {
     "cell_type": "code",
     "collapsed": false,
     "input": [],
     "language": "python",
     "metadata": {},
     "outputs": []
    },
    {
     "cell_type": "code",
     "collapsed": false,
     "input": [],
     "language": "python",
     "metadata": {},
     "outputs": []
    },
    {
     "cell_type": "code",
     "collapsed": false,
     "input": [],
     "language": "python",
     "metadata": {},
     "outputs": []
    },
    {
     "cell_type": "code",
     "collapsed": false,
     "input": [],
     "language": "python",
     "metadata": {},
     "outputs": []
    },
    {
     "cell_type": "code",
     "collapsed": false,
     "input": [],
     "language": "python",
     "metadata": {},
     "outputs": []
    },
    {
     "cell_type": "code",
     "collapsed": false,
     "input": [],
     "language": "python",
     "metadata": {},
     "outputs": []
    },
    {
     "cell_type": "code",
     "collapsed": false,
     "input": [],
     "language": "python",
     "metadata": {},
     "outputs": []
    },
    {
     "cell_type": "code",
     "collapsed": false,
     "input": [],
     "language": "python",
     "metadata": {},
     "outputs": []
    },
    {
     "cell_type": "code",
     "collapsed": false,
     "input": [],
     "language": "python",
     "metadata": {},
     "outputs": []
    },
    {
     "cell_type": "code",
     "collapsed": false,
     "input": [],
     "language": "python",
     "metadata": {},
     "outputs": []
    },
    {
     "cell_type": "code",
     "collapsed": false,
     "input": [],
     "language": "python",
     "metadata": {},
     "outputs": []
    },
    {
     "cell_type": "code",
     "collapsed": false,
     "input": [],
     "language": "python",
     "metadata": {},
     "outputs": []
    },
    {
     "cell_type": "code",
     "collapsed": false,
     "input": [],
     "language": "python",
     "metadata": {},
     "outputs": []
    },
    {
     "cell_type": "code",
     "collapsed": false,
     "input": [],
     "language": "python",
     "metadata": {},
     "outputs": []
    },
    {
     "cell_type": "code",
     "collapsed": false,
     "input": [],
     "language": "python",
     "metadata": {},
     "outputs": []
    },
    {
     "cell_type": "code",
     "collapsed": false,
     "input": [],
     "language": "python",
     "metadata": {},
     "outputs": []
    }
   ],
   "metadata": {}
  }
 ]
}