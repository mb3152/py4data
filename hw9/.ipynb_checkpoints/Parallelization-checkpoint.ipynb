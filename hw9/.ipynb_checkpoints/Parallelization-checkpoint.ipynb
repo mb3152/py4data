{
 "metadata": {
  "name": ""
 },
 "nbformat": 3,
 "nbformat_minor": 0,
 "worksheets": [
  {
   "cells": [
    {
     "cell_type": "heading",
     "level": 1,
     "metadata": {},
     "source": [
      "Homework 9: Parallelization"
     ]
    },
    {
     "cell_type": "heading",
     "level": 3,
     "metadata": {},
     "source": [
      "Stuff I will use for all three types of \u03c0 finders"
     ]
    },
    {
     "cell_type": "code",
     "collapsed": false,
     "input": [
      "#I am going to make a list of numbers of darts to try. \n",
      "darts = []\n",
      "powers = xrange(1,7) #make this bigger in the end\n",
      "for p in powers:\n",
      "    p = 10**p\n",
      "    darts.append(p)\n",
      "darts"
     ],
     "language": "python",
     "metadata": {},
     "outputs": [
      {
       "metadata": {},
       "output_type": "pyout",
       "prompt_number": 1,
       "text": [
        "[10, 100, 1000, 10000, 100000, 1000000]"
       ]
      }
     ],
     "prompt_number": 1
    },
    {
     "cell_type": "code",
     "collapsed": false,
     "input": [
      "#dart thrower, count number of darts in circle \n",
      "from random import uniform\n",
      "from math import sqrt\n",
      "def in_circle(n): \n",
      "    num_hits = 0\n",
      "    for dart in xrange(n):\n",
      "            x,y, = uniform(0,1), uniform(0,1)\n",
      "            if sqrt((x - 0.5)**2 + (y - 0.5)**2) <= 0.5:\n",
      "                num_hits += 1\n",
      "    return num_hits"
     ],
     "language": "python",
     "metadata": {},
     "outputs": [],
     "prompt_number": 2
    },
    {
     "cell_type": "code",
     "collapsed": false,
     "input": [
      "#dart thrower, count number of darts in circle \n",
      "def in_circle2(n):\n",
      "    from random import uniform\n",
      "    from math import sqrt # had to have these in there for IPython way. Weird. \n",
      "    num_hits = 0\n",
      "    for dart in xrange(n):\n",
      "            x,y, = uniform(0,1), uniform(0,1)\n",
      "            if sqrt((x - 0.5)**2 + (y - 0.5)**2) <= 0.5:\n",
      "                num_hits += 1\n",
      "    return num_hits"
     ],
     "language": "python",
     "metadata": {},
     "outputs": [],
     "prompt_number": 3
    },
    {
     "cell_type": "code",
     "collapsed": false,
     "input": [
      "#define Pi for comparisons \n",
      "realPi = 3.141592653589793\n",
      "realPi"
     ],
     "language": "python",
     "metadata": {},
     "outputs": [
      {
       "metadata": {},
       "output_type": "pyout",
       "prompt_number": 4,
       "text": [
        "3.141592653589793"
       ]
      }
     ],
     "prompt_number": 4
    },
    {
     "cell_type": "code",
     "collapsed": false,
     "input": [
      "from time import time\n",
      "import pandas as pd"
     ],
     "language": "python",
     "metadata": {},
     "outputs": [],
     "prompt_number": 5
    },
    {
     "cell_type": "heading",
     "level": 2,
     "metadata": {},
     "source": [
      "Serial \u03c0"
     ]
    },
    {
     "cell_type": "code",
     "collapsed": false,
     "input": [
      "def serial_pi(n):\n",
      "    start_time = time()\n",
      "    num_hits = in_circle(n)\n",
      "    end_time = time()\n",
      "    run_time = end_time - start_time\n",
      "    pish = 4 * num_hits / float(n)\n",
      "    print 'Number of darts = ' + str(n)\n",
      "    print 'Pi Approximation = ' + str(pish)\n",
      "    print 'Missed Pi by ', abs(pish - realPi)\n",
      "    print 'Run Time = ' + str(run_time)\n",
      "    print 'Darts thrown per second = ' + str(n / run_time)"
     ],
     "language": "python",
     "metadata": {},
     "outputs": [],
     "prompt_number": 6
    },
    {
     "cell_type": "code",
     "collapsed": false,
     "input": [
      "print 'Serial Pi'\n",
      "serial_pi(100)\n",
      "print '______________________________'\n",
      "serial_pi(1000)\n",
      "print '______________________________'\n",
      "serial_pi(1000000)\n",
      "print '_______________________________________________________'"
     ],
     "language": "python",
     "metadata": {},
     "outputs": [
      {
       "output_type": "stream",
       "stream": "stdout",
       "text": [
        "Serial Pi\n",
        "Number of darts = 100\n",
        "Pi Approximation = 3.0\n",
        "Missed Pi by  0.14159265359\n",
        "Run Time = 0.000251054763794\n",
        "Darts thrown per second = 398319.468186\n",
        "______________________________\n",
        "Number of darts = 1000\n",
        "Pi Approximation = 3.152\n",
        "Missed Pi by  0.0104073464102\n",
        "Run Time = 0.00230884552002\n",
        "Darts thrown per second = 433116.893846\n",
        "______________________________\n",
        "Number of darts = 1000000"
       ]
      },
      {
       "output_type": "stream",
       "stream": "stdout",
       "text": [
        "\n",
        "Pi Approximation = 3.140744\n",
        "Missed Pi by  0.000848653589793\n",
        "Run Time = 2.64794683456\n",
        "Darts thrown per second = 377651.086852\n",
        "_______________________________________________________\n"
       ]
      }
     ],
     "prompt_number": 7
    },
    {
     "cell_type": "heading",
     "level": 2,
     "metadata": {},
     "source": [
      "Multiprocessing \u03c0"
     ]
    },
    {
     "cell_type": "code",
     "collapsed": false,
     "input": [
      "import random\n",
      "import multiprocessing\n",
      "from multiprocessing import Pool"
     ],
     "language": "python",
     "metadata": {},
     "outputs": [],
     "prompt_number": 8
    },
    {
     "cell_type": "heading",
     "level": 4,
     "metadata": {},
     "source": [
      "I found that you can either do the apply_async or the pool.map, so I tried both."
     ]
    },
    {
     "cell_type": "code",
     "collapsed": false,
     "input": [
      "#using apply_async\n",
      "def multi_pi(n):\n",
      "    start_time = time()\n",
      "    #get number of processors\n",
      "    np = multiprocessing.cpu_count()\n",
      "    #Create the pool\n",
      "    pool = Pool(processes=np)   \n",
      "    \n",
      "    multiestimate = pool.apply_async(in_circle, [n])\n",
      "    estimatedpi = multiestimate.get()/(n*1.0)*4\n",
      "    end_time = time()\n",
      "    run_time = end_time - start_time\n",
      "\n",
      "    print 'Number of darts = ' + str(n)\n",
      "    print \"Estimated value of Pi:: \", estimatedpi\n",
      "    print 'Missed Pi by ', abs(estimatedpi - realPi)\n",
      "    print 'Run Time = ' + str(run_time)\n",
      "    print 'Darts thrown per second = ' + str(n / run_time)"
     ],
     "language": "python",
     "metadata": {},
     "outputs": [],
     "prompt_number": 9
    },
    {
     "cell_type": "code",
     "collapsed": false,
     "input": [
      "print 'Multi 1'\n",
      "multi_pi(100)\n",
      "print '______________________________'\n",
      "multi_pi(1000)\n",
      "print '______________________________'\n",
      "multi_pi(1000000)\n",
      "print '_______________________________________________________'"
     ],
     "language": "python",
     "metadata": {},
     "outputs": [
      {
       "output_type": "stream",
       "stream": "stdout",
       "text": [
        "Multi 1\n"
       ]
      },
      {
       "output_type": "stream",
       "stream": "stdout",
       "text": [
        "Number of darts = 100\n",
        "Estimated value of Pi::  2.8\n",
        "Missed Pi by  0.34159265359\n",
        "Run Time = 0.0560390949249\n",
        "Darts thrown per second = 1784.46850603\n",
        "______________________________\n"
       ]
      },
      {
       "output_type": "stream",
       "stream": "stdout",
       "text": [
        "Number of darts = 1000\n",
        "Estimated value of Pi::  3.176\n",
        "Missed Pi by  0.0344073464102\n",
        "Run Time = 0.125024080276\n",
        "Darts thrown per second = 7998.45915914\n",
        "______________________________\n"
       ]
      },
      {
       "output_type": "stream",
       "stream": "stdout",
       "text": [
        "Number of darts = 1000000\n",
        "Estimated value of Pi::  3.141444\n",
        "Missed Pi by  0.000148653589793\n",
        "Run Time = 2.9136660099\n",
        "Darts thrown per second = 343210.236383\n",
        "_______________________________________________________\n"
       ]
      }
     ],
     "prompt_number": 10
    },
    {
     "cell_type": "code",
     "collapsed": false,
     "input": [
      "#Using pool.map I actually think this one works better than the apply_async. I will use this from now on.\n",
      "def multi_pi2(n):\n",
      "    start_time = time()\n",
      "    #get number of processors\n",
      "    np = multiprocessing.cpu_count()\n",
      "    #divide up the workload\n",
      "    divided =[n/np for i in range(np)]\n",
      "    \n",
      "    #Create the pool\n",
      "    pool = Pool(processes=np)   \n",
      "    \n",
      "    # parallel map\n",
      "    multiestimate = pool.map(in_circle, divided)\n",
      "    end_time = time()\n",
      "    run_time = end_time - start_time\n",
      "    estimatedpi = sum(multiestimate)/(n*1.0)*4\n",
      "\n",
      "    print 'Number of darts = ' + str(n)\n",
      "    print \"Estimated value of Pi:: \", estimatedpi\n",
      "    print 'Missed Pi by ', abs(estimatedpi - realPi)\n",
      "    print 'Run Time = ' + str(run_time)\n",
      "    print 'Darts thrown per second = ' + str(n / run_time)"
     ],
     "language": "python",
     "metadata": {},
     "outputs": [],
     "prompt_number": 11
    },
    {
     "cell_type": "code",
     "collapsed": false,
     "input": [
      "print 'Multi 2'\n",
      "multi_pi2(100)\n",
      "print '______________________________'\n",
      "multi_pi2(1000)\n",
      "print '______________________________'\n",
      "multi_pi2(1000000)\n",
      "print '_______________________________________________________'"
     ],
     "language": "python",
     "metadata": {},
     "outputs": [
      {
       "output_type": "stream",
       "stream": "stdout",
       "text": [
        "Multi 2\n"
       ]
      },
      {
       "output_type": "stream",
       "stream": "stdout",
       "text": [
        "Number of darts = 100\n",
        "Estimated value of Pi::  3.32\n",
        "Missed Pi by  0.17840734641\n",
        "Run Time = 0.0594551563263\n",
        "Darts thrown per second = 1681.93990528\n",
        "______________________________\n"
       ]
      },
      {
       "output_type": "stream",
       "stream": "stdout",
       "text": [
        "Number of darts = 1000\n",
        "Estimated value of Pi::  3.112\n",
        "Missed Pi by  0.0295926535898\n",
        "Run Time = 0.054151058197\n",
        "Darts thrown per second = 18466.8598047\n",
        "______________________________\n"
       ]
      },
      {
       "output_type": "stream",
       "stream": "stdout",
       "text": [
        "Number of darts = 1000000\n",
        "Estimated value of Pi::  3.139072\n",
        "Missed Pi by  0.00252065358979\n",
        "Run Time = 1.08336806297\n",
        "Darts thrown per second = 923047.331907\n",
        "_______________________________________________________\n"
       ]
      }
     ],
     "prompt_number": 12
    },
    {
     "cell_type": "heading",
     "level": 2,
     "metadata": {},
     "source": [
      "IPython Parallel Module \u03c0"
     ]
    },
    {
     "cell_type": "code",
     "collapsed": false,
     "input": [
      "from IPython import parallel\n",
      "global rc\n",
      "global view\n",
      "rc = parallel.Client()\n",
      "view = rc[:]\n",
      "def iPyPi(n,rc,view):\n",
      "    start_time = time()\n",
      "    np = len(view.targets) #number of processors\n",
      "    divided = n/np\n",
      "    multiestimate = view.apply_async(in_circle2, divided)\n",
      "    end_time = time()\n",
      "    run_time = end_time - start_time\n",
      "    estimatedPi =  (sum(multiestimate.get()))/(n*1.0)*4\n",
      "    print 'Number of darts = ' + str(n)\n",
      "    print \"Estimated value of Pi:: \", estimatedPi\n",
      "    print 'Missed Pi by ', abs(estimatedPi - realPi)\n",
      "    print 'Run Time = ' + str(run_time)\n",
      "    print 'Darts thrown per second = ' + str(n / run_time)"
     ],
     "language": "python",
     "metadata": {},
     "outputs": [],
     "prompt_number": 13
    },
    {
     "cell_type": "code",
     "collapsed": false,
     "input": [
      "print 'Ipython'\n",
      "iPyPi(100,rc,view)\n",
      "print '______________________________'\n",
      "iPyPi(1000,rc,view)\n",
      "print '______________________________'\n",
      "iPyPi(1000000,rc,view)"
     ],
     "language": "python",
     "metadata": {},
     "outputs": [
      {
       "output_type": "stream",
       "stream": "stdout",
       "text": [
        "Ipython\n",
        "Number of darts = 100\n",
        "Estimated value of Pi::  3.08\n",
        "Missed Pi by  0.0615926535898\n",
        "Run Time = 0.002525806427\n",
        "Darts thrown per second = 39591.3158392\n",
        "______________________________\n",
        "Number of darts = 1000\n",
        "Estimated value of Pi::  3.176\n",
        "Missed Pi by  0.0344073464102\n",
        "Run Time = 0.00180101394653\n",
        "Darts thrown per second = 555242.785279\n",
        "______________________________\n",
        "Number of darts = 1000000"
       ]
      },
      {
       "output_type": "stream",
       "stream": "stdout",
       "text": [
        "\n",
        "Estimated value of Pi::  3.140644\n",
        "Missed Pi by  0.000948653589793\n",
        "Run Time = 0.00172901153564\n",
        "Darts thrown per second = 578365140.651\n"
       ]
      }
     ],
     "prompt_number": 14
    },
    {
     "cell_type": "code",
     "collapsed": false,
     "input": [
      "%reset"
     ],
     "language": "python",
     "metadata": {},
     "outputs": [
      {
       "name": "stdout",
       "output_type": "stream",
       "stream": "stdout",
       "text": [
        "Once deleted, variables cannot be recovered. Proceed (y/[n])? y\n"
       ]
      }
     ],
     "prompt_number": 25
    },
    {
     "cell_type": "code",
     "collapsed": false,
     "input": [
      "who"
     ],
     "language": "python",
     "metadata": {},
     "outputs": [
      {
       "output_type": "stream",
       "stream": "stdout",
       "text": [
        "Interactive namespace is empty.\n"
       ]
      }
     ],
     "prompt_number": 26
    },
    {
     "cell_type": "heading",
     "level": 1,
     "metadata": {},
     "source": [
      "Formal Testing & Plotting"
     ]
    },
    {
     "cell_type": "heading",
     "level": 3,
     "metadata": {},
     "source": [
      "We want to plot Execution Time, Throwing Rate, and Number of Darts for all three different way..."
     ]
    },
    {
     "cell_type": "heading",
     "level": 4,
     "metadata": {},
     "source": [
      "Redefine all my fuctions to return relevent data instead of printing it out"
     ]
    },
    {
     "cell_type": "code",
     "collapsed": false,
     "input": [
      "from IPython import parallel\n",
      "import random\n",
      "import multiprocessing\n",
      "from multiprocessing import Pool\n",
      "from time import time\n",
      "from random import uniform\n",
      "from math import sqrt\n",
      "\n",
      "#I am going to make a list of numbers of darts to try. # you can make this smaller if you don't want to wait around.\n",
      "# with it at 8, it takes about 30 seconds, at 9, it takes about 4-5 minutes\n",
      "darts = []\n",
      "powers = xrange(1,9)\n",
      "for p in powers:\n",
      "    p = 10**p\n",
      "    darts.append(p)\n",
      "\n",
      "#dart thrower, count number of darts in circle \n",
      "def in_circle(n): \n",
      "    num_hits = 0\n",
      "    for dart in xrange(n):\n",
      "            x,y, = uniform(0,1), uniform(0,1)\n",
      "            if sqrt((x - 0.5)**2 + (y - 0.5)**2) <= 0.5:\n",
      "                num_hits += 1\n",
      "    return num_hits\n",
      "    del num_hits\n",
      "#dart thrower, count number of darts in circle, import every time for IPython way of parallel \n",
      "def in_circle2(n):\n",
      "    from random import uniform\n",
      "    from math import sqrt # had to have these in there for IPython way. Says they were not global. Weird. \n",
      "    num_hits = 0\n",
      "    for dart in xrange(n):\n",
      "            x,y, = uniform(0,1), uniform(0,1)\n",
      "            if sqrt((x - 0.5)**2 + (y - 0.5)**2) <= 0.5:\n",
      "                num_hits += 1\n",
      "    return num_hits\n",
      "    del num_hits\n",
      "\n",
      "#define Pi for comparisons \n",
      "realPi = 3.141592653589793\n",
      "\n",
      "def serial_pi(n):\n",
      "    start_time = time()\n",
      "    num_hits = in_circle(n)\n",
      "    end_time = time()\n",
      "    run_time = end_time - start_time\n",
      "    pish = 4 * num_hits / float(n)\n",
      "    throw_rate = n / run_time\n",
      "    return (run_time, n, throw_rate)\n",
      "    del n, start_time, num_hits,end_time,run_time,pish,throw_rate\n",
      "\n",
      "def multi_pi(n):\n",
      "    start_time = time()\n",
      "    #get number of processors\n",
      "    np = multiprocessing.cpu_count()\n",
      "    #Create the pool\n",
      "    pool = Pool(processes=np)   \n",
      "    \n",
      "    multiestimate = pool.apply_async(in_circle, [n])\n",
      "    estimatedpi = multiestimate.get()/(n*1.0)*4\n",
      "    end_time = time()\n",
      "    run_time = end_time - start_time\n",
      "    throw_rate = n / run_time\n",
      "    return (run_time, n, throw_rate)\n",
      "    del n, start_time, np, pool,multiestimate,estimatedpi,end_time,run_time,throw_rate\n",
      "\n",
      "def multi_pi2(n):\n",
      "    start_time = time()\n",
      "    np = multiprocessing.cpu_count()\n",
      "    divided =[n/np for i in range(np)]\n",
      "    pool = Pool(processes=np)   \n",
      "    multiestimate = pool.map(in_circle, divided)\n",
      "    end_time = time()\n",
      "    run_time = end_time - start_time\n",
      "    estimatedpi = sum(multiestimate)/(n*1.0)*4\n",
      "    throw_rate = n / run_time\n",
      "    return(run_time,n,throw_rate)\n",
      "    del n, start_time, np, divided, pool,multiestimate,estimatedpi,end_time,run_time,throw_rate\n",
      "\n",
      "from IPython import parallel\n",
      "global rc\n",
      "global view\n",
      "rc = parallel.Client()\n",
      "view = rc[:]\n",
      "\n",
      "def iPyPi(n,rc,view):\n",
      "    start_time = time()\n",
      "    np = len(view.targets) #number of processors\n",
      "    divided = n/np\n",
      "    multiestimate = view.apply_async(in_circle2, divided)\n",
      "    end_time = time()\n",
      "    run_time = end_time - start_time\n",
      "    estimatedPi =  (sum(multiestimate.get()))/(n*1.0)*4\n",
      "    throw_rate = n / run_time\n",
      "    return (run_time, n, throw_rate)\n",
      "    del n, rc, view, start_time, np, divided, pool,multiestimate,estimatedpi,end_time,run_time,throw_rate"
     ],
     "language": "python",
     "metadata": {},
     "outputs": [],
     "prompt_number": 1
    },
    {
     "cell_type": "code",
     "collapsed": false,
     "input": [
      "serial = []\n",
      "multi = []\n",
      "iPy = []\n",
      "for dart in darts:\n",
      "    x = serial_pi(dart)\n",
      "    serial.append(x)\n",
      "    del x\n",
      "    y = multi_pi2(dart)\n",
      "    multi.append(y)\n",
      "    del y\n",
      "    z = iPyPi(dart,rc,view)\n",
      "    iPy.append(z)\n",
      "    del z"
     ],
     "language": "python",
     "metadata": {},
     "outputs": [],
     "prompt_number": 2
    },
    {
     "cell_type": "heading",
     "level": 4,
     "metadata": {},
     "source": [
      "Okay, now lets look at the data in a pandas DataFrame."
     ]
    },
    {
     "cell_type": "code",
     "collapsed": false,
     "input": [
      "import pandas as pd\n",
      "df = pd.DataFrame(serial)\n",
      "df.columns = ['Serial Run Time', 'Darts', 'Serial Throw Rate']\n",
      "df.set_index('Darts')"
     ],
     "language": "python",
     "metadata": {},
     "outputs": [
      {
       "html": [
        "<div style=\"max-height:1000px;max-width:1500px;overflow:auto;\">\n",
        "<table border=\"1\" class=\"dataframe\">\n",
        "  <thead>\n",
        "    <tr style=\"text-align: right;\">\n",
        "      <th></th>\n",
        "      <th>Serial Run Time</th>\n",
        "      <th>Serial Throw Rate</th>\n",
        "    </tr>\n",
        "    <tr>\n",
        "      <th>Darts</th>\n",
        "      <th></th>\n",
        "      <th></th>\n",
        "    </tr>\n",
        "  </thead>\n",
        "  <tbody>\n",
        "    <tr>\n",
        "      <th>10       </th>\n",
        "      <td>   0.000044</td>\n",
        "      <td> 227951.304348</td>\n",
        "    </tr>\n",
        "    <tr>\n",
        "      <th>100      </th>\n",
        "      <td>   0.000274</td>\n",
        "      <td> 364722.086957</td>\n",
        "    </tr>\n",
        "    <tr>\n",
        "      <th>1000     </th>\n",
        "      <td>   0.002503</td>\n",
        "      <td> 399533.625452</td>\n",
        "    </tr>\n",
        "    <tr>\n",
        "      <th>10000    </th>\n",
        "      <td>   0.022193</td>\n",
        "      <td> 450593.442482</td>\n",
        "    </tr>\n",
        "    <tr>\n",
        "      <th>100000   </th>\n",
        "      <td>   0.284859</td>\n",
        "      <td> 351050.942220</td>\n",
        "    </tr>\n",
        "    <tr>\n",
        "      <th>1000000  </th>\n",
        "      <td>   2.873657</td>\n",
        "      <td> 347988.644478</td>\n",
        "    </tr>\n",
        "    <tr>\n",
        "      <th>10000000 </th>\n",
        "      <td>  30.746241</td>\n",
        "      <td> 325243.010027</td>\n",
        "    </tr>\n",
        "    <tr>\n",
        "      <th>100000000</th>\n",
        "      <td> 154.638868</td>\n",
        "      <td> 646667.952159</td>\n",
        "    </tr>\n",
        "  </tbody>\n",
        "</table>\n",
        "</div>"
       ],
       "metadata": {},
       "output_type": "pyout",
       "prompt_number": 3,
       "text": [
        "           Serial Run Time  Serial Throw Rate\n",
        "Darts                                        \n",
        "10                0.000044      227951.304348\n",
        "100               0.000274      364722.086957\n",
        "1000              0.002503      399533.625452\n",
        "10000             0.022193      450593.442482\n",
        "100000            0.284859      351050.942220\n",
        "1000000           2.873657      347988.644478\n",
        "10000000         30.746241      325243.010027\n",
        "100000000       154.638868      646667.952159"
       ]
      }
     ],
     "prompt_number": 3
    },
    {
     "cell_type": "code",
     "collapsed": false,
     "input": [
      "multidf = pd.DataFrame(multi)\n",
      "multidf.columns = ['Multi Run Time', 'Darts', 'Multi Throw Rate']\n",
      "multidf.set_index('Darts')"
     ],
     "language": "python",
     "metadata": {},
     "outputs": [
      {
       "html": [
        "<div style=\"max-height:1000px;max-width:1500px;overflow:auto;\">\n",
        "<table border=\"1\" class=\"dataframe\">\n",
        "  <thead>\n",
        "    <tr style=\"text-align: right;\">\n",
        "      <th></th>\n",
        "      <th>Multi Run Time</th>\n",
        "      <th>Multi Throw Rate</th>\n",
        "    </tr>\n",
        "    <tr>\n",
        "      <th>Darts</th>\n",
        "      <th></th>\n",
        "      <th></th>\n",
        "    </tr>\n",
        "  </thead>\n",
        "  <tbody>\n",
        "    <tr>\n",
        "      <th>10       </th>\n",
        "      <td>  0.025144</td>\n",
        "      <td>     397.707610</td>\n",
        "    </tr>\n",
        "    <tr>\n",
        "      <th>100      </th>\n",
        "      <td>  0.071448</td>\n",
        "      <td>    1399.622256</td>\n",
        "    </tr>\n",
        "    <tr>\n",
        "      <th>1000     </th>\n",
        "      <td>  0.035436</td>\n",
        "      <td>   28219.957074</td>\n",
        "    </tr>\n",
        "    <tr>\n",
        "      <th>10000    </th>\n",
        "      <td>  0.051361</td>\n",
        "      <td>  194699.940582</td>\n",
        "    </tr>\n",
        "    <tr>\n",
        "      <th>100000   </th>\n",
        "      <td>  0.137601</td>\n",
        "      <td>  726738.180098</td>\n",
        "    </tr>\n",
        "    <tr>\n",
        "      <th>1000000  </th>\n",
        "      <td>  1.045586</td>\n",
        "      <td>  956401.600272</td>\n",
        "    </tr>\n",
        "    <tr>\n",
        "      <th>10000000 </th>\n",
        "      <td> 12.334498</td>\n",
        "      <td>  810734.255895</td>\n",
        "    </tr>\n",
        "    <tr>\n",
        "      <th>100000000</th>\n",
        "      <td> 58.188437</td>\n",
        "      <td> 1718554.496072</td>\n",
        "    </tr>\n",
        "  </tbody>\n",
        "</table>\n",
        "</div>"
       ],
       "metadata": {},
       "output_type": "pyout",
       "prompt_number": 4,
       "text": [
        "           Multi Run Time  Multi Throw Rate\n",
        "Darts                                      \n",
        "10               0.025144        397.707610\n",
        "100              0.071448       1399.622256\n",
        "1000             0.035436      28219.957074\n",
        "10000            0.051361     194699.940582\n",
        "100000           0.137601     726738.180098\n",
        "1000000          1.045586     956401.600272\n",
        "10000000        12.334498     810734.255895\n",
        "100000000       58.188437    1718554.496072"
       ]
      }
     ],
     "prompt_number": 4
    },
    {
     "cell_type": "code",
     "collapsed": false,
     "input": [
      "pypidf = pd.DataFrame(iPy)\n",
      "pypidf.columns = ['IPy Run Time', 'Darts', 'IPy Throw Rate']\n",
      "pypidf.set_index('Darts')"
     ],
     "language": "python",
     "metadata": {},
     "outputs": [
      {
       "html": [
        "<div style=\"max-height:1000px;max-width:1500px;overflow:auto;\">\n",
        "<table border=\"1\" class=\"dataframe\">\n",
        "  <thead>\n",
        "    <tr style=\"text-align: right;\">\n",
        "      <th></th>\n",
        "      <th>IPy Run Time</th>\n",
        "      <th>IPy Throw Rate</th>\n",
        "    </tr>\n",
        "    <tr>\n",
        "      <th>Darts</th>\n",
        "      <th></th>\n",
        "      <th></th>\n",
        "    </tr>\n",
        "  </thead>\n",
        "  <tbody>\n",
        "    <tr>\n",
        "      <th>10       </th>\n",
        "      <td> 0.003689</td>\n",
        "      <td> 2.710724e+03</td>\n",
        "    </tr>\n",
        "    <tr>\n",
        "      <th>100      </th>\n",
        "      <td> 0.003189</td>\n",
        "      <td> 3.135694e+04</td>\n",
        "    </tr>\n",
        "    <tr>\n",
        "      <th>1000     </th>\n",
        "      <td> 0.003271</td>\n",
        "      <td> 3.057296e+05</td>\n",
        "    </tr>\n",
        "    <tr>\n",
        "      <th>10000    </th>\n",
        "      <td> 0.006951</td>\n",
        "      <td> 1.438672e+06</td>\n",
        "    </tr>\n",
        "    <tr>\n",
        "      <th>100000   </th>\n",
        "      <td> 0.017852</td>\n",
        "      <td> 5.601592e+06</td>\n",
        "    </tr>\n",
        "    <tr>\n",
        "      <th>1000000  </th>\n",
        "      <td> 0.003321</td>\n",
        "      <td> 3.011203e+08</td>\n",
        "    </tr>\n",
        "    <tr>\n",
        "      <th>10000000 </th>\n",
        "      <td> 0.003537</td>\n",
        "      <td> 2.827303e+09</td>\n",
        "    </tr>\n",
        "    <tr>\n",
        "      <th>100000000</th>\n",
        "      <td> 0.003140</td>\n",
        "      <td> 3.184741e+10</td>\n",
        "    </tr>\n",
        "  </tbody>\n",
        "</table>\n",
        "</div>"
       ],
       "metadata": {},
       "output_type": "pyout",
       "prompt_number": 5,
       "text": [
        "           IPy Run Time  IPy Throw Rate\n",
        "Darts                                  \n",
        "10             0.003689    2.710724e+03\n",
        "100            0.003189    3.135694e+04\n",
        "1000           0.003271    3.057296e+05\n",
        "10000          0.006951    1.438672e+06\n",
        "100000         0.017852    5.601592e+06\n",
        "1000000        0.003321    3.011203e+08\n",
        "10000000       0.003537    2.827303e+09\n",
        "100000000      0.003140    3.184741e+10"
       ]
      }
     ],
     "prompt_number": 5
    },
    {
     "cell_type": "code",
     "collapsed": false,
     "input": [
      "merged = pd.merge(multidf, df, on='Darts')\n",
      "merged.set_index('Darts')\n",
      "merged = pd.merge(pypidf, merged, on='Darts')\n",
      "merged.set_index('Darts').head(10)"
     ],
     "language": "python",
     "metadata": {},
     "outputs": [
      {
       "html": [
        "<div style=\"max-height:1000px;max-width:1500px;overflow:auto;\">\n",
        "<table border=\"1\" class=\"dataframe\">\n",
        "  <thead>\n",
        "    <tr style=\"text-align: right;\">\n",
        "      <th></th>\n",
        "      <th>IPy Run Time</th>\n",
        "      <th>IPy Throw Rate</th>\n",
        "      <th>Multi Run Time</th>\n",
        "      <th>Multi Throw Rate</th>\n",
        "      <th>Serial Run Time</th>\n",
        "      <th>Serial Throw Rate</th>\n",
        "    </tr>\n",
        "    <tr>\n",
        "      <th>Darts</th>\n",
        "      <th></th>\n",
        "      <th></th>\n",
        "      <th></th>\n",
        "      <th></th>\n",
        "      <th></th>\n",
        "      <th></th>\n",
        "    </tr>\n",
        "  </thead>\n",
        "  <tbody>\n",
        "    <tr>\n",
        "      <th>10       </th>\n",
        "      <td> 0.003689</td>\n",
        "      <td> 2.710724e+03</td>\n",
        "      <td>  0.025144</td>\n",
        "      <td>     397.707610</td>\n",
        "      <td>   0.000044</td>\n",
        "      <td> 227951.304348</td>\n",
        "    </tr>\n",
        "    <tr>\n",
        "      <th>100      </th>\n",
        "      <td> 0.003189</td>\n",
        "      <td> 3.135694e+04</td>\n",
        "      <td>  0.071448</td>\n",
        "      <td>    1399.622256</td>\n",
        "      <td>   0.000274</td>\n",
        "      <td> 364722.086957</td>\n",
        "    </tr>\n",
        "    <tr>\n",
        "      <th>1000     </th>\n",
        "      <td> 0.003271</td>\n",
        "      <td> 3.057296e+05</td>\n",
        "      <td>  0.035436</td>\n",
        "      <td>   28219.957074</td>\n",
        "      <td>   0.002503</td>\n",
        "      <td> 399533.625452</td>\n",
        "    </tr>\n",
        "    <tr>\n",
        "      <th>10000    </th>\n",
        "      <td> 0.006951</td>\n",
        "      <td> 1.438672e+06</td>\n",
        "      <td>  0.051361</td>\n",
        "      <td>  194699.940582</td>\n",
        "      <td>   0.022193</td>\n",
        "      <td> 450593.442482</td>\n",
        "    </tr>\n",
        "    <tr>\n",
        "      <th>100000   </th>\n",
        "      <td> 0.017852</td>\n",
        "      <td> 5.601592e+06</td>\n",
        "      <td>  0.137601</td>\n",
        "      <td>  726738.180098</td>\n",
        "      <td>   0.284859</td>\n",
        "      <td> 351050.942220</td>\n",
        "    </tr>\n",
        "    <tr>\n",
        "      <th>1000000  </th>\n",
        "      <td> 0.003321</td>\n",
        "      <td> 3.011203e+08</td>\n",
        "      <td>  1.045586</td>\n",
        "      <td>  956401.600272</td>\n",
        "      <td>   2.873657</td>\n",
        "      <td> 347988.644478</td>\n",
        "    </tr>\n",
        "    <tr>\n",
        "      <th>10000000 </th>\n",
        "      <td> 0.003537</td>\n",
        "      <td> 2.827303e+09</td>\n",
        "      <td> 12.334498</td>\n",
        "      <td>  810734.255895</td>\n",
        "      <td>  30.746241</td>\n",
        "      <td> 325243.010027</td>\n",
        "    </tr>\n",
        "    <tr>\n",
        "      <th>100000000</th>\n",
        "      <td> 0.003140</td>\n",
        "      <td> 3.184741e+10</td>\n",
        "      <td> 58.188437</td>\n",
        "      <td> 1718554.496072</td>\n",
        "      <td> 154.638868</td>\n",
        "      <td> 646667.952159</td>\n",
        "    </tr>\n",
        "  </tbody>\n",
        "</table>\n",
        "</div>"
       ],
       "metadata": {},
       "output_type": "pyout",
       "prompt_number": 6,
       "text": [
        "           IPy Run Time  IPy Throw Rate  Multi Run Time  Multi Throw Rate  \\\n",
        "Darts                                                                       \n",
        "10             0.003689    2.710724e+03        0.025144        397.707610   \n",
        "100            0.003189    3.135694e+04        0.071448       1399.622256   \n",
        "1000           0.003271    3.057296e+05        0.035436      28219.957074   \n",
        "10000          0.006951    1.438672e+06        0.051361     194699.940582   \n",
        "100000         0.017852    5.601592e+06        0.137601     726738.180098   \n",
        "1000000        0.003321    3.011203e+08        1.045586     956401.600272   \n",
        "10000000       0.003537    2.827303e+09       12.334498     810734.255895   \n",
        "100000000      0.003140    3.184741e+10       58.188437    1718554.496072   \n",
        "\n",
        "           Serial Run Time  Serial Throw Rate  \n",
        "Darts                                          \n",
        "10                0.000044      227951.304348  \n",
        "100               0.000274      364722.086957  \n",
        "1000              0.002503      399533.625452  \n",
        "10000             0.022193      450593.442482  \n",
        "100000            0.284859      351050.942220  \n",
        "1000000           2.873657      347988.644478  \n",
        "10000000         30.746241      325243.010027  \n",
        "100000000       154.638868      646667.952159  "
       ]
      }
     ],
     "prompt_number": 6
    },
    {
     "cell_type": "heading",
     "level": 3,
     "metadata": {},
     "source": [
      "Plot!"
     ]
    },
    {
     "cell_type": "code",
     "collapsed": false,
     "input": [
      "import matplotlib.pylab as plt\n",
      "%pylab inline"
     ],
     "language": "python",
     "metadata": {},
     "outputs": [
      {
       "output_type": "stream",
       "stream": "stdout",
       "text": [
        "Populating the interactive namespace from numpy and matplotlib\n"
       ]
      },
      {
       "output_type": "stream",
       "stream": "stderr",
       "text": [
        "WARNING: pylab import has clobbered these variables: ['random', 'plt', 'rc', 'sqrt', 'uniform']\n",
        "`%pylab --no-import-all` prevents importing * from pylab and numpy\n"
       ]
      }
     ],
     "prompt_number": 9
    },
    {
     "cell_type": "code",
     "collapsed": false,
     "input": [
      "x1 = merged['IPy Run Time']\n",
      "x2 = merged['Multi Run Time']\n",
      "x3 = merged['Serial Run Time']\n",
      "w1 = merged['IPy Throw Rate']\n",
      "w2 = merged['Multi Throw Rate']\n",
      "w3 = merged['Serial Throw Rate']\n",
      "y = merged['Darts']\n",
      "fig = plt.figure(figsize=(14,8))\n",
      "plt.xscale('log')\n",
      "plt.yscale('log')\n",
      "ax = fig.add_subplot(1,1,1) \n",
      "ax2 = ax.twinx()\n",
      "line1, = ax.plot(y, x1, label = 'iPy Run')\n",
      "line2, = ax.plot(y, x2, label = 'Multi Run')\n",
      "line3, = ax.plot(y, x3, label = 'Serial Run')\n",
      "line4, = ax2.plot(y, w1, label = 'iPy Throw',linestyle='dotted')\n",
      "line5, = ax2.plot(y, w2, label = 'Multi Throw',linestyle='dotted')\n",
      "line6, = ax2.plot(y, w3, label = 'Serial Throw',linestyle='dotted')\n",
      "plt.yscale('log')\n",
      "ax.set_xlabel('Darts',fontsize=14)\n",
      "ax.set_ylabel('Run Time',fontsize=14)\n",
      "ax2.set_ylabel('Throw Rate', fontsize=14)\n",
      "ax2.set_ylim(-1000,)\n",
      "ax.set_ylim(-1000,)\n",
      "plt.suptitle('Ran on 2013 Macbook Pro 16GB ram, 2.6 ghz processor, 4 cores (really 2)')\n",
      "plt.legend((line1,line2,line3,line4,line5,line6),('iPy Run','Multi Run','Serial Run','iPy Throw','Multi Throw','Serial Throw'), loc='upper left', frameon=False)\n",
      "plt.show()"
     ],
     "language": "python",
     "metadata": {},
     "outputs": [
      {
       "metadata": {},
       "output_type": "display_data",
       "png": "[encoded data removed]",
       "text": [
        "<matplotlib.figure.Figure at 0x110a139d0>"
       ]
      }
     ],
     "prompt_number": 10
    }
   ],
   "metadata": {}
  }
 ]
}