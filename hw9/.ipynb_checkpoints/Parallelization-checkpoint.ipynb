{
 "metadata": {
  "name": ""
 },
 "nbformat": 3,
 "nbformat_minor": 0,
 "worksheets": [
  {
   "cells": [
    {
     "cell_type": "heading",
     "level": 1,
     "metadata": {},
     "source": [
      "Homework 9: Parallelization"
     ]
    },
    {
     "cell_type": "heading",
     "level": 3,
     "metadata": {},
     "source": [
      "Stuff I will use for all three types of \u03c0 finders"
     ]
    },
    {
     "cell_type": "code",
     "collapsed": false,
     "input": [
      "#I am going to make a list of numbers of darts to try. \n",
      "darts = []\n",
      "powers = range(1,5) #make this bigger in the end\n",
      "for p in powers:\n",
      "    p = 10**p\n",
      "    darts.append(p)\n",
      "darts"
     ],
     "language": "python",
     "metadata": {},
     "outputs": [
      {
       "metadata": {},
       "output_type": "pyout",
       "prompt_number": 1,
       "text": [
        "[10, 100, 1000, 10000]"
       ]
      }
     ],
     "prompt_number": 1
    },
    {
     "cell_type": "code",
     "collapsed": false,
     "input": [
      "#dart thrower, count number of darts in circle \n",
      "def in_circle(n):\n",
      "    from random import uniform\n",
      "    from math import sqrt\n",
      "    num_hits = 0\n",
      "    for dart in range(n):\n",
      "            x,y, = uniform(0,1), uniform(0,1)\n",
      "            if sqrt((x - 0.5)**2 + (y - 0.5)**2) <= 0.5:\n",
      "                num_hits += 1\n",
      "    return num_hits"
     ],
     "language": "python",
     "metadata": {},
     "outputs": [],
     "prompt_number": 2
    },
    {
     "cell_type": "code",
     "collapsed": false,
     "input": [
      "#define Pi for comparisons \n",
      "realPi = 3.141592653589793\n",
      "realPi"
     ],
     "language": "python",
     "metadata": {},
     "outputs": [
      {
       "metadata": {},
       "output_type": "pyout",
       "prompt_number": 3,
       "text": [
        "3.141592653589793"
       ]
      }
     ],
     "prompt_number": 3
    },
    {
     "cell_type": "code",
     "collapsed": false,
     "input": [
      "from time import time"
     ],
     "language": "python",
     "metadata": {},
     "outputs": [],
     "prompt_number": 4
    },
    {
     "cell_type": "heading",
     "level": 2,
     "metadata": {},
     "source": [
      "Serial \u03c0"
     ]
    },
    {
     "cell_type": "code",
     "collapsed": false,
     "input": [
      "def serial_pi(n):\n",
      "    start_time = time()\n",
      "    num_hits = in_circle(n)\n",
      "    end_time = time()\n",
      "    run_time = end_time - start_time\n",
      "    pish = 4 * num_hits / float(n)\n",
      "    print 'Number of darts = ' + str(n)\n",
      "    print 'Pi Approximation = ' + str(pish)\n",
      "    print 'Missed Pi by ', abs(pish - realPi)\n",
      "    print 'Run Time = ' + str(run_time)\n",
      "    print 'Darts thrown per second = ' + str(n / run_time)"
     ],
     "language": "python",
     "metadata": {},
     "outputs": [],
     "prompt_number": 5
    },
    {
     "cell_type": "code",
     "collapsed": false,
     "input": [
      "for x in darts:\n",
      "    serial_pi(x)\n",
      "    print '_____________________________________'"
     ],
     "language": "python",
     "metadata": {},
     "outputs": [
      {
       "output_type": "stream",
       "stream": "stdout",
       "text": [
        "Number of darts = 10\n",
        "Pi Approximation = 3.2\n",
        "Missed Pi by  0.0584073464102\n",
        "Run Time = 3.19480895996e-05\n",
        "Darts thrown per second = 313007.761194\n",
        "_____________________________________\n",
        "Number of darts = 100\n",
        "Pi Approximation = 3.12\n",
        "Missed Pi by  0.0215926535898\n",
        "Run Time = 0.000220060348511\n",
        "Darts thrown per second = 454420.801733\n",
        "_____________________________________\n",
        "Number of darts = 1000\n",
        "Pi Approximation = 3.092\n",
        "Missed Pi by  0.0495926535898\n",
        "Run Time = 0.00162887573242\n",
        "Darts thrown per second = 613920.374707\n",
        "_____________________________________\n"
       ]
      }
     ],
     "prompt_number": 34
    },
    {
     "cell_type": "heading",
     "level": 2,
     "metadata": {},
     "source": [
      "Multiprocessing \u03c0"
     ]
    },
    {
     "cell_type": "code",
     "collapsed": false,
     "input": [
      "import random\n",
      "import multiprocessing\n",
      "from multiprocessing import Pool"
     ],
     "language": "python",
     "metadata": {},
     "outputs": [],
     "prompt_number": 6
    },
    {
     "cell_type": "heading",
     "level": 4,
     "metadata": {},
     "source": [
      "I found that you can either do the apply_async or the pool.map, so I tried both."
     ]
    },
    {
     "cell_type": "code",
     "collapsed": false,
     "input": [
      "#using apply_async\n",
      "def multi_pi(n):\n",
      "    start_time = time()\n",
      "    #get number of processors\n",
      "    np = multiprocessing.cpu_count()\n",
      "    #Create the pool\n",
      "    pool = Pool(processes=np)   \n",
      "    \n",
      "    multiestimate = pool.apply_async(in_circle, [n])\n",
      "    estimatedpi = multiestimate.get()/(n*1.0)*4\n",
      "    end_time = time()\n",
      "    run_time = end_time - start_time\n",
      "\n",
      "    print 'Number of darts = ' + str(n)\n",
      "    print \"Estimated value of Pi:: \", estimatedpi\n",
      "    print 'Missed Pi by ', abs(estimatedpi - realPi)\n",
      "    print 'Run Time = ' + str(run_time)\n",
      "    print 'Darts thrown per second = ' + str(n / run_time)"
     ],
     "language": "python",
     "metadata": {},
     "outputs": [],
     "prompt_number": 7
    },
    {
     "cell_type": "code",
     "collapsed": false,
     "input": [
      "for x in darts:\n",
      "    print '_____________________________________'\n",
      "    multi_pi(x)"
     ],
     "language": "python",
     "metadata": {},
     "outputs": [
      {
       "output_type": "stream",
       "stream": "stdout",
       "text": [
        "_____________________________________\n"
       ]
      },
      {
       "output_type": "stream",
       "stream": "stdout",
       "text": [
        "Number of darts = 10\n",
        "Estimated value of Pi::  4.0\n",
        "Missed Pi by  0.85840734641\n",
        "Run Time = 0.0149450302124\n",
        "Darts thrown per second = 669.118754387\n",
        "_____________________________________\n"
       ]
      },
      {
       "output_type": "stream",
       "stream": "stdout",
       "text": [
        "Number of darts = 100\n",
        "Estimated value of Pi::  3.2\n",
        "Missed Pi by  0.0584073464102\n",
        "Run Time = 0.016165971756\n",
        "Darts thrown per second = 6185.83290318\n",
        "_____________________________________\n"
       ]
      },
      {
       "output_type": "stream",
       "stream": "stdout",
       "text": [
        "Number of darts = 1000\n",
        "Estimated value of Pi::  3.04\n",
        "Missed Pi by  0.10159265359\n",
        "Run Time = 0.0270681381226\n",
        "Darts thrown per second = 36943.80439\n"
       ]
      }
     ],
     "prompt_number": 13
    },
    {
     "cell_type": "code",
     "collapsed": false,
     "input": [
      "#Using pool.map\n",
      "def multi_pi2(n):\n",
      "    start_time = time()\n",
      "    #get number of processors\n",
      "    np = multiprocessing.cpu_count()\n",
      "    #divide up the workload\n",
      "    divided =[n/np for i in range(np)]\n",
      "    \n",
      "    #Create the pool\n",
      "    pool = Pool(processes=np)   \n",
      "    \n",
      "    # parallel map\n",
      "    multiestimate = pool.map(in_circle, divided)\n",
      "    end_time = time()\n",
      "    run_time = end_time - start_time\n",
      "    estimatedpi = sum(multiestimate)/(n*1.0)*4\n",
      "\n",
      "    print 'Number of darts = ' + str(n)\n",
      "    print \"Estimated value of Pi:: \", estimatedpi\n",
      "    print 'Missed Pi by ', abs(estimatedpi - realPi)\n",
      "    print 'Run Time = ' + str(run_time)\n",
      "    print 'Darts thrown per second = ' + str(n / run_time)"
     ],
     "language": "python",
     "metadata": {},
     "outputs": [],
     "prompt_number": 8
    },
    {
     "cell_type": "code",
     "collapsed": false,
     "input": [
      "for x in darts:\n",
      "    print '_____________________________________'\n",
      "    multi_pi2(x)"
     ],
     "language": "python",
     "metadata": {},
     "outputs": [
      {
       "output_type": "stream",
       "stream": "stdout",
       "text": [
        "_____________________________________\n"
       ]
      },
      {
       "output_type": "stream",
       "stream": "stdout",
       "text": [
        "Number of darts = 10\n",
        "Estimated value of Pi::  2.8\n",
        "Missed Pi by  0.34159265359\n",
        "Run Time = 0.0209019184113\n",
        "Darts thrown per second = 478.424984886\n",
        "_____________________________________\n"
       ]
      },
      {
       "output_type": "stream",
       "stream": "stdout",
       "text": [
        "Number of darts = 100\n",
        "Estimated value of Pi::  3.12\n",
        "Missed Pi by  0.0215926535898\n",
        "Run Time = 0.0235521793365\n",
        "Darts thrown per second = 4245.89158273\n",
        "_____________________________________\n"
       ]
      },
      {
       "output_type": "stream",
       "stream": "stdout",
       "text": [
        "Number of darts = 1000\n",
        "Estimated value of Pi::  3.124\n",
        "Missed Pi by  0.0175926535898\n",
        "Run Time = 0.0258560180664\n",
        "Darts thrown per second = 38675.7155503\n"
       ]
      }
     ],
     "prompt_number": 15
    },
    {
     "cell_type": "heading",
     "level": 4,
     "metadata": {},
     "source": [
      "They look about the same speed and accuracy"
     ]
    },
    {
     "cell_type": "heading",
     "level": 2,
     "metadata": {},
     "source": [
      "IPython Parallel Module \u03c0"
     ]
    },
    {
     "cell_type": "code",
     "collapsed": false,
     "input": [
      "from IPython import parallel"
     ],
     "language": "python",
     "metadata": {},
     "outputs": [],
     "prompt_number": 9
    },
    {
     "cell_type": "code",
     "collapsed": false,
     "input": [
      "def iPyPi(n):\n",
      "    start_time = time()\n",
      "    rc = parallel.Client()\n",
      "    view = rc[:]\n",
      "    np = len(view.targets) #number of processors\n",
      "    divided = n/np\n",
      "    multiestimate = view.apply_async(in_circle, divided)\n",
      "    end_time = time()\n",
      "    run_time = end_time - start_time\n",
      "    estimatedPi =  (sum(multiestimate))/(n*1.0)*4\n",
      "    print 'Number of darts = ' + str(n)\n",
      "    print \"Estimated value of Pi:: \", estimatedPi\n",
      "    print 'Missed Pi by ', abs(estimatedPi - realPi)\n",
      "    print 'Run Time = ' + str(run_time)\n",
      "    print 'Darts thrown per second = ' + str(n / run_time)"
     ],
     "language": "python",
     "metadata": {},
     "outputs": [],
     "prompt_number": 10
    },
    {
     "cell_type": "code",
     "collapsed": false,
     "input": [
      "for x in darts:\n",
      "    print '_____________________________________'\n",
      "    iPyPi(x)"
     ],
     "language": "python",
     "metadata": {},
     "outputs": [
      {
       "output_type": "stream",
       "stream": "stdout",
       "text": [
        "_____________________________________\n",
        "Number of darts = 10\n",
        "Estimated value of Pi::  2.8\n",
        "Missed Pi by  0.34159265359\n",
        "Run Time = 0.0173239707947\n",
        "Darts thrown per second = 577.234868294\n",
        "_____________________________________\n",
        "Number of darts = 100\n",
        "Estimated value of Pi::  3.04\n",
        "Missed Pi by  0.10159265359\n",
        "Run Time = 0.00792098045349\n",
        "Darts thrown per second = 12624.6997562\n",
        "_____________________________________\n",
        "Number of darts = 1000"
       ]
      },
      {
       "output_type": "stream",
       "stream": "stdout",
       "text": [
        "\n",
        "Estimated value of Pi::  3.112\n",
        "Missed Pi by  0.0295926535898\n",
        "Run Time = 0.00870490074158\n",
        "Darts thrown per second = 114877.817644\n"
       ]
      }
     ],
     "prompt_number": 9
    },
    {
     "cell_type": "heading",
     "level": 4,
     "metadata": {},
     "source": [
      "Let's see performance next to each other..."
     ]
    },
    {
     "cell_type": "code",
     "collapsed": false,
     "input": [
      "#not that many darts...\n",
      "serial_pi(100)\n",
      "print '______________________________'\n",
      "multi_pi(100)\n",
      "print '______________________________'\n",
      "multi_pi2(100)\n",
      "print '______________________________'\n",
      "iPyPi(100)"
     ],
     "language": "python",
     "metadata": {},
     "outputs": [
      {
       "output_type": "stream",
       "stream": "stdout",
       "text": [
        "Number of darts = 100\n",
        "Pi Approximation = 2.8\n",
        "Missed Pi by  0.34159265359\n",
        "Run Time = 0.0001540184021\n",
        "Darts thrown per second = 649273.065015\n",
        "______________________________\n"
       ]
      },
      {
       "output_type": "stream",
       "stream": "stdout",
       "text": [
        "Number of darts = 100\n",
        "Estimated value of Pi::  3.12\n",
        "Missed Pi by  0.0215926535898\n",
        "Run Time = 0.0159959793091\n",
        "Darts thrown per second = 6251.57097717\n",
        "______________________________\n"
       ]
      },
      {
       "output_type": "stream",
       "stream": "stdout",
       "text": [
        "Number of darts = 100\n",
        "Estimated value of Pi::  3.16\n",
        "Missed Pi by  0.0184073464102\n",
        "Run Time = 0.0135171413422\n",
        "Darts thrown per second = 7398.01393421\n",
        "______________________________\n",
        "Number of darts = 100\n",
        "Estimated value of Pi::  2.88\n",
        "Missed Pi by  0.26159265359\n",
        "Run Time = 0.0310029983521\n",
        "Darts thrown per second = 3225.49447845\n"
       ]
      }
     ],
     "prompt_number": 11
    },
    {
     "cell_type": "code",
     "collapsed": false,
     "input": [
      "#a lot of darts...\n",
      "serial_pi(100000)\n",
      "print '______________________________'\n",
      "multi_pi(100000)\n",
      "print '______________________________'\n",
      "multi_pi2(100000)\n",
      "print '______________________________'\n",
      "iPyPi(100000)"
     ],
     "language": "python",
     "metadata": {},
     "outputs": [
      {
       "output_type": "stream",
       "stream": "stdout",
       "text": [
        "Number of darts = 100000\n",
        "Pi Approximation = 3.1378\n",
        "Missed Pi by  0.00379265358979\n",
        "Run Time = 0.148921966553\n",
        "Darts thrown per second = 671492.609954\n",
        "______________________________\n"
       ]
      },
      {
       "output_type": "stream",
       "stream": "stdout",
       "text": [
        "Number of darts = 100000\n",
        "Estimated value of Pi::  3.1468\n",
        "Missed Pi by  0.00520734641021\n",
        "Run Time = 0.124408006668\n",
        "Darts thrown per second = 803806.78606\n",
        "______________________________\n"
       ]
      },
      {
       "output_type": "stream",
       "stream": "stdout",
       "text": [
        "Number of darts = 100000\n",
        "Estimated value of Pi::  3.13972\n",
        "Missed Pi by  0.00187265358979\n",
        "Run Time = 0.0718309879303\n",
        "Darts thrown per second = 1392156.8237\n",
        "______________________________\n",
        "Number of darts = 100000"
       ]
      },
      {
       "output_type": "stream",
       "stream": "stdout",
       "text": [
        "\n",
        "Estimated value of Pi::  3.14832\n",
        "Missed Pi by  0.00672734641021\n",
        "Run Time = 0.00859618186951\n",
        "Darts thrown per second = 11633071.696\n"
       ]
      }
     ],
     "prompt_number": 12
    },
    {
     "cell_type": "code",
     "collapsed": false,
     "input": [],
     "language": "python",
     "metadata": {},
     "outputs": []
    },
    {
     "cell_type": "code",
     "collapsed": false,
     "input": [],
     "language": "python",
     "metadata": {},
     "outputs": []
    },
    {
     "cell_type": "code",
     "collapsed": false,
     "input": [],
     "language": "python",
     "metadata": {},
     "outputs": []
    },
    {
     "cell_type": "code",
     "collapsed": false,
     "input": [],
     "language": "python",
     "metadata": {},
     "outputs": []
    },
    {
     "cell_type": "code",
     "collapsed": false,
     "input": [],
     "language": "python",
     "metadata": {},
     "outputs": []
    },
    {
     "cell_type": "code",
     "collapsed": false,
     "input": [],
     "language": "python",
     "metadata": {},
     "outputs": []
    },
    {
     "cell_type": "code",
     "collapsed": false,
     "input": [],
     "language": "python",
     "metadata": {},
     "outputs": []
    },
    {
     "cell_type": "code",
     "collapsed": false,
     "input": [],
     "language": "python",
     "metadata": {},
     "outputs": []
    },
    {
     "cell_type": "code",
     "collapsed": false,
     "input": [],
     "language": "python",
     "metadata": {},
     "outputs": []
    },
    {
     "cell_type": "code",
     "collapsed": false,
     "input": [],
     "language": "python",
     "metadata": {},
     "outputs": []
    },
    {
     "cell_type": "code",
     "collapsed": false,
     "input": [],
     "language": "python",
     "metadata": {},
     "outputs": []
    },
    {
     "cell_type": "code",
     "collapsed": false,
     "input": [],
     "language": "python",
     "metadata": {},
     "outputs": []
    },
    {
     "cell_type": "code",
     "collapsed": false,
     "input": [],
     "language": "python",
     "metadata": {},
     "outputs": []
    },
    {
     "cell_type": "code",
     "collapsed": false,
     "input": [],
     "language": "python",
     "metadata": {},
     "outputs": []
    },
    {
     "cell_type": "code",
     "collapsed": false,
     "input": [],
     "language": "python",
     "metadata": {},
     "outputs": []
    },
    {
     "cell_type": "code",
     "collapsed": false,
     "input": [],
     "language": "python",
     "metadata": {},
     "outputs": []
    },
    {
     "cell_type": "code",
     "collapsed": false,
     "input": [],
     "language": "python",
     "metadata": {},
     "outputs": []
    },
    {
     "cell_type": "code",
     "collapsed": false,
     "input": [],
     "language": "python",
     "metadata": {},
     "outputs": []
    },
    {
     "cell_type": "code",
     "collapsed": false,
     "input": [],
     "language": "python",
     "metadata": {},
     "outputs": []
    },
    {
     "cell_type": "code",
     "collapsed": false,
     "input": [],
     "language": "python",
     "metadata": {},
     "outputs": []
    },
    {
     "cell_type": "code",
     "collapsed": false,
     "input": [],
     "language": "python",
     "metadata": {},
     "outputs": []
    },
    {
     "cell_type": "code",
     "collapsed": false,
     "input": [],
     "language": "python",
     "metadata": {},
     "outputs": []
    },
    {
     "cell_type": "code",
     "collapsed": false,
     "input": [],
     "language": "python",
     "metadata": {},
     "outputs": []
    }
   ],
   "metadata": {}
  }
 ]
}