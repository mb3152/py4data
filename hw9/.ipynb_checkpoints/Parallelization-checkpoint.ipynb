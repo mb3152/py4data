{
 "metadata": {
  "name": ""
 },
 "nbformat": 3,
 "nbformat_minor": 0,
 "worksheets": [
  {
   "cells": [
    {
     "cell_type": "heading",
     "level": 1,
     "metadata": {},
     "source": [
      "Homework 9: Parallelization"
     ]
    },
    {
     "cell_type": "heading",
     "level": 3,
     "metadata": {},
     "source": [
      "Stuff I will use for all three types of \u03c0 finders"
     ]
    },
    {
     "cell_type": "code",
     "collapsed": false,
     "input": [
      "#I am going to make a list of numbers of darts to try. \n",
      "darts = []\n",
      "powers = xrange(1,7) #make this bigger in the end\n",
      "for p in powers:\n",
      "    p = 10**p\n",
      "    darts.append(p)\n",
      "darts"
     ],
     "language": "python",
     "metadata": {},
     "outputs": [
      {
       "metadata": {},
       "output_type": "pyout",
       "prompt_number": 1,
       "text": [
        "[10, 100, 1000, 10000, 100000, 1000000]"
       ]
      }
     ],
     "prompt_number": 1
    },
    {
     "cell_type": "code",
     "collapsed": false,
     "input": [
      "#dart thrower, count number of darts in circle \n",
      "from random import uniform\n",
      "from math import sqrt\n",
      "def in_circle(n): \n",
      "    num_hits = 0\n",
      "    for dart in xrange(n):\n",
      "            x,y, = uniform(0,1), uniform(0,1)\n",
      "            if sqrt((x - 0.5)**2 + (y - 0.5)**2) <= 0.5:\n",
      "                num_hits += 1\n",
      "    return num_hits"
     ],
     "language": "python",
     "metadata": {},
     "outputs": [],
     "prompt_number": 2
    },
    {
     "cell_type": "code",
     "collapsed": false,
     "input": [
      "#dart thrower, count number of darts in circle \n",
      "def in_circle2(n):\n",
      "    from random import uniform\n",
      "    from math import sqrt # had to have these in there for IPython way. Weird. \n",
      "    num_hits = 0\n",
      "    for dart in xrange(n):\n",
      "            x,y, = uniform(0,1), uniform(0,1)\n",
      "            if sqrt((x - 0.5)**2 + (y - 0.5)**2) <= 0.5:\n",
      "                num_hits += 1\n",
      "    return num_hits"
     ],
     "language": "python",
     "metadata": {},
     "outputs": [],
     "prompt_number": 3
    },
    {
     "cell_type": "code",
     "collapsed": false,
     "input": [
      "#define Pi for comparisons \n",
      "realPi = 3.141592653589793\n",
      "realPi"
     ],
     "language": "python",
     "metadata": {},
     "outputs": [
      {
       "metadata": {},
       "output_type": "pyout",
       "prompt_number": 4,
       "text": [
        "3.141592653589793"
       ]
      }
     ],
     "prompt_number": 4
    },
    {
     "cell_type": "code",
     "collapsed": false,
     "input": [
      "from time import time\n",
      "import pandas as pd"
     ],
     "language": "python",
     "metadata": {},
     "outputs": [],
     "prompt_number": 5
    },
    {
     "cell_type": "heading",
     "level": 2,
     "metadata": {},
     "source": [
      "Serial \u03c0"
     ]
    },
    {
     "cell_type": "code",
     "collapsed": false,
     "input": [
      "def serial_pi(n):\n",
      "    start_time = time()\n",
      "    num_hits = in_circle(n)\n",
      "    end_time = time()\n",
      "    run_time = end_time - start_time\n",
      "    pish = 4 * num_hits / float(n)\n",
      "    print 'Number of darts = ' + str(n)\n",
      "    print 'Pi Approximation = ' + str(pish)\n",
      "    print 'Missed Pi by ', abs(pish - realPi)\n",
      "    print 'Run Time = ' + str(run_time)\n",
      "    print 'Darts thrown per second = ' + str(n / run_time)"
     ],
     "language": "python",
     "metadata": {},
     "outputs": [],
     "prompt_number": 6
    },
    {
     "cell_type": "heading",
     "level": 2,
     "metadata": {},
     "source": [
      "Multiprocessing \u03c0"
     ]
    },
    {
     "cell_type": "code",
     "collapsed": false,
     "input": [
      "import random\n",
      "import multiprocessing\n",
      "from multiprocessing import Pool"
     ],
     "language": "python",
     "metadata": {},
     "outputs": [],
     "prompt_number": 7
    },
    {
     "cell_type": "heading",
     "level": 4,
     "metadata": {},
     "source": [
      "I found that you can either do the apply_async or the pool.map, so I tried both."
     ]
    },
    {
     "cell_type": "code",
     "collapsed": false,
     "input": [
      "#using apply_async\n",
      "def multi_pi(n):\n",
      "    start_time = time()\n",
      "    #get number of processors\n",
      "    np = multiprocessing.cpu_count()\n",
      "    #Create the pool\n",
      "    pool = Pool(processes=np)   \n",
      "    \n",
      "    multiestimate = pool.apply_async(in_circle, [n])\n",
      "    estimatedpi = multiestimate.get()/(n*1.0)*4\n",
      "    end_time = time()\n",
      "    run_time = end_time - start_time\n",
      "\n",
      "    print 'Number of darts = ' + str(n)\n",
      "    print \"Estimated value of Pi:: \", estimatedpi\n",
      "    print 'Missed Pi by ', abs(estimatedpi - realPi)\n",
      "    print 'Run Time = ' + str(run_time)\n",
      "    print 'Darts thrown per second = ' + str(n / run_time)"
     ],
     "language": "python",
     "metadata": {},
     "outputs": [],
     "prompt_number": 8
    },
    {
     "cell_type": "code",
     "collapsed": false,
     "input": [
      "#Using pool.map I actually think this one works better than the apply_async. I will use this from now on.\n",
      "def multi_pi2(n):\n",
      "    start_time = time()\n",
      "    #get number of processors\n",
      "    np = multiprocessing.cpu_count()\n",
      "    #divide up the workload\n",
      "    divided =[n/np for i in range(np)]\n",
      "    \n",
      "    #Create the pool\n",
      "    pool = Pool(processes=np)   \n",
      "    \n",
      "    # parallel map\n",
      "    multiestimate = pool.map(in_circle, divided)\n",
      "    end_time = time()\n",
      "    run_time = end_time - start_time\n",
      "    estimatedpi = sum(multiestimate)/(n*1.0)*4\n",
      "\n",
      "    print 'Number of darts = ' + str(n)\n",
      "    print \"Estimated value of Pi:: \", estimatedpi\n",
      "    print 'Missed Pi by ', abs(estimatedpi - realPi)\n",
      "    print 'Run Time = ' + str(run_time)\n",
      "    print 'Darts thrown per second = ' + str(n / run_time)"
     ],
     "language": "python",
     "metadata": {},
     "outputs": [],
     "prompt_number": 9
    },
    {
     "cell_type": "heading",
     "level": 2,
     "metadata": {},
     "source": [
      "IPython Parallel Module \u03c0"
     ]
    },
    {
     "cell_type": "code",
     "collapsed": false,
     "input": [
      "from IPython import parallel\n",
      "def iPyPi(n):\n",
      "    start_time = time()\n",
      "    rc = parallel.Client()\n",
      "    view = rc[:]\n",
      "    np = len(view.targets) #number of processors\n",
      "    divided = n/np\n",
      "    multiestimate = view.apply_async(in_circle2, divided)\n",
      "    end_time = time()\n",
      "    run_time = end_time - start_time\n",
      "    estimatedPi =  (sum(multiestimate))/(n*1.0)*4\n",
      "    print 'Number of darts = ' + str(n)\n",
      "    print \"Estimated value of Pi:: \", estimatedPi\n",
      "    print 'Missed Pi by ', abs(estimatedPi - realPi)\n",
      "    print 'Run Time = ' + str(run_time)\n",
      "    print 'Darts thrown per second = ' + str(n / run_time)"
     ],
     "language": "python",
     "metadata": {},
     "outputs": [],
     "prompt_number": 10
    },
    {
     "cell_type": "heading",
     "level": 4,
     "metadata": {},
     "source": [
      "Let's see performance next to each other..."
     ]
    },
    {
     "cell_type": "code",
     "collapsed": false,
     "input": [
      "#not that many darts...\n",
      "print 'Serial'\n",
      "serial_pi(100)\n",
      "print '______________________________'\n",
      "serial_pi(1000)\n",
      "print '______________________________'\n",
      "serial_pi(1000000)\n",
      "print '_______________________________________________________'\n",
      "print 'Multi 1'\n",
      "multi_pi(100)\n",
      "print '______________________________'\n",
      "multi_pi(1000)\n",
      "print '______________________________'\n",
      "multi_pi(1000000)\n",
      "print '_______________________________________________________'\n",
      "print 'Multi 2'\n",
      "multi_pi2(100)\n",
      "print '______________________________'\n",
      "multi_pi2(1000)\n",
      "print '______________________________'\n",
      "multi_pi2(1000000)\n",
      "print '_______________________________________________________'\n",
      "print 'Ipython'\n",
      "iPyPi(100)\n",
      "print '______________________________'\n",
      "iPyPi(1000)\n",
      "print '______________________________'\n",
      "iPyPi(1000000)"
     ],
     "language": "python",
     "metadata": {},
     "outputs": [
      {
       "output_type": "stream",
       "stream": "stdout",
       "text": [
        "Serial\n",
        "Number of darts = 100\n",
        "Pi Approximation = 3.04\n",
        "Missed Pi by  0.10159265359\n",
        "Run Time = 0.000223159790039\n",
        "Darts thrown per second = 448109.401709\n",
        "______________________________\n",
        "Number of darts = 1000\n",
        "Pi Approximation = 3.132\n",
        "Missed Pi by  0.00959265358979\n",
        "Run Time = 0.00214505195618\n",
        "Darts thrown per second = 466189.174169\n",
        "______________________________\n",
        "Number of darts = 1000000"
       ]
      },
      {
       "output_type": "stream",
       "stream": "stdout",
       "text": [
        "\n",
        "Pi Approximation = 3.144424\n",
        "Missed Pi by  0.00283134641021\n",
        "Run Time = 1.03989505768\n",
        "Darts thrown per second = 961635.496405\n",
        "_______________________________________________________\n",
        "Multi 1\n"
       ]
      },
      {
       "output_type": "stream",
       "stream": "stdout",
       "text": [
        "Number of darts = 100\n",
        "Estimated value of Pi::  3.24\n",
        "Missed Pi by  0.0984073464102\n",
        "Run Time = 0.0199890136719\n",
        "Darts thrown per second = 5002.7480916\n",
        "______________________________\n"
       ]
      },
      {
       "output_type": "stream",
       "stream": "stdout",
       "text": [
        "Number of darts = 1000\n",
        "Estimated value of Pi::  3.092\n",
        "Missed Pi by  0.0495926535898\n",
        "Run Time = 0.0169019699097\n",
        "Darts thrown per second = 59164.7012357\n",
        "______________________________\n"
       ]
      },
      {
       "output_type": "stream",
       "stream": "stdout",
       "text": [
        "Number of darts = 1000000\n",
        "Estimated value of Pi::  3.141624\n",
        "Missed Pi by  3.13464102071e-05\n",
        "Run Time = 1.05251908302\n",
        "Darts thrown per second = 950101.538423\n",
        "_______________________________________________________\n",
        "Multi 2\n"
       ]
      },
      {
       "output_type": "stream",
       "stream": "stdout",
       "text": [
        "Number of darts = 100\n",
        "Estimated value of Pi::  3.04\n",
        "Missed Pi by  0.10159265359\n",
        "Run Time = 0.0149660110474\n",
        "Darts thrown per second = 6681.80717517\n",
        "______________________________\n"
       ]
      },
      {
       "output_type": "stream",
       "stream": "stdout",
       "text": [
        "Number of darts = 1000\n",
        "Estimated value of Pi::  3.108\n",
        "Missed Pi by  0.0335926535898\n",
        "Run Time = 0.0169048309326\n",
        "Darts thrown per second = 59154.6880289\n",
        "______________________________\n"
       ]
      },
      {
       "output_type": "stream",
       "stream": "stdout",
       "text": [
        "Number of darts = 1000000\n",
        "Estimated value of Pi::  3.139916\n",
        "Missed Pi by  0.00167665358979\n",
        "Run Time = 0.57851600647\n",
        "Darts thrown per second = 1728560.64278\n",
        "_______________________________________________________\n",
        "Ipython\n",
        "Number of darts = 100\n",
        "Estimated value of Pi::  3.08\n",
        "Missed Pi by  0.0615926535898\n",
        "Run Time = 0.0245480537415\n",
        "Darts thrown per second = 4073.64270313\n",
        "______________________________\n",
        "Number of darts = 1000\n",
        "Estimated value of Pi::  3.144\n",
        "Missed Pi by  0.00240734641021\n",
        "Run Time = 0.00536203384399\n",
        "Darts thrown per second = 186496.398399\n",
        "______________________________\n",
        "Number of darts = 1000000"
       ]
      },
      {
       "output_type": "stream",
       "stream": "stdout",
       "text": [
        "\n",
        "Estimated value of Pi::  3.143428\n",
        "Missed Pi by  0.00183534641021\n",
        "Run Time = 0.00547099113464\n",
        "Darts thrown per second = 182782237.329\n"
       ]
      }
     ],
     "prompt_number": 11
    },
    {
     "cell_type": "heading",
     "level": 4,
     "metadata": {},
     "source": [
      "It looks like the performance gains take a while to get going! "
     ]
    },
    {
     "cell_type": "code",
     "collapsed": false,
     "input": [
      "%reset"
     ],
     "language": "python",
     "metadata": {},
     "outputs": [
      {
       "name": "stdout",
       "output_type": "stream",
       "stream": "stdout",
       "text": [
        "Once deleted, variables cannot be recovered. Proceed (y/[n])? y\n"
       ]
      }
     ],
     "prompt_number": 22
    },
    {
     "cell_type": "code",
     "collapsed": false,
     "input": [
      "who"
     ],
     "language": "python",
     "metadata": {},
     "outputs": [
      {
       "output_type": "stream",
       "stream": "stdout",
       "text": [
        "Interactive namespace is empty.\n"
       ]
      }
     ],
     "prompt_number": 4
    },
    {
     "cell_type": "heading",
     "level": 1,
     "metadata": {},
     "source": [
      "Formal Testing & Plotting"
     ]
    },
    {
     "cell_type": "heading",
     "level": 3,
     "metadata": {},
     "source": [
      "We want to plot Execution Time, Throwing Rate, and Number of Darts for all three different way..."
     ]
    },
    {
     "cell_type": "heading",
     "level": 4,
     "metadata": {},
     "source": [
      "Redefine all my fuctions to return relevent data instead of printing it out"
     ]
    },
    {
     "cell_type": "code",
     "collapsed": false,
     "input": [
      "from IPython import parallel\n",
      "import random\n",
      "import multiprocessing\n",
      "from multiprocessing import Pool\n",
      "from time import time\n",
      "from random import uniform\n",
      "from math import sqrt\n",
      "\n",
      "#I am going to make a list of numbers of darts to try. \n",
      "darts = []\n",
      "powers = xrange(1,7)\n",
      "for p in powers:\n",
      "    p = 10**p\n",
      "    darts.append(p)\n",
      "\n",
      "#dart thrower, count number of darts in circle \n",
      "def in_circle(n): \n",
      "    num_hits = 0\n",
      "    for dart in xrange(n):\n",
      "            x,y, = uniform(0,1), uniform(0,1)\n",
      "            if sqrt((x - 0.5)**2 + (y - 0.5)**2) <= 0.5:\n",
      "                num_hits += 1\n",
      "    return num_hits\n",
      "    del num_hits\n",
      "#dart thrower, count number of darts in circle, import every time for IPython way of parallel \n",
      "def in_circle2(n):\n",
      "    from random import uniform\n",
      "    from math import sqrt # had to have these in there for IPython way. Says they were not global. Weird. \n",
      "    num_hits = 0\n",
      "    for dart in xrange(n):\n",
      "            x,y, = uniform(0,1), uniform(0,1)\n",
      "            if sqrt((x - 0.5)**2 + (y - 0.5)**2) <= 0.5:\n",
      "                num_hits += 1\n",
      "    return num_hits\n",
      "    del num_hits\n",
      "\n",
      "#define Pi for comparisons \n",
      "realPi = 3.141592653589793\n",
      "\n",
      "def serial_pi(n):\n",
      "    start_time = time()\n",
      "    num_hits = in_circle(n)\n",
      "    end_time = time()\n",
      "    run_time = end_time - start_time\n",
      "    pish = 4 * num_hits / float(n)\n",
      "    throw_rate = n / run_time\n",
      "    return (run_time, n, throw_rate)\n",
      "    del n, start_time, num_hits,end_time,run_time,pish,throw_rate\n",
      "\n",
      "def multi_pi(n):\n",
      "    start_time = time()\n",
      "    #get number of processors\n",
      "    np = multiprocessing.cpu_count()\n",
      "    #Create the pool\n",
      "    pool = Pool(processes=np)   \n",
      "    \n",
      "    multiestimate = pool.apply_async(in_circle, [n])\n",
      "    estimatedpi = multiestimate.get()/(n*1.0)*4\n",
      "    end_time = time()\n",
      "    run_time = end_time - start_time\n",
      "    throw_rate = n / run_time\n",
      "    return (run_time, n, throw_rate)\n",
      "    del n, start_time, np, pool,multiestimate,estimatedpi,end_time,run_time,throw_rate\n",
      "\n",
      "def multi_pi2(n):\n",
      "    start_time = time()\n",
      "    np = multiprocessing.cpu_count()\n",
      "    divided =[n/np for i in range(np)]\n",
      "    pool = Pool(processes=np)   \n",
      "    multiestimate = pool.map(in_circle, divided)\n",
      "    end_time = time()\n",
      "    run_time = end_time - start_time\n",
      "    estimatedpi = sum(multiestimate)/(n*1.0)*4\n",
      "    throw_rate = n / run_time\n",
      "    return(run_time,n,throw_rate)\n",
      "    del n, start_time, np, divided, pool,multiestimate,estimatedpi,end_time,run_time,throw_rate\n",
      "\n",
      "from IPython import parallel\n",
      "def iPyPi(n):\n",
      "    start_time = time()\n",
      "    rc = parallel.Client()\n",
      "    view = rc[:]\n",
      "    np = len(view.targets) #number of processors\n",
      "    divided = n/np\n",
      "    multiestimate = view.apply_async(in_circle2, divided)\n",
      "    end_time = time()\n",
      "    run_time = end_time - start_time\n",
      "    estimatedPi =  (sum(multiestimate))/(n*1.0)*4\n",
      "    throw_rate = n / run_time\n",
      "    return (run_time, n, throw_rate)\n",
      "    del n, rc, view, start_time, np, divided, pool,multiestimate,estimatedpi,end_time,run_time,throw_rate"
     ],
     "language": "python",
     "metadata": {},
     "outputs": [],
     "prompt_number": 2
    },
    {
     "cell_type": "code",
     "collapsed": false,
     "input": [
      "serial = []\n",
      "multi = []\n",
      "iPy = []\n",
      "for dart in darts:\n",
      "    x = serial_pi(dart)\n",
      "    serial.append(x)\n",
      "    del x\n",
      "    y = multi_pi2(dart)\n",
      "    multi.append(y)\n",
      "    del y\n",
      "    z = iPyPi(dart)\n",
      "    iPy.append(z)\n",
      "    del z"
     ],
     "language": "python",
     "metadata": {},
     "outputs": [],
     "prompt_number": 3
    },
    {
     "cell_type": "heading",
     "level": 4,
     "metadata": {},
     "source": [
      "Okay, now lets look at the data in a pandas DataFrame."
     ]
    },
    {
     "cell_type": "code",
     "collapsed": false,
     "input": [
      "import pandas as pd\n",
      "df = pd.DataFrame(serial)\n",
      "df.columns = ['Serial Run Time', 'Darts', 'Serial Throw Rate']\n",
      "df.set_index('Darts')"
     ],
     "language": "python",
     "metadata": {},
     "outputs": [
      {
       "html": [
        "<div style=\"max-height:1000px;max-width:1500px;overflow:auto;\">\n",
        "<table border=\"1\" class=\"dataframe\">\n",
        "  <thead>\n",
        "    <tr style=\"text-align: right;\">\n",
        "      <th></th>\n",
        "      <th>Serial Run Time</th>\n",
        "      <th>Serial Throw Rate</th>\n",
        "    </tr>\n",
        "    <tr>\n",
        "      <th>Darts</th>\n",
        "      <th></th>\n",
        "      <th></th>\n",
        "    </tr>\n",
        "  </thead>\n",
        "  <tbody>\n",
        "    <tr>\n",
        "      <th>10     </th>\n",
        "      <td> 0.000044</td>\n",
        "      <td> 227951.304348</td>\n",
        "    </tr>\n",
        "    <tr>\n",
        "      <th>100    </th>\n",
        "      <td> 0.000249</td>\n",
        "      <td> 401368.803828</td>\n",
        "    </tr>\n",
        "    <tr>\n",
        "      <th>1000   </th>\n",
        "      <td> 0.001949</td>\n",
        "      <td> 513064.709480</td>\n",
        "    </tr>\n",
        "    <tr>\n",
        "      <th>10000  </th>\n",
        "      <td> 0.012548</td>\n",
        "      <td> 796941.668250</td>\n",
        "    </tr>\n",
        "    <tr>\n",
        "      <th>100000 </th>\n",
        "      <td> 0.123825</td>\n",
        "      <td> 807590.881084</td>\n",
        "    </tr>\n",
        "    <tr>\n",
        "      <th>1000000</th>\n",
        "      <td> 1.112723</td>\n",
        "      <td> 898696.363350</td>\n",
        "    </tr>\n",
        "  </tbody>\n",
        "</table>\n",
        "</div>"
       ],
       "metadata": {},
       "output_type": "pyout",
       "prompt_number": 16,
       "text": [
        "         Serial Run Time  Serial Throw Rate\n",
        "Darts                                      \n",
        "10              0.000044      227951.304348\n",
        "100             0.000249      401368.803828\n",
        "1000            0.001949      513064.709480\n",
        "10000           0.012548      796941.668250\n",
        "100000          0.123825      807590.881084\n",
        "1000000         1.112723      898696.363350"
       ]
      }
     ],
     "prompt_number": 16
    },
    {
     "cell_type": "code",
     "collapsed": false,
     "input": [
      "multidf = pd.DataFrame(multi)\n",
      "multidf.columns = ['Multi Run Time', 'Darts', 'Multi Throw Rate']\n",
      "multidf.set_index('Darts')"
     ],
     "language": "python",
     "metadata": {},
     "outputs": [
      {
       "html": [
        "<div style=\"max-height:1000px;max-width:1500px;overflow:auto;\">\n",
        "<table border=\"1\" class=\"dataframe\">\n",
        "  <thead>\n",
        "    <tr style=\"text-align: right;\">\n",
        "      <th></th>\n",
        "      <th>Multi Run Time</th>\n",
        "      <th>Multi Throw Rate</th>\n",
        "    </tr>\n",
        "    <tr>\n",
        "      <th>Darts</th>\n",
        "      <th></th>\n",
        "      <th></th>\n",
        "    </tr>\n",
        "  </thead>\n",
        "  <tbody>\n",
        "    <tr>\n",
        "      <th>10     </th>\n",
        "      <td> 0.015241</td>\n",
        "      <td>     656.118637</td>\n",
        "    </tr>\n",
        "    <tr>\n",
        "      <th>100    </th>\n",
        "      <td> 0.014375</td>\n",
        "      <td>    6956.535585</td>\n",
        "    </tr>\n",
        "    <tr>\n",
        "      <th>1000   </th>\n",
        "      <td> 0.014618</td>\n",
        "      <td>   68409.185804</td>\n",
        "    </tr>\n",
        "    <tr>\n",
        "      <th>10000  </th>\n",
        "      <td> 0.021450</td>\n",
        "      <td>  466199.537613</td>\n",
        "    </tr>\n",
        "    <tr>\n",
        "      <th>100000 </th>\n",
        "      <td> 0.067731</td>\n",
        "      <td> 1476430.914800</td>\n",
        "    </tr>\n",
        "    <tr>\n",
        "      <th>1000000</th>\n",
        "      <td> 0.569817</td>\n",
        "      <td> 1754949.192171</td>\n",
        "    </tr>\n",
        "  </tbody>\n",
        "</table>\n",
        "</div>"
       ],
       "metadata": {},
       "output_type": "pyout",
       "prompt_number": 17,
       "text": [
        "         Multi Run Time  Multi Throw Rate\n",
        "Darts                                    \n",
        "10             0.015241        656.118637\n",
        "100            0.014375       6956.535585\n",
        "1000           0.014618      68409.185804\n",
        "10000          0.021450     466199.537613\n",
        "100000         0.067731    1476430.914800\n",
        "1000000        0.569817    1754949.192171"
       ]
      }
     ],
     "prompt_number": 17
    },
    {
     "cell_type": "code",
     "collapsed": false,
     "input": [
      "pypidf = pd.DataFrame(iPy)\n",
      "pypidf.columns = ['IPy Run Time', 'Darts', 'IPy Throw Rate']\n",
      "pypidf.set_index('Darts')"
     ],
     "language": "python",
     "metadata": {},
     "outputs": [
      {
       "html": [
        "<div style=\"max-height:1000px;max-width:1500px;overflow:auto;\">\n",
        "<table border=\"1\" class=\"dataframe\">\n",
        "  <thead>\n",
        "    <tr style=\"text-align: right;\">\n",
        "      <th></th>\n",
        "      <th>IPy Run Time</th>\n",
        "      <th>IPy Throw Rate</th>\n",
        "    </tr>\n",
        "    <tr>\n",
        "      <th>Darts</th>\n",
        "      <th></th>\n",
        "      <th></th>\n",
        "    </tr>\n",
        "  </thead>\n",
        "  <tbody>\n",
        "    <tr>\n",
        "      <th>10     </th>\n",
        "      <td> 0.028278</td>\n",
        "      <td> 3.536304e+02</td>\n",
        "    </tr>\n",
        "    <tr>\n",
        "      <th>100    </th>\n",
        "      <td> 0.010113</td>\n",
        "      <td> 9.888262e+03</td>\n",
        "    </tr>\n",
        "    <tr>\n",
        "      <th>1000   </th>\n",
        "      <td> 0.021655</td>\n",
        "      <td> 4.617904e+04</td>\n",
        "    </tr>\n",
        "    <tr>\n",
        "      <th>10000  </th>\n",
        "      <td> 0.010800</td>\n",
        "      <td> 9.259358e+05</td>\n",
        "    </tr>\n",
        "    <tr>\n",
        "      <th>100000 </th>\n",
        "      <td> 0.008466</td>\n",
        "      <td> 1.181195e+07</td>\n",
        "    </tr>\n",
        "    <tr>\n",
        "      <th>1000000</th>\n",
        "      <td> 0.008855</td>\n",
        "      <td> 1.129292e+08</td>\n",
        "    </tr>\n",
        "  </tbody>\n",
        "</table>\n",
        "</div>"
       ],
       "metadata": {},
       "output_type": "pyout",
       "prompt_number": 18,
       "text": [
        "         IPy Run Time  IPy Throw Rate\n",
        "Darts                                \n",
        "10           0.028278    3.536304e+02\n",
        "100          0.010113    9.888262e+03\n",
        "1000         0.021655    4.617904e+04\n",
        "10000        0.010800    9.259358e+05\n",
        "100000       0.008466    1.181195e+07\n",
        "1000000      0.008855    1.129292e+08"
       ]
      }
     ],
     "prompt_number": 18
    },
    {
     "cell_type": "code",
     "collapsed": false,
     "input": [
      "merged = pd.merge(multidf, df, on='Darts')\n",
      "merged.set_index('Darts')\n",
      "merged = pd.merge(pypidf, merged, on='Darts')\n",
      "merged.set_index('Darts').head(10)"
     ],
     "language": "python",
     "metadata": {},
     "outputs": [
      {
       "html": [
        "<div style=\"max-height:1000px;max-width:1500px;overflow:auto;\">\n",
        "<table border=\"1\" class=\"dataframe\">\n",
        "  <thead>\n",
        "    <tr style=\"text-align: right;\">\n",
        "      <th></th>\n",
        "      <th>IPy Run Time</th>\n",
        "      <th>IPy Throw Rate</th>\n",
        "      <th>Multi Run Time</th>\n",
        "      <th>Multi Throw Rate</th>\n",
        "      <th>Serial Run Time</th>\n",
        "      <th>Serial Throw Rate</th>\n",
        "    </tr>\n",
        "    <tr>\n",
        "      <th>Darts</th>\n",
        "      <th></th>\n",
        "      <th></th>\n",
        "      <th></th>\n",
        "      <th></th>\n",
        "      <th></th>\n",
        "      <th></th>\n",
        "    </tr>\n",
        "  </thead>\n",
        "  <tbody>\n",
        "    <tr>\n",
        "      <th>10     </th>\n",
        "      <td> 0.028278</td>\n",
        "      <td> 3.536304e+02</td>\n",
        "      <td> 0.015241</td>\n",
        "      <td>     656.118637</td>\n",
        "      <td> 0.000044</td>\n",
        "      <td> 227951.304348</td>\n",
        "    </tr>\n",
        "    <tr>\n",
        "      <th>100    </th>\n",
        "      <td> 0.010113</td>\n",
        "      <td> 9.888262e+03</td>\n",
        "      <td> 0.014375</td>\n",
        "      <td>    6956.535585</td>\n",
        "      <td> 0.000249</td>\n",
        "      <td> 401368.803828</td>\n",
        "    </tr>\n",
        "    <tr>\n",
        "      <th>1000   </th>\n",
        "      <td> 0.021655</td>\n",
        "      <td> 4.617904e+04</td>\n",
        "      <td> 0.014618</td>\n",
        "      <td>   68409.185804</td>\n",
        "      <td> 0.001949</td>\n",
        "      <td> 513064.709480</td>\n",
        "    </tr>\n",
        "    <tr>\n",
        "      <th>10000  </th>\n",
        "      <td> 0.010800</td>\n",
        "      <td> 9.259358e+05</td>\n",
        "      <td> 0.021450</td>\n",
        "      <td>  466199.537613</td>\n",
        "      <td> 0.012548</td>\n",
        "      <td> 796941.668250</td>\n",
        "    </tr>\n",
        "    <tr>\n",
        "      <th>100000 </th>\n",
        "      <td> 0.008466</td>\n",
        "      <td> 1.181195e+07</td>\n",
        "      <td> 0.067731</td>\n",
        "      <td> 1476430.914800</td>\n",
        "      <td> 0.123825</td>\n",
        "      <td> 807590.881084</td>\n",
        "    </tr>\n",
        "    <tr>\n",
        "      <th>1000000</th>\n",
        "      <td> 0.008855</td>\n",
        "      <td> 1.129292e+08</td>\n",
        "      <td> 0.569817</td>\n",
        "      <td> 1754949.192171</td>\n",
        "      <td> 1.112723</td>\n",
        "      <td> 898696.363350</td>\n",
        "    </tr>\n",
        "  </tbody>\n",
        "</table>\n",
        "</div>"
       ],
       "metadata": {},
       "output_type": "pyout",
       "prompt_number": 20,
       "text": [
        "         IPy Run Time  IPy Throw Rate  Multi Run Time  Multi Throw Rate  \\\n",
        "Darts                                                                     \n",
        "10           0.028278    3.536304e+02        0.015241        656.118637   \n",
        "100          0.010113    9.888262e+03        0.014375       6956.535585   \n",
        "1000         0.021655    4.617904e+04        0.014618      68409.185804   \n",
        "10000        0.010800    9.259358e+05        0.021450     466199.537613   \n",
        "100000       0.008466    1.181195e+07        0.067731    1476430.914800   \n",
        "1000000      0.008855    1.129292e+08        0.569817    1754949.192171   \n",
        "\n",
        "         Serial Run Time  Serial Throw Rate  \n",
        "Darts                                        \n",
        "10              0.000044      227951.304348  \n",
        "100             0.000249      401368.803828  \n",
        "1000            0.001949      513064.709480  \n",
        "10000           0.012548      796941.668250  \n",
        "100000          0.123825      807590.881084  \n",
        "1000000         1.112723      898696.363350  "
       ]
      }
     ],
     "prompt_number": 20
    },
    {
     "cell_type": "heading",
     "level": 3,
     "metadata": {},
     "source": [
      "Plot!"
     ]
    },
    {
     "cell_type": "code",
     "collapsed": false,
     "input": [
      "import matplotlib.pylab as plt"
     ],
     "language": "python",
     "metadata": {},
     "outputs": [],
     "prompt_number": 8
    },
    {
     "cell_type": "code",
     "collapsed": false,
     "input": [
      "x1 = merged['IPy Run Time']\n",
      "x2 = merged['Multi Run Time']\n",
      "x3 = merged['Serial Run Time']\n",
      "w1 = merged['IPy Throw Rate']\n",
      "w2 = merged['Multi Throw Rate']\n",
      "w3 = merged['Serial Throw Rate']\n",
      "y = merged['Darts']\n",
      "fig = plt.figure(figsize=(14,8))\n",
      "plt.xscale('log')\n",
      "plt.yscale('log')\n",
      "ax = fig.add_subplot(1,1,1) \n",
      "ax2 = ax.twinx()\n",
      "line1, = ax.plot(y, x1, label = 'iPy Run')\n",
      "line2, = ax.plot(y, x2, label = 'Multi Run')\n",
      "line3, = ax.plot(y, x3, label = 'Serial Run')\n",
      "line4, = ax2.plot(y, w1, label = 'iPy Throw',linestyle='dotted')\n",
      "line5, = ax2.plot(y, w2, label = 'Multi Throw',linestyle='dotted')\n",
      "line6, = ax2.plot(y, w3, label = 'Serial Throw',linestyle='dotted')\n",
      "plt.yscale('log')\n",
      "ax.set_xlabel('Darts',fontsize=14)\n",
      "ax.set_ylabel('Run Time',fontsize=14)\n",
      "ax2.set_ylabel('Throw Rate', fontsize=14)\n",
      "ax2.set_ylim(-1000,)\n",
      "ax.set_ylim(-1000,)\n",
      "plt.suptitle('Ran on 2013 Macbook Pro 16GB ram, 2.6 ghz processor, 4 cores (really 2)')\n",
      "plt.legend((line1,line2,line3,line4,line5,line6),('iPy Run','Multi Run','Serial Run','iPy Throw','Multi Throw','Serial Throw'), loc='upper left', frameon=False)\n",
      "plt.show()"
     ],
     "language": "python",
     "metadata": {},
     "outputs": [],
     "prompt_number": 21
    },
    {
     "cell_type": "heading",
     "level": 4,
     "metadata": {},
     "source": [
      "Individual plots"
     ]
    },
    {
     "cell_type": "code",
     "collapsed": false,
     "input": [
      "#throwing rate.\n",
      "w1 = merged['IPy Throw Rate']\n",
      "w2 = merged['Multi Throw Rate']\n",
      "w3 = merged['Serial Throw Rate']\n",
      "wy = merged['Darts']\n",
      "x1= w1.values\n",
      "x2 = w2.values\n",
      "x3 = w3.values\n",
      "y = wy.values\n",
      "plt.plot(y,x1,color='green',label = 'IPY')\n",
      "plt.plot(y,x2,color = 'red',label = 'Multi')\n",
      "plt.plot(y,x3,color = 'blue',label = 'Serial')\n",
      "plt.ylabel('Dart Throwing Rate')\n",
      "plt.xlabel('Darts')\n",
      "plt.xscale('log')\n",
      "plt.legend(loc='upper left')\n",
      "plt.show()"
     ],
     "language": "python",
     "metadata": {},
     "outputs": []
    },
    {
     "cell_type": "code",
     "collapsed": false,
     "input": [
      "#Run time\n",
      "x1 = merged['IPy Run Time']\n",
      "x2 = merged['Multi Run Time']\n",
      "x3 = merged['Serial Run Time']\n",
      "y = merged['Darts']\n",
      "x1= x1.values\n",
      "x2 = x2.values\n",
      "x3 = x3.values\n",
      "y = y.values\n",
      "plt.plot(y,x1,color='green',label = 'IPY')\n",
      "plt.plot(y,x2,color = 'red',label = 'Multi')\n",
      "plt.plot(y,x3,color = 'blue',label = 'Serial')\n",
      "plt.ylabel('Run Time(seconds)')\n",
      "plt.xlabel('Darts')\n",
      "plt.xscale('log')\n",
      "plt.legend(loc='upper left')\n",
      "plt.show()"
     ],
     "language": "python",
     "metadata": {},
     "outputs": [],
     "prompt_number": 27
    }
   ],
   "metadata": {}
  }
 ]
}